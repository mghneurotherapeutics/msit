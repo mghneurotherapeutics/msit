{
 "cells": [
  {
   "cell_type": "markdown",
   "metadata": {},
   "source": [
    "# Behavior Preprocessing"
   ]
  },
  {
   "cell_type": "markdown",
   "metadata": {},
   "source": [
    "## Initialization"
   ]
  },
  {
   "cell_type": "markdown",
   "metadata": {},
   "source": [
    "## Make tidy group dataframe"
   ]
  },
  {
   "cell_type": "code",
   "execution_count": 4,
   "metadata": {
    "ExecuteTime": {
     "end_time": "2017-10-18T17:53:16.759840Z",
     "start_time": "2017-10-18T17:53:14.188324Z"
    }
   },
   "outputs": [
    {
     "name": "stdout",
     "output_type": "stream",
     "text": [
      "  participant_id modality  trial    onset  duration   iti   trial_type  \\\n",
      "0      sub-hc001      eeg      1   2.2840      1.75  2.00  incongruent   \n",
      "1      sub-hc001      eeg      2   6.0330      1.75  1.75    congruent   \n",
      "2      sub-hc001      eeg      3   9.5346      1.75  2.00  incongruent   \n",
      "3      sub-hc001      eeg      4  13.2872      1.75  1.75    congruent   \n",
      "4      sub-hc001      eeg      5  16.7972      1.75  1.75    congruent   \n",
      "\n",
      "   response_time  chosen_response  correct_response  response_accuracy  \\\n",
      "0        0.87199              2.0                 2                1.0   \n",
      "1        0.71505              3.0                 3                1.0   \n",
      "2        1.14070              1.0                 2                0.0   \n",
      "3        0.59579              2.0                 2                1.0   \n",
      "4        0.67779              1.0                 1                1.0   \n",
      "\n",
      "  stimulus  error  post_error  no_response trial_type_sequence  fast_rt  \n",
      "0      332    0.0           0            0                 NaN        0  \n",
      "1      003    0.0           0            0                  ic        0  \n",
      "2      211    1.0           0            0                  ci        0  \n",
      "3      020    0.0           1            0                  ic        0  \n",
      "4      100    0.0           0            0                  cc        0  \n"
     ]
    }
   ],
   "source": [
    "%reset -f\n",
    "from grabbit import Layout\n",
    "import pandas as pd\n",
    "import numpy as np\n",
    "import os\n",
    "from msit import extract_itis, encode_trial_type_sequence, encode_post_error\n",
    "\n",
    "layout = Layout('../data', '../data/grabbit_config.json')\n",
    "\n",
    "# Accumulate individual dataframes to be concatenated at the end\n",
    "tidy_df = []\n",
    "\n",
    "# Iterate through the two modalities\n",
    "# func = fmri\n",
    "for modality in ['eeg', 'func']:\n",
    "    \n",
    "    # Extract out behavior filepaths for all subjects\n",
    "    behavior_files = layout.get(subject='sub-.*', modality=modality, \n",
    "                                extensions='events.tsv')\n",
    "    \n",
    "    # Iterate through each subject's behavior file\n",
    "    for f in behavior_files:\n",
    "        \n",
    "        raw_df = pd.read_csv(f.filename, sep='\\t', na_values='n/a')\n",
    "        \n",
    "        # Encode subject name\n",
    "        raw_df['participant_id'] = f.subject\n",
    "        \n",
    "        # Encode modality\n",
    "        if modality == 'func':\n",
    "            raw_df['modality'] = 'fmri'\n",
    "        else:\n",
    "            raw_df['modality'] = 'eeg'\n",
    "            \n",
    "        # Extract out the itis\n",
    "        raw_df = extract_itis(raw_df)\n",
    "        \n",
    "        # Remove the fixation trials\n",
    "        trial_ix = raw_df.trial_type != 'fixation'\n",
    "        raw_df = raw_df[trial_ix].reset_index(drop=True)\n",
    "        \n",
    "        # Encode error trials\n",
    "        raw_df['error'] = 1 - raw_df.response_accuracy\n",
    "        \n",
    "        # Encode post error trials\n",
    "        raw_df = encode_post_error(raw_df)\n",
    "        \n",
    "        # Encode no-response trials\n",
    "        raw_df['no_response'] = 0\n",
    "        raw_df.loc[raw_df.chosen_response.isnull(), 'no_response'] = 1\n",
    "        \n",
    "        # Encode condition sequence effects\n",
    "        raw_df = encode_trial_type_sequence(raw_df)\n",
    "        \n",
    "        # Encode fast response times (< 200 ms)\n",
    "        raw_df['fast_rt'] = np.where(raw_df.response_time < 0.2, 1, 0)\n",
    "        \n",
    "        # Encode trial numbers\n",
    "        raw_df['trial'] = np.arange(raw_df.shape[0]) + 1\n",
    "        \n",
    "        tidy_df.append(raw_df)\n",
    "        \n",
    "tidy_df = pd.concat(tidy_df)\n",
    "\n",
    "# Select out and order columns\n",
    "tidy_df = tidy_df[['participant_id', 'modality', 'trial', 'onset', \n",
    "                   'duration', 'iti', 'trial_type', 'response_time', \n",
    "                   'chosen_response', 'correct_response', \n",
    "                   'response_accuracy', 'stimulus', 'error', 'post_error', \n",
    "                   'no_response', 'trial_type_sequence', 'fast_rt']]\n",
    "print(tidy_df.head())\n",
    "\n",
    "# Save out to file\n",
    "if not os.path.exists('../data/derivatives/behavior'):\n",
    "    os.makedirs('../data/derivatives/behavior')\n",
    "tidy_df.to_csv('../data/derivatives/behavior/group_data.tsv', sep='\\t',\n",
    "               index=False, na_rep='n/a')"
   ]
  },
  {
   "cell_type": "markdown",
   "metadata": {},
   "source": [
    "## Validate Task Design"
   ]
  },
  {
   "cell_type": "code",
   "execution_count": null,
   "metadata": {
    "collapsed": true
   },
   "outputs": [],
   "source": []
  },
  {
   "cell_type": "markdown",
   "metadata": {},
   "source": [
    "## Group Summary Plots"
   ]
  },
  {
   "cell_type": "code",
   "execution_count": null,
   "metadata": {
    "collapsed": true
   },
   "outputs": [],
   "source": []
  },
  {
   "cell_type": "markdown",
   "metadata": {},
   "source": [
    "## Subject Exclusions"
   ]
  },
  {
   "cell_type": "code",
   "execution_count": null,
   "metadata": {
    "collapsed": true
   },
   "outputs": [],
   "source": []
  },
  {
   "cell_type": "markdown",
   "metadata": {},
   "source": [
    "# EEG Preprocessing"
   ]
  },
  {
   "cell_type": "markdown",
   "metadata": {},
   "source": [
    "## Initialization \n",
    "\n",
    "EEG isn't standardly supported by the BIDS specification yet. However, we still try to stay reasonably close to the derivatives philosophy currently under development. Thus the preprocessing section (which culminates in cleaned epochs) is stored as an eeg_preprocessing BIDS-derivatives compatible pipeline in the data/derivatives/eeg_preprocessing folder."
   ]
  },
  {
   "cell_type": "code",
   "execution_count": 1,
   "metadata": {
    "ExecuteTime": {
     "end_time": "2017-10-31T22:43:03.082984Z",
     "start_time": "2017-10-31T22:43:01.097285Z"
    }
   },
   "outputs": [
    {
     "name": "stderr",
     "output_type": "stream",
     "text": [
      "/autofs/space/cassia_001/users/matt/software/anaconda2.7/lib/python2.7/site-packages/sklearn/cross_validation.py:44: DeprecationWarning: This module was deprecated in version 0.18 in favor of the model_selection module into which all the refactored classes and functions are moved. Also note that the interface of the new CV iterators are different from that of this module. This module will be removed in 0.20.\n",
      "  \"This module will be removed in 0.20.\", DeprecationWarning)\n"
     ]
    },
    {
     "name": "stdout",
     "output_type": "stream",
     "text": [
      "Using matplotlib backend: Qt4Agg\n"
     ]
    }
   ],
   "source": [
    "%reset -f\n",
    "from grabbit import Layout\n",
    "import json\n",
    "import pickle\n",
    "import pandas as pd\n",
    "import numpy as np\n",
    "from mne.io import Raw\n",
    "from mne.preprocessing import read_ica\n",
    "from mne import Epochs, set_log_level, find_events, read_epochs\n",
    "from autoreject import LocalAutoRejectCV, compute_thresholds\n",
    "from functools import partial\n",
    "import matplotlib.pyplot as plt\n",
    "import seaborn as sns\n",
    "\n",
    "from msit import verify_events, epoch_baseline_correct, CH_NAMES\n",
    "from msit import handle_event_exceptions, visually_verify_epochs\n",
    "from msit import plot_autoreject_summary, plot_evoked_butterfly\n",
    "from msit import select_subjects, extract_bad_ch_group_info\n",
    "from msit import plot_bad_chs_group_summary, extract_bad_epochs_group_info\n",
    "\n",
    "%matplotlib\n",
    "set_log_level('critical')\n",
    "\n",
    "# load eeg configurations\n",
    "with open('../config.json') as f:    \n",
    "    config = json.load(f)\n",
    "\n",
    "# make_eeg_prep_derivatives_folder('../data')\n",
    "layout = Layout('../data', '../data/grabbit_config.json')\n",
    "pipeline_root = '../data/derivatives/eeg_preprocessing'"
   ]
  },
  {
   "cell_type": "markdown",
   "metadata": {},
   "source": [
    "## Mark Bad Channels\n"
   ]
  },
  {
   "cell_type": "code",
   "execution_count": 1,
   "metadata": {
    "ExecuteTime": {
     "end_time": "2017-09-04T16:54:11.219502Z",
     "start_time": "2017-09-04T16:50:48.855174Z"
    }
   },
   "outputs": [
    {
     "name": "stdout",
     "output_type": "stream",
     "text": [
      "Using matplotlib backend: Qt4Agg\n"
     ]
    }
   ],
   "source": [
    "# extract participant raw filenames\n",
    "raw_files = layout.get(subject='sub-.*', modality='eeg', \n",
    "                       extensions='.fif')\n",
    "\n",
    "# iterate through participant raw data\n",
    "for f in raw_files:\n",
    "    manually_mark_bad_channels(f)"
   ]
  },
  {
   "cell_type": "markdown",
   "metadata": {},
   "source": [
    "## ICA"
   ]
  },
  {
   "cell_type": "markdown",
   "metadata": {},
   "source": [
    "### Fit ICA & Auto-Mark EOG & ECG Components"
   ]
  },
  {
   "cell_type": "code",
   "execution_count": null,
   "metadata": {
    "collapsed": true
   },
   "outputs": [],
   "source": [
    "from mne.preprocessing import ICA, create_eog_epochs, create_ecg_epochs\n",
    "from mne import set_log_level\n",
    "from mne.io import Raw\n",
    "from grabbit import Layout\n",
    "import numpy as np\n",
    "import matplotlib.pyplot as plt\n",
    "\n",
    "set_log_level('critical')\n",
    "\n",
    "pipeline_root = '../data/derivatives/eeg_preprocessing'\n",
    "\n",
    "# extract participant raw filenames\n",
    "layout = Layout('../data', './grabbit_config.json')\n",
    "raw_files = layout.get(subject='sub-.*', modality='eeg', \n",
    "                       extensions='_raw.fif')\n",
    "\n",
    "# iterate through participant \n",
    "for f in raw_files:\n",
    "    \n",
    "    print(f.subject)\n",
    "    \n",
    "    # load in raw with existing bad channels\n",
    "    raw = Raw(f.filename, verbose=False, preload=True)\n",
    "    bad_ch_f = layout.get(subject=f.subject, modality='eeg', \n",
    "                          derivative='bad_chs')[0].filename\n",
    "    raw.load_bad_channels(bad_ch_f)\n",
    "    \n",
    "    # highpass filter the raw to assist with ICA fitting\n",
    "    raw.filter(l_freq=1, h_freq=None)\n",
    "    \n",
    "    # extract the number of channels to be fit for ICA\n",
    "    n_components = raw.estimate_rank()\n",
    "    \n",
    "    # fit the ica solution\n",
    "    ica = ICA(n_components=n_components, random_state=50)\n",
    "    ica.fit(raw, verbose=False)\n",
    "    \n",
    "    # save out plots of components\n",
    "    fig = ica.plot_components(picks=np.arange(n_components), show=False)\n",
    "    fig.savefig('%s/%s/ica/%s-components.png' % (pipeline_root, f.subject, \n",
    "                                                 f.subject))\n",
    "    \n",
    "    # iterate through eog and ecg channels\n",
    "    for ch in ['VEOG', 'HEOG', 'ECG']:\n",
    "        \n",
    "        # find the correlation scores between components\n",
    "        if 'EOG' in ch:\n",
    "            epochs = create_eog_epochs(raw, ch_name=ch)\n",
    "            ix, scores = ica.find_bads_eog(epochs, ch_name=ch)\n",
    "        else:\n",
    "            epochs = create_ecg_epochs(raw, tmin=-.5, tmax=.5)\n",
    "            ix, scores = ica.find_bads_ecg(epochs)\n",
    "            \n",
    "        # update the ica with the bad components\n",
    "        ica.labels_[ch] = ix\n",
    "        ica.exclude += ix\n",
    "        \n",
    "        # save correlation scores plot\n",
    "        fig = ica.plot_scores(scores, exclude=ix, show=False)\n",
    "        fig.savefig('%s/%s/ica/%s_%s-scores.png' % (pipeline_root,\n",
    "                                                    f.subject, f.subject,\n",
    "                                                    ch))\n",
    "        \n",
    "    # clean up labels and save ica solution out    \n",
    "    ica.labels_ = {ch: ica.labels_[ch] for ch in ['VEOG', 'HEOG', 'ECG']}    \n",
    "    ica.save('%s/%s/ica/%s-ica.fif' % (pipeline_root, f.subject, f.subject))\n",
    "    plt.close('all')\n",
    "    \n",
    "print('Done!')"
   ]
  },
  {
   "cell_type": "markdown",
   "metadata": {},
   "source": [
    "### Verify ICA Artifact Components"
   ]
  },
  {
   "cell_type": "code",
   "execution_count": null,
   "metadata": {
    "collapsed": true
   },
   "outputs": [],
   "source": [
    "from mne.preprocessing import read_ica\n",
    "from mne import set_log_level\n",
    "from mne.io import Raw\n",
    "from grabbit import Layout\n",
    "import numpy as np\n",
    "import pylab as plt\n",
    "from eeg_utilities import *\n",
    "\n",
    "%matplotlib\n",
    "\n",
    "set_log_level('critical')\n",
    "\n",
    "pipeline_root = '../data/derivatives/eeg_preprocessing'\n",
    "\n",
    "# extract participant raw filenames\n",
    "layout = Layout('../data', './grabbit_config.json')\n",
    "ica_files = layout.get(subject='sub-pp0[0-4][0-9]', modality='eeg', derivative='ica',\n",
    "                       extensions='-ica.fif')\n",
    "raw_files = layout.get(subject='sub-pp0[0-4][0-9]', modality='eeg',\n",
    "                       extensions='_raw.fif')\n",
    "\n",
    "# iterate through participants\n",
    "for raw_f, ica_f in zip(raw_files, ica_files):\n",
    "    \n",
    "    print(raw_f.subject)\n",
    "    ica = read_ica(ica_f.filename)\n",
    "    raw = Raw(raw_f.filename, preload=True, verbose=False)\n",
    "    bad_ch_f = layout.get(subject=raw_f.subject, modality='eeg', \n",
    "                          derivative='bad_chs')[0].filename\n",
    "    raw.load_bad_channels(bad_ch_f)\n",
    "    raw.filter(l_freq=1, h_freq=None)\n",
    "    \n",
    "    # repeatedly visualize and adjust excluded components until happy\n",
    "    ok = 'n'\n",
    "    while ok != 'y':\n",
    "    \n",
    "        # plot summary of corrections epoched to artifact events\n",
    "        # we use these plots to determine how effective our ica is\n",
    "        # at correcting the artifacts\n",
    "        plot_epoched_ica_artifact_info(raw, ica, raw_f.subject, \n",
    "                                       pipeline_root)\n",
    "        \n",
    "        # plot component time courses for interactive updating of exclusions\n",
    "        ica.plot_sources(raw, block=True, title=raw_f.subject)\n",
    "        \n",
    "        # plot summary of corrections epoched to artifact events\n",
    "        # we use these plots to determine how effective our ica is\n",
    "        # at correcting the artifacts\n",
    "        plot_epoched_ica_artifact_info(raw, ica, raw_f.subject, \n",
    "                                       pipeline_root)\n",
    "        plt.close('all')\n",
    "        ok = raw_input('OK to move on? (enter y or n):')\n",
    "        \n",
    "    ica.save('%s/%s/ica/%s-ica.fif' % (pipeline_root, raw_f.subject, \n",
    "                                       raw_f.subject))\n",
    "print('Done!')"
   ]
  },
  {
   "cell_type": "markdown",
   "metadata": {},
   "source": [
    "## Generate  & Clean Epochs"
   ]
  },
  {
   "cell_type": "markdown",
   "metadata": {},
   "source": [
    "### Bandpass Filter & Make Epochs"
   ]
  },
  {
   "cell_type": "code",
   "execution_count": 2,
   "metadata": {
    "ExecuteTime": {
     "end_time": "2017-10-19T14:40:16.586238Z",
     "start_time": "2017-10-19T14:20:19.911232Z"
    },
    "scrolled": true
   },
   "outputs": [
    {
     "name": "stdout",
     "output_type": "stream",
     "text": [
      "sub-hc001\n",
      "<Epochs  |  n_events : 181 (all good), tmin : -1.0 (s), tmax : 2.25 (s), baseline : None, ~382.2 MB, data loaded>\n",
      "<Epochs  |  n_events : 181 (all good), tmin : -1.5 (s), tmax : 1.5 (s), baseline : None, ~353.2 MB, data loaded>\n",
      "sub-hc002\n",
      "<Epochs  |  n_events : 190 (all good), tmin : -1.0 (s), tmax : 2.25 (s), baseline : None, ~401.0 MB, data loaded>\n",
      "<Epochs  |  n_events : 190 (all good), tmin : -1.5 (s), tmax : 1.5 (s), baseline : None, ~370.5 MB, data loaded>\n",
      "sub-hc003\n",
      "<Epochs  |  n_events : 191 (all good), tmin : -1.0 (s), tmax : 2.25 (s), baseline : None, ~403.1 MB, data loaded>\n",
      "<Epochs  |  n_events : 191 (all good), tmin : -1.5 (s), tmax : 1.5 (s), baseline : None, ~372.5 MB, data loaded>\n",
      "sub-hc004\n",
      "<Epochs  |  n_events : 192 (all good), tmin : -1.0 (s), tmax : 2.25 (s), baseline : None, ~405.2 MB, data loaded>\n",
      "<Epochs  |  n_events : 192 (all good), tmin : -1.5 (s), tmax : 1.5 (s), baseline : None, ~374.4 MB, data loaded>\n",
      "sub-hc005\n",
      "<Epochs  |  n_events : 192 (all good), tmin : -1.0 (s), tmax : 2.25 (s), baseline : None, ~405.2 MB, data loaded>\n",
      "<Epochs  |  n_events : 192 (all good), tmin : -1.5 (s), tmax : 1.5 (s), baseline : None, ~374.4 MB, data loaded>\n",
      "sub-hc006\n",
      "<Epochs  |  n_events : 190 (all good), tmin : -1.0 (s), tmax : 2.25 (s), baseline : None, ~401.0 MB, data loaded>\n",
      "<Epochs  |  n_events : 190 (all good), tmin : -1.5 (s), tmax : 1.5 (s), baseline : None, ~370.5 MB, data loaded>\n",
      "sub-hc007\n",
      "<Epochs  |  n_events : 192 (all good), tmin : -1.0 (s), tmax : 2.25 (s), baseline : None, ~405.1 MB, data loaded>\n",
      "<Epochs  |  n_events : 192 (all good), tmin : -1.5 (s), tmax : 1.5 (s), baseline : None, ~374.4 MB, data loaded>\n",
      "sub-hc008\n",
      "<Epochs  |  n_events : 189 (all good), tmin : -1.0 (s), tmax : 2.25 (s), baseline : None, ~398.9 MB, data loaded>\n",
      "<Epochs  |  n_events : 189 (all good), tmin : -1.5 (s), tmax : 1.5 (s), baseline : None, ~368.6 MB, data loaded>\n",
      "sub-hc009\n",
      "<Epochs  |  n_events : 188 (all good), tmin : -1.0 (s), tmax : 2.25 (s), baseline : None, ~396.8 MB, data loaded>\n",
      "<Epochs  |  n_events : 188 (all good), tmin : -1.5 (s), tmax : 1.5 (s), baseline : None, ~366.7 MB, data loaded>\n",
      "sub-hc010\n",
      "<Epochs  |  n_events : 189 (all good), tmin : -1.0 (s), tmax : 2.25 (s), baseline : None, ~398.9 MB, data loaded>\n",
      "<Epochs  |  n_events : 189 (all good), tmin : -1.5 (s), tmax : 1.5 (s), baseline : None, ~368.6 MB, data loaded>\n",
      "sub-hc011\n",
      "<Epochs  |  n_events : 191 (all good), tmin : -1.0 (s), tmax : 2.25 (s), baseline : None, ~403.1 MB, data loaded>\n",
      "<Epochs  |  n_events : 191 (all good), tmin : -1.5 (s), tmax : 1.5 (s), baseline : None, ~372.5 MB, data loaded>\n",
      "sub-hc012\n",
      "<Epochs  |  n_events : 192 (all good), tmin : -1.0 (s), tmax : 2.25 (s), baseline : None, ~405.1 MB, data loaded>\n",
      "<Epochs  |  n_events : 192 (all good), tmin : -1.5 (s), tmax : 1.5 (s), baseline : None, ~374.4 MB, data loaded>\n",
      "sub-hc013\n",
      "<Epochs  |  n_events : 127 (all good), tmin : -1.0 (s), tmax : 2.25 (s), baseline : None, ~269.7 MB, data loaded>\n",
      "<Epochs  |  n_events : 127 (all good), tmin : -1.5 (s), tmax : 1.5 (s), baseline : None, ~249.4 MB, data loaded>\n",
      "sub-hc014\n",
      "<Epochs  |  n_events : 191 (all good), tmin : -1.0 (s), tmax : 2.25 (s), baseline : None, ~403.1 MB, data loaded>\n",
      "<Epochs  |  n_events : 191 (all good), tmin : -1.5 (s), tmax : 1.5 (s), baseline : None, ~372.5 MB, data loaded>\n",
      "sub-hc015\n",
      "<Epochs  |  n_events : 192 (all good), tmin : -1.0 (s), tmax : 2.25 (s), baseline : None, ~405.1 MB, data loaded>\n",
      "<Epochs  |  n_events : 192 (all good), tmin : -1.5 (s), tmax : 1.5 (s), baseline : None, ~374.4 MB, data loaded>\n",
      "sub-hc016\n",
      "<Epochs  |  n_events : 192 (all good), tmin : -1.0 (s), tmax : 2.25 (s), baseline : None, ~405.1 MB, data loaded>\n",
      "<Epochs  |  n_events : 192 (all good), tmin : -1.5 (s), tmax : 1.5 (s), baseline : None, ~374.4 MB, data loaded>\n",
      "sub-hc017\n",
      "<Epochs  |  n_events : 190 (all good), tmin : -1.0 (s), tmax : 2.25 (s), baseline : None, ~401.0 MB, data loaded>\n",
      "<Epochs  |  n_events : 190 (all good), tmin : -1.5 (s), tmax : 1.5 (s), baseline : None, ~370.6 MB, data loaded>\n",
      "sub-hc018\n",
      "<Epochs  |  n_events : 172 (all good), tmin : -1.0 (s), tmax : 2.25 (s), baseline : None, ~363.5 MB, data loaded>\n",
      "<Epochs  |  n_events : 172 (all good), tmin : -1.5 (s), tmax : 1.5 (s), baseline : None, ~335.9 MB, data loaded>\n",
      "sub-hc019\n",
      "<Epochs  |  n_events : 186 (all good), tmin : -1.0 (s), tmax : 2.25 (s), baseline : None, ~392.7 MB, data loaded>\n",
      "<Epochs  |  n_events : 186 (all good), tmin : -1.5 (s), tmax : 1.5 (s), baseline : None, ~362.9 MB, data loaded>\n",
      "sub-hc020\n",
      "<Epochs  |  n_events : 183 (all good), tmin : -1.0 (s), tmax : 2.25 (s), baseline : None, ~386.5 MB, data loaded>\n",
      "<Epochs  |  n_events : 183 (all good), tmin : -1.5 (s), tmax : 1.5 (s), baseline : None, ~357.2 MB, data loaded>\n",
      "sub-hc021\n",
      "<Epochs  |  n_events : 190 (all good), tmin : -1.0 (s), tmax : 2.25 (s), baseline : None, ~401.1 MB, data loaded>\n",
      "<Epochs  |  n_events : 190 (all good), tmin : -1.5 (s), tmax : 1.5 (s), baseline : None, ~370.6 MB, data loaded>\n",
      "sub-hc022\n",
      "<Epochs  |  n_events : 192 (all good), tmin : -1.0 (s), tmax : 2.25 (s), baseline : None, ~405.2 MB, data loaded>\n",
      "<Epochs  |  n_events : 192 (all good), tmin : -1.5 (s), tmax : 1.5 (s), baseline : None, ~374.5 MB, data loaded>\n",
      "sub-hc023\n",
      "<Epochs  |  n_events : 191 (all good), tmin : -1.0 (s), tmax : 2.25 (s), baseline : None, ~403.2 MB, data loaded>\n",
      "<Epochs  |  n_events : 191 (all good), tmin : -1.5 (s), tmax : 1.5 (s), baseline : None, ~372.6 MB, data loaded>\n",
      "sub-hc024\n",
      "<Epochs  |  n_events : 192 (all good), tmin : -1.0 (s), tmax : 2.25 (s), baseline : None, ~405.4 MB, data loaded>\n",
      "<Epochs  |  n_events : 192 (all good), tmin : -1.5 (s), tmax : 1.5 (s), baseline : None, ~374.7 MB, data loaded>\n",
      "sub-hc025\n",
      "<Epochs  |  n_events : 192 (all good), tmin : -1.0 (s), tmax : 2.25 (s), baseline : None, ~405.3 MB, data loaded>\n",
      "<Epochs  |  n_events : 192 (all good), tmin : -1.5 (s), tmax : 1.5 (s), baseline : None, ~374.5 MB, data loaded>\n",
      "sub-hc026\n",
      "<Epochs  |  n_events : 191 (all good), tmin : -1.0 (s), tmax : 2.25 (s), baseline : None, ~403.1 MB, data loaded>\n",
      "<Epochs  |  n_events : 191 (all good), tmin : -1.5 (s), tmax : 1.5 (s), baseline : None, ~372.5 MB, data loaded>\n",
      "sub-hc027\n",
      "<Epochs  |  n_events : 127 (all good), tmin : -1.0 (s), tmax : 2.25 (s), baseline : None, ~269.8 MB, data loaded>\n",
      "<Epochs  |  n_events : 127 (all good), tmin : -1.5 (s), tmax : 1.5 (s), baseline : None, ~249.4 MB, data loaded>\n",
      "sub-hc028\n",
      "<Epochs  |  n_events : 191 (all good), tmin : -1.0 (s), tmax : 2.25 (s), baseline : None, ~403.1 MB, data loaded>\n",
      "<Epochs  |  n_events : 191 (all good), tmin : -1.5 (s), tmax : 1.5 (s), baseline : None, ~372.5 MB, data loaded>\n",
      "sub-hc029\n",
      "<Epochs  |  n_events : 191 (all good), tmin : -1.0 (s), tmax : 2.25 (s), baseline : None, ~403.1 MB, data loaded>\n",
      "<Epochs  |  n_events : 191 (all good), tmin : -1.5 (s), tmax : 1.5 (s), baseline : None, ~372.5 MB, data loaded>\n",
      "sub-hc030\n",
      "<Epochs  |  n_events : 192 (all good), tmin : -1.0 (s), tmax : 2.25 (s), baseline : None, ~405.2 MB, data loaded>\n",
      "<Epochs  |  n_events : 192 (all good), tmin : -1.5 (s), tmax : 1.5 (s), baseline : None, ~374.4 MB, data loaded>\n",
      "sub-hc031\n",
      "<Epochs  |  n_events : 185 (all good), tmin : -1.0 (s), tmax : 2.25 (s), baseline : None, ~390.6 MB, data loaded>\n",
      "<Epochs  |  n_events : 185 (all good), tmin : -1.5 (s), tmax : 1.5 (s), baseline : None, ~361.0 MB, data loaded>\n",
      "sub-hc032\n",
      "<Epochs  |  n_events : 192 (all good), tmin : -1.0 (s), tmax : 2.25 (s), baseline : None, ~405.2 MB, data loaded>\n",
      "<Epochs  |  n_events : 192 (all good), tmin : -1.5 (s), tmax : 1.5 (s), baseline : None, ~374.4 MB, data loaded>\n",
      "sub-hc033\n",
      "<Epochs  |  n_events : 192 (all good), tmin : -1.0 (s), tmax : 2.25 (s), baseline : None, ~405.2 MB, data loaded>\n",
      "<Epochs  |  n_events : 192 (all good), tmin : -1.5 (s), tmax : 1.5 (s), baseline : None, ~374.4 MB, data loaded>\n",
      "sub-hc034\n",
      "<Epochs  |  n_events : 192 (all good), tmin : -1.0 (s), tmax : 2.25 (s), baseline : None, ~405.2 MB, data loaded>\n",
      "<Epochs  |  n_events : 192 (all good), tmin : -1.5 (s), tmax : 1.5 (s), baseline : None, ~374.4 MB, data loaded>\n",
      "sub-hc035\n",
      "<Epochs  |  n_events : 189 (all good), tmin : -1.0 (s), tmax : 2.25 (s), baseline : None, ~399.0 MB, data loaded>\n",
      "<Epochs  |  n_events : 189 (all good), tmin : -1.5 (s), tmax : 1.5 (s), baseline : None, ~368.7 MB, data loaded>\n"
     ]
    },
    {
     "name": "stdout",
     "output_type": "stream",
     "text": [
      "sub-hc036\n",
      "<Epochs  |  n_events : 191 (all good), tmin : -1.0 (s), tmax : 2.25 (s), baseline : None, ~403.1 MB, data loaded>\n",
      "<Epochs  |  n_events : 191 (all good), tmin : -1.5 (s), tmax : 1.5 (s), baseline : None, ~372.5 MB, data loaded>\n",
      "sub-hc037\n",
      "<Epochs  |  n_events : 191 (all good), tmin : -1.0 (s), tmax : 2.25 (s), baseline : None, ~403.1 MB, data loaded>\n",
      "<Epochs  |  n_events : 191 (all good), tmin : -1.5 (s), tmax : 1.5 (s), baseline : None, ~372.5 MB, data loaded>\n",
      "sub-hc042\n",
      "<Epochs  |  n_events : 186 (all good), tmin : -1.0 (s), tmax : 2.25 (s), baseline : None, ~392.7 MB, data loaded>\n",
      "<Epochs  |  n_events : 186 (all good), tmin : -1.5 (s), tmax : 1.5 (s), baseline : None, ~362.9 MB, data loaded>\n",
      "sub-hc044\n",
      "<Epochs  |  n_events : 160 (all good), tmin : -1.0 (s), tmax : 2.25 (s), baseline : None, ~338.5 MB, data loaded>\n",
      "<Epochs  |  n_events : 160 (all good), tmin : -1.5 (s), tmax : 1.5 (s), baseline : None, ~312.9 MB, data loaded>\n",
      "sub-hc045\n",
      "<Epochs  |  n_events : 166 (all good), tmin : -1.0 (s), tmax : 2.25 (s), baseline : None, ~351.0 MB, data loaded>\n",
      "<Epochs  |  n_events : 166 (all good), tmin : -1.5 (s), tmax : 1.5 (s), baseline : None, ~324.4 MB, data loaded>\n",
      "sub-pp001\n",
      "<Epochs  |  n_events : 185 (all good), tmin : -1.0 (s), tmax : 2.25 (s), baseline : None, ~390.6 MB, data loaded>\n",
      "<Epochs  |  n_events : 185 (all good), tmin : -1.5 (s), tmax : 1.5 (s), baseline : None, ~360.9 MB, data loaded>\n",
      "sub-pp002\n",
      "<Epochs  |  n_events : 191 (all good), tmin : -1.0 (s), tmax : 2.25 (s), baseline : None, ~403.1 MB, data loaded>\n",
      "<Epochs  |  n_events : 191 (all good), tmin : -1.5 (s), tmax : 1.5 (s), baseline : None, ~372.5 MB, data loaded>\n",
      "sub-pp003\n",
      "<Epochs  |  n_events : 192 (all good), tmin : -1.0 (s), tmax : 2.25 (s), baseline : None, ~405.1 MB, data loaded>\n",
      "<Epochs  |  n_events : 192 (all good), tmin : -1.5 (s), tmax : 1.5 (s), baseline : None, ~374.4 MB, data loaded>\n",
      "sub-pp004\n",
      "<Epochs  |  n_events : 191 (all good), tmin : -1.0 (s), tmax : 2.25 (s), baseline : None, ~403.1 MB, data loaded>\n",
      "<Epochs  |  n_events : 191 (all good), tmin : -1.5 (s), tmax : 1.5 (s), baseline : None, ~372.5 MB, data loaded>\n",
      "sub-pp005\n",
      "<Epochs  |  n_events : 191 (all good), tmin : -1.0 (s), tmax : 2.25 (s), baseline : None, ~403.1 MB, data loaded>\n",
      "<Epochs  |  n_events : 191 (all good), tmin : -1.5 (s), tmax : 1.5 (s), baseline : None, ~372.5 MB, data loaded>\n",
      "sub-pp006\n",
      "<Epochs  |  n_events : 187 (all good), tmin : -1.0 (s), tmax : 2.25 (s), baseline : None, ~394.8 MB, data loaded>\n",
      "<Epochs  |  n_events : 187 (all good), tmin : -1.5 (s), tmax : 1.5 (s), baseline : None, ~364.9 MB, data loaded>\n",
      "sub-pp007\n",
      "<Epochs  |  n_events : 191 (all good), tmin : -1.0 (s), tmax : 2.25 (s), baseline : None, ~403.2 MB, data loaded>\n",
      "<Epochs  |  n_events : 191 (all good), tmin : -1.5 (s), tmax : 1.5 (s), baseline : None, ~372.6 MB, data loaded>\n",
      "sub-pp008\n",
      "<Epochs  |  n_events : 192 (all good), tmin : -1.0 (s), tmax : 2.25 (s), baseline : None, ~405.3 MB, data loaded>\n",
      "<Epochs  |  n_events : 192 (all good), tmin : -1.5 (s), tmax : 1.5 (s), baseline : None, ~374.6 MB, data loaded>\n",
      "sub-pp009\n",
      "<Epochs  |  n_events : 191 (all good), tmin : -1.0 (s), tmax : 2.25 (s), baseline : None, ~403.2 MB, data loaded>\n",
      "<Epochs  |  n_events : 191 (all good), tmin : -1.5 (s), tmax : 1.5 (s), baseline : None, ~372.6 MB, data loaded>\n",
      "sub-pp010\n",
      "<Epochs  |  n_events : 191 (all good), tmin : -1.0 (s), tmax : 2.25 (s), baseline : None, ~403.3 MB, data loaded>\n",
      "<Epochs  |  n_events : 191 (all good), tmin : -1.5 (s), tmax : 1.5 (s), baseline : None, ~372.7 MB, data loaded>\n",
      "sub-pp011\n",
      "<Epochs  |  n_events : 190 (all good), tmin : -1.0 (s), tmax : 2.25 (s), baseline : None, ~401.0 MB, data loaded>\n",
      "<Epochs  |  n_events : 190 (all good), tmin : -1.5 (s), tmax : 1.5 (s), baseline : None, ~370.6 MB, data loaded>\n",
      "sub-pp012\n",
      "Mismatching EEG & Behavior stimulus Events: 191 EEG Events, 192 Behavior Events\n",
      "<Epochs  |  n_events : 191 (all good), tmin : -1.0 (s), tmax : 2.25 (s), baseline : None, ~403.1 MB, data loaded>\n",
      "<Epochs  |  n_events : 191 (all good), tmin : -1.5 (s), tmax : 1.5 (s), baseline : None, ~372.5 MB, data loaded>\n",
      "sub-pp013\n",
      "<Epochs  |  n_events : 186 (all good), tmin : -1.0 (s), tmax : 2.25 (s), baseline : None, ~392.7 MB, data loaded>\n",
      "<Epochs  |  n_events : 186 (all good), tmin : -1.5 (s), tmax : 1.5 (s), baseline : None, ~362.9 MB, data loaded>\n",
      "sub-pp014\n",
      "<Epochs  |  n_events : 190 (all good), tmin : -1.0 (s), tmax : 2.25 (s), baseline : None, ~401.0 MB, data loaded>\n",
      "<Epochs  |  n_events : 190 (all good), tmin : -1.5 (s), tmax : 1.5 (s), baseline : None, ~370.6 MB, data loaded>\n",
      "sub-pp015\n",
      "<Epochs  |  n_events : 190 (all good), tmin : -1.0 (s), tmax : 2.25 (s), baseline : None, ~401.0 MB, data loaded>\n",
      "<Epochs  |  n_events : 190 (all good), tmin : -1.5 (s), tmax : 1.5 (s), baseline : None, ~370.6 MB, data loaded>\n",
      "sub-pp016\n",
      "<Epochs  |  n_events : 192 (all good), tmin : -1.0 (s), tmax : 2.25 (s), baseline : None, ~405.2 MB, data loaded>\n",
      "<Epochs  |  n_events : 192 (all good), tmin : -1.5 (s), tmax : 1.5 (s), baseline : None, ~374.4 MB, data loaded>\n",
      "Done!\n"
     ]
    }
   ],
   "source": [
    "# extract participant raw, ica, and behavior filenames\n",
    "layout = Layout('../data', '../data/grabbit_config.json')\n",
    "ica_files = layout.get(subject='sub-.*', derivative='eeg_preprocessing', \n",
    "                       extensions='-ica.fif')\n",
    "raw_files = layout.get(subject='sub-.*', modality='eeg', \n",
    "                       extensions='_raw.fif')\n",
    "behavior_files = layout.get(subject='sub-.*', modality='eeg',\n",
    "                            extensions='events.tsv')\n",
    "\n",
    "# iterate through participants\n",
    "for raw_f, ica_f, b_f in zip(raw_files, ica_files, behavior_files):\n",
    "    \n",
    "    print(raw_f.subject)\n",
    "        \n",
    "    # load in data files\n",
    "    ica = read_ica(ica_f.filename)\n",
    "    raw = Raw(raw_f.filename, preload=True, verbose=False)\n",
    "    behavior = pd.read_csv(b_f.filename, sep='\\t', na_values='n/a')\n",
    "    \n",
    "    # process subject behavior\n",
    "    behavior = behavior[behavior.trial_type != 'fixation']\n",
    "    no_response_ix = np.where(behavior.response_time.isnull())[0]\n",
    "    \n",
    "    # mark bad channels\n",
    "    bad_ch_f = layout.get(subject=raw_f.subject, \n",
    "                          derivative ='eeg_preprocessing', \n",
    "                          extensions='bad_chs.txt')[0].filename\n",
    "    raw.load_bad_channels(bad_ch_f)\n",
    "    \n",
    "    # remove ICA artifacts\n",
    "    raw = ica.apply(raw, exclude=ica.exclude)\n",
    "    \n",
    "    # bandpass filter\n",
    "    raw.filter(l_freq=config['filter_high_pass'], \n",
    "               h_freq=config['filter_low_pass'])\n",
    "    \n",
    "    # iterate through epoch types\n",
    "    for epo_type, event_ch, time_bound in zip(config['epoch_types'],\n",
    "                                              config['event_channels'],\n",
    "                                              config['epoch_times']):\n",
    "    \n",
    "        # extract events \n",
    "        events = find_events(raw, stim_channel=event_ch, output=\"onset\", \n",
    "                             verbose=False)\n",
    "\n",
    "        # verify events\n",
    "        try:\n",
    "            verify_events(events, behavior, epo_type)\n",
    "        except ValueError as err:\n",
    "            print(err)\n",
    "            events, no_response_ix = handle_event_exceptions(raw_f.subject, \n",
    "                                                              epo_type, \n",
    "                                                              events,\n",
    "                                                              no_response_ix)\n",
    "        # make epochs\n",
    "        epochs = Epochs(raw, events, \n",
    "                        tmin=time_bound[0] - config['filter_buffer'], \n",
    "                        tmax=time_bound[1] + config['filter_buffer'], \n",
    "                        baseline=None, proj=False, detrend=1,\n",
    "                        preload=True, verbose=False, \n",
    "                        reject_by_annotation=False)\n",
    "        \n",
    "        # remove non-responses\n",
    "        if epo_type != 'response':\n",
    "            epochs.drop(no_response_ix)\n",
    "        \n",
    "        # baseline correct\n",
    "        # assumes that the epochs type containing the baseline is the \n",
    "        # first in the list\n",
    "        if epo_type == config['baseline_container']:\n",
    "            baseline = epochs.copy().crop(config['baseline_period'][0],\n",
    "                                          config['baseline_period'][1])\n",
    "        epochs = epoch_baseline_correct(epochs, baseline.get_data())\n",
    "        print(epochs)\n",
    "        \n",
    "        # save to file\n",
    "        f = '%s/%s/epochs/%s_%s_uncleaned-epo.fif'\n",
    "        epochs.save(f % (pipeline_root, raw_f.subject, raw_f.subject, \n",
    "                         epo_type))\n",
    "print('Done!')    "
   ]
  },
  {
   "cell_type": "markdown",
   "metadata": {},
   "source": [
    "### Autoreject"
   ]
  },
  {
   "cell_type": "code",
   "execution_count": 1,
   "metadata": {
    "ExecuteTime": {
     "end_time": "2017-10-21T00:51:02.651811Z",
     "start_time": "2017-10-20T17:24:39.346648Z"
    },
    "scrolled": true
   },
   "outputs": [
    {
     "name": "stderr",
     "output_type": "stream",
     "text": [
      "/autofs/space/cassia_001/users/matt/software/anaconda2.7/lib/python2.7/site-packages/sklearn/cross_validation.py:44: DeprecationWarning: This module was deprecated in version 0.18 in favor of the model_selection module into which all the refactored classes and functions are moved. Also note that the interface of the new CV iterators are different from that of this module. This module will be removed in 0.20.\n",
      "  \"This module will be removed in 0.20.\", DeprecationWarning)\n"
     ]
    },
    {
     "name": "stdout",
     "output_type": "stream",
     "text": [
      "Using matplotlib backend: Qt4Agg\n",
      "sub-hc033\n",
      "stimulus\n",
      "response\n",
      "0\n"
     ]
    },
    {
     "name": "stderr",
     "output_type": "stream",
     "text": [
      "/autofs/space/cassia_001/users/matt/software/anaconda2.7/lib/python2.7/site-packages/matplotlib/figure.py:1744: UserWarning: This figure includes Axes that are not compatible with tight_layout, so its results might be incorrect.\n",
      "  warnings.warn(\"This figure includes Axes that are not \"\n"
     ]
    },
    {
     "name": "stdout",
     "output_type": "stream",
     "text": [
      "1\n",
      "0\n",
      "1\n",
      "sub-hc034\n",
      "stimulus\n",
      "response\n",
      "0\n",
      "1\n",
      "0\n",
      "1\n",
      "sub-hc035\n",
      "stimulus\n",
      "response\n",
      "0\n",
      "1\n",
      "0\n",
      "1\n",
      "sub-hc036\n",
      "stimulus\n",
      "response\n"
     ]
    },
    {
     "name": "stderr",
     "output_type": "stream",
     "text": [
      "/autofs/space/cassia_001/users/matt/software/anaconda2.7/lib/python2.7/site-packages/autoreject-0.1.dev0-py2.7.egg/autoreject/autoreject.py:640: UserWarning: No bad epochs were found for your data. Returning a copy of the data you wanted to clean. Interpolation may have been done.\n"
     ]
    },
    {
     "name": "stdout",
     "output_type": "stream",
     "text": [
      "0\n",
      "1\n",
      "0\n",
      "1\n",
      "sub-hc037\n",
      "stimulus\n",
      "response\n",
      "0\n",
      "1\n",
      "0\n",
      "1\n",
      "sub-hc042\n",
      "stimulus\n",
      "response\n",
      "0\n",
      "1\n",
      "0\n",
      "1\n",
      "sub-hc044\n",
      "stimulus\n",
      "response\n",
      "0\n",
      "1\n",
      "0\n",
      "1\n",
      "sub-hc045\n",
      "stimulus\n",
      "response\n",
      "0\n",
      "1\n",
      "0\n",
      "1\n",
      "sub-pp001\n",
      "stimulus\n",
      "response\n",
      "0\n",
      "1\n",
      "0\n",
      "1\n",
      "sub-pp002\n",
      "stimulus\n",
      "response\n",
      "0\n",
      "1\n",
      "0\n",
      "1\n",
      "sub-pp003\n",
      "stimulus\n",
      "response\n",
      "0\n",
      "1\n",
      "0\n",
      "1\n",
      "sub-pp004\n",
      "stimulus\n",
      "response\n",
      "0\n",
      "1\n",
      "0\n",
      "1\n",
      "sub-pp005\n",
      "stimulus\n",
      "response\n",
      "0\n",
      "1\n",
      "0\n",
      "1\n",
      "sub-pp006\n",
      "stimulus\n",
      "response\n",
      "0\n",
      "1\n",
      "0\n",
      "1\n",
      "sub-pp007\n",
      "stimulus\n",
      "response\n",
      "0\n",
      "1\n",
      "0\n",
      "1\n",
      "sub-pp008\n",
      "stimulus\n",
      "response\n",
      "0\n",
      "1\n",
      "0\n",
      "1\n",
      "sub-pp009\n",
      "stimulus\n",
      "response\n",
      "0\n",
      "1\n",
      "0\n",
      "1\n",
      "sub-pp010\n",
      "stimulus\n",
      "response\n",
      "0\n",
      "1\n",
      "0\n",
      "1\n",
      "sub-pp011\n",
      "stimulus\n",
      "response\n",
      "0\n",
      "1\n",
      "0\n",
      "1\n",
      "sub-pp012\n",
      "stimulus\n",
      "response\n",
      "0\n",
      "1\n",
      "0\n",
      "1\n",
      "sub-pp013\n",
      "stimulus\n",
      "response\n",
      "0\n",
      "1\n",
      "0\n",
      "1\n",
      "sub-pp014\n",
      "stimulus\n",
      "response\n",
      "0\n",
      "1\n",
      "0\n",
      "1\n",
      "sub-pp015\n",
      "stimulus\n",
      "response\n",
      "0\n",
      "1\n",
      "0\n",
      "1\n",
      "sub-pp016\n",
      "stimulus\n",
      "response\n",
      "0\n",
      "1\n",
      "0\n",
      "1\n",
      "Done!\n"
     ]
    }
   ],
   "source": [
    "subjects = np.array(sorted(layout.get(target='subject', \n",
    "                                      modality='eeg',\n",
    "                                      return_type='id')))\n",
    "start_ix = np.where(subjects == 'sub-hc033')[0][0]\n",
    "end_ix = np.where(subjects == 'sub-pp001')[0]\n",
    "subjects = subjects[start_ix:]\n",
    "\n",
    "# parallelize and seed autoreject threshold function\n",
    "thresh_func = partial(compute_thresholds, random_state=42, n_jobs=5)\n",
    "\n",
    "# iterate through epoch types\n",
    "for sub in subjects:\n",
    "    \n",
    "    print(sub)\n",
    "    epochs = []\n",
    "    ar_epochs = []\n",
    "    \n",
    "    for epo_type, time_bound in zip(config['epoch_types'],\n",
    "                                    config['epoch_times']):\n",
    "        print(epo_type)\n",
    "    \n",
    "        # load uncleaned epochs\n",
    "        epoch_file = layout.get(subject=sub, \n",
    "                                derivative='eeg_preprocessing', \n",
    "                                extensions='%s_uncleaned-epo.fif' % epo_type)\n",
    "        epoch = read_epochs(epoch_file[0].filename, verbose=False)\n",
    "        \n",
    "        # fit autoreject\n",
    "        ar = LocalAutoRejectCV(consensus_percs=config['consensus_percs'],\n",
    "                               n_interpolates=config['n_interpolates'],\n",
    "                               thresh_func=thresh_func, verbose=False)\n",
    "        ar.fit(epoch)\n",
    "        \n",
    "        # save autoreject to file\n",
    "        pickle_file = '%s/%s/autoreject/%s_%s_ar.pkl' % (pipeline_root,\n",
    "                                                         sub, sub,\n",
    "                                                         epo_type)\n",
    "        with open(pickle_file, 'w') as output:\n",
    "            pickle.dump(ar, output, pickle.HIGHEST_PROTOCOL)\n",
    "            \n",
    "        # create and save autoreject diagnostic plot\n",
    "        plot_autoreject_summary(ar, sub, epo_type, pipeline_root,\n",
    "                                epoch.ch_names)\n",
    "        plt.close('all')\n",
    "        \n",
    "        epochs.append(epoch)\n",
    "        ar_epochs.append(ar.transform(epoch))\n",
    "        \n",
    "    # plot evoked data before and after autoreject\n",
    "    for period, epos in zip(['before', 'after'], [epochs, ar_epochs]):\n",
    "        fig = plot_evoked_butterfly(epos, config)\n",
    "        fig.suptitle('%s %s Autoreject' % (sub, period.capitalize()))\n",
    "        f = ('%s/%s/autoreject/%s_%s_autoreject_butterfly.png')\n",
    "        fig.savefig(f % (pipeline_root, sub, sub, period))\n",
    "        plt.close(fig)\n",
    "    plt.close('all')\n",
    "        \n",
    "print('Done!')"
   ]
  },
  {
   "cell_type": "markdown",
   "metadata": {},
   "source": [
    "### Update Bad Channels & Average Re-Reference\n",
    "\n",
    "Notes:\n",
    "- hc004: occipitals have a weird linear increasing baseline (even though linear detrended?)\n",
    "- hc008: funky oscillations - alpha? Just generally really noisy.\n",
    "- hc018: exclude- more than half of channels bad.\n",
    "- hc029: noisy with lots of bad channels\n",
    "- hc045: frontals not flat in baseline, maybe missing ica components?\n",
    "- pp001: just looks like noise\n",
    "- pp004: looks really bad, didn't even try to throw out channels\n",
    "- pp013: weird positive frontal and negative occipital linear trends\n",
    "\n"
   ]
  },
  {
   "cell_type": "code",
   "execution_count": null,
   "metadata": {
    "ExecuteTime": {
     "start_time": "2017-10-23T15:26:13.520Z"
    },
    "scrolled": true
   },
   "outputs": [
    {
     "name": "stdout",
     "output_type": "stream",
     "text": [
      "Using matplotlib backend: Qt4Agg\n",
      "sub-hc022\n"
     ]
    },
    {
     "name": "stderr",
     "output_type": "stream",
     "text": [
      "/autofs/space/cassia_001/users/matt/software/anaconda2.7/lib/python2.7/site-packages/sklearn/cross_validation.py:44: DeprecationWarning: This module was deprecated in version 0.18 in favor of the model_selection module into which all the refactored classes and functions are moved. Also note that the interface of the new CV iterators are different from that of this module. This module will be removed in 0.20.\n",
      "  \"This module will be removed in 0.20.\", DeprecationWarning)\n",
      "/autofs/space/cassia_001/users/matt/software/anaconda2.7/lib/python2.7/site-packages/matplotlib/figure.py:1744: UserWarning: This figure includes Axes that are not compatible with tight_layout, so its results might be incorrect.\n",
      "  warnings.warn(\"This figure includes Axes that are not \"\n"
     ]
    }
   ],
   "source": [
    "subjects = np.array(sorted(layout.get(target='subject', \n",
    "                                      modality='eeg',\n",
    "                                      return_type='id')))\n",
    "start_ix = np.where(subjects == 'sub-hc022')[0][0]\n",
    "end_ix = np.where(subjects == 'sub-hc024')[0][0]\n",
    "subjects = subjects[start_ix:end_ix + 1]\n",
    "    \n",
    "# iterate through participants\n",
    "for sub in subjects:\n",
    "    \n",
    "    print(sub)\n",
    "    \n",
    "    # load and autoreject transform epochs\n",
    "    epoch_files = layout.get(subject=sub,\n",
    "                         derivative='eeg_preprocessing',\n",
    "                         extensions='uncleaned-epo.fif')\n",
    "    ar_files = layout.get(subject=sub,\n",
    "                          derivative='eeg_preprocessing',\n",
    "                          extensions='ar.pkl')\n",
    "    epochs = [read_epochs(f.filename, verbose=False) \n",
    "              for f in epoch_files][::-1]\n",
    "    ars = [pickle.load(open(f.filename, 'r')) for f in ar_files][::-1]\n",
    "    epochs = [ar.transform(epoch) for ar, epoch in zip(ars, epochs)]\n",
    "        \n",
    "    # visually verify and update bad channels on epochs\n",
    "    bad_chs = visually_verify_epochs(sub, epochs, config)\n",
    "    \n",
    "    # update bads and average re-reference\n",
    "    for epoch in epochs:\n",
    "        epoch.info['bads'] = bad_chs\n",
    "        epoch.set_eeg_reference().apply_proj()\n",
    "        \n",
    "    # save cleaned epochs to file\n",
    "    for i, epo_type in enumerate(config['epoch_types']):\n",
    "        f = '%s/%s/epochs/%s_%s_cleaned-epo.fif'\n",
    "        epochs[i].save(f % (pipeline_root, sub, sub, epo_type))\n",
    "        \n",
    "    # save cleaned epochs butterfly plot\n",
    "    [epochs[i].crop(config['epoch_times'][i][0], \n",
    "                config['epoch_times'][i][1]) for i in range(len(epochs))]\n",
    "    fig = plot_evoked_butterfly(epochs, config)\n",
    "    fig.suptitle('%s Cleaned' % sub)\n",
    "    f = '%s/%s/%s_cleaned_butterfly.png'\n",
    "    fig.savefig(f % (pipeline_root, sub, sub))\n",
    "        \n",
    "    # save channel sensors plot\n",
    "    fig = epochs[0].plot_sensors(show=True, title=sub, show_names=True)\n",
    "    fig.savefig('%s/%s/%s_sensors.png' % (pipeline_root, sub, sub))\n",
    "    plt.close('all')\n",
    "        \n",
    "print('Done!')"
   ]
  },
  {
   "cell_type": "markdown",
   "metadata": {
    "collapsed": true
   },
   "source": [
    "## Group Summary Plots"
   ]
  },
  {
   "cell_type": "markdown",
   "metadata": {},
   "source": [
    "### Bad Channels"
   ]
  },
  {
   "cell_type": "code",
   "execution_count": 10,
   "metadata": {
    "ExecuteTime": {
     "end_time": "2017-10-31T21:51:00.084773Z",
     "start_time": "2017-10-31T21:50:55.028689Z"
    }
   },
   "outputs": [
    {
     "data": {
      "image/png": "[encoded data removed]",
      "text/plain": [
       "<matplotlib.figure.Figure at 0x7fe30071abd0>"
      ]
     },
     "metadata": {},
     "output_type": "display_data"
    }
   ],
   "source": [
    "%matplotlib inline\n",
    "bad_ch_info = extract_bad_ch_group_info('../data/derivatives/eeg_preprocessing', CH_NAMES)\n",
    "fig = plot_bad_chs_group_summary(bad_ch_info)\n",
    "plt.show(fig)"
   ]
  },
  {
   "cell_type": "markdown",
   "metadata": {},
   "source": [
    "### Bad Epochs"
   ]
  },
  {
   "cell_type": "code",
   "execution_count": 2,
   "metadata": {
    "ExecuteTime": {
     "end_time": "2017-10-31T22:43:09.913018Z",
     "start_time": "2017-10-31T22:43:06.886167Z"
    },
    "scrolled": true
   },
   "outputs": [],
   "source": [
    "bad_epoch_info = extract_bad_epochs_group_info('../data/derivatives/eeg_preprocessing', CH_NAMES)"
   ]
  },
  {
   "cell_type": "code",
   "execution_count": 3,
   "metadata": {
    "ExecuteTime": {
     "end_time": "2017-10-31T22:43:14.254850Z",
     "start_time": "2017-10-31T22:43:12.653297Z"
    }
   },
   "outputs": [
    {
     "data": {
      "image/png": "[encoded data removed]",
      "text/plain": [
       "<matplotlib.figure.Figure at 0x7f60e11f13d0>"
      ]
     },
     "metadata": {},
     "output_type": "display_data"
    }
   ],
   "source": [
    "%matplotlib inline\n",
    "plt.figure(figsize=(24, 8))\n",
    "sns.barplot(x='participant_id', y='num_bad', hue='epoch_type', \n",
    "            data=bad_epoch_info.sort_values(by='num_bad', ascending=False))\n",
    "plt.xticks(rotation=90)\n",
    "plt.ylabel('# Bad Epochs')\n",
    "sns.despine()\n",
    "plt.show()"
   ]
  },
  {
   "cell_type": "markdown",
   "metadata": {},
   "source": [
    "## Subject Exclusions"
   ]
  },
  {
   "cell_type": "code",
   "execution_count": null,
   "metadata": {
    "collapsed": true
   },
   "outputs": [],
   "source": []
  },
  {
   "cell_type": "markdown",
   "metadata": {},
   "source": [
    "# fMRI Preprocessing"
   ]
  },
  {
   "cell_type": "code",
   "execution_count": null,
   "metadata": {
    "collapsed": true
   },
   "outputs": [],
   "source": []
  }
 ],
 "metadata": {
  "kernelspec": {
   "display_name": "Python 2",
   "language": "python",
   "name": "python2"
  },
  "notify_time": "30",
  "toc": {
   "colors": {
    "hover_highlight": "#DAA520",
    "navigate_num": "#000000",
    "navigate_text": "#333333",
    "running_highlight": "#FF0000",
    "selected_highlight": "#FFD700",
    "sidebar_border": "#EEEEEE",
    "wrapper_background": "#FFFFFF"
   },
   "moveMenuLeft": true,
   "nav_menu": {
    "height": "66px",
    "width": "252px"
   },
   "navigate_menu": true,
   "number_sections": true,
   "sideBar": true,
   "threshold": 4,
   "toc_cell": false,
   "toc_position": {
    "height": "795px",
    "left": "0px",
    "right": "1362.19px",
    "top": "106px",
    "width": "361px"
   },
   "toc_section_display": "block",
   "toc_window_display": true,
   "widenNotebook": false
  },
  "varInspector": {
   "cols": {
    "lenName": 16,
    "lenType": 16,
    "lenVar": 40
   },
   "kernels_config": {
    "python": {
     "delete_cmd_postfix": "",
     "delete_cmd_prefix": "del ",
     "library": "var_list.py",
     "varRefreshCmd": "print(var_dic_list())"
    },
    "r": {
     "delete_cmd_postfix": ") ",
     "delete_cmd_prefix": "rm(",
     "library": "var_list.r",
     "varRefreshCmd": "cat(var_dic_list()) "
    }
   },
   "position": {
    "height": "207px",
    "left": "1320.81px",
    "right": "20px",
    "top": "121.989px",
    "width": "331px"
   },
   "types_to_exclude": [
    "module",
    "function",
    "builtin_function_or_method",
    "instance",
    "_Feature"
   ],
   "window_display": false
  }
 },
 "nbformat": 4,
 "nbformat_minor": 2
}
