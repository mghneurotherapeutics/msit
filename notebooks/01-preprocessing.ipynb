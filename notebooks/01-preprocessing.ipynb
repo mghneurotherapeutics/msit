{
 "cells": [
  {
   "cell_type": "markdown",
   "metadata": {},
   "source": [
    "# Behavior Preprocessing"
   ]
  },
  {
   "cell_type": "markdown",
   "metadata": {},
   "source": [
    "## Initialization"
   ]
  },
  {
   "cell_type": "code",
   "execution_count": 1,
   "metadata": {
    "ExecuteTime": {
     "end_time": "2017-11-03T20:10:47.391250Z",
     "start_time": "2017-11-03T20:10:45.942803Z"
    },
    "collapsed": true
   },
   "outputs": [],
   "source": [
    "%reset -f\n",
    "import pandas as pd\n",
    "import numpy as np\n",
    "from grabbit import Layout\n",
    "import os\n",
    "from msit import extract_itis, encode_trial_type_sequence \n",
    "from msit import encode_post_error, denote_exclusions, encode_target_location\n",
    "from pandas.util.testing import assert_frame_equal\n",
    "import matplotlib.pyplot as plt\n",
    "import seaborn as sns\n",
    "\n",
    "sns.set(style='whitegrid', font_scale=2)\n",
    "\n",
    "layout = Layout('../data', '../data/grabbit_config.json')"
   ]
  },
  {
   "cell_type": "markdown",
   "metadata": {},
   "source": [
    "## Make Group DataFrame "
   ]
  },
  {
   "cell_type": "code",
   "execution_count": 3,
   "metadata": {
    "ExecuteTime": {
     "end_time": "2017-11-03T20:11:04.625440Z",
     "start_time": "2017-11-03T20:11:02.321020Z"
    }
   },
   "outputs": [
    {
     "name": "stdout",
     "output_type": "stream",
     "text": [
      "  participant_id modality  trial    onset  duration   iti   trial_type  \\\n",
      "0      sub-hc001      eeg      1   2.2840      1.75  2.00  incongruent   \n",
      "1      sub-hc001      eeg      2   6.0330      1.75  1.75    congruent   \n",
      "2      sub-hc001      eeg      3   9.5346      1.75  2.00  incongruent   \n",
      "3      sub-hc001      eeg      4  13.2872      1.75  1.75    congruent   \n",
      "4      sub-hc001      eeg      5  16.7972      1.75  1.75    congruent   \n",
      "\n",
      "   response_time  chosen_response  correct_response target_location  \\\n",
      "0        0.87199              2.0                 2           right   \n",
      "1        0.71505              3.0                 3           right   \n",
      "2        1.14070              1.0                 2            left   \n",
      "3        0.59579              2.0                 2          middle   \n",
      "4        0.67779              1.0                 1            left   \n",
      "\n",
      "   response_accuracy stimulus  error  post_error  no_response  \\\n",
      "0                1.0      332    0.0           0            0   \n",
      "1                1.0      003    0.0           0            0   \n",
      "2                0.0      211    1.0           0            0   \n",
      "3                1.0      020    0.0           1            0   \n",
      "4                1.0      100    0.0           0            0   \n",
      "\n",
      "  trial_type_sequence  fast_rt  \n",
      "0                 NaN        0  \n",
      "1                  ic        0  \n",
      "2                  ci        0  \n",
      "3                  ic        0  \n",
      "4                  cc        0  \n"
     ]
    }
   ],
   "source": [
    "# Accumulate individual dataframes to be concatenated at the end\n",
    "tidy_df = []\n",
    "\n",
    "# Iterate through the two modalities\n",
    "# func = fmri\n",
    "for modality in ['eeg', 'func']:\n",
    "    \n",
    "    # Extract out behavior filepaths for all subjects\n",
    "    behavior_files = layout.get(subject='sub-.*', modality=modality, \n",
    "                                extensions='events.tsv')\n",
    "    \n",
    "    # Iterate through each subject's behavior file\n",
    "    for f in behavior_files:\n",
    "        \n",
    "        raw_df = pd.read_csv(f.filename, sep='\\t', na_values='n/a')\n",
    "        \n",
    "        # Encode subject name\n",
    "        raw_df['participant_id'] = f.subject\n",
    "        \n",
    "        # Encode modality\n",
    "        if modality == 'func':\n",
    "            raw_df['modality'] = 'fmri'\n",
    "        else:\n",
    "            raw_df['modality'] = 'eeg'\n",
    "            \n",
    "        # Extract out the itis\n",
    "        raw_df = extract_itis(raw_df)\n",
    "        \n",
    "        # Remove the fixation trials\n",
    "        trial_ix = raw_df.trial_type != 'fixation'\n",
    "        raw_df = raw_df[trial_ix].reset_index(drop=True)\n",
    "        \n",
    "        # Encode error trials\n",
    "        raw_df['error'] = 1 - raw_df.response_accuracy\n",
    "        \n",
    "        # Encode post error trials\n",
    "        raw_df = encode_post_error(raw_df)\n",
    "        \n",
    "        # Encode no-response trials\n",
    "        raw_df['no_response'] = 0\n",
    "        raw_df.loc[raw_df.chosen_response.isnull(), 'no_response'] = 1\n",
    "        \n",
    "        # Encode condition sequence effects\n",
    "        raw_df = encode_trial_type_sequence(raw_df)\n",
    "        \n",
    "        # Encode fast response times (< 200 ms)\n",
    "        raw_df['fast_rt'] = np.where(raw_df.response_time < 0.2, 1, 0)\n",
    "        \n",
    "        # Encode target location\n",
    "        raw_df = encode_target_location(raw_df)\n",
    "        \n",
    "        # Encode trial numbers\n",
    "        raw_df['trial'] = np.arange(raw_df.shape[0]) + 1\n",
    "\n",
    "        tidy_df.append(raw_df)\n",
    "        \n",
    "tidy_df = pd.concat(tidy_df)\n",
    "\n",
    "# Select out and order columns\n",
    "tidy_df = tidy_df[['participant_id', 'modality', 'trial', 'onset', \n",
    "                   'duration', 'iti', 'trial_type', 'response_time', \n",
    "                   'chosen_response', 'correct_response', 'target_location',\n",
    "                   'response_accuracy', 'stimulus', 'error', 'post_error', \n",
    "                   'no_response', 'trial_type_sequence', 'fast_rt']]\n",
    "print(tidy_df.head())\n",
    "\n",
    "# Save out to file\n",
    "if not os.path.exists('../data/derivatives/behavior'):\n",
    "    os.makedirs('../data/derivatives/behavior')\n",
    "tidy_df.to_csv('../data/derivatives/behavior/group_data.tsv', sep='\\t',\n",
    "               index=False, na_rep='n/a')"
   ]
  },
  {
   "cell_type": "markdown",
   "metadata": {},
   "source": [
    "## Validate Task Design"
   ]
  },
  {
   "cell_type": "markdown",
   "metadata": {
    "collapsed": true
   },
   "source": [
    "### Check Consistency Across Subjects\n",
    "\n",
    "The first check for our data is whether the task design (trial sequences, durations, iti's, etc.) are actually consistent across participants (within modalities). The cell below checks this by extracting out the task design columns (trial duration, iti, stimulus shown, correct_reponse, and trial_type_sequence) for each participant as inidividual dataframes and then comparing them all to the first participant to ensure equality."
   ]
  },
  {
   "cell_type": "code",
   "execution_count": 8,
   "metadata": {
    "ExecuteTime": {
     "end_time": "2017-11-03T15:56:59.560973Z",
     "start_time": "2017-11-03T15:56:59.013443Z"
    },
    "collapsed": true
   },
   "outputs": [],
   "source": [
    "tidy_df = pd.read_csv('../data/derivatives/behavior/group_data.tsv',\n",
    "                      sep='\\t', na_values='n/a')\n",
    "\n",
    "# hierachical index\n",
    "tidy_df = tidy_df.set_index(['participant_id', 'modality', 'trial'])\n",
    "\n",
    "# filter to columns corresponding to task design that should be identical\n",
    "columns = ['duration', 'iti', 'stimulus', 'correct_response', \n",
    "           'trial_type_sequence']\n",
    "tidy_df = tidy_df[columns]\n",
    "\n",
    "for modality in ['eeg', 'fmri']:\n",
    "\n",
    "    # screen to given modality\n",
    "    mod_df = tidy_df.xs(modality, level='modality') \n",
    "    \n",
    "    # extract list of individual participants\n",
    "    subject_dfs = [mod_df.xs(pid, level='participant_id') for pid in \n",
    "                   mod_df.index.get_level_values(0).unique()]\n",
    "    \n",
    "    # iterate through asserting that all participant dataframes are\n",
    "    # equivalent to first dataframe (and thus to each other)\n",
    "    for i in range(1, len(subject_dfs)):\n",
    "        assert_frame_equal(subject_dfs[0], subject_dfs[i])"
   ]
  },
  {
   "cell_type": "markdown",
   "metadata": {},
   "source": [
    "We see no output... which is good! This means our assertion that all of the participant task design dataframes within each modality were equal did not fail. All participants received the same design as intended. "
   ]
  },
  {
   "cell_type": "markdown",
   "metadata": {},
   "source": [
    "### Verify Task Design Parameters \n",
    "\n",
    "In the next series of cells, we will extract and verify a set of important parameters regarding our task design. We'll also reveal any differences between the EEG and fMRI design as well. Since we've already verified that our task design is identical across subjects, we'll select out only the first subject's dataframe and analyze their task design information knowing that it is equivalent for all other subjects."
   ]
  },
  {
   "cell_type": "code",
   "execution_count": 9,
   "metadata": {
    "ExecuteTime": {
     "end_time": "2017-11-03T15:57:02.563678Z",
     "start_time": "2017-11-03T15:57:02.480973Z"
    },
    "collapsed": true
   },
   "outputs": [],
   "source": [
    "tidy_df = pd.read_csv('../data/derivatives/behavior/group_data.tsv',\n",
    "                      sep='\\t', na_values='n/a')\n",
    "tidy_df = tidy_df.set_index(['participant_id', 'modality', 'trial'])\n",
    "tidy_df = tidy_df.xs('sub-hc001', level='participant_id')"
   ]
  },
  {
   "cell_type": "markdown",
   "metadata": {},
   "source": [
    "#### Trial Counts\n",
    "\n",
    "The main contrast of interest is incongruent vs. congruent trials:"
   ]
  },
  {
   "cell_type": "code",
   "execution_count": 10,
   "metadata": {
    "ExecuteTime": {
     "end_time": "2017-11-03T15:57:05.709291Z",
     "start_time": "2017-11-03T15:57:05.693149Z"
    }
   },
   "outputs": [
    {
     "data": {
      "text/plain": [
       "modality  trial_type \n",
       "eeg       congruent      96\n",
       "          incongruent    96\n",
       "fmri      congruent      96\n",
       "          incongruent    96\n",
       "Name: onset, dtype: int64"
      ]
     },
     "execution_count": 10,
     "metadata": {},
     "output_type": "execute_result"
    }
   ],
   "source": [
    "tidy_df.groupby([pd.Grouper(level=0), 'trial_type']).onset.count()"
   ]
  },
  {
   "cell_type": "markdown",
   "metadata": {},
   "source": [
    "Researchers have also traditionally looked at the effect of the previous trial type as a proxy for the effect of \"conflict adaptation\". For example, one would expect a person to be better at resolving an incongruent if they had more recently had to resolve such a trial."
   ]
  },
  {
   "cell_type": "code",
   "execution_count": 11,
   "metadata": {
    "ExecuteTime": {
     "end_time": "2017-11-03T15:59:38.208929Z",
     "start_time": "2017-11-03T15:59:38.196099Z"
    }
   },
   "outputs": [
    {
     "data": {
      "text/plain": [
       "modality  trial_type_sequence\n",
       "eeg       cc                     47\n",
       "          ci                     48\n",
       "          ic                     49\n",
       "          ii                     47\n",
       "fmri      cc                     48\n",
       "          ci                     47\n",
       "          ic                     48\n",
       "          ii                     48\n",
       "Name: onset, dtype: int64"
      ]
     },
     "execution_count": 11,
     "metadata": {},
     "output_type": "execute_result"
    }
   ],
   "source": [
    "tidy_df.groupby([pd.Grouper(level=0), 'trial_type_sequence']).onset.count()"
   ]
  },
  {
   "cell_type": "markdown",
   "metadata": {},
   "source": [
    "Interestingly, we don't quite have a balance in the eeg design (one more ic than there should be). Since we have an even number of trials there are an odd number of sequences and thus we can't have a perfect balance as one condition must have one less."
   ]
  },
  {
   "cell_type": "markdown",
   "metadata": {},
   "source": [
    "#### Trial Sequences\n",
    "\n",
    "To develop some intution about the full trial sequences, let's plot a smoothed version of the condition sequences. "
   ]
  },
  {
   "cell_type": "code",
   "execution_count": 12,
   "metadata": {
    "ExecuteTime": {
     "end_time": "2017-11-03T16:05:04.795404Z",
     "start_time": "2017-11-03T16:05:04.369800Z"
    }
   },
   "outputs": [
    {
     "data": {
      "image/png": "[encoded data removed]",
      "text/plain": [
       "<matplotlib.figure.Figure at 0x7f60dbc5f890>"
      ]
     },
     "metadata": {},
     "output_type": "display_data"
    }
   ],
   "source": [
    "plt.figure(figsize=(10, 6))\n",
    "\n",
    "modalities = ['eeg', 'fmri']\n",
    "for i, modality in enumerate(modalities):\n",
    "    trial_types = tidy_df.xs(modality, level='modality') \\\n",
    "                         .trial_type.astype('category').cat.codes\n",
    "    plt.plot(np.convolve(trial_types, np.ones((10,))/10, mode='valid'))\n",
    "    \n",
    "plt.legend(modalities)\n",
    "plt.axhline(0.5, color='k')\n",
    "plt.title('smoothed trial type sequences')\n",
    "plt.xlim((0, len(trial_types)))\n",
    "\n",
    "sns.despine()\n",
    "plt.show()"
   ]
  },
  {
   "cell_type": "markdown",
   "metadata": {},
   "source": [
    "The time series above are smoothed with a moving average of every 10 timepoints. This allows us to get a sense of how the relative fractions of congruent vs. incongruent trials change throughout the experiment. The relative fraction is typically fairly centered around 0.5 (the mean is 0.5 since we do have an equal fraction across the entire experiment) with the exception of a particularly strong incongruent bias around 100 trials in. Note that there is a bit of a congruent bias in the first half of the experiment and then a more incongruent bias in the second half of the experiment, but it is relatively minor.\n",
    "\n",
    "One interesting peculiarity is that the eeg and fmri trial sequences appear to be identical with the exception of a difference somewhere around trial 25. I would have expected them to be more different given that the n-1 sequence counts were different, but it looks as if those n-1 trial sequence count differences may have been due to a single shift. Let's investigate."
   ]
  },
  {
   "cell_type": "code",
   "execution_count": 13,
   "metadata": {
    "ExecuteTime": {
     "end_time": "2017-11-03T16:07:40.301996Z",
     "start_time": "2017-11-03T16:07:40.179894Z"
    }
   },
   "outputs": [
    {
     "name": "stdout",
     "output_type": "stream",
     "text": [
      "(array([22, 23]),)\n",
      "trial\n",
      "21    0\n",
      "22    1\n",
      "23    0\n",
      "24    1\n",
      "25    0\n",
      "dtype: int8\n",
      "trial\n",
      "21    0\n",
      "22    1\n",
      "23    1\n",
      "24    0\n",
      "25    0\n",
      "dtype: int8\n"
     ]
    }
   ],
   "source": [
    "eeg = tidy_df.xs('eeg', level='modality') \\\n",
    "             .trial_type.astype('category').cat.codes\n",
    "fmri = tidy_df.xs('fmri', level='modality') \\\n",
    "             .trial_type.astype('category').cat.codes\n",
    "print(np.where(np.abs(eeg - fmri) > 0))\n",
    "print(eeg[20:25])\n",
    "print(fmri[20:25])"
   ]
  },
  {
   "cell_type": "markdown",
   "metadata": {},
   "source": [
    "Very peculiar. Trials 23 and 24 are swapped between the eeg and fmri versions. I have no idea why the trial sequences would be different like this. I would either expect them to be completely different or exactly identical. In any case, we can conclude that the trial sequences are effectively identical though there is this one small difference."
   ]
  },
  {
   "cell_type": "markdown",
   "metadata": {},
   "source": [
    "#### Trial Timing\n",
    "\n",
    "First, let's see what the total run time of our tasks was:"
   ]
  },
  {
   "cell_type": "code",
   "execution_count": 18,
   "metadata": {
    "ExecuteTime": {
     "end_time": "2017-11-03T16:12:42.589712Z",
     "start_time": "2017-11-03T16:12:42.574027Z"
    }
   },
   "outputs": [
    {
     "data": {
      "text/plain": [
       "modality\n",
       "eeg     11 min 59 sec\n",
       "fmri     6 min 37 sec\n",
       "Name: trial_time, dtype: object"
      ]
     },
     "execution_count": 18,
     "metadata": {},
     "output_type": "execute_result"
    }
   ],
   "source": [
    "def time_column(seq):\n",
    "    m, s = seq // 60, seq % 60\n",
    "    return '%d min %d sec' % (m, s)\n",
    "\n",
    "tidy_df['trial_time'] = tidy_df['duration'] + tidy_df['iti']\n",
    "tidy_df['trial_time'].groupby(level=0) \\\n",
    "                     .aggregate(sum) \\\n",
    "                     .transform(time_column)"
   ]
  },
  {
   "cell_type": "markdown",
   "metadata": {},
   "source": [
    "So we see that the eeg version is almost twice as long. Since they have the same trial counts, this must stem from timing differences. We check the response windows."
   ]
  },
  {
   "cell_type": "code",
   "execution_count": 21,
   "metadata": {
    "ExecuteTime": {
     "end_time": "2017-11-03T16:21:21.425333Z",
     "start_time": "2017-11-03T16:21:21.413093Z"
    }
   },
   "outputs": [
    {
     "data": {
      "text/plain": [
       "modality  duration\n",
       "eeg       1.75        192\n",
       "fmri      1.75        192\n",
       "Name: duration, dtype: int64"
      ]
     },
     "execution_count": 21,
     "metadata": {},
     "output_type": "execute_result"
    }
   ],
   "source": [
    "tidy_df.groupby([pd.Grouper(level=0), 'duration']).duration.count()"
   ]
  },
  {
   "cell_type": "markdown",
   "metadata": {},
   "source": [
    "So every response was limited to 1.75 seconds. This isn't the difference since the task did not advance on a response being made. The difference must stem from the inter-trial interval differences so let's take a look at those:"
   ]
  },
  {
   "cell_type": "code",
   "execution_count": 22,
   "metadata": {
    "ExecuteTime": {
     "end_time": "2017-11-03T16:22:21.555601Z",
     "start_time": "2017-11-03T16:22:21.147600Z"
    }
   },
   "outputs": [
    {
     "data": {
      "image/png": "[encoded data removed]",
      "text/plain": [
       "<matplotlib.figure.Figure at 0x7f60dfc5d2d0>"
      ]
     },
     "metadata": {},
     "output_type": "display_data"
    }
   ],
   "source": [
    "f, axs = plt.subplots(1, 2, figsize=(16, 6))\n",
    "\n",
    "for i, modality in enumerate(['eeg', 'fmri']):\n",
    "    itis = tidy_df.xs(modality, level='modality').iti\n",
    "    axs[i].hist(itis)\n",
    "    axs[i].set_title('%s inter-trial intervals' % modality)\n",
    "    axs[i].set_xlabel('ITI [s]')\n",
    "    axs[i].set_ylabel('Trial Count')\n",
    "\n",
    "sns.despine()\n",
    "plt.show()\n",
    "\n",
    "\n",
    "plt.show()"
   ]
  },
  {
   "cell_type": "markdown",
   "metadata": {},
   "source": [
    "So we see that the EEG design has an ITI distribution ~ U([1.75, 2, 2.25]). It is important that the ITI is not purely constant as this variation (often referred to as jitter) prevents predicting the upcoming trial onset which can affect the baseline period of the eeg signal. For the fmri, we see that the majority of the differences are 0 with some out at around 2, 3.5 and 5 in decreasing amounts. I'm not entirely sure on the basis of this ITI distribution, but supposedly it was determined by optseq to provide an optimal design given the trial design and trial counts. We can clearly see that the difference in timing comes from the fmri iti's being predominantly 0."
   ]
  },
  {
   "cell_type": "markdown",
   "metadata": {},
   "source": [
    "## Summaries & Exclusions "
   ]
  },
  {
   "cell_type": "markdown",
   "metadata": {},
   "source": [
    "### Visualize Exclusion Metrics\n",
    "\n",
    "Here we will check some measures to determine if any subject's data should be excluded based on 3 different factors:\n",
    "\n",
    "- Non-reponses: Non-responses can imply that a person struggled with a trial and wasn't able to respond in time. Or more problematically, they can imply a lack of engagement with the task (in the worst case, they may even be dozing off). An excessive non-response rate may suggest grounds for exclusion since it signals severe disengagement and a serious reduction of available data.\n",
    "- Errors: While errors in and of themselves aren't bad and suggest the task has some difficulty to it, excessive errors could imply an inability to understand the task. In the extreme case, they could also signal indiscriminate responding or a misunderstanding of the task rules.\n",
    "- Fast Responses: Large amounts of fast responses (defined here as less than 200 ms) could imply that the subject was again indiscriminately responding since responses at this speed are too fast to have resolved the correct response. "
   ]
  },
  {
   "cell_type": "code",
   "execution_count": 31,
   "metadata": {
    "ExecuteTime": {
     "end_time": "2017-11-03T17:57:16.687128Z",
     "start_time": "2017-11-03T17:57:15.085496Z"
    }
   },
   "outputs": [
    {
     "data": {
      "image/png": "[encoded data removed]",
      "text/plain": [
       "<matplotlib.figure.Figure at 0x7f60dfd845d0>"
      ]
     },
     "metadata": {},
     "output_type": "display_data"
    }
   ],
   "source": [
    "tidy_df = pd.read_csv('../data/derivatives/behavior/group_data.tsv',\n",
    "                      sep='\\t', na_values='n/a')\n",
    "\n",
    "agg_df = tidy_df[['participant_id', 'modality', 'error', 'no_response', \n",
    "                  'fast_rt']] \\\n",
    "             .groupby(['participant_id', 'modality'], as_index=False) \\\n",
    "             .agg({'error': 'mean', 'no_response': 'mean',\n",
    "                   'fast_rt': 'sum'}) \n",
    "        \n",
    "sns.pairplot(agg_df, hue='modality', size=3, aspect=1)\n",
    "plt.show()"
   ]
  },
  {
   "cell_type": "markdown",
   "metadata": {},
   "source": [
    "A few outliers immediately jump out:\n",
    "- We have an eeg participant who had nearly a 100 percent error rate on top of a 30 percent missing rate who we will definitely need to exclude. I'm not exactly sure how they had such a high error rate. Even random responding would be expected to result in a lower error rate. On top of that, they did the task without an excessive error rate in the fmri prior to the eeg version. Even if they were responding according to an incorrect rule (i.e. location instead of identity), I still wouldn't expect the error rate to be that high. \n",
    "- We have a fmri participant who had a fairly large error rate (~20%) and a large number of fast responses and fairly large non_reponse rate. This is again suggestive of someone who was not engaged. They were responding before ability to judge the response frequently, they were getting a lot of trials wrong (probably a lot due to the fast responses), and they didn't engage with 10-20% of the trials. Probably grounds for exclusion.\n",
    "- There is another individual who didn't respond on greater than 30% of trials. Though they didn't have a particularly large error rate, this is still a significant percentage of trials to not respond and probably grounds for exclusion.\n",
    "\n",
    "Some comments on distributions:\n",
    "- Fast responses: Apart from our outlier, our fast responses are very reasonable with the next highest value being around 5 or so and most being at 0.\n",
    "- Slow responses: We again see a reasonable distribution with the max being 5 and the density being most around 2 or 3.\n",
    "- Error: Apart from two of our outliers, the vast majority of our the density lies around 0. While it is nice not to have too many excessive error rates, this also seems to hint that we may not have enough errors to be able to explore them as a dependent variable. We'll look more closely later.\n",
    "- Non-Reponses: The vast majority of the density is clustered around 0. We have the two outliers out at around 30%. We also have a smaller cluster of individuals around 10-20% that we should be wary of."
   ]
  },
  {
   "cell_type": "markdown",
   "metadata": {},
   "source": [
    "### Subject Exclusions\n",
    "\n",
    "Here we will actually denote subject exclusions. To avoid complete subjectivity, we'll use a more objective criterion for exclusion. Since all of our exclusion metrics above lead to data lost, we can collapse all of our metrics into a single metric: the number of non-excluded trials. We can then define a threshold for outliers along this metric. Here we'll use the following metric:\n",
    "\n",
    "Exclude subject if number of trials after all exclusions < (median - 3 * mad) \n",
    "\n",
    "This is similar to z-scoring, but we use robust versions of the mean and standard deviation since we know our distribution will be skewed with some large outliers. The three is somewhat arbitrary and comes as a slightly more data keeping conservative threshold than the 2 standard deviations I've seen typically."
   ]
  },
  {
   "cell_type": "code",
   "execution_count": 2,
   "metadata": {
    "ExecuteTime": {
     "end_time": "2017-11-03T18:35:20.108037Z",
     "start_time": "2017-11-03T18:35:19.461967Z"
    }
   },
   "outputs": [
    {
     "name": "stdout",
     "output_type": "stream",
     "text": [
      "eeg\n",
      "Threshold: 154 trials\n",
      "Rejected Subjects:\n",
      "   participant_id modality  fast_rt  no_response     error\n",
      "24      sub-hc013      eeg        0     0.338542  0.976378\n",
      "52      sub-hc027      eeg        0     0.338542  0.047244\n",
      "fmri\n",
      "Threshold: 173 trials\n",
      "Rejected Subjects:\n",
      "   participant_id modality  fast_rt  no_response     error\n",
      "53      sub-hc027     fmri        2     0.135417  0.108434\n",
      "75      sub-hc041     fmri       16     0.151042  0.208589\n"
     ]
    },
    {
     "data": {
      "image/png": "[encoded data removed]",
      "text/plain": [
       "<matplotlib.figure.Figure at 0x7f81455282d0>"
      ]
     },
     "metadata": {},
     "output_type": "display_data"
    }
   ],
   "source": [
    "tidy_df = pd.read_csv('../data/derivatives/behavior/group_data.tsv',\n",
    "                      sep='\\t', na_values='n/a')\n",
    "exclusions = {}\n",
    "\n",
    "# Create a new column that is 0 if a trial passes all of our exclusion\n",
    "# metrics\n",
    "exclusion_columns = ['error', 'no_response', 'fast_rt']\n",
    "tidy_df = tidy_df[['participant_id', 'modality'] + exclusion_columns]\n",
    "tidy_df['exclude'] = tidy_df.sum(axis=1)\n",
    "\n",
    "# Create a summary dataframe with non-excluded trial counts\n",
    "trial_count_df = tidy_df[tidy_df.exclude == 0] \\\n",
    "                 .groupby(['participant_id', 'modality'],\n",
    "                          as_index=False) \\\n",
    "                 .agg('count')\n",
    "\n",
    "# Create a summary dataframe with exclusion metrics for each participant\n",
    "# modality pairing\n",
    "agg_df = tidy_df.groupby(['participant_id', 'modality'], as_index=False) \\\n",
    "                .agg({'error': 'mean', 'no_response': 'mean',\n",
    "                      'fast_rt': 'sum'})\n",
    "\n",
    "# Iterate through modalities\n",
    "for col, mod in zip(['b', 'g'], ['eeg', 'fmri']):\n",
    "    print(mod)\n",
    "    \n",
    "    exclusions[mod] =[] \n",
    "    \n",
    "    # Subset our summary dataframes by modality\n",
    "    trial_mod_df = trial_count_df[trial_count_df.modality == mod]\n",
    "    agg_mod_df = agg_df[agg_df.modality == mod]\n",
    "    \n",
    "    # Calculate exclusion threshold\n",
    "    threshold = trial_mod_df['error'].median() - \\\n",
    "                3 * trial_mod_df['error'].mad()\n",
    "    print('Threshold: %d trials' % threshold)\n",
    "    \n",
    "    # Plot distribution of trials counts with threshold cutoff\n",
    "    sns.distplot(trial_mod_df['error'], norm_hist=False, kde=False, \n",
    "                 color=col)\n",
    "    plt.axvline(threshold, color=col, label='__no_legend')\n",
    "    \n",
    "    # Extract subject indices of excluded subjects by threshold\n",
    "    sub_ix = np.where(trial_mod_df['error'] < threshold)[0]\n",
    "    \n",
    "    print('Rejected Subjects:')\n",
    "        \n",
    "    # show exclusion information\n",
    "    sub = agg_mod_df.iloc[sub_ix, :]\n",
    "    print(sub)\n",
    "        \n",
    "    # update our exclusions dictionary\n",
    "    exclusions[mod] += list(sub.participant_id)\n",
    "        \n",
    "        \n",
    "# Pretty plot and show\n",
    "plt.xlabel('Number of Trials')\n",
    "plt.ylabel('Number of Participants')\n",
    "plt.legend(['eeg', 'fmri'])\n",
    "sns.despine()\n",
    "plt.show()            "
   ]
  },
  {
   "cell_type": "markdown",
   "metadata": {
    "collapsed": true
   },
   "source": [
    "We've selected out the very worst offenders in the EEG. We've also picked out two bad subjects in the fmri who lost over a quarter of trials when taking fast responses, no_responses, and errors together. We write these exclusions out to file below."
   ]
  },
  {
   "cell_type": "code",
   "execution_count": 4,
   "metadata": {
    "ExecuteTime": {
     "end_time": "2017-11-03T18:36:03.036617Z",
     "start_time": "2017-11-03T18:36:03.013322Z"
    },
    "collapsed": true
   },
   "outputs": [],
   "source": [
    "denote_exclusions(exclusions['fmri'], 'behavior_fmri')\n",
    "denote_exclusions(exclusions['eeg'], 'behavior_eeg')"
   ]
  },
  {
   "cell_type": "markdown",
   "metadata": {},
   "source": [
    "# EEG Preprocessing"
   ]
  },
  {
   "cell_type": "markdown",
   "metadata": {},
   "source": [
    "## Initialization \n",
    "\n",
    "EEG isn't standardly supported by the BIDS specification yet. However, we still try to stay reasonably close to the derivatives philosophy currently under development. Thus the preprocessing section (which culminates in cleaned epochs) is stored as an eeg_preprocessing BIDS-derivatives compatible pipeline in the data/derivatives/eeg_preprocessing folder."
   ]
  },
  {
   "cell_type": "code",
   "execution_count": 1,
   "metadata": {
    "ExecuteTime": {
     "end_time": "2017-10-31T22:43:03.082984Z",
     "start_time": "2017-10-31T22:43:01.097285Z"
    }
   },
   "outputs": [
    {
     "name": "stderr",
     "output_type": "stream",
     "text": [
      "/autofs/space/cassia_001/users/matt/software/anaconda2.7/lib/python2.7/site-packages/sklearn/cross_validation.py:44: DeprecationWarning: This module was deprecated in version 0.18 in favor of the model_selection module into which all the refactored classes and functions are moved. Also note that the interface of the new CV iterators are different from that of this module. This module will be removed in 0.20.\n",
      "  \"This module will be removed in 0.20.\", DeprecationWarning)\n"
     ]
    },
    {
     "name": "stdout",
     "output_type": "stream",
     "text": [
      "Using matplotlib backend: Qt4Agg\n"
     ]
    }
   ],
   "source": [
    "%reset -f\n",
    "from grabbit import Layout\n",
    "import json\n",
    "import pickle\n",
    "import pandas as pd\n",
    "import numpy as np\n",
    "from mne.io import Raw\n",
    "from mne.preprocessing import read_ica\n",
    "from mne import Epochs, set_log_level, find_events, read_epochs\n",
    "from autoreject import LocalAutoRejectCV, compute_thresholds\n",
    "from functools import partial\n",
    "import matplotlib.pyplot as plt\n",
    "import seaborn as sns\n",
    "\n",
    "from msit import verify_events, epoch_baseline_correct, CH_NAMES\n",
    "from msit import handle_event_exceptions, visually_verify_epochs\n",
    "from msit import plot_autoreject_summary, plot_evoked_butterfly\n",
    "from msit import select_subjects, extract_bad_ch_group_info\n",
    "from msit import plot_bad_chs_group_summary, extract_bad_epochs_group_info\n",
    "from msit import denote_exclusions\n",
    "\n",
    "%matplotlib\n",
    "set_log_level('critical')\n",
    "\n",
    "# load eeg configurations\n",
    "with open('../config.json') as f:    \n",
    "    config = json.load(f)\n",
    "\n",
    "# make_eeg_prep_derivatives_folder('../data')\n",
    "layout = Layout('../data', '../data/grabbit_config.json')\n",
    "pipeline_root = '../data/derivatives/eeg_preprocessing'"
   ]
  },
  {
   "cell_type": "markdown",
   "metadata": {},
   "source": [
    "## Mark Bad Channels\n"
   ]
  },
  {
   "cell_type": "code",
   "execution_count": 1,
   "metadata": {
    "ExecuteTime": {
     "end_time": "2017-09-04T16:54:11.219502Z",
     "start_time": "2017-09-04T16:50:48.855174Z"
    }
   },
   "outputs": [
    {
     "name": "stdout",
     "output_type": "stream",
     "text": [
      "Using matplotlib backend: Qt4Agg\n"
     ]
    }
   ],
   "source": [
    "# extract participant raw filenames\n",
    "raw_files = layout.get(subject='sub-.*', modality='eeg', \n",
    "                       extensions='.fif')\n",
    "\n",
    "# iterate through participant raw data\n",
    "for f in raw_files:\n",
    "    manually_mark_bad_channels(f)"
   ]
  },
  {
   "cell_type": "markdown",
   "metadata": {},
   "source": [
    "## ICA"
   ]
  },
  {
   "cell_type": "markdown",
   "metadata": {},
   "source": [
    "### Fit ICA & Auto-Mark EOG & ECG Components"
   ]
  },
  {
   "cell_type": "code",
   "execution_count": null,
   "metadata": {
    "collapsed": true
   },
   "outputs": [],
   "source": [
    "from mne.preprocessing import ICA, create_eog_epochs, create_ecg_epochs\n",
    "from mne import set_log_level\n",
    "from mne.io import Raw\n",
    "from grabbit import Layout\n",
    "import numpy as np\n",
    "import matplotlib.pyplot as plt\n",
    "\n",
    "set_log_level('critical')\n",
    "\n",
    "pipeline_root = '../data/derivatives/eeg_preprocessing'\n",
    "\n",
    "# extract participant raw filenames\n",
    "layout = Layout('../data', './grabbit_config.json')\n",
    "raw_files = layout.get(subject='sub-.*', modality='eeg', \n",
    "                       extensions='_raw.fif')\n",
    "\n",
    "# iterate through participant \n",
    "for f in raw_files:\n",
    "    \n",
    "    print(f.subject)\n",
    "    \n",
    "    # load in raw with existing bad channels\n",
    "    raw = Raw(f.filename, verbose=False, preload=True)\n",
    "    bad_ch_f = layout.get(subject=f.subject, modality='eeg', \n",
    "                          derivative='bad_chs')[0].filename\n",
    "    raw.load_bad_channels(bad_ch_f)\n",
    "    \n",
    "    # highpass filter the raw to assist with ICA fitting\n",
    "    raw.filter(l_freq=1, h_freq=None)\n",
    "    \n",
    "    # extract the number of channels to be fit for ICA\n",
    "    n_components = raw.estimate_rank()\n",
    "    \n",
    "    # fit the ica solution\n",
    "    ica = ICA(n_components=n_components, random_state=50)\n",
    "    ica.fit(raw, verbose=False)\n",
    "    \n",
    "    # save out plots of components\n",
    "    fig = ica.plot_components(picks=np.arange(n_components), show=False)\n",
    "    fig.savefig('%s/%s/ica/%s-components.png' % (pipeline_root, f.subject, \n",
    "                                                 f.subject))\n",
    "    \n",
    "    # iterate through eog and ecg channels\n",
    "    for ch in ['VEOG', 'HEOG', 'ECG']:\n",
    "        \n",
    "        # find the correlation scores between components\n",
    "        if 'EOG' in ch:\n",
    "            epochs = create_eog_epochs(raw, ch_name=ch)\n",
    "            ix, scores = ica.find_bads_eog(epochs, ch_name=ch)\n",
    "        else:\n",
    "            epochs = create_ecg_epochs(raw, tmin=-.5, tmax=.5)\n",
    "            ix, scores = ica.find_bads_ecg(epochs)\n",
    "            \n",
    "        # update the ica with the bad components\n",
    "        ica.labels_[ch] = ix\n",
    "        ica.exclude += ix\n",
    "        \n",
    "        # save correlation scores plot\n",
    "        fig = ica.plot_scores(scores, exclude=ix, show=False)\n",
    "        fig.savefig('%s/%s/ica/%s_%s-scores.png' % (pipeline_root,\n",
    "                                                    f.subject, f.subject,\n",
    "                                                    ch))\n",
    "        \n",
    "    # clean up labels and save ica solution out    \n",
    "    ica.labels_ = {ch: ica.labels_[ch] for ch in ['VEOG', 'HEOG', 'ECG']}    \n",
    "    ica.save('%s/%s/ica/%s-ica.fif' % (pipeline_root, f.subject, f.subject))\n",
    "    plt.close('all')\n",
    "    \n",
    "print('Done!')"
   ]
  },
  {
   "cell_type": "markdown",
   "metadata": {},
   "source": [
    "### Verify ICA Artifact Components"
   ]
  },
  {
   "cell_type": "code",
   "execution_count": null,
   "metadata": {
    "collapsed": true
   },
   "outputs": [],
   "source": [
    "from mne.preprocessing import read_ica\n",
    "from mne import set_log_level\n",
    "from mne.io import Raw\n",
    "from grabbit import Layout\n",
    "import numpy as np\n",
    "import pylab as plt\n",
    "from eeg_utilities import *\n",
    "\n",
    "%matplotlib\n",
    "\n",
    "set_log_level('critical')\n",
    "\n",
    "pipeline_root = '../data/derivatives/eeg_preprocessing'\n",
    "\n",
    "# extract participant raw filenames\n",
    "layout = Layout('../data', './grabbit_config.json')\n",
    "ica_files = layout.get(subject='sub-pp0[0-4][0-9]', modality='eeg', derivative='ica',\n",
    "                       extensions='-ica.fif')\n",
    "raw_files = layout.get(subject='sub-pp0[0-4][0-9]', modality='eeg',\n",
    "                       extensions='_raw.fif')\n",
    "\n",
    "# iterate through participants\n",
    "for raw_f, ica_f in zip(raw_files, ica_files):\n",
    "    \n",
    "    print(raw_f.subject)\n",
    "    ica = read_ica(ica_f.filename)\n",
    "    raw = Raw(raw_f.filename, preload=True, verbose=False)\n",
    "    bad_ch_f = layout.get(subject=raw_f.subject, modality='eeg', \n",
    "                          derivative='bad_chs')[0].filename\n",
    "    raw.load_bad_channels(bad_ch_f)\n",
    "    raw.filter(l_freq=1, h_freq=None)\n",
    "    \n",
    "    # repeatedly visualize and adjust excluded components until happy\n",
    "    ok = 'n'\n",
    "    while ok != 'y':\n",
    "    \n",
    "        # plot summary of corrections epoched to artifact events\n",
    "        # we use these plots to determine how effective our ica is\n",
    "        # at correcting the artifacts\n",
    "        plot_epoched_ica_artifact_info(raw, ica, raw_f.subject, \n",
    "                                       pipeline_root)\n",
    "        \n",
    "        # plot component time courses for interactive updating of exclusions\n",
    "        ica.plot_sources(raw, block=True, title=raw_f.subject)\n",
    "        \n",
    "        # plot summary of corrections epoched to artifact events\n",
    "        # we use these plots to determine how effective our ica is\n",
    "        # at correcting the artifacts\n",
    "        plot_epoched_ica_artifact_info(raw, ica, raw_f.subject, \n",
    "                                       pipeline_root)\n",
    "        plt.close('all')\n",
    "        ok = raw_input('OK to move on? (enter y or n):')\n",
    "        \n",
    "    ica.save('%s/%s/ica/%s-ica.fif' % (pipeline_root, raw_f.subject, \n",
    "                                       raw_f.subject))\n",
    "print('Done!')"
   ]
  },
  {
   "cell_type": "markdown",
   "metadata": {},
   "source": [
    "## Generate  & Clean Epochs"
   ]
  },
  {
   "cell_type": "markdown",
   "metadata": {},
   "source": [
    "### Bandpass Filter & Make Epochs"
   ]
  },
  {
   "cell_type": "code",
   "execution_count": 2,
   "metadata": {
    "ExecuteTime": {
     "end_time": "2017-10-19T14:40:16.586238Z",
     "start_time": "2017-10-19T14:20:19.911232Z"
    },
    "scrolled": true
   },
   "outputs": [
    {
     "name": "stdout",
     "output_type": "stream",
     "text": [
      "sub-hc001\n",
      "<Epochs  |  n_events : 181 (all good), tmin : -1.0 (s), tmax : 2.25 (s), baseline : None, ~382.2 MB, data loaded>\n",
      "<Epochs  |  n_events : 181 (all good), tmin : -1.5 (s), tmax : 1.5 (s), baseline : None, ~353.2 MB, data loaded>\n",
      "sub-hc002\n",
      "<Epochs  |  n_events : 190 (all good), tmin : -1.0 (s), tmax : 2.25 (s), baseline : None, ~401.0 MB, data loaded>\n",
      "<Epochs  |  n_events : 190 (all good), tmin : -1.5 (s), tmax : 1.5 (s), baseline : None, ~370.5 MB, data loaded>\n",
      "sub-hc003\n",
      "<Epochs  |  n_events : 191 (all good), tmin : -1.0 (s), tmax : 2.25 (s), baseline : None, ~403.1 MB, data loaded>\n",
      "<Epochs  |  n_events : 191 (all good), tmin : -1.5 (s), tmax : 1.5 (s), baseline : None, ~372.5 MB, data loaded>\n",
      "sub-hc004\n",
      "<Epochs  |  n_events : 192 (all good), tmin : -1.0 (s), tmax : 2.25 (s), baseline : None, ~405.2 MB, data loaded>\n",
      "<Epochs  |  n_events : 192 (all good), tmin : -1.5 (s), tmax : 1.5 (s), baseline : None, ~374.4 MB, data loaded>\n",
      "sub-hc005\n",
      "<Epochs  |  n_events : 192 (all good), tmin : -1.0 (s), tmax : 2.25 (s), baseline : None, ~405.2 MB, data loaded>\n",
      "<Epochs  |  n_events : 192 (all good), tmin : -1.5 (s), tmax : 1.5 (s), baseline : None, ~374.4 MB, data loaded>\n",
      "sub-hc006\n",
      "<Epochs  |  n_events : 190 (all good), tmin : -1.0 (s), tmax : 2.25 (s), baseline : None, ~401.0 MB, data loaded>\n",
      "<Epochs  |  n_events : 190 (all good), tmin : -1.5 (s), tmax : 1.5 (s), baseline : None, ~370.5 MB, data loaded>\n",
      "sub-hc007\n",
      "<Epochs  |  n_events : 192 (all good), tmin : -1.0 (s), tmax : 2.25 (s), baseline : None, ~405.1 MB, data loaded>\n",
      "<Epochs  |  n_events : 192 (all good), tmin : -1.5 (s), tmax : 1.5 (s), baseline : None, ~374.4 MB, data loaded>\n",
      "sub-hc008\n",
      "<Epochs  |  n_events : 189 (all good), tmin : -1.0 (s), tmax : 2.25 (s), baseline : None, ~398.9 MB, data loaded>\n",
      "<Epochs  |  n_events : 189 (all good), tmin : -1.5 (s), tmax : 1.5 (s), baseline : None, ~368.6 MB, data loaded>\n",
      "sub-hc009\n",
      "<Epochs  |  n_events : 188 (all good), tmin : -1.0 (s), tmax : 2.25 (s), baseline : None, ~396.8 MB, data loaded>\n",
      "<Epochs  |  n_events : 188 (all good), tmin : -1.5 (s), tmax : 1.5 (s), baseline : None, ~366.7 MB, data loaded>\n",
      "sub-hc010\n",
      "<Epochs  |  n_events : 189 (all good), tmin : -1.0 (s), tmax : 2.25 (s), baseline : None, ~398.9 MB, data loaded>\n",
      "<Epochs  |  n_events : 189 (all good), tmin : -1.5 (s), tmax : 1.5 (s), baseline : None, ~368.6 MB, data loaded>\n",
      "sub-hc011\n",
      "<Epochs  |  n_events : 191 (all good), tmin : -1.0 (s), tmax : 2.25 (s), baseline : None, ~403.1 MB, data loaded>\n",
      "<Epochs  |  n_events : 191 (all good), tmin : -1.5 (s), tmax : 1.5 (s), baseline : None, ~372.5 MB, data loaded>\n",
      "sub-hc012\n",
      "<Epochs  |  n_events : 192 (all good), tmin : -1.0 (s), tmax : 2.25 (s), baseline : None, ~405.1 MB, data loaded>\n",
      "<Epochs  |  n_events : 192 (all good), tmin : -1.5 (s), tmax : 1.5 (s), baseline : None, ~374.4 MB, data loaded>\n",
      "sub-hc013\n",
      "<Epochs  |  n_events : 127 (all good), tmin : -1.0 (s), tmax : 2.25 (s), baseline : None, ~269.7 MB, data loaded>\n",
      "<Epochs  |  n_events : 127 (all good), tmin : -1.5 (s), tmax : 1.5 (s), baseline : None, ~249.4 MB, data loaded>\n",
      "sub-hc014\n",
      "<Epochs  |  n_events : 191 (all good), tmin : -1.0 (s), tmax : 2.25 (s), baseline : None, ~403.1 MB, data loaded>\n",
      "<Epochs  |  n_events : 191 (all good), tmin : -1.5 (s), tmax : 1.5 (s), baseline : None, ~372.5 MB, data loaded>\n",
      "sub-hc015\n",
      "<Epochs  |  n_events : 192 (all good), tmin : -1.0 (s), tmax : 2.25 (s), baseline : None, ~405.1 MB, data loaded>\n",
      "<Epochs  |  n_events : 192 (all good), tmin : -1.5 (s), tmax : 1.5 (s), baseline : None, ~374.4 MB, data loaded>\n",
      "sub-hc016\n",
      "<Epochs  |  n_events : 192 (all good), tmin : -1.0 (s), tmax : 2.25 (s), baseline : None, ~405.1 MB, data loaded>\n",
      "<Epochs  |  n_events : 192 (all good), tmin : -1.5 (s), tmax : 1.5 (s), baseline : None, ~374.4 MB, data loaded>\n",
      "sub-hc017\n",
      "<Epochs  |  n_events : 190 (all good), tmin : -1.0 (s), tmax : 2.25 (s), baseline : None, ~401.0 MB, data loaded>\n",
      "<Epochs  |  n_events : 190 (all good), tmin : -1.5 (s), tmax : 1.5 (s), baseline : None, ~370.6 MB, data loaded>\n",
      "sub-hc018\n",
      "<Epochs  |  n_events : 172 (all good), tmin : -1.0 (s), tmax : 2.25 (s), baseline : None, ~363.5 MB, data loaded>\n",
      "<Epochs  |  n_events : 172 (all good), tmin : -1.5 (s), tmax : 1.5 (s), baseline : None, ~335.9 MB, data loaded>\n",
      "sub-hc019\n",
      "<Epochs  |  n_events : 186 (all good), tmin : -1.0 (s), tmax : 2.25 (s), baseline : None, ~392.7 MB, data loaded>\n",
      "<Epochs  |  n_events : 186 (all good), tmin : -1.5 (s), tmax : 1.5 (s), baseline : None, ~362.9 MB, data loaded>\n",
      "sub-hc020\n",
      "<Epochs  |  n_events : 183 (all good), tmin : -1.0 (s), tmax : 2.25 (s), baseline : None, ~386.5 MB, data loaded>\n",
      "<Epochs  |  n_events : 183 (all good), tmin : -1.5 (s), tmax : 1.5 (s), baseline : None, ~357.2 MB, data loaded>\n",
      "sub-hc021\n",
      "<Epochs  |  n_events : 190 (all good), tmin : -1.0 (s), tmax : 2.25 (s), baseline : None, ~401.1 MB, data loaded>\n",
      "<Epochs  |  n_events : 190 (all good), tmin : -1.5 (s), tmax : 1.5 (s), baseline : None, ~370.6 MB, data loaded>\n",
      "sub-hc022\n",
      "<Epochs  |  n_events : 192 (all good), tmin : -1.0 (s), tmax : 2.25 (s), baseline : None, ~405.2 MB, data loaded>\n",
      "<Epochs  |  n_events : 192 (all good), tmin : -1.5 (s), tmax : 1.5 (s), baseline : None, ~374.5 MB, data loaded>\n",
      "sub-hc023\n",
      "<Epochs  |  n_events : 191 (all good), tmin : -1.0 (s), tmax : 2.25 (s), baseline : None, ~403.2 MB, data loaded>\n",
      "<Epochs  |  n_events : 191 (all good), tmin : -1.5 (s), tmax : 1.5 (s), baseline : None, ~372.6 MB, data loaded>\n",
      "sub-hc024\n",
      "<Epochs  |  n_events : 192 (all good), tmin : -1.0 (s), tmax : 2.25 (s), baseline : None, ~405.4 MB, data loaded>\n",
      "<Epochs  |  n_events : 192 (all good), tmin : -1.5 (s), tmax : 1.5 (s), baseline : None, ~374.7 MB, data loaded>\n",
      "sub-hc025\n",
      "<Epochs  |  n_events : 192 (all good), tmin : -1.0 (s), tmax : 2.25 (s), baseline : None, ~405.3 MB, data loaded>\n",
      "<Epochs  |  n_events : 192 (all good), tmin : -1.5 (s), tmax : 1.5 (s), baseline : None, ~374.5 MB, data loaded>\n",
      "sub-hc026\n",
      "<Epochs  |  n_events : 191 (all good), tmin : -1.0 (s), tmax : 2.25 (s), baseline : None, ~403.1 MB, data loaded>\n",
      "<Epochs  |  n_events : 191 (all good), tmin : -1.5 (s), tmax : 1.5 (s), baseline : None, ~372.5 MB, data loaded>\n",
      "sub-hc027\n",
      "<Epochs  |  n_events : 127 (all good), tmin : -1.0 (s), tmax : 2.25 (s), baseline : None, ~269.8 MB, data loaded>\n",
      "<Epochs  |  n_events : 127 (all good), tmin : -1.5 (s), tmax : 1.5 (s), baseline : None, ~249.4 MB, data loaded>\n",
      "sub-hc028\n",
      "<Epochs  |  n_events : 191 (all good), tmin : -1.0 (s), tmax : 2.25 (s), baseline : None, ~403.1 MB, data loaded>\n",
      "<Epochs  |  n_events : 191 (all good), tmin : -1.5 (s), tmax : 1.5 (s), baseline : None, ~372.5 MB, data loaded>\n",
      "sub-hc029\n",
      "<Epochs  |  n_events : 191 (all good), tmin : -1.0 (s), tmax : 2.25 (s), baseline : None, ~403.1 MB, data loaded>\n",
      "<Epochs  |  n_events : 191 (all good), tmin : -1.5 (s), tmax : 1.5 (s), baseline : None, ~372.5 MB, data loaded>\n",
      "sub-hc030\n",
      "<Epochs  |  n_events : 192 (all good), tmin : -1.0 (s), tmax : 2.25 (s), baseline : None, ~405.2 MB, data loaded>\n",
      "<Epochs  |  n_events : 192 (all good), tmin : -1.5 (s), tmax : 1.5 (s), baseline : None, ~374.4 MB, data loaded>\n",
      "sub-hc031\n",
      "<Epochs  |  n_events : 185 (all good), tmin : -1.0 (s), tmax : 2.25 (s), baseline : None, ~390.6 MB, data loaded>\n",
      "<Epochs  |  n_events : 185 (all good), tmin : -1.5 (s), tmax : 1.5 (s), baseline : None, ~361.0 MB, data loaded>\n",
      "sub-hc032\n",
      "<Epochs  |  n_events : 192 (all good), tmin : -1.0 (s), tmax : 2.25 (s), baseline : None, ~405.2 MB, data loaded>\n",
      "<Epochs  |  n_events : 192 (all good), tmin : -1.5 (s), tmax : 1.5 (s), baseline : None, ~374.4 MB, data loaded>\n",
      "sub-hc033\n",
      "<Epochs  |  n_events : 192 (all good), tmin : -1.0 (s), tmax : 2.25 (s), baseline : None, ~405.2 MB, data loaded>\n",
      "<Epochs  |  n_events : 192 (all good), tmin : -1.5 (s), tmax : 1.5 (s), baseline : None, ~374.4 MB, data loaded>\n",
      "sub-hc034\n",
      "<Epochs  |  n_events : 192 (all good), tmin : -1.0 (s), tmax : 2.25 (s), baseline : None, ~405.2 MB, data loaded>\n",
      "<Epochs  |  n_events : 192 (all good), tmin : -1.5 (s), tmax : 1.5 (s), baseline : None, ~374.4 MB, data loaded>\n",
      "sub-hc035\n",
      "<Epochs  |  n_events : 189 (all good), tmin : -1.0 (s), tmax : 2.25 (s), baseline : None, ~399.0 MB, data loaded>\n",
      "<Epochs  |  n_events : 189 (all good), tmin : -1.5 (s), tmax : 1.5 (s), baseline : None, ~368.7 MB, data loaded>\n"
     ]
    },
    {
     "name": "stdout",
     "output_type": "stream",
     "text": [
      "sub-hc036\n",
      "<Epochs  |  n_events : 191 (all good), tmin : -1.0 (s), tmax : 2.25 (s), baseline : None, ~403.1 MB, data loaded>\n",
      "<Epochs  |  n_events : 191 (all good), tmin : -1.5 (s), tmax : 1.5 (s), baseline : None, ~372.5 MB, data loaded>\n",
      "sub-hc037\n",
      "<Epochs  |  n_events : 191 (all good), tmin : -1.0 (s), tmax : 2.25 (s), baseline : None, ~403.1 MB, data loaded>\n",
      "<Epochs  |  n_events : 191 (all good), tmin : -1.5 (s), tmax : 1.5 (s), baseline : None, ~372.5 MB, data loaded>\n",
      "sub-hc042\n",
      "<Epochs  |  n_events : 186 (all good), tmin : -1.0 (s), tmax : 2.25 (s), baseline : None, ~392.7 MB, data loaded>\n",
      "<Epochs  |  n_events : 186 (all good), tmin : -1.5 (s), tmax : 1.5 (s), baseline : None, ~362.9 MB, data loaded>\n",
      "sub-hc044\n",
      "<Epochs  |  n_events : 160 (all good), tmin : -1.0 (s), tmax : 2.25 (s), baseline : None, ~338.5 MB, data loaded>\n",
      "<Epochs  |  n_events : 160 (all good), tmin : -1.5 (s), tmax : 1.5 (s), baseline : None, ~312.9 MB, data loaded>\n",
      "sub-hc045\n",
      "<Epochs  |  n_events : 166 (all good), tmin : -1.0 (s), tmax : 2.25 (s), baseline : None, ~351.0 MB, data loaded>\n",
      "<Epochs  |  n_events : 166 (all good), tmin : -1.5 (s), tmax : 1.5 (s), baseline : None, ~324.4 MB, data loaded>\n",
      "sub-pp001\n",
      "<Epochs  |  n_events : 185 (all good), tmin : -1.0 (s), tmax : 2.25 (s), baseline : None, ~390.6 MB, data loaded>\n",
      "<Epochs  |  n_events : 185 (all good), tmin : -1.5 (s), tmax : 1.5 (s), baseline : None, ~360.9 MB, data loaded>\n",
      "sub-pp002\n",
      "<Epochs  |  n_events : 191 (all good), tmin : -1.0 (s), tmax : 2.25 (s), baseline : None, ~403.1 MB, data loaded>\n",
      "<Epochs  |  n_events : 191 (all good), tmin : -1.5 (s), tmax : 1.5 (s), baseline : None, ~372.5 MB, data loaded>\n",
      "sub-pp003\n",
      "<Epochs  |  n_events : 192 (all good), tmin : -1.0 (s), tmax : 2.25 (s), baseline : None, ~405.1 MB, data loaded>\n",
      "<Epochs  |  n_events : 192 (all good), tmin : -1.5 (s), tmax : 1.5 (s), baseline : None, ~374.4 MB, data loaded>\n",
      "sub-pp004\n",
      "<Epochs  |  n_events : 191 (all good), tmin : -1.0 (s), tmax : 2.25 (s), baseline : None, ~403.1 MB, data loaded>\n",
      "<Epochs  |  n_events : 191 (all good), tmin : -1.5 (s), tmax : 1.5 (s), baseline : None, ~372.5 MB, data loaded>\n",
      "sub-pp005\n",
      "<Epochs  |  n_events : 191 (all good), tmin : -1.0 (s), tmax : 2.25 (s), baseline : None, ~403.1 MB, data loaded>\n",
      "<Epochs  |  n_events : 191 (all good), tmin : -1.5 (s), tmax : 1.5 (s), baseline : None, ~372.5 MB, data loaded>\n",
      "sub-pp006\n",
      "<Epochs  |  n_events : 187 (all good), tmin : -1.0 (s), tmax : 2.25 (s), baseline : None, ~394.8 MB, data loaded>\n",
      "<Epochs  |  n_events : 187 (all good), tmin : -1.5 (s), tmax : 1.5 (s), baseline : None, ~364.9 MB, data loaded>\n",
      "sub-pp007\n",
      "<Epochs  |  n_events : 191 (all good), tmin : -1.0 (s), tmax : 2.25 (s), baseline : None, ~403.2 MB, data loaded>\n",
      "<Epochs  |  n_events : 191 (all good), tmin : -1.5 (s), tmax : 1.5 (s), baseline : None, ~372.6 MB, data loaded>\n",
      "sub-pp008\n",
      "<Epochs  |  n_events : 192 (all good), tmin : -1.0 (s), tmax : 2.25 (s), baseline : None, ~405.3 MB, data loaded>\n",
      "<Epochs  |  n_events : 192 (all good), tmin : -1.5 (s), tmax : 1.5 (s), baseline : None, ~374.6 MB, data loaded>\n",
      "sub-pp009\n",
      "<Epochs  |  n_events : 191 (all good), tmin : -1.0 (s), tmax : 2.25 (s), baseline : None, ~403.2 MB, data loaded>\n",
      "<Epochs  |  n_events : 191 (all good), tmin : -1.5 (s), tmax : 1.5 (s), baseline : None, ~372.6 MB, data loaded>\n",
      "sub-pp010\n",
      "<Epochs  |  n_events : 191 (all good), tmin : -1.0 (s), tmax : 2.25 (s), baseline : None, ~403.3 MB, data loaded>\n",
      "<Epochs  |  n_events : 191 (all good), tmin : -1.5 (s), tmax : 1.5 (s), baseline : None, ~372.7 MB, data loaded>\n",
      "sub-pp011\n",
      "<Epochs  |  n_events : 190 (all good), tmin : -1.0 (s), tmax : 2.25 (s), baseline : None, ~401.0 MB, data loaded>\n",
      "<Epochs  |  n_events : 190 (all good), tmin : -1.5 (s), tmax : 1.5 (s), baseline : None, ~370.6 MB, data loaded>\n",
      "sub-pp012\n",
      "Mismatching EEG & Behavior stimulus Events: 191 EEG Events, 192 Behavior Events\n",
      "<Epochs  |  n_events : 191 (all good), tmin : -1.0 (s), tmax : 2.25 (s), baseline : None, ~403.1 MB, data loaded>\n",
      "<Epochs  |  n_events : 191 (all good), tmin : -1.5 (s), tmax : 1.5 (s), baseline : None, ~372.5 MB, data loaded>\n",
      "sub-pp013\n",
      "<Epochs  |  n_events : 186 (all good), tmin : -1.0 (s), tmax : 2.25 (s), baseline : None, ~392.7 MB, data loaded>\n",
      "<Epochs  |  n_events : 186 (all good), tmin : -1.5 (s), tmax : 1.5 (s), baseline : None, ~362.9 MB, data loaded>\n",
      "sub-pp014\n",
      "<Epochs  |  n_events : 190 (all good), tmin : -1.0 (s), tmax : 2.25 (s), baseline : None, ~401.0 MB, data loaded>\n",
      "<Epochs  |  n_events : 190 (all good), tmin : -1.5 (s), tmax : 1.5 (s), baseline : None, ~370.6 MB, data loaded>\n",
      "sub-pp015\n",
      "<Epochs  |  n_events : 190 (all good), tmin : -1.0 (s), tmax : 2.25 (s), baseline : None, ~401.0 MB, data loaded>\n",
      "<Epochs  |  n_events : 190 (all good), tmin : -1.5 (s), tmax : 1.5 (s), baseline : None, ~370.6 MB, data loaded>\n",
      "sub-pp016\n",
      "<Epochs  |  n_events : 192 (all good), tmin : -1.0 (s), tmax : 2.25 (s), baseline : None, ~405.2 MB, data loaded>\n",
      "<Epochs  |  n_events : 192 (all good), tmin : -1.5 (s), tmax : 1.5 (s), baseline : None, ~374.4 MB, data loaded>\n",
      "Done!\n"
     ]
    }
   ],
   "source": [
    "# extract participant raw, ica, and behavior filenames\n",
    "layout = Layout('../data', '../data/grabbit_config.json')\n",
    "ica_files = layout.get(subject='sub-.*', derivative='eeg_preprocessing', \n",
    "                       extensions='-ica.fif')\n",
    "raw_files = layout.get(subject='sub-.*', modality='eeg', \n",
    "                       extensions='_raw.fif')\n",
    "behavior_files = layout.get(subject='sub-.*', modality='eeg',\n",
    "                            extensions='events.tsv')\n",
    "\n",
    "# iterate through participants\n",
    "for raw_f, ica_f, b_f in zip(raw_files, ica_files, behavior_files):\n",
    "    \n",
    "    print(raw_f.subject)\n",
    "        \n",
    "    # load in data files\n",
    "    ica = read_ica(ica_f.filename)\n",
    "    raw = Raw(raw_f.filename, preload=True, verbose=False)\n",
    "    behavior = pd.read_csv(b_f.filename, sep='\\t', na_values='n/a')\n",
    "    \n",
    "    # process subject behavior\n",
    "    behavior = behavior[behavior.trial_type != 'fixation']\n",
    "    no_response_ix = np.where(behavior.response_time.isnull())[0]\n",
    "    \n",
    "    # mark bad channels\n",
    "    bad_ch_f = layout.get(subject=raw_f.subject, \n",
    "                          derivative ='eeg_preprocessing', \n",
    "                          extensions='bad_chs.txt')[0].filename\n",
    "    raw.load_bad_channels(bad_ch_f)\n",
    "    \n",
    "    # remove ICA artifacts\n",
    "    raw = ica.apply(raw, exclude=ica.exclude)\n",
    "    \n",
    "    # bandpass filter\n",
    "    raw.filter(l_freq=config['filter_high_pass'], \n",
    "               h_freq=config['filter_low_pass'])\n",
    "    \n",
    "    # iterate through epoch types\n",
    "    for epo_type, event_ch, time_bound in zip(config['epoch_types'],\n",
    "                                              config['event_channels'],\n",
    "                                              config['epoch_times']):\n",
    "    \n",
    "        # extract events \n",
    "        events = find_events(raw, stim_channel=event_ch, output=\"onset\", \n",
    "                             verbose=False)\n",
    "\n",
    "        # verify events\n",
    "        try:\n",
    "            verify_events(events, behavior, epo_type)\n",
    "        except ValueError as err:\n",
    "            print(err)\n",
    "            events, no_response_ix = handle_event_exceptions(raw_f.subject, \n",
    "                                                              epo_type, \n",
    "                                                              events,\n",
    "                                                              no_response_ix)\n",
    "        # make epochs\n",
    "        epochs = Epochs(raw, events, \n",
    "                        tmin=time_bound[0] - config['filter_buffer'], \n",
    "                        tmax=time_bound[1] + config['filter_buffer'], \n",
    "                        baseline=None, proj=False, detrend=1,\n",
    "                        preload=True, verbose=False, \n",
    "                        reject_by_annotation=False)\n",
    "        \n",
    "        # remove non-responses\n",
    "        if epo_type != 'response':\n",
    "            epochs.drop(no_response_ix)\n",
    "        \n",
    "        # baseline correct\n",
    "        # assumes that the epochs type containing the baseline is the \n",
    "        # first in the list\n",
    "        if epo_type == config['baseline_container']:\n",
    "            baseline = epochs.copy().crop(config['baseline_period'][0],\n",
    "                                          config['baseline_period'][1])\n",
    "        epochs = epoch_baseline_correct(epochs, baseline.get_data())\n",
    "        print(epochs)\n",
    "        \n",
    "        # save to file\n",
    "        f = '%s/%s/epochs/%s_%s_uncleaned-epo.fif'\n",
    "        epochs.save(f % (pipeline_root, raw_f.subject, raw_f.subject, \n",
    "                         epo_type))\n",
    "print('Done!')    "
   ]
  },
  {
   "cell_type": "markdown",
   "metadata": {},
   "source": [
    "### Autoreject"
   ]
  },
  {
   "cell_type": "code",
   "execution_count": 1,
   "metadata": {
    "ExecuteTime": {
     "end_time": "2017-10-21T00:51:02.651811Z",
     "start_time": "2017-10-20T17:24:39.346648Z"
    },
    "scrolled": true
   },
   "outputs": [
    {
     "name": "stderr",
     "output_type": "stream",
     "text": [
      "/autofs/space/cassia_001/users/matt/software/anaconda2.7/lib/python2.7/site-packages/sklearn/cross_validation.py:44: DeprecationWarning: This module was deprecated in version 0.18 in favor of the model_selection module into which all the refactored classes and functions are moved. Also note that the interface of the new CV iterators are different from that of this module. This module will be removed in 0.20.\n",
      "  \"This module will be removed in 0.20.\", DeprecationWarning)\n"
     ]
    },
    {
     "name": "stdout",
     "output_type": "stream",
     "text": [
      "Using matplotlib backend: Qt4Agg\n",
      "sub-hc033\n",
      "stimulus\n",
      "response\n",
      "0\n"
     ]
    },
    {
     "name": "stderr",
     "output_type": "stream",
     "text": [
      "/autofs/space/cassia_001/users/matt/software/anaconda2.7/lib/python2.7/site-packages/matplotlib/figure.py:1744: UserWarning: This figure includes Axes that are not compatible with tight_layout, so its results might be incorrect.\n",
      "  warnings.warn(\"This figure includes Axes that are not \"\n"
     ]
    },
    {
     "name": "stdout",
     "output_type": "stream",
     "text": [
      "1\n",
      "0\n",
      "1\n",
      "sub-hc034\n",
      "stimulus\n",
      "response\n",
      "0\n",
      "1\n",
      "0\n",
      "1\n",
      "sub-hc035\n",
      "stimulus\n",
      "response\n",
      "0\n",
      "1\n",
      "0\n",
      "1\n",
      "sub-hc036\n",
      "stimulus\n",
      "response\n"
     ]
    },
    {
     "name": "stderr",
     "output_type": "stream",
     "text": [
      "/autofs/space/cassia_001/users/matt/software/anaconda2.7/lib/python2.7/site-packages/autoreject-0.1.dev0-py2.7.egg/autoreject/autoreject.py:640: UserWarning: No bad epochs were found for your data. Returning a copy of the data you wanted to clean. Interpolation may have been done.\n"
     ]
    },
    {
     "name": "stdout",
     "output_type": "stream",
     "text": [
      "0\n",
      "1\n",
      "0\n",
      "1\n",
      "sub-hc037\n",
      "stimulus\n",
      "response\n",
      "0\n",
      "1\n",
      "0\n",
      "1\n",
      "sub-hc042\n",
      "stimulus\n",
      "response\n",
      "0\n",
      "1\n",
      "0\n",
      "1\n",
      "sub-hc044\n",
      "stimulus\n",
      "response\n",
      "0\n",
      "1\n",
      "0\n",
      "1\n",
      "sub-hc045\n",
      "stimulus\n",
      "response\n",
      "0\n",
      "1\n",
      "0\n",
      "1\n",
      "sub-pp001\n",
      "stimulus\n",
      "response\n",
      "0\n",
      "1\n",
      "0\n",
      "1\n",
      "sub-pp002\n",
      "stimulus\n",
      "response\n",
      "0\n",
      "1\n",
      "0\n",
      "1\n",
      "sub-pp003\n",
      "stimulus\n",
      "response\n",
      "0\n",
      "1\n",
      "0\n",
      "1\n",
      "sub-pp004\n",
      "stimulus\n",
      "response\n",
      "0\n",
      "1\n",
      "0\n",
      "1\n",
      "sub-pp005\n",
      "stimulus\n",
      "response\n",
      "0\n",
      "1\n",
      "0\n",
      "1\n",
      "sub-pp006\n",
      "stimulus\n",
      "response\n",
      "0\n",
      "1\n",
      "0\n",
      "1\n",
      "sub-pp007\n",
      "stimulus\n",
      "response\n",
      "0\n",
      "1\n",
      "0\n",
      "1\n",
      "sub-pp008\n",
      "stimulus\n",
      "response\n",
      "0\n",
      "1\n",
      "0\n",
      "1\n",
      "sub-pp009\n",
      "stimulus\n",
      "response\n",
      "0\n",
      "1\n",
      "0\n",
      "1\n",
      "sub-pp010\n",
      "stimulus\n",
      "response\n",
      "0\n",
      "1\n",
      "0\n",
      "1\n",
      "sub-pp011\n",
      "stimulus\n",
      "response\n",
      "0\n",
      "1\n",
      "0\n",
      "1\n",
      "sub-pp012\n",
      "stimulus\n",
      "response\n",
      "0\n",
      "1\n",
      "0\n",
      "1\n",
      "sub-pp013\n",
      "stimulus\n",
      "response\n",
      "0\n",
      "1\n",
      "0\n",
      "1\n",
      "sub-pp014\n",
      "stimulus\n",
      "response\n",
      "0\n",
      "1\n",
      "0\n",
      "1\n",
      "sub-pp015\n",
      "stimulus\n",
      "response\n",
      "0\n",
      "1\n",
      "0\n",
      "1\n",
      "sub-pp016\n",
      "stimulus\n",
      "response\n",
      "0\n",
      "1\n",
      "0\n",
      "1\n",
      "Done!\n"
     ]
    }
   ],
   "source": [
    "subjects = np.array(sorted(layout.get(target='subject', \n",
    "                                      modality='eeg',\n",
    "                                      return_type='id')))\n",
    "start_ix = np.where(subjects == 'sub-hc033')[0][0]\n",
    "end_ix = np.where(subjects == 'sub-pp001')[0]\n",
    "subjects = subjects[start_ix:]\n",
    "\n",
    "# parallelize and seed autoreject threshold function\n",
    "thresh_func = partial(compute_thresholds, random_state=42, n_jobs=5)\n",
    "\n",
    "# iterate through epoch types\n",
    "for sub in subjects:\n",
    "    \n",
    "    print(sub)\n",
    "    epochs = []\n",
    "    ar_epochs = []\n",
    "    \n",
    "    for epo_type, time_bound in zip(config['epoch_types'],\n",
    "                                    config['epoch_times']):\n",
    "        print(epo_type)\n",
    "    \n",
    "        # load uncleaned epochs\n",
    "        epoch_file = layout.get(subject=sub, \n",
    "                                derivative='eeg_preprocessing', \n",
    "                                extensions='%s_uncleaned-epo.fif' % epo_type)\n",
    "        epoch = read_epochs(epoch_file[0].filename, verbose=False)\n",
    "        \n",
    "        # fit autoreject\n",
    "        ar = LocalAutoRejectCV(consensus_percs=config['consensus_percs'],\n",
    "                               n_interpolates=config['n_interpolates'],\n",
    "                               thresh_func=thresh_func, verbose=False)\n",
    "        ar.fit(epoch)\n",
    "        \n",
    "        # save autoreject to file\n",
    "        pickle_file = '%s/%s/autoreject/%s_%s_ar.pkl' % (pipeline_root,\n",
    "                                                         sub, sub,\n",
    "                                                         epo_type)\n",
    "        with open(pickle_file, 'w') as output:\n",
    "            pickle.dump(ar, output, pickle.HIGHEST_PROTOCOL)\n",
    "            \n",
    "        # create and save autoreject diagnostic plot\n",
    "        plot_autoreject_summary(ar, sub, epo_type, pipeline_root,\n",
    "                                epoch.ch_names)\n",
    "        plt.close('all')\n",
    "        \n",
    "        epochs.append(epoch)\n",
    "        ar_epochs.append(ar.transform(epoch))\n",
    "        \n",
    "    # plot evoked data before and after autoreject\n",
    "    for period, epos in zip(['before', 'after'], [epochs, ar_epochs]):\n",
    "        fig = plot_evoked_butterfly(epos, config)\n",
    "        fig.suptitle('%s %s Autoreject' % (sub, period.capitalize()))\n",
    "        f = ('%s/%s/autoreject/%s_%s_autoreject_butterfly.png')\n",
    "        fig.savefig(f % (pipeline_root, sub, sub, period))\n",
    "        plt.close(fig)\n",
    "    plt.close('all')\n",
    "        \n",
    "print('Done!')"
   ]
  },
  {
   "cell_type": "markdown",
   "metadata": {},
   "source": [
    "### Update Bad Channels & Average Re-Reference\n",
    "\n",
    "Notes:\n",
    "- hc004: occipitals have a weird linear increasing baseline (even though linear detrended?)\n",
    "- hc008: funky oscillations - alpha? Just generally really noisy.\n",
    "- hc018: exclude- more than half of channels bad.\n",
    "- hc029: noisy with lots of bad channels\n",
    "- hc045: frontals not flat in baseline, maybe missing ica components?\n",
    "- pp001: just looks like noise\n",
    "- pp004: looks really bad, didn't even try to throw out channels\n",
    "- pp013: weird positive frontal and negative occipital linear trends\n",
    "\n"
   ]
  },
  {
   "cell_type": "code",
   "execution_count": null,
   "metadata": {
    "ExecuteTime": {
     "start_time": "2017-10-23T15:26:13.520Z"
    },
    "scrolled": true
   },
   "outputs": [
    {
     "name": "stdout",
     "output_type": "stream",
     "text": [
      "Using matplotlib backend: Qt4Agg\n",
      "sub-hc022\n"
     ]
    },
    {
     "name": "stderr",
     "output_type": "stream",
     "text": [
      "/autofs/space/cassia_001/users/matt/software/anaconda2.7/lib/python2.7/site-packages/sklearn/cross_validation.py:44: DeprecationWarning: This module was deprecated in version 0.18 in favor of the model_selection module into which all the refactored classes and functions are moved. Also note that the interface of the new CV iterators are different from that of this module. This module will be removed in 0.20.\n",
      "  \"This module will be removed in 0.20.\", DeprecationWarning)\n",
      "/autofs/space/cassia_001/users/matt/software/anaconda2.7/lib/python2.7/site-packages/matplotlib/figure.py:1744: UserWarning: This figure includes Axes that are not compatible with tight_layout, so its results might be incorrect.\n",
      "  warnings.warn(\"This figure includes Axes that are not \"\n"
     ]
    }
   ],
   "source": [
    "subjects = np.array(sorted(layout.get(target='subject', \n",
    "                                      modality='eeg',\n",
    "                                      return_type='id')))\n",
    "start_ix = np.where(subjects == 'sub-hc022')[0][0]\n",
    "end_ix = np.where(subjects == 'sub-hc024')[0][0]\n",
    "subjects = subjects[start_ix:end_ix + 1]\n",
    "    \n",
    "# iterate through participants\n",
    "for sub in subjects:\n",
    "    \n",
    "    print(sub)\n",
    "    \n",
    "    # load and autoreject transform epochs\n",
    "    epoch_files = layout.get(subject=sub,\n",
    "                         derivative='eeg_preprocessing',\n",
    "                         extensions='uncleaned-epo.fif')\n",
    "    ar_files = layout.get(subject=sub,\n",
    "                          derivative='eeg_preprocessing',\n",
    "                          extensions='ar.pkl')\n",
    "    epochs = [read_epochs(f.filename, verbose=False) \n",
    "              for f in epoch_files][::-1]\n",
    "    ars = [pickle.load(open(f.filename, 'r')) for f in ar_files][::-1]\n",
    "    epochs = [ar.transform(epoch) for ar, epoch in zip(ars, epochs)]\n",
    "        \n",
    "    # visually verify and update bad channels on epochs\n",
    "    bad_chs = visually_verify_epochs(sub, epochs, config)\n",
    "    \n",
    "    # update bads and average re-reference\n",
    "    for epoch in epochs:\n",
    "        epoch.info['bads'] = bad_chs\n",
    "        epoch.set_eeg_reference().apply_proj()\n",
    "        \n",
    "    # save cleaned epochs to file\n",
    "    for i, epo_type in enumerate(config['epoch_types']):\n",
    "        f = '%s/%s/epochs/%s_%s_cleaned-epo.fif'\n",
    "        epochs[i].save(f % (pipeline_root, sub, sub, epo_type))\n",
    "        \n",
    "    # save cleaned epochs butterfly plot\n",
    "    [epochs[i].crop(config['epoch_times'][i][0], \n",
    "                config['epoch_times'][i][1]) for i in range(len(epochs))]\n",
    "    fig = plot_evoked_butterfly(epochs, config)\n",
    "    fig.suptitle('%s Cleaned' % sub)\n",
    "    f = '%s/%s/%s_cleaned_butterfly.png'\n",
    "    fig.savefig(f % (pipeline_root, sub, sub))\n",
    "        \n",
    "    # save channel sensors plot\n",
    "    fig = epochs[0].plot_sensors(show=True, title=sub, show_names=True)\n",
    "    fig.savefig('%s/%s/%s_sensors.png' % (pipeline_root, sub, sub))\n",
    "    plt.close('all')\n",
    "        \n",
    "print('Done!')"
   ]
  },
  {
   "cell_type": "markdown",
   "metadata": {
    "collapsed": true
   },
   "source": [
    "## Summaries and Exclusions "
   ]
  },
  {
   "cell_type": "markdown",
   "metadata": {},
   "source": [
    "### Bad Channel Summary"
   ]
  },
  {
   "cell_type": "code",
   "execution_count": 10,
   "metadata": {
    "ExecuteTime": {
     "end_time": "2017-10-31T21:51:00.084773Z",
     "start_time": "2017-10-31T21:50:55.028689Z"
    }
   },
   "outputs": [
    {
     "data": {
      "image/png": "[encoded data removed]",
      "text/plain": [
       "<matplotlib.figure.Figure at 0x7fe30071abd0>"
      ]
     },
     "metadata": {},
     "output_type": "display_data"
    }
   ],
   "source": [
    "%matplotlib inline\n",
    "bad_ch_info = extract_bad_ch_group_info('../data/derivatives/eeg_preprocessing', CH_NAMES)\n",
    "fig = plot_bad_chs_group_summary(bad_ch_info)\n",
    "plt.show(fig)"
   ]
  },
  {
   "cell_type": "markdown",
   "metadata": {},
   "source": [
    "### Bad Epochs Summary"
   ]
  },
  {
   "cell_type": "code",
   "execution_count": 2,
   "metadata": {
    "ExecuteTime": {
     "end_time": "2017-10-31T22:43:09.913018Z",
     "start_time": "2017-10-31T22:43:06.886167Z"
    },
    "collapsed": true,
    "scrolled": true
   },
   "outputs": [],
   "source": [
    "bad_epoch_info = extract_bad_epochs_group_info('../data/derivatives/eeg_preprocessing', CH_NAMES)"
   ]
  },
  {
   "cell_type": "code",
   "execution_count": 3,
   "metadata": {
    "ExecuteTime": {
     "end_time": "2017-10-31T22:43:14.254850Z",
     "start_time": "2017-10-31T22:43:12.653297Z"
    }
   },
   "outputs": [
    {
     "data": {
      "image/png": "[encoded data removed]",
      "text/plain": [
       "<matplotlib.figure.Figure at 0x7f60e11f13d0>"
      ]
     },
     "metadata": {},
     "output_type": "display_data"
    }
   ],
   "source": [
    "%matplotlib inline\n",
    "plt.figure(figsize=(24, 8))\n",
    "sns.barplot(x='participant_id', y='num_bad', hue='epoch_type', \n",
    "            data=bad_epoch_info.sort_values(by='num_bad', ascending=False))\n",
    "plt.xticks(rotation=90)\n",
    "plt.ylabel('# Bad Epochs')\n",
    "sns.despine()\n",
    "plt.show()"
   ]
  },
  {
   "cell_type": "markdown",
   "metadata": {},
   "source": [
    "### Subject Exclusions\n",
    "\n",
    "At least for a first pass, I am going to be very data keeping conservative and only exclude hc018 because they had nearly half of their channels bad."
   ]
  },
  {
   "cell_type": "code",
   "execution_count": 6,
   "metadata": {
    "ExecuteTime": {
     "end_time": "2017-11-03T18:46:22.720435Z",
     "start_time": "2017-11-03T18:46:22.707112Z"
    },
    "collapsed": true
   },
   "outputs": [],
   "source": [
    "denote_exclusions(['sub-hc018'], 'eeg')"
   ]
  },
  {
   "cell_type": "markdown",
   "metadata": {},
   "source": [
    "# fMRI Preprocessing"
   ]
  },
  {
   "cell_type": "code",
   "execution_count": null,
   "metadata": {
    "collapsed": true
   },
   "outputs": [],
   "source": []
  }
 ],
 "metadata": {
  "kernelspec": {
   "display_name": "Python 2",
   "language": "python",
   "name": "python2"
  },
  "language_info": {
   "codemirror_mode": {
    "name": "ipython",
    "version": 2
   },
   "file_extension": ".py",
   "mimetype": "text/x-python",
   "name": "python",
   "nbconvert_exporter": "python",
   "pygments_lexer": "ipython2",
   "version": "2.7.13"
  },
  "notify_time": "30",
  "toc": {
   "nav_menu": {
    "height": "66px",
    "width": "252px"
   },
   "number_sections": true,
   "sideBar": true,
   "skip_h1_title": false,
   "toc_cell": false,
   "toc_position": {
    "height": "795px",
    "left": "0px",
    "right": "1362.19px",
    "top": "106px",
    "width": "361px"
   },
   "toc_section_display": "block",
   "toc_window_display": true
  },
  "varInspector": {
   "cols": {
    "lenName": 16,
    "lenType": 16,
    "lenVar": 40
   },
   "kernels_config": {
    "python": {
     "delete_cmd_postfix": "",
     "delete_cmd_prefix": "del ",
     "library": "var_list.py",
     "varRefreshCmd": "print(var_dic_list())"
    },
    "r": {
     "delete_cmd_postfix": ") ",
     "delete_cmd_prefix": "rm(",
     "library": "var_list.r",
     "varRefreshCmd": "cat(var_dic_list()) "
    }
   },
   "position": {
    "height": "207px",
    "left": "1320.81px",
    "right": "20px",
    "top": "121.989px",
    "width": "331px"
   },
   "types_to_exclude": [
    "module",
    "function",
    "builtin_function_or_method",
    "instance",
    "_Feature"
   ],
   "window_display": false
  }
 },
 "nbformat": 4,
 "nbformat_minor": 2
}
