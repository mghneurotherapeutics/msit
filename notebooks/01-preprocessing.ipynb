{
 "cells": [
  {
   "cell_type": "markdown",
   "metadata": {},
   "source": [
    "# EEG Preprocessing"
   ]
  },
  {
   "cell_type": "markdown",
   "metadata": {},
   "source": [
    "## Make EEG Preprocessing Derivatives File Structure\n",
    "\n",
    "EEG isn't standardly supported by the BIDS specification yet. However, we still try to stay reasonably close to the derivatives philosophy currently under development. Thus the preprocessing section (which culminates in cleaned epochs) is stored as an eeg_preprocessing BIDS-derivatives compatible pipeline in the data/derivatives/eeg_preprocessing folder."
   ]
  },
  {
   "cell_type": "code",
   "execution_count": 11,
   "metadata": {
    "ExecuteTime": {
     "end_time": "2017-10-17T18:32:07.819069Z",
     "start_time": "2017-10-17T18:32:07.778268Z"
    }
   },
   "outputs": [
    {
     "ename": "ImportError",
     "evalue": "No module named src",
     "output_type": "error",
     "traceback": [
      "\u001b[0;31m---------------------------------------------------------------------------\u001b[0m",
      "\u001b[0;31mImportError\u001b[0m                               Traceback (most recent call last)",
      "\u001b[0;32m<ipython-input-11-1057e015b4fa>\u001b[0m in \u001b[0;36m<module>\u001b[0;34m()\u001b[0m\n\u001b[0;32m----> 1\u001b[0;31m \u001b[0;32mfrom\u001b[0m \u001b[0msrc\u001b[0m \u001b[0;32mimport\u001b[0m \u001b[0mload_bad_channels\u001b[0m\u001b[0;34m\u001b[0m\u001b[0m\n\u001b[0m\u001b[1;32m      2\u001b[0m \u001b[0mmake_eeg_prep_derivatives_folder\u001b[0m\u001b[0;34m(\u001b[0m\u001b[0;34m'../data'\u001b[0m\u001b[0;34m)\u001b[0m\u001b[0;34m\u001b[0m\u001b[0m\n",
      "\u001b[0;31mImportError\u001b[0m: No module named src"
     ]
    }
   ],
   "source": [
    "make_eeg_prep_derivatives_folder('../data')"
   ]
  },
  {
   "cell_type": "markdown",
   "metadata": {},
   "source": [
    "## Mark Bad Channels\n"
   ]
  },
  {
   "cell_type": "code",
   "execution_count": 1,
   "metadata": {
    "ExecuteTime": {
     "end_time": "2017-09-04T16:54:11.219502Z",
     "start_time": "2017-09-04T16:50:48.855174Z"
    }
   },
   "outputs": [
    {
     "name": "stdout",
     "output_type": "stream",
     "text": [
      "Using matplotlib backend: Qt4Agg\n"
     ]
    }
   ],
   "source": [
    "from grabbit import Layout\n",
    "\n",
    "%matplotlib\n",
    "\n",
    "# extract participant raw filenames\n",
    "layout = Layout('../data', '../data/grabbit_config.json')\n",
    "raw_files = layout.get(subject='sub-.*', modality='eeg', \n",
    "                       extensions='.fif')\n",
    "\n",
    "# iterate through participant raw data\n",
    "for f in raw_files:\n",
    "    \n",
    "    manually_mark_bad_channels(f)\n"
   ]
  },
  {
   "cell_type": "markdown",
   "metadata": {},
   "source": [
    "## Generate Epochs"
   ]
  },
  {
   "cell_type": "markdown",
   "metadata": {},
   "source": [
    "### Verify Cleaned Epochs"
   ]
  },
  {
   "cell_type": "code",
   "execution_count": 2,
   "metadata": {
    "ExecuteTime": {
     "end_time": "2017-10-17T19:40:05.502465Z",
     "start_time": "2017-10-17T19:40:05.497327Z"
    },
    "collapsed": true
   },
   "outputs": [],
   "source": [
    "from msit import visually_verify_epochs"
   ]
  },
  {
   "cell_type": "code",
   "execution_count": 3,
   "metadata": {
    "ExecuteTime": {
     "end_time": "2017-10-17T19:40:18.747143Z",
     "start_time": "2017-10-17T19:40:18.697377Z"
    },
    "collapsed": true
   },
   "outputs": [],
   "source": [
    "visually_verify_epochs?"
   ]
  },
  {
   "cell_type": "code",
   "execution_count": 1,
   "metadata": {
    "ExecuteTime": {
     "end_time": "2017-10-17T19:36:00.908880Z",
     "start_time": "2017-10-17T19:36:00.791046Z"
    }
   },
   "outputs": [
    {
     "ename": "ImportError",
     "evalue": "cannot import name data",
     "output_type": "error",
     "traceback": [
      "\u001b[0;31m---------------------------------------------------------------------------\u001b[0m",
      "\u001b[0;31mImportError\u001b[0m                               Traceback (most recent call last)",
      "\u001b[0;32m<ipython-input-1-919c6e0cc6ca>\u001b[0m in \u001b[0;36m<module>\u001b[0;34m()\u001b[0m\n\u001b[1;32m      1\u001b[0m \u001b[0;32mimport\u001b[0m \u001b[0mjson\u001b[0m\u001b[0;34m\u001b[0m\u001b[0m\n\u001b[1;32m      2\u001b[0m \u001b[0;32mfrom\u001b[0m \u001b[0mgrabbit\u001b[0m \u001b[0;32mimport\u001b[0m \u001b[0mLayout\u001b[0m\u001b[0;34m\u001b[0m\u001b[0m\n\u001b[0;32m----> 3\u001b[0;31m \u001b[0;32mfrom\u001b[0m \u001b[0mmsit\u001b[0m \u001b[0;32mimport\u001b[0m \u001b[0mload_epochs\u001b[0m\u001b[0;34m,\u001b[0m \u001b[0mvisually_verify_epochs\u001b[0m\u001b[0;34m\u001b[0m\u001b[0m\n\u001b[0m\u001b[1;32m      4\u001b[0m \u001b[0;32mimport\u001b[0m \u001b[0mnumpy\u001b[0m \u001b[0;32mas\u001b[0m \u001b[0mnp\u001b[0m\u001b[0;34m\u001b[0m\u001b[0m\n\u001b[1;32m      5\u001b[0m \u001b[0;34m\u001b[0m\u001b[0m\n",
      "\u001b[0;32m/homes/7/mwb27/.local/lib/python2.7/site-packages/msit/__init__.py\u001b[0m in \u001b[0;36m<module>\u001b[0;34m()\u001b[0m\n\u001b[1;32m      1\u001b[0m \u001b[0;34m\u001b[0m\u001b[0m\n\u001b[0;32m----> 2\u001b[0;31m \u001b[0;32mfrom\u001b[0m \u001b[0;34m.\u001b[0m \u001b[0;32mimport\u001b[0m \u001b[0mdata\u001b[0m\u001b[0;34m\u001b[0m\u001b[0m\n\u001b[0m",
      "\u001b[0;31mImportError\u001b[0m: cannot import name data"
     ]
    }
   ],
   "source": [
    "import json\n",
    "from grabbit import Layout\n",
    "from msit import load_epochs, visually_verify_epochs\n",
    "import numpy as np\n",
    "\n",
    "%matplotlib\n",
    "\n",
    "set_log_level('critical')\n",
    "\n",
    "layout = Layout('../data', '../data/grabbit_config.json')\n",
    "subjects = np.array(sorted(layout.get(target='subject', \n",
    "                                      modality='eeg',\n",
    "                                      return_type='id')))\n",
    "pipeline_root = '../data/derivatives/eeg_preprocessing'\n",
    "    \n",
    "# iterate through participants\n",
    "for sub in subjects:\n",
    "    \n",
    "    print(sub)\n",
    "    \n",
    "    for epo_type in ['stimulus', 'response']:\n",
    "        print(epo_type)\n",
    "    \n",
    "        epochs, ar_epochs = load_epochs(sub, epo_type, layout)\n",
    "        \n",
    "        # visually check epochs and mark any persisting bad channels\n",
    "        ar_epochs = visually_verify_epochs(epochs, ar_epochs)\n",
    "        \n",
    "        # average re-reference\n",
    "        ar_epochs.set_eeg_reference().apply_proj()\n",
    "        \n",
    "        # save to file\n",
    "        ar_epochs.save('%s/%s/autoreject/%s_%s_ar-epo.fif' % (pipeline_root,\n",
    "                                                              sub, sub,\n",
    "                                                              epo_type))\n",
    "        \n",
    "        # save cleaned butterfly plot\n",
    "        f, ax = plt.subplots(1, 1, figsize=(20, 12))\n",
    "        ar_epochs.crop(ar_epochs.times[0] + 1, ar_epochs.times[-1] - 1)\n",
    "        fig = ar_epochs.average().plot(show=False, ylim=ylim, \n",
    "                                       spatial_colors=True, axes=ax)\n",
    "        fig.savefig('%s/%s/%s_%s_cleaned_evoked_butterfly.png' % (pipeline_root,\n",
    "                                                                  sub, sub,\n",
    "                                                                  epo_type))\n",
    "        plt.close('all')\n",
    "        \n",
    "print('Done!')"
   ]
  },
  {
   "cell_type": "code",
   "execution_count": null,
   "metadata": {
    "collapsed": true
   },
   "outputs": [],
   "source": []
  }
 ],
 "metadata": {
  "kernelspec": {
   "display_name": "Python 2",
   "language": "python",
   "name": "python2"
  },
  "language_info": {
   "codemirror_mode": {
    "name": "ipython",
    "version": 2
   },
   "file_extension": ".py",
   "mimetype": "text/x-python",
   "name": "python",
   "nbconvert_exporter": "python",
   "pygments_lexer": "ipython2",
   "version": "2.7.13"
  },
  "notify_time": "30",
  "toc": {
   "colors": {
    "hover_highlight": "#DAA520",
    "navigate_num": "#000000",
    "navigate_text": "#333333",
    "running_highlight": "#FF0000",
    "selected_highlight": "#FFD700",
    "sidebar_border": "#EEEEEE",
    "wrapper_background": "#FFFFFF"
   },
   "moveMenuLeft": true,
   "nav_menu": {
    "height": "66px",
    "width": "252px"
   },
   "navigate_menu": true,
   "number_sections": true,
   "sideBar": true,
   "threshold": 4,
   "toc_cell": false,
   "toc_position": {
    "height": "775px",
    "left": "0px",
    "right": "1362.19px",
    "top": "106px",
    "width": "361px"
   },
   "toc_section_display": "block",
   "toc_window_display": true,
   "widenNotebook": false
  },
  "varInspector": {
   "cols": {
    "lenName": 16,
    "lenType": 16,
    "lenVar": 40
   },
   "kernels_config": {
    "python": {
     "delete_cmd_postfix": "",
     "delete_cmd_prefix": "del ",
     "library": "var_list.py",
     "varRefreshCmd": "print(var_dic_list())"
    },
    "r": {
     "delete_cmd_postfix": ") ",
     "delete_cmd_prefix": "rm(",
     "library": "var_list.r",
     "varRefreshCmd": "cat(var_dic_list()) "
    }
   },
   "position": {
    "height": "207px",
    "left": "1320.81px",
    "right": "20px",
    "top": "121.989px",
    "width": "331px"
   },
   "types_to_exclude": [
    "module",
    "function",
    "builtin_function_or_method",
    "instance",
    "_Feature"
   ],
   "window_display": false
  }
 },
 "nbformat": 4,
 "nbformat_minor": 2
}
