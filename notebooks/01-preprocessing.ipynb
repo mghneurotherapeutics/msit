{
 "cells": [
  {
   "cell_type": "markdown",
   "metadata": {},
   "source": [
    "# EEG Preprocessing"
   ]
  },
  {
   "cell_type": "markdown",
   "metadata": {},
   "source": [
    "## Make EEG Preprocessing Derivatives File Structure\n",
    "\n",
    "EEG isn't standardly supported by the BIDS specification yet. However, we still try to stay reasonably close to the derivatives philosophy currently under development. Thus the preprocessing section (which culminates in cleaned epochs) is stored as an eeg_preprocessing BIDS-derivatives compatible pipeline in the data/derivatives/eeg_preprocessing folder."
   ]
  },
  {
   "cell_type": "code",
   "execution_count": 11,
   "metadata": {
    "ExecuteTime": {
     "end_time": "2017-10-17T18:32:07.819069Z",
     "start_time": "2017-10-17T18:32:07.778268Z"
    }
   },
   "outputs": [
    {
     "ename": "ImportError",
     "evalue": "No module named src",
     "output_type": "error",
     "traceback": [
      "\u001b[0;31m---------------------------------------------------------------------------\u001b[0m",
      "\u001b[0;31mImportError\u001b[0m                               Traceback (most recent call last)",
      "\u001b[0;32m<ipython-input-11-1057e015b4fa>\u001b[0m in \u001b[0;36m<module>\u001b[0;34m()\u001b[0m\n\u001b[0;32m----> 1\u001b[0;31m \u001b[0;32mfrom\u001b[0m \u001b[0msrc\u001b[0m \u001b[0;32mimport\u001b[0m \u001b[0mload_bad_channels\u001b[0m\u001b[0;34m\u001b[0m\u001b[0m\n\u001b[0m\u001b[1;32m      2\u001b[0m \u001b[0mmake_eeg_prep_derivatives_folder\u001b[0m\u001b[0;34m(\u001b[0m\u001b[0;34m'../data'\u001b[0m\u001b[0;34m)\u001b[0m\u001b[0;34m\u001b[0m\u001b[0m\n",
      "\u001b[0;31mImportError\u001b[0m: No module named src"
     ]
    }
   ],
   "source": [
    "make_eeg_prep_derivatives_folder('../data')"
   ]
  },
  {
   "cell_type": "markdown",
   "metadata": {},
   "source": [
    "## Mark Bad Channels\n"
   ]
  },
  {
   "cell_type": "code",
   "execution_count": 1,
   "metadata": {
    "ExecuteTime": {
     "end_time": "2017-09-04T16:54:11.219502Z",
     "start_time": "2017-09-04T16:50:48.855174Z"
    }
   },
   "outputs": [
    {
     "name": "stdout",
     "output_type": "stream",
     "text": [
      "Using matplotlib backend: Qt4Agg\n"
     ]
    }
   ],
   "source": [
    "from grabbit import Layout\n",
    "\n",
    "%matplotlib\n",
    "\n",
    "# extract participant raw filenames\n",
    "layout = Layout('../data', '../data/grabbit_config.json')\n",
    "raw_files = layout.get(subject='sub-.*', modality='eeg', \n",
    "                       extensions='.fif')\n",
    "\n",
    "# iterate through participant raw data\n",
    "for f in raw_files:\n",
    "    \n",
    "    manually_mark_bad_channels(f)\n"
   ]
  },
  {
   "cell_type": "markdown",
   "metadata": {},
   "source": [
    "## Generate Epochs"
   ]
  },
  {
   "cell_type": "markdown",
   "metadata": {},
   "source": [
    "### Verify Cleaned Epochs & Average Re-Reference\n",
    "\n",
    "hc008: maybe need to re-look for eye flutter? really bad  \n",
    "hc009: alpha?  \n",
    "hc011: weird?  \n",
    "hc018: bad  \n",
    "hc021: need to scrape out frontals  \n",
    "hc023: remove cp3 for stim  \n",
    "hc035: weird ramp up in baseline before auto reject (almost 50 trials thrown out)  \n",
    "pp003: tons of stim locked epochs thrown out by auto reject. probably need to re-mark bad channels and push through."
   ]
  },
  {
   "cell_type": "code",
   "execution_count": 1,
   "metadata": {
    "ExecuteTime": {
     "end_time": "2017-10-18T16:56:12.807862Z",
     "start_time": "2017-10-17T20:29:37.463359Z"
    },
    "scrolled": true
   },
   "outputs": [
    {
     "name": "stdout",
     "output_type": "stream",
     "text": [
      "Using matplotlib backend: Qt4Agg\n"
     ]
    },
    {
     "name": "stderr",
     "output_type": "stream",
     "text": [
      "/autofs/space/cassia_001/users/matt/software/anaconda2.7/lib/python2.7/site-packages/ipykernel_launcher.py:18: VisibleDeprecationWarning: converting an array with ndim > 0 to an index will result in an error in the future\n"
     ]
    },
    {
     "name": "stdout",
     "output_type": "stream",
     "text": [
      "sub-hc006\n",
      "stimulus\n"
     ]
    },
    {
     "name": "stderr",
     "output_type": "stream",
     "text": [
      "/autofs/space/cassia_001/users/matt/software/anaconda2.7/lib/python2.7/site-packages/sklearn/cross_validation.py:44: DeprecationWarning: This module was deprecated in version 0.18 in favor of the model_selection module into which all the refactored classes and functions are moved. Also note that the interface of the new CV iterators are different from that of this module. This module will be removed in 0.20.\n",
      "  \"This module will be removed in 0.20.\", DeprecationWarning)\n",
      "/autofs/space/cassia_001/users/matt/software/anaconda2.7/lib/python2.7/site-packages/matplotlib/figure.py:1744: UserWarning: This figure includes Axes that are not compatible with tight_layout, so its results might be incorrect.\n",
      "  warnings.warn(\"This figure includes Axes that are not \"\n"
     ]
    },
    {
     "name": "stdout",
     "output_type": "stream",
     "text": [
      "OK to move on? (enter y or n):y\n",
      "response\n",
      "OK to move on? (enter y or n):y\n",
      "sub-hc007\n",
      "stimulus\n",
      "OK to move on? (enter y or n):y\n",
      "response\n",
      "OK to move on? (enter y or n):y\n",
      "sub-hc008\n",
      "stimulus\n",
      "OK to move on? (enter y or n):y\n",
      "response\n",
      "OK to move on? (enter y or n):y\n",
      "sub-hc009\n",
      "stimulus\n",
      "OK to move on? (enter y or n):y\n",
      "response\n",
      "OK to move on? (enter y or n):y\n",
      "sub-hc010\n",
      "stimulus\n",
      "OK to move on? (enter y or n):y\n",
      "response\n",
      "OK to move on? (enter y or n):y\n",
      "sub-hc011\n",
      "stimulus\n",
      "OK to move on? (enter y or n):y\n",
      "response\n",
      "OK to move on? (enter y or n):y\\\n",
      "OK to move on? (enter y or n):y\n",
      "sub-hc012\n",
      "stimulus\n",
      "OK to move on? (enter y or n):y\n",
      "response\n",
      "OK to move on? (enter y or n):y\n",
      "sub-hc013\n",
      "stimulus\n",
      "OK to move on? (enter y or n):y\n",
      "response\n",
      "OK to move on? (enter y or n):y\n",
      "sub-hc014\n",
      "stimulus\n",
      "OK to move on? (enter y or n):y\n",
      "response\n",
      "OK to move on? (enter y or n):y\n",
      "sub-hc015\n",
      "stimulus\n",
      "OK to move on? (enter y or n):y\n",
      "response\n",
      "OK to move on? (enter y or n):y\n",
      "sub-hc016\n",
      "stimulus\n",
      "OK to move on? (enter y or n):y\n",
      "response\n",
      "OK to move on? (enter y or n):y\n",
      "sub-hc017\n",
      "stimulus\n",
      "OK to move on? (enter y or n):y\n",
      "response\n",
      "OK to move on? (enter y or n):y\n",
      "sub-hc018\n",
      "stimulus\n",
      "OK to move on? (enter y or n):y\n",
      "response\n",
      "OK to move on? (enter y or n):y\n",
      "sub-hc019\n",
      "stimulus\n",
      "OK to move on? (enter y or n):y\n",
      "response\n",
      "OK to move on? (enter y or n):y\n",
      "sub-hc020\n",
      "stimulus\n",
      "OK to move on? (enter y or n):y\n",
      "response\n",
      "OK to move on? (enter y or n):y\n",
      "sub-hc021\n",
      "stimulus\n",
      "OK to move on? (enter y or n):y\n",
      "response\n",
      "OK to move on? (enter y or n):y\n",
      "sub-hc022\n",
      "stimulus\n",
      "OK to move on? (enter y or n):y\n",
      "response\n",
      "OK to move on? (enter y or n):y\n",
      "sub-hc023\n",
      "stimulus\n",
      "OK to move on? (enter y or n):y\n",
      "response\n",
      "OK to move on? (enter y or n):y\n",
      "sub-hc024\n",
      "stimulus\n",
      "OK to move on? (enter y or n):y\n",
      "response\n",
      "OK to move on? (enter y or n):y\n",
      "sub-hc025\n",
      "stimulus\n",
      "OK to move on? (enter y or n):y\n",
      "response\n",
      "OK to move on? (enter y or n):y\n",
      "sub-hc026\n",
      "stimulus\n",
      "OK to move on? (enter y or n):y\n",
      "response\n",
      "OK to move on? (enter y or n):y\n",
      "sub-hc027\n",
      "stimulus\n",
      "OK to move on? (enter y or n):y\n",
      "response\n",
      "OK to move on? (enter y or n):y\n",
      "sub-hc028\n",
      "stimulus\n",
      "OK to move on? (enter y or n):y\n",
      "response\n",
      "OK to move on? (enter y or n):y\n",
      "sub-hc029\n",
      "stimulus\n",
      "OK to move on? (enter y or n):y\n",
      "response\n",
      "OK to move on? (enter y or n):y\n",
      "sub-hc030\n",
      "stimulus\n",
      "OK to move on? (enter y or n):y\n",
      "response\n",
      "OK to move on? (enter y or n):y\n",
      "sub-hc031\n",
      "stimulus\n",
      "OK to move on? (enter y or n):y\n",
      "response\n",
      "OK to move on? (enter y or n):y\n",
      "sub-hc032\n",
      "stimulus\n",
      "OK to move on? (enter y or n):y\n",
      "response\n",
      "OK to move on? (enter y or n):y\n",
      "sub-hc033\n",
      "stimulus\n",
      "OK to move on? (enter y or n):y\n",
      "response\n",
      "OK to move on? (enter y or n):y\n",
      "sub-hc034\n",
      "stimulus\n",
      "OK to move on? (enter y or n):y\n",
      "response\n",
      "OK to move on? (enter y or n):y\n",
      "sub-hc035\n",
      "stimulus\n",
      "OK to move on? (enter y or n):y\n",
      "response\n",
      "OK to move on? (enter y or n):y\n",
      "sub-hc036\n",
      "stimulus\n",
      "OK to move on? (enter y or n):y\n",
      "response\n",
      "OK to move on? (enter y or n):y\n",
      "sub-hc037\n",
      "stimulus\n",
      "OK to move on? (enter y or n):y\n",
      "response\n",
      "OK to move on? (enter y or n):y\n",
      "sub-hc042\n",
      "stimulus\n",
      "OK to move on? (enter y or n):y\n",
      "response\n",
      "OK to move on? (enter y or n):y\n",
      "sub-hc044\n",
      "stimulus\n",
      "OK to move on? (enter y or n):y\n",
      "response\n",
      "OK to move on? (enter y or n):y\n",
      "sub-hc045\n",
      "stimulus\n",
      "OK to move on? (enter y or n):y\n",
      "response\n",
      "OK to move on? (enter y or n):y\n",
      "sub-pp001\n",
      "stimulus\n",
      "OK to move on? (enter y or n):y\n",
      "response\n"
     ]
    },
    {
     "name": "stderr",
     "output_type": "stream",
     "text": [
      "/autofs/space/cassia_001/users/matt/software/anaconda2.7/lib/python2.7/site-packages/autoreject-0.1.dev0-py2.7.egg/autoreject/autoreject.py:640: UserWarning: No bad epochs were found for your data. Returning a copy of the data you wanted to clean. Interpolation may have been done.\n"
     ]
    },
    {
     "name": "stdout",
     "output_type": "stream",
     "text": [
      "OK to move on? (enter y or n):y\n",
      "sub-pp002\n",
      "stimulus\n",
      "OK to move on? (enter y or n):y\n",
      "response\n",
      "OK to move on? (enter y or n):y\n",
      "sub-pp003\n",
      "stimulus\n",
      "OK to move on? (enter y or n):y\n",
      "response\n",
      "OK to move on? (enter y or n):y\n",
      "sub-pp004\n",
      "stimulus\n",
      "OK to move on? (enter y or n):y\n",
      "response\n",
      "OK to move on? (enter y or n):y\n",
      "sub-pp005\n",
      "stimulus\n",
      "OK to move on? (enter y or n):y\n",
      "response\n",
      "OK to move on? (enter y or n):y\n",
      "sub-pp006\n",
      "stimulus\n",
      "OK to move on? (enter y or n):y\n",
      "response\n",
      "OK to move on? (enter y or n):y\n",
      "sub-pp007\n",
      "stimulus\n",
      "OK to move on? (enter y or n):y\n",
      "response\n",
      "OK to move on? (enter y or n):y\n",
      "sub-pp008\n",
      "stimulus\n",
      "OK to move on? (enter y or n):y\n",
      "response\n",
      "OK to move on? (enter y or n):y\n",
      "sub-pp009\n",
      "stimulus\n",
      "OK to move on? (enter y or n):y\n",
      "response\n",
      "OK to move on? (enter y or n):y\n",
      "sub-pp010\n",
      "stimulus\n",
      "OK to move on? (enter y or n):y\n",
      "response\n",
      "OK to move on? (enter y or n):y\n",
      "sub-pp011\n",
      "stimulus\n",
      "OK to move on? (enter y or n):y\n",
      "response\n",
      "OK to move on? (enter y or n):y\n",
      "sub-pp012\n",
      "stimulus\n",
      "OK to move on? (enter y or n):y\n",
      "response\n",
      "OK to move on? (enter y or n):y\n",
      "sub-pp013\n",
      "stimulus\n",
      "OK to move on? (enter y or n):y\n",
      "response\n",
      "OK to move on? (enter y or n):y\n",
      "sub-pp014\n",
      "stimulus\n",
      "OK to move on? (enter y or n):y\n",
      "response\n",
      "OK to move on? (enter y or n):y\n",
      "sub-pp015\n",
      "stimulus\n",
      "OK to move on? (enter y or n):y\n",
      "response\n",
      "OK to move on? (enter y or n):y\n",
      "sub-pp016\n",
      "stimulus\n",
      "OK to move on? (enter y or n):y\n",
      "response\n",
      "OK to move on? (enter y or n):y\n",
      "Done!\n"
     ]
    }
   ],
   "source": [
    "import json\n",
    "from grabbit import Layout\n",
    "from msit import load_epochs, visually_verify_epochs\n",
    "from mne import set_log_level\n",
    "import matplotlib.pyplot as plt\n",
    "import numpy as np\n",
    "\n",
    "%matplotlib\n",
    "\n",
    "set_log_level('critical')\n",
    "\n",
    "layout = Layout('../data', '../data/grabbit_config.json')\n",
    "subjects = np.array(sorted(layout.get(target='subject', \n",
    "                                      modality='eeg',\n",
    "                                      return_type='id')))\n",
    "start_ix = np.where(subjects == 'sub-hc006')[0]\n",
    "end_ix = np.where(subjects == 'sub-pp016')[0]\n",
    "subjects = subjects[start_ix:end_ix + 1]\n",
    "pipeline_root = '../data/derivatives/eeg_preprocessing'\n",
    "    \n",
    "# iterate through participants\n",
    "for sub in subjects:\n",
    "    \n",
    "    print(sub)\n",
    "    \n",
    "    for epo_type in ['stimulus', 'response']:\n",
    "        print(epo_type)\n",
    "    \n",
    "        epochs, ar_epochs = load_epochs(sub, epo_type, layout)\n",
    "        \n",
    "        # visually check epochs and mark any persisting bad channels\n",
    "        ar_epochs = visually_verify_epochs(epochs, ar_epochs)\n",
    "        \n",
    "        # average re-reference\n",
    "        ar_epochs.set_eeg_reference().apply_proj()\n",
    "        \n",
    "        # save to file\n",
    "        ar_epochs.save('%s/%s/autoreject/%s_%s_ar-epo.fif' % (pipeline_root,\n",
    "                                                              sub, sub,\n",
    "                                                              epo_type))\n",
    "        \n",
    "        # save cleaned butterfly plot\n",
    "        f, ax = plt.subplots(1, 1, figsize=(20, 12))\n",
    "        ar_epochs.crop(ar_epochs.times[0] + 1, ar_epochs.times[-1] - 1)\n",
    "        fig = ar_epochs.average().plot(show=False, spatial_colors=True, \n",
    "                                       axes=ax)\n",
    "        fig.savefig('%s/%s/%s_%s_cleaned_evoked_butterfly.png' % (pipeline_root,\n",
    "                                                                  sub, sub,\n",
    "                                                                  epo_type))\n",
    "        \n",
    "        # save channel sensors plot\n",
    "        fig = ar_epochs.plot_sensors(show=True, title=sub, show_names=True)\n",
    "        fig.savefig('%s/%s/%s_sensors.png' % (pipeline_root, sub, sub))\n",
    "        plt.close('all')\n",
    "        \n",
    "print('Done!')"
   ]
  },
  {
   "cell_type": "code",
   "execution_count": null,
   "metadata": {
    "collapsed": true
   },
   "outputs": [],
   "source": []
  }
 ],
 "metadata": {
  "kernelspec": {
   "display_name": "Python 2",
   "language": "python",
   "name": "python2"
  },
  "notify_time": "30",
  "toc": {
   "colors": {
    "hover_highlight": "#DAA520",
    "navigate_num": "#000000",
    "navigate_text": "#333333",
    "running_highlight": "#FF0000",
    "selected_highlight": "#FFD700",
    "sidebar_border": "#EEEEEE",
    "wrapper_background": "#FFFFFF"
   },
   "moveMenuLeft": true,
   "nav_menu": {
    "height": "66px",
    "width": "252px"
   },
   "navigate_menu": true,
   "number_sections": true,
   "sideBar": true,
   "threshold": 4,
   "toc_cell": false,
   "toc_position": {
    "height": "775px",
    "left": "0px",
    "right": "1362.19px",
    "top": "106px",
    "width": "361px"
   },
   "toc_section_display": "block",
   "toc_window_display": true,
   "widenNotebook": false
  },
  "varInspector": {
   "cols": {
    "lenName": 16,
    "lenType": 16,
    "lenVar": 40
   },
   "kernels_config": {
    "python": {
     "delete_cmd_postfix": "",
     "delete_cmd_prefix": "del ",
     "library": "var_list.py",
     "varRefreshCmd": "print(var_dic_list())"
    },
    "r": {
     "delete_cmd_postfix": ") ",
     "delete_cmd_prefix": "rm(",
     "library": "var_list.r",
     "varRefreshCmd": "cat(var_dic_list()) "
    }
   },
   "position": {
    "height": "207px",
    "left": "1320.81px",
    "right": "20px",
    "top": "121.989px",
    "width": "331px"
   },
   "types_to_exclude": [
    "module",
    "function",
    "builtin_function_or_method",
    "instance",
    "_Feature"
   ],
   "window_display": false
  }
 },
 "nbformat": 4,
 "nbformat_minor": 2
}
