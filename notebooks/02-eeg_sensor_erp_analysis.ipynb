{
 "cells": [
  {
   "cell_type": "markdown",
   "metadata": {},
   "source": [
    "# Make Evoked Data"
   ]
  },
  {
   "cell_type": "code",
   "execution_count": 59,
   "metadata": {
    "ExecuteTime": {
     "end_time": "2017-10-18T18:24:44.015689Z",
     "start_time": "2017-10-18T18:24:33.201613Z"
    }
   },
   "outputs": [
    {
     "name": "stdout",
     "output_type": "stream",
     "text": [
      "(192, 17)\n",
      "File(filename='/autofs/space/cassia_001/users/matt/msit/data/derivatives/eeg_preprocessing/sub-hc003/autoreject/sub-hc003_stimulus_ar.pkl', derivative='eeg_preprocessing', modality='eeg', subject='sub-hc003')\n",
      "[  3  14  34  60  83  99 109 114 124 125 140 153 159 189] 14\n",
      "File(filename='/autofs/space/cassia_001/users/matt/msit/data/derivatives/eeg_preprocessing/sub-hc003/autoreject/sub-hc003_stimulus_ar-epo.fif', derivative='eeg_preprocessing', modality='eeg', subject='sub-hc003')\n",
      "(137, 84, 4251)\n",
      "[[], [], [], [u'AUTOREJECT'], [], [], [], [], [], [], [], [], [], [], [u'AUTOREJECT'], [], [], [], [], [], [], [], [u'AUTOREJECT'], [], [], [], [], [], [], [], [], [], [], [], [u'AUTOREJECT'], [u'AUTOREJECT'], [], [], [], [], [], [], [], [], [], [], [], [], [u'AUTOREJECT'], [u'AUTOREJECT'], [u'AUTOREJECT'], [u'AUTOREJECT'], [], [], [], [], [], [], [], [u'AUTOREJECT'], [u'AUTOREJECT'], [], [], [], [], [], [u'AUTOREJECT'], [u'AUTOREJECT'], [u'AUTOREJECT'], [u'AUTOREJECT'], [u'AUTOREJECT'], [], [], [], [], [], [], [], [u'AUTOREJECT'], [u'AUTOREJECT'], [], [], [u'AUTOREJECT'], [u'AUTOREJECT'], [], [], [u'AUTOREJECT'], [u'AUTOREJECT'], [], [], [], [], [], [], [], [], [], [], [u'AUTOREJECT'], [u'AUTOREJECT'], [], [u'AUTOREJECT'], [], [], [u'AUTOREJECT'], [u'AUTOREJECT'], [], [], [], [u'AUTOREJECT'], [], [], [], [], [u'AUTOREJECT'], [], [], [], [], [], [], [], [], [], [u'AUTOREJECT'], [u'AUTOREJECT'], [], [], [], [], [], [], [], [u'AUTOREJECT'], [], [], [], [], [], [u'AUTOREJECT'], [u'AUTOREJECT'], [u'AUTOREJECT'], [], [u'AUTOREJECT'], [], [], [], [], [], [], [], [u'USER'], [], [], [u'AUTOREJECT'], [], [u'AUTOREJECT'], [], [u'AUTOREJECT'], [u'AUTOREJECT'], [u'AUTOREJECT'], [u'AUTOREJECT'], [u'AUTOREJECT'], [], [u'AUTOREJECT'], [u'AUTOREJECT'], [u'AUTOREJECT'], [u'AUTOREJECT'], [], [], [], [], [], [], [], [], [u'AUTOREJECT'], [u'AUTOREJECT'], [], [], [], [], [], [], [u'AUTOREJECT'], [u'AUTOREJECT'], [u'AUTOREJECT'], [], [], [u'AUTOREJECT'], [u'AUTOREJECT'], []]\n",
      "File(filename='/autofs/space/cassia_001/users/matt/msit/data/derivatives/eeg_preprocessing/sub-hc003/epochs/sub-hc003_stimulus-epo.fif', derivative='eeg_preprocessing', modality='eeg', subject='sub-hc003')\n",
      "(191, 84, 4251)\n",
      "(137, 84, 4251)\n",
      "[  3  14  34  60  83  99 109 114 124 125 140 153 159 189]\n"
     ]
    }
   ],
   "source": [
    "from grabbit import Layout\n",
    "import pandas as pd\n",
    "\n",
    "layout = Layout('../data', '../data/grabbit_config.json')\n",
    "ar_files = layout.get(subject='sub-.*', derivative='eeg_preprocessing', \n",
    "                      extensions='ar.pkl')\n",
    "epo_files = layout.get(subject='sub-.*', derivative='eeg_preprocessing', \n",
    "                      extensions='ar-epo.fif')\n",
    "\n",
    "behavior = pd.read_csv('../data/derivatives/behavior/group_data.tsv', na_values='n/a', sep='\\t') \n",
    "\n",
    "behavior = behavior[behavior.modality == 'eeg']\n",
    "behavior = behavior[behavior.participant_id == 'sub-hc002']\n",
    "behavior = behavior[behavior.no_response != 1]\n",
    "print(behavior.shape)\n",
    "\n",
    "f = ar_files[5]\n",
    "print(f)\n",
    "with open(f.filename, 'r') as inp:\n",
    "    ar = pickle.load(inp)\n",
    "print(ar.bad_epochs_idx, len(ar.bad_epochs_idx))\n",
    "\n",
    "f = epo_files[5]\n",
    "print(f)\n",
    "epo = read_epochs(f.filename, verbose=False)\n",
    "print(epo.get_data().shape)\n",
    "print(epo.drop_log)\n",
    "\n",
    "epo_files = layout.get(subject='sub-.*', derivative='eeg_preprocessing', \n",
    "                      extensions='stimulus-epo.fif')\n",
    "f = epo_files[2]\n",
    "print(f)\n",
    "epo = read_epochs(f.filename, verbose=False)\n",
    "print(epo.get_data().shape)\n",
    "epo_ar = ar.transform(epo)\n",
    "print(epo_ar.get_data().shape)\n",
    "print(ar.bad_epochs_idx)\n"
   ]
  },
  {
   "cell_type": "code",
   "execution_count": 36,
   "metadata": {
    "ExecuteTime": {
     "end_time": "2017-10-18T18:08:43.838168Z",
     "start_time": "2017-10-18T18:08:43.834027Z"
    }
   },
   "outputs": [],
   "source": [
    "f = files[5]\n",
    "epo_files = layout.get(subject='sub-.*', derivative='eeg_preprocessing', \n",
    "                      extensions='ar-epo.fif')"
   ]
  },
  {
   "cell_type": "code",
   "execution_count": 37,
   "metadata": {
    "ExecuteTime": {
     "end_time": "2017-10-18T18:08:44.287254Z",
     "start_time": "2017-10-18T18:08:44.150994Z"
    }
   },
   "outputs": [],
   "source": [
    "import pickle\n",
    "with open(f.filename, 'r') as inp:\n",
    "    ar = pickle.load(inp)"
   ]
  },
  {
   "cell_type": "code",
   "execution_count": 38,
   "metadata": {
    "ExecuteTime": {
     "end_time": "2017-10-18T18:08:46.417215Z",
     "start_time": "2017-10-18T18:08:46.409598Z"
    }
   },
   "outputs": [
    {
     "data": {
      "text/plain": [
       "array([  3,  14,  34,  60,  83,  99, 109, 114, 124, 125, 140, 153, 159, 189])"
      ]
     },
     "execution_count": 38,
     "metadata": {},
     "output_type": "execute_result"
    }
   ],
   "source": [
    "ar.bad_epochs_idx"
   ]
  },
  {
   "cell_type": "code",
   "execution_count": 16,
   "metadata": {
    "ExecuteTime": {
     "end_time": "2017-10-18T18:01:15.605118Z",
     "start_time": "2017-10-18T18:01:11.894274Z"
    }
   },
   "outputs": [
    {
     "name": "stdout",
     "output_type": "stream",
     "text": [
      "Reading /autofs/space/cassia_001/users/matt/msit/data/derivatives/eeg_preprocessing/sub-hc002/autoreject/sub-hc002_response_ar-epo.fif ...\n",
      "    Read a total of 5 projection items:\n",
      "        axial-10.0-200.0-PCA-01 (1 x 102) active\n",
      "        axial-10.0-200.0-PCA-02 (1 x 102) active\n",
      "        axial-10.0-200.0-PCA-03 (1 x 102) active\n",
      "        axial-10.0-200.0-PCA-04 (1 x 102) active\n",
      "        Average EEG reference (1 x 61) active\n",
      "    Found the data of interest:\n",
      "        t =   -2000.00 ...    2000.00 ms (None)\n",
      "        0 CTF compensation matrices available\n",
      "164 matching events found\n",
      "Created an SSP operator (subspace dimension = 1)\n",
      "164 matching events found\n",
      "Created an SSP operator (subspace dimension = 1)\n",
      "5 projection items activated\n"
     ]
    }
   ],
   "source": [
    "epo = read_epochs(f.filename)"
   ]
  },
  {
   "cell_type": "code",
   "execution_count": 17,
   "metadata": {
    "ExecuteTime": {
     "end_time": "2017-10-18T18:01:15.650245Z",
     "start_time": "2017-10-18T18:01:15.641710Z"
    }
   },
   "outputs": [
    {
     "name": "stdout",
     "output_type": "stream",
     "text": [
      "(164, 84, 4001)\n"
     ]
    }
   ],
   "source": [
    "print(epo.get_data().shape)"
   ]
  },
  {
   "cell_type": "code",
   "execution_count": null,
   "metadata": {
    "collapsed": true
   },
   "outputs": [],
   "source": []
  }
 ],
 "metadata": {
  "kernelspec": {
   "display_name": "Python 2",
   "language": "python",
   "name": "python2"
  },
  "language_info": {
   "codemirror_mode": {
    "name": "ipython",
    "version": 2
   },
   "file_extension": ".py",
   "mimetype": "text/x-python",
   "name": "python",
   "nbconvert_exporter": "python",
   "pygments_lexer": "ipython2",
   "version": "2.7.13"
  },
  "toc": {
   "colors": {
    "hover_highlight": "#DAA520",
    "navigate_num": "#000000",
    "navigate_text": "#333333",
    "running_highlight": "#FF0000",
    "selected_highlight": "#FFD700",
    "sidebar_border": "#EEEEEE",
    "wrapper_background": "#FFFFFF"
   },
   "moveMenuLeft": true,
   "nav_menu": {
    "height": "30px",
    "width": "252px"
   },
   "navigate_menu": true,
   "number_sections": true,
   "sideBar": true,
   "threshold": 4,
   "toc_cell": false,
   "toc_section_display": "block",
   "toc_window_display": false,
   "widenNotebook": false
  },
  "varInspector": {
   "cols": {
    "lenName": 16,
    "lenType": 16,
    "lenVar": 40
   },
   "kernels_config": {
    "python": {
     "delete_cmd_postfix": "",
     "delete_cmd_prefix": "del ",
     "library": "var_list.py",
     "varRefreshCmd": "print(var_dic_list())"
    },
    "r": {
     "delete_cmd_postfix": ") ",
     "delete_cmd_prefix": "rm(",
     "library": "var_list.r",
     "varRefreshCmd": "cat(var_dic_list()) "
    }
   },
   "types_to_exclude": [
    "module",
    "function",
    "builtin_function_or_method",
    "instance",
    "_Feature"
   ],
   "window_display": false
  }
 },
 "nbformat": 4,
 "nbformat_minor": 2
}
