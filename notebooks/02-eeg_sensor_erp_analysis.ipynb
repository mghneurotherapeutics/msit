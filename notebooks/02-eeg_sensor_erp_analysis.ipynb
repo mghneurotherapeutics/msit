{
 "cells": [
  {
   "cell_type": "markdown",
   "metadata": {},
   "source": [
    "# Initialization"
   ]
  },
  {
   "cell_type": "code",
   "execution_count": 1,
   "metadata": {
    "ExecuteTime": {
     "end_time": "2017-11-07T23:30:47.994540Z",
     "start_time": "2017-11-07T23:30:44.845689Z"
    }
   },
   "outputs": [],
   "source": [
    "import os\n",
    "import numpy as np\n",
    "import pickle\n",
    "import json\n",
    "import pandas as pd\n",
    "from grabbit import Layout\n",
    "from mne import read_epochs, grand_average, write_evokeds, read_evokeds\n",
    "from mne import pick_types, combine_evoked, set_log_level\n",
    "from mne.viz import plot_compare_evokeds\n",
    "from msit import CH_NAMES, select_subjects, add_events, drop_bad_trials\n",
    "import matplotlib.pyplot as plt\n",
    "from mne import read_evokeds\n",
    "import pickle\n",
    "\n",
    "set_log_level('critical')\n",
    "\n",
    "# load subject names to process\n",
    "layout = Layout('../data', '../data/grabbit_config.json')\n",
    "subjects = select_subjects(layout, 'eeg', exclude='eeg')\n",
    "\n",
    "# load eeg configurations\n",
    "with open('../config.json') as f:    \n",
    "    config = json.load(f)\n",
    "\n",
    "# load behavior\n",
    "behavior = pd.read_csv('../data/derivatives/behavior/group_data.tsv', \n",
    "                       na_values='n/a', sep='\\t') \n",
    "behavior = behavior[behavior.modality == 'eeg']\n",
    "\n",
    "pipeline_root = '../data/derivatives/eeg_sensor_erps'"
   ]
  },
  {
   "cell_type": "markdown",
   "metadata": {},
   "source": [
    "# Make Directory Structure"
   ]
  },
  {
   "cell_type": "code",
   "execution_count": 2,
   "metadata": {
    "ExecuteTime": {
     "end_time": "2017-11-07T23:30:48.405897Z",
     "start_time": "2017-11-07T23:30:48.401465Z"
    }
   },
   "outputs": [],
   "source": [
    "# Make directory structure\n",
    "if not os.path.exists(pipeline_root):\n",
    "    os.makedirs(pipeline_root)\n",
    "for subject in subjects + ['group']:\n",
    "    if not os.path.exists('%s/%s' % (pipeline_root, subject)):\n",
    "        os.makedirs('%s/%s' % (pipeline_root, subject))"
   ]
  },
  {
   "cell_type": "markdown",
   "metadata": {},
   "source": [
    "# Make Evoked Data"
   ]
  },
  {
   "cell_type": "code",
   "execution_count": 11,
   "metadata": {
    "ExecuteTime": {
     "end_time": "2017-11-07T23:56:01.394544Z",
     "start_time": "2017-11-07T23:45:41.994147Z"
    },
    "scrolled": true
   },
   "outputs": [
    {
     "name": "stdout",
     "output_type": "stream",
     "text": [
      "stimulus\n",
      "condition\n",
      "sub-hc001\n",
      "sub-hc002\n",
      "sub-hc003\n",
      "sub-hc004\n",
      "sub-hc005\n",
      "sub-hc006\n",
      "sub-hc007\n",
      "sub-hc008\n",
      "sub-hc009\n",
      "sub-hc010\n",
      "sub-hc011\n",
      "sub-hc012\n",
      "sub-hc014\n",
      "sub-hc015\n",
      "sub-hc016\n",
      "sub-hc017\n",
      "sub-hc019\n",
      "sub-hc020\n",
      "sub-hc021\n",
      "sub-hc022\n",
      "sub-hc023\n",
      "sub-hc024\n",
      "sub-hc025\n",
      "sub-hc026\n",
      "sub-hc028\n",
      "sub-hc029\n",
      "sub-hc030\n",
      "sub-hc031\n",
      "sub-hc032\n",
      "sub-hc033\n",
      "sub-hc034\n",
      "sub-hc035\n",
      "sub-hc036\n",
      "sub-hc037\n",
      "sub-hc042\n",
      "sub-hc044\n",
      "sub-hc045\n",
      "sub-pp001\n",
      "sub-pp002\n",
      "sub-pp003\n",
      "sub-pp004\n",
      "sub-pp005\n",
      "sub-pp006\n",
      "sub-pp007\n",
      "sub-pp008\n",
      "sub-pp009\n",
      "sub-pp010\n",
      "sub-pp011\n",
      "sub-pp012\n",
      "sub-pp013\n",
      "sub-pp014\n",
      "sub-pp015\n",
      "sub-pp016\n",
      "laterality\n",
      "sub-hc001\n",
      "sub-hc002\n",
      "sub-hc003\n",
      "sub-hc004\n",
      "sub-hc005\n",
      "sub-hc006\n",
      "sub-hc007\n",
      "sub-hc008\n",
      "sub-hc009\n",
      "sub-hc010\n",
      "sub-hc011\n",
      "sub-hc012\n",
      "sub-hc014\n",
      "sub-hc015\n",
      "sub-hc016\n",
      "sub-hc017\n",
      "sub-hc019\n",
      "sub-hc020\n",
      "sub-hc021\n",
      "sub-hc022\n",
      "sub-hc023\n",
      "sub-hc024\n",
      "sub-hc025\n",
      "sub-hc026\n",
      "sub-hc028\n",
      "sub-hc029\n",
      "sub-hc030\n",
      "sub-hc031\n",
      "sub-hc032\n",
      "sub-hc033\n",
      "sub-hc034\n",
      "sub-hc035\n",
      "sub-hc036\n",
      "sub-hc037\n",
      "sub-hc042\n",
      "sub-hc044\n",
      "sub-hc045\n",
      "sub-pp001\n",
      "sub-pp002\n",
      "sub-pp003\n",
      "sub-pp004\n",
      "sub-pp005\n",
      "sub-pp006\n",
      "sub-pp007\n",
      "sub-pp008\n",
      "sub-pp009\n",
      "sub-pp010\n",
      "sub-pp011\n",
      "sub-pp012\n",
      "sub-pp013\n",
      "sub-pp014\n",
      "sub-pp015\n",
      "sub-pp016\n",
      "response\n",
      "condition\n",
      "sub-hc001\n",
      "sub-hc002\n",
      "sub-hc003\n",
      "sub-hc004\n",
      "sub-hc005\n",
      "sub-hc006\n",
      "sub-hc007\n",
      "sub-hc008\n",
      "sub-hc009\n",
      "sub-hc010\n",
      "sub-hc011\n",
      "sub-hc012\n",
      "sub-hc014\n",
      "sub-hc015\n",
      "sub-hc016\n",
      "sub-hc017\n",
      "sub-hc019\n",
      "sub-hc020\n",
      "sub-hc021\n",
      "sub-hc022\n",
      "sub-hc023\n",
      "sub-hc024\n",
      "sub-hc025\n",
      "sub-hc026\n",
      "sub-hc028\n",
      "sub-hc029\n",
      "sub-hc030\n",
      "sub-hc031\n",
      "sub-hc032\n",
      "sub-hc033\n",
      "sub-hc034\n",
      "sub-hc035\n",
      "sub-hc036\n",
      "sub-hc037\n",
      "sub-hc042\n",
      "sub-hc044\n",
      "sub-hc045\n",
      "sub-pp001\n",
      "sub-pp002\n",
      "sub-pp003\n",
      "sub-pp004\n",
      "sub-pp005\n",
      "sub-pp006\n",
      "sub-pp007\n",
      "sub-pp008\n",
      "sub-pp009\n",
      "sub-pp010\n",
      "sub-pp011\n",
      "sub-pp012\n",
      "sub-pp013\n",
      "sub-pp014\n",
      "sub-pp015\n",
      "sub-pp016\n",
      "laterality\n",
      "sub-hc001\n",
      "sub-hc002\n",
      "sub-hc003\n",
      "sub-hc004\n",
      "sub-hc005\n",
      "sub-hc006\n",
      "sub-hc007\n",
      "sub-hc008\n",
      "sub-hc009\n",
      "sub-hc010\n",
      "sub-hc011\n",
      "sub-hc012\n",
      "sub-hc014\n",
      "sub-hc015\n",
      "sub-hc016\n",
      "sub-hc017\n",
      "sub-hc019\n",
      "sub-hc020\n",
      "sub-hc021\n",
      "sub-hc022\n",
      "sub-hc023\n",
      "sub-hc024\n",
      "sub-hc025\n",
      "sub-hc026\n",
      "sub-hc028\n",
      "sub-hc029\n",
      "sub-hc030\n",
      "sub-hc031\n",
      "sub-hc032\n",
      "sub-hc033\n",
      "sub-hc034\n",
      "sub-hc035\n",
      "sub-hc036\n",
      "sub-hc037\n",
      "sub-hc042\n",
      "sub-hc044\n",
      "sub-hc045\n",
      "sub-pp001\n",
      "sub-pp002\n",
      "sub-pp003\n",
      "sub-pp004\n",
      "sub-pp005\n",
      "sub-pp006\n",
      "sub-pp007\n",
      "sub-pp008\n",
      "sub-pp009\n",
      "sub-pp010\n",
      "sub-pp011\n",
      "sub-pp012\n",
      "sub-pp013\n",
      "sub-pp014\n",
      "sub-pp015\n",
      "sub-pp016\n",
      "Done!\n"
     ]
    }
   ],
   "source": [
    "for epo_type, epo_times in zip(config['epoch_types'], \n",
    "                               config['epoch_times']):\n",
    "    print(epo_type)\n",
    "    \n",
    "    for event_type in config['event_types']:\n",
    "        print(event_type)\n",
    "        group_info = {}\n",
    "        mne_evokeds = {}\n",
    "        group_info['evokeds'] = {}\n",
    "        group_info['naves'] = {}\n",
    "        group_info['ses'] = {}\n",
    "        for event in config[event_type]:\n",
    "            mne_evokeds[event] = []\n",
    "            group_info['evokeds'][event] = []\n",
    "            group_info['ses'][event] = []\n",
    "            group_info['naves'][event] = []\n",
    "        group_info['bads'] = []\n",
    "    \n",
    "        for subject in subjects:\n",
    "            print(subject)\n",
    "\n",
    "            # load subject behavior and epochs\n",
    "            sub_behavior = behavior[behavior.participant_id == subject]\n",
    "            epo_file = layout.get(subject=subject, \n",
    "                                  derivative='eeg_preprocessing', \n",
    "                                  extensions='%s_cleaned-epo.fif' % epo_type)[0]\n",
    "            epochs = read_epochs(epo_file.filename, verbose=False)\n",
    "\n",
    "            # remove filter buffer \n",
    "            epochs.crop(epo_times[0], epo_times[1])\n",
    "            # interpolate the bad channels\n",
    "            group_info['bads'].append(epochs.info['bads'])\n",
    "            epochs.interpolate_bads(reset_bads=True)\n",
    "            # drop bad trials from epochs and behavior\n",
    "            sub_behavior, epochs = drop_bad_trials(subject, sub_behavior, \n",
    "                                                   epochs, layout, epo_type)\n",
    "\n",
    "            # add event labels\n",
    "            epochs = add_events(epochs, sub_behavior, event_type,\n",
    "                                config[event_type])\n",
    "\n",
    "            # compute averages and standard errors \n",
    "            evos = [epochs[event].average() for event in config[event_type]]\n",
    "            evos_se = [epochs[event].standard_error() \n",
    "                       for event in config[event_type]]\n",
    "            \n",
    "            # write subject evoked objects to file\n",
    "            write_evokeds('%s/%s/%s_%s_%s-ave.fif' % (pipeline_root,\n",
    "                                                      subject, subject,\n",
    "                                                      event_type, epo_type), \n",
    "                          evos)\n",
    "            # accumulate evoked objects for group average topomap\n",
    "            for i, event in enumerate(config[event_type]):\n",
    "                mne_evokeds[event].append(evos[i])\n",
    "            \n",
    "            # extract info for group erp object\n",
    "            for i, event in enumerate(config[event_type]):\n",
    "                group_info['evokeds'][event].append(evos[i].data)\n",
    "                group_info['ses'][event].append(evos_se[i].data)\n",
    "                group_info['naves'][event].append(evos[i].nave)\n",
    "            \n",
    "        # save out group erp information\n",
    "        for event in config[event_type]:\n",
    "            group_info['evokeds'][event] = np.array(group_info['evokeds'][event])\n",
    "            group_info['ses'][event] = np.array(group_info['ses'][event])\n",
    "            group_info['naves'][event] = np.array(group_info['naves'][event])\n",
    "            \n",
    "        group_info['chs'] = evos[0].ch_names\n",
    "        group_info['times'] = evos[0].times\n",
    "        f = '%s/group/group_%s_%s_erp_info.pickle' % (pipeline_root, \n",
    "                                                   event_type, epo_type)\n",
    "        with open(f, 'w') as fid:\n",
    "            pickle.dump(group_info, fid, protocol=pickle.HIGHEST_PROTOCOL)\n",
    "            \n",
    "\n",
    "        # calculate group average evoked object and save \n",
    "        evos = [combine_evoked(mne_evokeds[event], weights='nave')\n",
    "                for event in config[event_type]]\n",
    "        write_evokeds('%s/group/group_%s_%s-ave.fif' % (pipeline_root, \n",
    "                                                        event_type,\n",
    "                                                        epo_type), evos)\n",
    "\n",
    "\n",
    "print('Done!')"
   ]
  },
  {
   "cell_type": "markdown",
   "metadata": {},
   "source": [
    "# Plot Topomaps "
   ]
  },
  {
   "cell_type": "code",
   "execution_count": 46,
   "metadata": {
    "ExecuteTime": {
     "end_time": "2017-11-07T22:13:14.466767Z",
     "start_time": "2017-11-07T22:13:13.011662Z"
    }
   },
   "outputs": [
    {
     "data": {
      "application/vnd.jupyter.widget-view+json": {
       "model_id": "35ad4a6ab84c4bfd80ea87d40e0c4433"
      }
     },
     "metadata": {},
     "output_type": "display_data"
    }
   ],
   "source": [
    "from mne import read_evokeds\n",
    "import matplotlib.pyplot as plt\n",
    "import seaborn as sns\n",
    "from ipywidgets import interact\n",
    "\n",
    "def plot_topomap(subject, epo_type, event_type, time, col_limit):\n",
    "    plt.close('all')\n",
    "    f = '%s/%s/%s_%s_%s-ave.fif' % (pipeline_root, subject, subject,\n",
    "                                          event_type, epo_type)\n",
    "    evokeds = read_evokeds(f)\n",
    "    \n",
    "    f, axs = plt.subplots(1, len(evokeds) + 1, figsize=(6 * len(evokeds) + 1, \n",
    "                                                        6))\n",
    "    \n",
    "    for i, evo in enumerate(evokeds):\n",
    "        evo.plot_topomap(times=time, axes=axs[i], colorbar=True, \n",
    "                         show=False, vmin=-col_limit, vmax=col_limit)\n",
    "        axs[i].set_xlabel(config[event_type][i])\n",
    "    plt.show();\n",
    "\n",
    "interact(plot_topomap, subject=['group'] + subjects, \n",
    "         epo_type=['response', 'stimulus'], event_type=config['event_types'],\n",
    "         time=np.arange(-1, 1.75, .01), col_limit=np.arange(.5, 5, .5));"
   ]
  },
  {
   "cell_type": "markdown",
   "metadata": {},
   "source": [
    "# Plot Group ERPs"
   ]
  },
  {
   "cell_type": "code",
   "execution_count": 22,
   "metadata": {
    "ExecuteTime": {
     "end_time": "2017-11-08T00:07:56.249859Z",
     "start_time": "2017-11-08T00:07:55.078705Z"
    }
   },
   "outputs": [
    {
     "data": {
      "application/vnd.jupyter.widget-view+json": {
       "model_id": "958efdca864b42b6ac6841e34f7d1bd0"
      }
     },
     "metadata": {},
     "output_type": "display_data"
    },
    {
     "data": {
      "text/plain": [
       "<function __main__.plot_group_erps>"
      ]
     },
     "execution_count": 22,
     "metadata": {},
     "output_type": "execute_result"
    }
   ],
   "source": [
    "from mne import read_evokeds\n",
    "import matplotlib.pyplot as plt\n",
    "import seaborn as sns\n",
    "from ipywidgets import interact\n",
    "\n",
    "def plot_group_erps(event_type, weight, ch):\n",
    "    plt.close('all')\n",
    "    \n",
    "    fig, axs = plt.subplots(1, len(config['epoch_types']), \n",
    "                          figsize=(len(config['epoch_types']) * 12, 6))\n",
    "    \n",
    "    for i, epo_type in enumerate(config['epoch_types']):\n",
    "        ax = axs[i]\n",
    "        \n",
    "        f = '%s/group/group_%s_%s_erp_info.pickle' % (pipeline_root, \n",
    "                                                      event_type, epo_type)\n",
    "        with open(f, 'r') as fid:\n",
    "            info = pickle.load(fid)\n",
    "        ch_ix = list(info['chs']).index(ch)\n",
    "        times = info['times']\n",
    "        data = info['evokeds']\n",
    "        naves = info['naves']\n",
    "        std_err = info['ses']\n",
    "        \n",
    "        for j, event in enumerate(config[event_type]):\n",
    "            cond_data = data[event]\n",
    "            if weight == 'equal':\n",
    "                weights = np.ones(cond_data.shape[0])\n",
    "            elif weight == 'nave':\n",
    "                weights = naves[event]\n",
    "            elif weight == 'std_err':\n",
    "                weights = std_err[event]\n",
    "            cond_data = np.average(cond_data, axis=0, weights=weights)\n",
    "            cond_data = cond_data[ch_ix, :] * 1e6\n",
    "            ax.plot(times, cond_data)\n",
    "        \n",
    "        ax.set_title('%s-Locked' % epo_type)\n",
    "        ax.axvline(0, color='k')\n",
    "        ax.axhline(0, color='k')\n",
    "    \n",
    "    plt.suptitle(ch)\n",
    "    ax.legend(config[event_type])\n",
    "    sns.despine()\n",
    "    plt.show()\n",
    "\n",
    "interact(plot_group_erps, event_type=['condition', 'laterality'],\n",
    "         weight=['equal', 'nave', 'std_err'], ch=CH_NAMES)"
   ]
  },
  {
   "cell_type": "code",
   "execution_count": 61,
   "metadata": {
    "ExecuteTime": {
     "end_time": "2017-11-07T23:19:10.720447Z",
     "start_time": "2017-11-07T23:19:10.715250Z"
    },
    "collapsed": true
   },
   "outputs": [],
   "source": [
    "f = '%s/group/group_%s_%s_erp_info.npz' % (pipeline_root, \n",
    "                                           'condition', 'stimulus')\n",
    "info = np.load(f)"
   ]
  },
  {
   "cell_type": "code",
   "execution_count": 71,
   "metadata": {
    "ExecuteTime": {
     "end_time": "2017-11-07T23:21:00.306848Z",
     "start_time": "2017-11-07T23:20:59.434232Z"
    },
    "collapsed": true
   },
   "outputs": [],
   "source": [
    "data = info['evoked']"
   ]
  },
  {
   "cell_type": "code",
   "execution_count": 72,
   "metadata": {
    "ExecuteTime": {
     "end_time": "2017-11-07T23:21:04.845455Z",
     "start_time": "2017-11-07T23:21:04.841545Z"
    }
   },
   "outputs": [
    {
     "name": "stdout",
     "output_type": "stream",
     "text": [
      "()\n"
     ]
    }
   ],
   "source": [
    "print(data.shape)"
   ]
  },
  {
   "cell_type": "code",
   "execution_count": 74,
   "metadata": {
    "ExecuteTime": {
     "end_time": "2017-11-07T23:21:22.198552Z",
     "start_time": "2017-11-07T23:21:22.167098Z"
    }
   },
   "outputs": [
    {
     "ename": "IndexError",
     "evalue": "too many indices for array",
     "output_type": "error",
     "traceback": [
      "\u001b[0;31m---------------------------------------------------------------------------\u001b[0m",
      "\u001b[0;31mIndexError\u001b[0m                                Traceback (most recent call last)",
      "\u001b[0;32m<ipython-input-74-a67c259cf861>\u001b[0m in \u001b[0;36m<module>\u001b[0;34m()\u001b[0m\n\u001b[0;32m----> 1\u001b[0;31m \u001b[0;32mprint\u001b[0m\u001b[0;34m(\u001b[0m\u001b[0mdata\u001b[0m\u001b[0;34m[\u001b[0m\u001b[0;36m0\u001b[0m\u001b[0;34m]\u001b[0m\u001b[0;34m)\u001b[0m\u001b[0;34m\u001b[0m\u001b[0m\n\u001b[0m",
      "\u001b[0;31mIndexError\u001b[0m: too many indices for array"
     ]
    }
   ],
   "source": [
    "print(data)"
   ]
  },
  {
   "cell_type": "code",
   "execution_count": null,
   "metadata": {
    "collapsed": true
   },
   "outputs": [],
   "source": []
  }
 ],
 "metadata": {
  "kernelspec": {
   "display_name": "Python 2",
   "language": "python",
   "name": "python2"
  },
  "language_info": {
   "codemirror_mode": {
    "name": "ipython",
    "version": 2
   },
   "file_extension": ".py",
   "mimetype": "text/x-python",
   "name": "python",
   "nbconvert_exporter": "python",
   "pygments_lexer": "ipython2",
   "version": "2.7.13"
  },
  "toc": {
   "colors": {
    "hover_highlight": "#DAA520",
    "navigate_num": "#000000",
    "navigate_text": "#333333",
    "running_highlight": "#FF0000",
    "selected_highlight": "#FFD700",
    "sidebar_border": "#EEEEEE",
    "wrapper_background": "#FFFFFF"
   },
   "moveMenuLeft": true,
   "nav_menu": {
    "height": "30px",
    "width": "252px"
   },
   "navigate_menu": true,
   "number_sections": true,
   "sideBar": true,
   "threshold": 4,
   "toc_cell": false,
   "toc_section_display": "block",
   "toc_window_display": true,
   "widenNotebook": false
  },
  "varInspector": {
   "cols": {
    "lenName": 16,
    "lenType": 16,
    "lenVar": 40
   },
   "kernels_config": {
    "python": {
     "delete_cmd_postfix": "",
     "delete_cmd_prefix": "del ",
     "library": "var_list.py",
     "varRefreshCmd": "print(var_dic_list())"
    },
    "r": {
     "delete_cmd_postfix": ") ",
     "delete_cmd_prefix": "rm(",
     "library": "var_list.r",
     "varRefreshCmd": "cat(var_dic_list()) "
    }
   },
   "types_to_exclude": [
    "module",
    "function",
    "builtin_function_or_method",
    "instance",
    "_Feature"
   ],
   "window_display": false
  }
 },
 "nbformat": 4,
 "nbformat_minor": 2
}
