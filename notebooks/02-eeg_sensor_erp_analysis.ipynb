{
 "cells": [
  {
   "cell_type": "markdown",
   "metadata": {},
   "source": [
    "# Initialization"
   ]
  },
  {
   "cell_type": "code",
   "execution_count": 3,
   "metadata": {
    "ExecuteTime": {
     "end_time": "2017-10-23T12:15:19.203312Z",
     "start_time": "2017-10-23T12:15:17.521500Z"
    }
   },
   "outputs": [],
   "source": [
    "import os\n",
    "import numpy as np\n",
    "import pickle\n",
    "import json\n",
    "import pandas as pd\n",
    "from grabbit import Layout\n",
    "from mne import read_epochs, grand_average, write_evokeds, read_evokeds\n",
    "from mne.viz import plot_compare_evokeds\n",
    "from msit import CH_NAMES\n",
    "import matplotlib.pyplot as plt\n",
    "\n",
    "# load subject names to process\n",
    "pipeline_root = '../data/derivatives/eeg_sensor_erps'\n",
    "layout = Layout('../data', '../data/grabbit_config.json')\n",
    "subjects = np.array(sorted(layout.get(target='subject', \n",
    "                                      modality='eeg',\n",
    "                                      return_type='id')))\n",
    "\n",
    "# load eeg configurations\n",
    "with open('../config.json') as f:    \n",
    "    config = json.load(f)\n",
    "\n",
    "# load behavior\n",
    "behavior = pd.read_csv('../data/derivatives/behavior/group_data.tsv', \n",
    "                       na_values='n/a', sep='\\t') \n",
    "behavior = behavior[behavior.modality == 'eeg']\n",
    "\n",
    "# Make directory structure\n",
    "pipeline_root = '../data/derivatives/eeg_sensor_erps'\n",
    "if not os.path.exists(pipeline_root):\n",
    "    os.makedirs(pipeline_root)\n",
    "\n",
    "layout = Layout('../data', '../data/grabbit_config.json')\n",
    "subjects = layout.get(target='subject', modality='eeg', return_type='id')\n",
    "\n",
    "for subject in subjects + ['group']:\n",
    "    if not os.path.exists('%s/%s/erps' % (pipeline_root, subject)):\n",
    "        os.makedirs('%s/%s/erps' % (pipeline_root, subject))"
   ]
  },
  {
   "cell_type": "markdown",
   "metadata": {},
   "source": [
    "# Make Evoked Data"
   ]
  },
  {
   "cell_type": "code",
   "execution_count": 4,
   "metadata": {
    "ExecuteTime": {
     "end_time": "2017-10-23T12:15:55.430829Z",
     "start_time": "2017-10-23T12:15:33.993548Z"
    },
    "scrolled": true
   },
   "outputs": [
    {
     "name": "stdout",
     "output_type": "stream",
     "text": [
      "sub-hc001\n",
      "Computing interpolation matrix from 60 sensor positions\n",
      "Interpolating 10 sensors\n"
     ]
    },
    {
     "name": "stderr",
     "output_type": "stream",
     "text": [
      "/autofs/space/cassia_001/users/matt/software/anaconda2.7/lib/python2.7/site-packages/sklearn/cross_validation.py:44: DeprecationWarning: This module was deprecated in version 0.18 in favor of the model_selection module into which all the refactored classes and functions are moved. Also note that the interface of the new CV iterators are different from that of this module. This module will be removed in 0.20.\n",
      "  \"This module will be removed in 0.20.\", DeprecationWarning)\n"
     ]
    },
    {
     "name": "stdout",
     "output_type": "stream",
     "text": [
      "sub-hc002\n",
      "Computing interpolation matrix from 61 sensor positions\n",
      "Interpolating 9 sensors\n",
      "sub-hc003\n",
      "Computing interpolation matrix from 67 sensor positions\n",
      "Interpolating 3 sensors\n",
      "sub-hc004\n",
      "Computing interpolation matrix from 68 sensor positions\n",
      "Interpolating 2 sensors\n",
      "sub-hc005\n",
      "Computing interpolation matrix from 66 sensor positions\n",
      "Interpolating 4 sensors\n",
      "Identiying common channels ...\n",
      "all channels are corresponding, nothing to do.\n",
      "Identiying common channels ...\n",
      "all channels are corresponding, nothing to do.\n",
      "sub-hc001\n",
      "Computing interpolation matrix from 60 sensor positions\n",
      "Interpolating 10 sensors\n",
      "sub-hc002\n",
      "Computing interpolation matrix from 61 sensor positions\n",
      "Interpolating 9 sensors\n",
      "sub-hc003\n",
      "Computing interpolation matrix from 67 sensor positions\n",
      "Interpolating 3 sensors\n",
      "sub-hc004\n",
      "Computing interpolation matrix from 68 sensor positions\n",
      "Interpolating 2 sensors\n",
      "sub-hc005\n",
      "Computing interpolation matrix from 66 sensor positions\n",
      "Interpolating 4 sensors\n",
      "Identiying common channels ...\n",
      "all channels are corresponding, nothing to do.\n",
      "Identiying common channels ...\n",
      "all channels are corresponding, nothing to do.\n",
      "Done!\n"
     ]
    }
   ],
   "source": [
    "for epo_type, epo_times in zip(config['epoch_types'], \n",
    "                               config['epoch_times']):\n",
    "    \n",
    "    evokeds = {'incongruent': [], 'congruent': []}\n",
    "    \n",
    "    for subject in subjects:\n",
    "        print(subject)\n",
    "\n",
    "        sub_behavior = behavior[behavior.participant_id == subject]\n",
    "        sub_behavior = sub_behavior[sub_behavior.no_response != 1].reset_index()\n",
    "    \n",
    "        # load, crop, and interpolate cleaned epochs\n",
    "        epo_file = layout.get(subject=subject, \n",
    "                              derivative='eeg_preprocessing', \n",
    "                              extensions='%s_cleaned-epo.fif' % epo_type)[0].filename\n",
    "        epochs = read_epochs(epo_file, verbose=False)\n",
    "        epochs.crop(epo_times[0], epo_times[1])\n",
    "        epochs.interpolate_bads(reset_bads=True)\n",
    "\n",
    "        # drop bad eeg trials from behavior\n",
    "        ar_file = layout.get(subject=subject, \n",
    "                             derivative='eeg_preprocessing', \n",
    "                             extensions='%s_ar.pkl' % epo_type)[0].filename\n",
    "        ar = pickle.load(open(ar_file, 'r'))\n",
    "        sub_behavior = sub_behavior.drop(ar.bad_epochs_idx).reset_index()\n",
    "        \n",
    "        # drop bad behavior trials from eeg and behavior\n",
    "        behavior_exclude = np.where(np.sum(sub_behavior[['fast_rt', 'error', \n",
    "                                                         'post_error']], \n",
    "                                           axis=1))[0]\n",
    "        sub_behavior = sub_behavior.drop(behavior_exclude)\n",
    "        epochs.drop(behavior_exclude)\n",
    "        \n",
    "        # inject event labels\n",
    "        events = sub_behavior.trial_type.astype('category').cat.codes\n",
    "        epochs.event_id = {'incongruent': 1, 'congruent': 0}\n",
    "        epochs.events[:, -1] = events\n",
    "        \n",
    "        # write evokeds to file\n",
    "        evos = [epochs['incongruent'].average(), epochs['congruent'].average()]\n",
    "        write_evokeds('%s/%s/%s_%s-ave.fif' % (pipeline_root,\n",
    "                                               subject, subject,\n",
    "                                               epo_type), evos)\n",
    "        # accumulate evokeds for group average\n",
    "        evokeds['incongruent'].append(evos[0])\n",
    "        evokeds['congruent'].append(evos[1])\n",
    "    \n",
    "    # calculate group average and save\n",
    "    evos = [grand_average(evokeds['incongruent']),\n",
    "            grand_average(evokeds['congruent'])]\n",
    "    write_evokeds('%s/group/group_%s-ave.fif' % (pipeline_root,\n",
    "                                                 epo_type), evos)\n",
    "\n",
    "\n",
    "print('Done!')"
   ]
  },
  {
   "cell_type": "markdown",
   "metadata": {},
   "source": [
    "# Plot Congruent vs. Incongruent ERPs"
   ]
  },
  {
   "cell_type": "code",
   "execution_count": 5,
   "metadata": {
    "ExecuteTime": {
     "end_time": "2017-10-23T12:22:51.924713Z",
     "start_time": "2017-10-23T12:19:22.813739Z"
    },
    "scrolled": false
   },
   "outputs": [
    {
     "name": "stdout",
     "output_type": "stream",
     "text": [
      "sub-hc001\n"
     ]
    },
    {
     "name": "stderr",
     "output_type": "stream",
     "text": [
      "/autofs/space/cassia_001/users/matt/software/anaconda2.7/lib/python2.7/site-packages/matplotlib/axes/_axes.py:519: UserWarning: No labelled objects found. Use label='...' kwarg on individual plots.\n",
      "  warnings.warn(\"No labelled objects found. \"\n"
     ]
    },
    {
     "name": "stdout",
     "output_type": "stream",
     "text": [
      "sub-hc002\n",
      "sub-hc003\n",
      "sub-hc004\n",
      "sub-hc005\n",
      "sub-hc006\n"
     ]
    },
    {
     "ename": "IOError",
     "evalue": "[Errno 2] No such file or directory: u'../data/derivatives/eeg_sensor_erps/sub-hc006/sub-hc006_stimulus-ave.fif'",
     "output_type": "error",
     "traceback": [
      "\u001b[0;31m---------------------------------------------------------------------------\u001b[0m",
      "\u001b[0;31mIOError\u001b[0m                                   Traceback (most recent call last)",
      "\u001b[0;32m<ipython-input-5-038bdf0c0b18>\u001b[0m in \u001b[0;36m<module>\u001b[0;34m()\u001b[0m\n\u001b[1;32m     14\u001b[0m                                                             \u001b[0msubject\u001b[0m\u001b[0;34m,\u001b[0m\u001b[0;34m\u001b[0m\u001b[0m\n\u001b[1;32m     15\u001b[0m                                                             epo_type),\n\u001b[0;32m---> 16\u001b[0;31m                                   verbose=False)\n\u001b[0m\u001b[1;32m     17\u001b[0m             \u001b[0mpick\u001b[0m \u001b[0;34m=\u001b[0m \u001b[0mevokeds\u001b[0m\u001b[0;34m[\u001b[0m\u001b[0;36m0\u001b[0m\u001b[0;34m]\u001b[0m\u001b[0;34m.\u001b[0m\u001b[0mch_names\u001b[0m\u001b[0;34m.\u001b[0m\u001b[0mindex\u001b[0m\u001b[0;34m(\u001b[0m\u001b[0mch\u001b[0m\u001b[0;34m)\u001b[0m\u001b[0;34m\u001b[0m\u001b[0m\n\u001b[1;32m     18\u001b[0m             evokeds = dict((config['conditions'][i], evokeds[i]) \n",
      "\u001b[0;32m/autofs/space/cassia_001/users/matt/software/anaconda2.7/lib/python2.7/site-packages/mne/evoked.pyc\u001b[0m in \u001b[0;36mread_evokeds\u001b[0;34m(fname, condition, baseline, kind, proj, allow_maxshield, verbose)\u001b[0m\n",
      "\u001b[0;32m/autofs/space/cassia_001/users/matt/software/anaconda2.7/lib/python2.7/site-packages/mne/utils.pyc\u001b[0m in \u001b[0;36mverbose\u001b[0;34m(function, *args, **kwargs)\u001b[0m\n\u001b[1;32m    704\u001b[0m         \u001b[0;31m# set it back if we get an exception\u001b[0m\u001b[0;34m\u001b[0m\u001b[0;34m\u001b[0m\u001b[0m\n\u001b[1;32m    705\u001b[0m         \u001b[0;32mwith\u001b[0m \u001b[0muse_log_level\u001b[0m\u001b[0;34m(\u001b[0m\u001b[0mverbose_level\u001b[0m\u001b[0;34m)\u001b[0m\u001b[0;34m:\u001b[0m\u001b[0;34m\u001b[0m\u001b[0m\n\u001b[0;32m--> 706\u001b[0;31m             \u001b[0;32mreturn\u001b[0m \u001b[0mfunction\u001b[0m\u001b[0;34m(\u001b[0m\u001b[0;34m*\u001b[0m\u001b[0margs\u001b[0m\u001b[0;34m,\u001b[0m \u001b[0;34m**\u001b[0m\u001b[0mkwargs\u001b[0m\u001b[0;34m)\u001b[0m\u001b[0;34m\u001b[0m\u001b[0m\n\u001b[0m\u001b[1;32m    707\u001b[0m     \u001b[0;32mreturn\u001b[0m \u001b[0mfunction\u001b[0m\u001b[0;34m(\u001b[0m\u001b[0;34m*\u001b[0m\u001b[0margs\u001b[0m\u001b[0;34m,\u001b[0m \u001b[0;34m**\u001b[0m\u001b[0mkwargs\u001b[0m\u001b[0;34m)\u001b[0m\u001b[0;34m\u001b[0m\u001b[0m\n\u001b[1;32m    708\u001b[0m \u001b[0;34m\u001b[0m\u001b[0m\n",
      "\u001b[0;32m/autofs/space/cassia_001/users/matt/software/anaconda2.7/lib/python2.7/site-packages/mne/evoked.pyc\u001b[0m in \u001b[0;36mread_evokeds\u001b[0;34m(fname, condition, baseline, kind, proj, allow_maxshield, verbose)\u001b[0m\n\u001b[1;32m    987\u001b[0m     \u001b[0mreturn_list\u001b[0m \u001b[0;34m=\u001b[0m \u001b[0mTrue\u001b[0m\u001b[0;34m\u001b[0m\u001b[0m\n\u001b[1;32m    988\u001b[0m     \u001b[0;32mif\u001b[0m \u001b[0mcondition\u001b[0m \u001b[0;32mis\u001b[0m \u001b[0mNone\u001b[0m\u001b[0;34m:\u001b[0m\u001b[0;34m\u001b[0m\u001b[0m\n\u001b[0;32m--> 989\u001b[0;31m         \u001b[0mevoked_node\u001b[0m \u001b[0;34m=\u001b[0m \u001b[0m_get_evoked_node\u001b[0m\u001b[0;34m(\u001b[0m\u001b[0mfname\u001b[0m\u001b[0;34m)\u001b[0m\u001b[0;34m\u001b[0m\u001b[0m\n\u001b[0m\u001b[1;32m    990\u001b[0m         \u001b[0mcondition\u001b[0m \u001b[0;34m=\u001b[0m \u001b[0mrange\u001b[0m\u001b[0;34m(\u001b[0m\u001b[0mlen\u001b[0m\u001b[0;34m(\u001b[0m\u001b[0mevoked_node\u001b[0m\u001b[0;34m)\u001b[0m\u001b[0;34m)\u001b[0m\u001b[0;34m\u001b[0m\u001b[0m\n\u001b[1;32m    991\u001b[0m     \u001b[0;32melif\u001b[0m \u001b[0;32mnot\u001b[0m \u001b[0misinstance\u001b[0m\u001b[0;34m(\u001b[0m\u001b[0mcondition\u001b[0m\u001b[0;34m,\u001b[0m \u001b[0mlist\u001b[0m\u001b[0;34m)\u001b[0m\u001b[0;34m:\u001b[0m\u001b[0;34m\u001b[0m\u001b[0m\n",
      "\u001b[0;32m/autofs/space/cassia_001/users/matt/software/anaconda2.7/lib/python2.7/site-packages/mne/evoked.pyc\u001b[0m in \u001b[0;36m_get_evoked_node\u001b[0;34m(fname)\u001b[0m\n\u001b[1;32m    805\u001b[0m \u001b[0;32mdef\u001b[0m \u001b[0m_get_evoked_node\u001b[0m\u001b[0;34m(\u001b[0m\u001b[0mfname\u001b[0m\u001b[0;34m)\u001b[0m\u001b[0;34m:\u001b[0m\u001b[0;34m\u001b[0m\u001b[0m\n\u001b[1;32m    806\u001b[0m     \u001b[0;34m\"\"\"Get info in evoked file.\"\"\"\u001b[0m\u001b[0;34m\u001b[0m\u001b[0m\n\u001b[0;32m--> 807\u001b[0;31m     \u001b[0mf\u001b[0m\u001b[0;34m,\u001b[0m \u001b[0mtree\u001b[0m\u001b[0;34m,\u001b[0m \u001b[0m_\u001b[0m \u001b[0;34m=\u001b[0m \u001b[0mfiff_open\u001b[0m\u001b[0;34m(\u001b[0m\u001b[0mfname\u001b[0m\u001b[0;34m)\u001b[0m\u001b[0;34m\u001b[0m\u001b[0m\n\u001b[0m\u001b[1;32m    808\u001b[0m     \u001b[0;32mwith\u001b[0m \u001b[0mf\u001b[0m \u001b[0;32mas\u001b[0m \u001b[0mfid\u001b[0m\u001b[0;34m:\u001b[0m\u001b[0;34m\u001b[0m\u001b[0m\n\u001b[1;32m    809\u001b[0m         \u001b[0m_\u001b[0m\u001b[0;34m,\u001b[0m \u001b[0mmeas\u001b[0m \u001b[0;34m=\u001b[0m \u001b[0mread_meas_info\u001b[0m\u001b[0;34m(\u001b[0m\u001b[0mfid\u001b[0m\u001b[0;34m,\u001b[0m \u001b[0mtree\u001b[0m\u001b[0;34m,\u001b[0m \u001b[0mverbose\u001b[0m\u001b[0;34m=\u001b[0m\u001b[0mFalse\u001b[0m\u001b[0;34m)\u001b[0m\u001b[0;34m\u001b[0m\u001b[0m\n",
      "\u001b[0;32m/autofs/space/cassia_001/users/matt/software/anaconda2.7/lib/python2.7/site-packages/mne/io/open.pyc\u001b[0m in \u001b[0;36mfiff_open\u001b[0;34m(fname, preload, verbose)\u001b[0m\n",
      "\u001b[0;32m/autofs/space/cassia_001/users/matt/software/anaconda2.7/lib/python2.7/site-packages/mne/utils.pyc\u001b[0m in \u001b[0;36mverbose\u001b[0;34m(function, *args, **kwargs)\u001b[0m\n\u001b[1;32m    705\u001b[0m         \u001b[0;32mwith\u001b[0m \u001b[0muse_log_level\u001b[0m\u001b[0;34m(\u001b[0m\u001b[0mverbose_level\u001b[0m\u001b[0;34m)\u001b[0m\u001b[0;34m:\u001b[0m\u001b[0;34m\u001b[0m\u001b[0m\n\u001b[1;32m    706\u001b[0m             \u001b[0;32mreturn\u001b[0m \u001b[0mfunction\u001b[0m\u001b[0;34m(\u001b[0m\u001b[0;34m*\u001b[0m\u001b[0margs\u001b[0m\u001b[0;34m,\u001b[0m \u001b[0;34m**\u001b[0m\u001b[0mkwargs\u001b[0m\u001b[0;34m)\u001b[0m\u001b[0;34m\u001b[0m\u001b[0m\n\u001b[0;32m--> 707\u001b[0;31m     \u001b[0;32mreturn\u001b[0m \u001b[0mfunction\u001b[0m\u001b[0;34m(\u001b[0m\u001b[0;34m*\u001b[0m\u001b[0margs\u001b[0m\u001b[0;34m,\u001b[0m \u001b[0;34m**\u001b[0m\u001b[0mkwargs\u001b[0m\u001b[0;34m)\u001b[0m\u001b[0;34m\u001b[0m\u001b[0m\n\u001b[0m\u001b[1;32m    708\u001b[0m \u001b[0;34m\u001b[0m\u001b[0m\n\u001b[1;32m    709\u001b[0m \u001b[0;34m\u001b[0m\u001b[0m\n",
      "\u001b[0;32m/autofs/space/cassia_001/users/matt/software/anaconda2.7/lib/python2.7/site-packages/mne/io/open.pyc\u001b[0m in \u001b[0;36mfiff_open\u001b[0;34m(fname, preload, verbose)\u001b[0m\n\u001b[1;32m    100\u001b[0m         \u001b[0mA\u001b[0m \u001b[0mlist\u001b[0m \u001b[0mof\u001b[0m \u001b[0mtags\u001b[0m\u001b[0;34m.\u001b[0m\u001b[0;34m\u001b[0m\u001b[0m\n\u001b[1;32m    101\u001b[0m     \"\"\"\n\u001b[0;32m--> 102\u001b[0;31m     \u001b[0mfid\u001b[0m \u001b[0;34m=\u001b[0m \u001b[0m_fiff_get_fid\u001b[0m\u001b[0;34m(\u001b[0m\u001b[0mfname\u001b[0m\u001b[0;34m)\u001b[0m\u001b[0;34m\u001b[0m\u001b[0m\n\u001b[0m\u001b[1;32m    103\u001b[0m     \u001b[0;31m# do preloading of entire file\u001b[0m\u001b[0;34m\u001b[0m\u001b[0;34m\u001b[0m\u001b[0m\n\u001b[1;32m    104\u001b[0m     \u001b[0;32mif\u001b[0m \u001b[0mpreload\u001b[0m\u001b[0;34m:\u001b[0m\u001b[0;34m\u001b[0m\u001b[0m\n",
      "\u001b[0;32m/autofs/space/cassia_001/users/matt/software/anaconda2.7/lib/python2.7/site-packages/mne/io/open.pyc\u001b[0m in \u001b[0;36m_fiff_get_fid\u001b[0;34m(fname)\u001b[0m\n\u001b[1;32m     26\u001b[0m         \u001b[0;32melse\u001b[0m\u001b[0;34m:\u001b[0m\u001b[0;34m\u001b[0m\u001b[0m\n\u001b[1;32m     27\u001b[0m             \u001b[0mlogger\u001b[0m\u001b[0;34m.\u001b[0m\u001b[0mdebug\u001b[0m\u001b[0;34m(\u001b[0m\u001b[0;34m'Using normal I/O'\u001b[0m\u001b[0;34m)\u001b[0m\u001b[0;34m\u001b[0m\u001b[0m\n\u001b[0;32m---> 28\u001b[0;31m             \u001b[0mfid\u001b[0m \u001b[0;34m=\u001b[0m \u001b[0mopen\u001b[0m\u001b[0;34m(\u001b[0m\u001b[0mfname\u001b[0m\u001b[0;34m,\u001b[0m \u001b[0;34m\"rb\"\u001b[0m\u001b[0;34m)\u001b[0m  \u001b[0;31m# Open in binary mode\u001b[0m\u001b[0;34m\u001b[0m\u001b[0m\n\u001b[0m\u001b[1;32m     29\u001b[0m     \u001b[0;32melse\u001b[0m\u001b[0;34m:\u001b[0m\u001b[0;34m\u001b[0m\u001b[0m\n\u001b[1;32m     30\u001b[0m         \u001b[0mfid\u001b[0m \u001b[0;34m=\u001b[0m \u001b[0mfname\u001b[0m\u001b[0;34m\u001b[0m\u001b[0m\n",
      "\u001b[0;31mIOError\u001b[0m: [Errno 2] No such file or directory: u'../data/derivatives/eeg_sensor_erps/sub-hc006/sub-hc006_stimulus-ave.fif'"
     ]
    }
   ],
   "source": [
    "for subject in list(subjects) + ['group']:\n",
    "    print(subject)\n",
    "\n",
    "    for ch in CH_NAMES: \n",
    "\n",
    "        fig, axs = plt.subplots(1, 2, figsize=(24, 8))\n",
    "\n",
    "        for i, epo_type in enumerate(config['epoch_types']):\n",
    "\n",
    "            ax = axs[i]\n",
    "\n",
    "            evokeds = read_evokeds('%s/%s/%s_%s-ave.fif' % (pipeline_root,\n",
    "                                                            subject,\n",
    "                                                            subject,\n",
    "                                                            epo_type),\n",
    "                                  verbose=False)\n",
    "            pick = evokeds[0].ch_names.index(ch)\n",
    "            evokeds = dict((config['conditions'][i], evokeds[i]) \n",
    "                           for i in range(len(evokeds)))\n",
    "            plot_compare_evokeds(evokeds, picks=pick, axes=ax, show=False)\n",
    "            ax.set_title('%s-locked' % epo_type)\n",
    "\n",
    "        plt.suptitle('%s %s ERP' % (subject, ch))\n",
    "        fig.savefig('%s/%s/erps/%s_%s_erp.png' % (pipeline_root, subject,\n",
    "                                                  subject, ch))\n",
    "        plt.close(fig)\n",
    "        \n",
    "print('Done!')"
   ]
  },
  {
   "cell_type": "code",
   "execution_count": null,
   "metadata": {
    "collapsed": true
   },
   "outputs": [],
   "source": []
  }
 ],
 "metadata": {
  "kernelspec": {
   "display_name": "Python 2",
   "language": "python",
   "name": "python2"
  },
  "language_info": {
   "codemirror_mode": {
    "name": "ipython",
    "version": 2
   },
   "file_extension": ".py",
   "mimetype": "text/x-python",
   "name": "python",
   "nbconvert_exporter": "python",
   "pygments_lexer": "ipython2",
   "version": "2.7.13"
  },
  "toc": {
   "colors": {
    "hover_highlight": "#DAA520",
    "navigate_num": "#000000",
    "navigate_text": "#333333",
    "running_highlight": "#FF0000",
    "selected_highlight": "#FFD700",
    "sidebar_border": "#EEEEEE",
    "wrapper_background": "#FFFFFF"
   },
   "moveMenuLeft": true,
   "nav_menu": {
    "height": "30px",
    "width": "252px"
   },
   "navigate_menu": true,
   "number_sections": true,
   "sideBar": true,
   "threshold": 4,
   "toc_cell": false,
   "toc_section_display": "block",
   "toc_window_display": true,
   "widenNotebook": false
  },
  "varInspector": {
   "cols": {
    "lenName": 16,
    "lenType": 16,
    "lenVar": 40
   },
   "kernels_config": {
    "python": {
     "delete_cmd_postfix": "",
     "delete_cmd_prefix": "del ",
     "library": "var_list.py",
     "varRefreshCmd": "print(var_dic_list())"
    },
    "r": {
     "delete_cmd_postfix": ") ",
     "delete_cmd_prefix": "rm(",
     "library": "var_list.r",
     "varRefreshCmd": "cat(var_dic_list()) "
    }
   },
   "types_to_exclude": [
    "module",
    "function",
    "builtin_function_or_method",
    "instance",
    "_Feature"
   ],
   "window_display": false
  }
 },
 "nbformat": 4,
 "nbformat_minor": 2
}
