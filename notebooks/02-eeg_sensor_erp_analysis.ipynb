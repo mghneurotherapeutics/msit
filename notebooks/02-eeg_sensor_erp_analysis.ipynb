{
 "cells": [
  {
   "cell_type": "markdown",
   "metadata": {},
   "source": [
    "# Initialization"
   ]
  },
  {
   "cell_type": "code",
   "execution_count": 1,
   "metadata": {
    "ExecuteTime": {
     "end_time": "2017-11-03T18:54:11.531417Z",
     "start_time": "2017-11-03T18:54:09.356689Z"
    }
   },
   "outputs": [
    {
     "name": "stdout",
     "output_type": "stream",
     "text": [
      "['sub-hc001', 'sub-hc002', 'sub-hc003', 'sub-hc004', 'sub-hc005', 'sub-hc006', 'sub-hc007', 'sub-hc008', 'sub-hc009', 'sub-hc010', 'sub-hc011', 'sub-hc012', 'sub-hc014', 'sub-hc015', 'sub-hc016', 'sub-hc017', 'sub-hc019', 'sub-hc020', 'sub-hc021', 'sub-hc022', 'sub-hc023', 'sub-hc024', 'sub-hc025', 'sub-hc026', 'sub-hc028', 'sub-hc029', 'sub-hc030', 'sub-hc031', 'sub-hc032', 'sub-hc033', 'sub-hc034', 'sub-hc035', 'sub-hc036', 'sub-hc037', 'sub-hc042', 'sub-hc044', 'sub-hc045', 'sub-pp001', 'sub-pp002', 'sub-pp003', 'sub-pp004', 'sub-pp005', 'sub-pp006', 'sub-pp007', 'sub-pp008', 'sub-pp009', 'sub-pp010', 'sub-pp011', 'sub-pp012', 'sub-pp013', 'sub-pp014', 'sub-pp015', 'sub-pp016']\n"
     ]
    }
   ],
   "source": [
    "import os\n",
    "import numpy as np\n",
    "import pickle\n",
    "import json\n",
    "import pandas as pd\n",
    "from grabbit import Layout\n",
    "from mne import read_epochs, grand_average, write_evokeds, read_evokeds\n",
    "from mne import pick_types\n",
    "from mne.viz import plot_compare_evokeds\n",
    "from msit import CH_NAMES, select_subjects\n",
    "import matplotlib.pyplot as plt\n",
    "\n",
    "# load subject names to process\n",
    "layout = Layout('../data', '../data/grabbit_config.json')\n",
    "subjects = select_subjects(layout, 'eeg', exclude='eeg')\n",
    "\n",
    "# load eeg configurations\n",
    "with open('../config.json') as f:    \n",
    "    config = json.load(f)\n",
    "\n",
    "# load behavior\n",
    "behavior = pd.read_csv('../data/derivatives/behavior/group_data.tsv', \n",
    "                       na_values='n/a', sep='\\t') \n",
    "behavior = behavior[behavior.modality == 'eeg']\n",
    "\n",
    "# Make directory structure\n",
    "pipeline_root = '../data/derivatives/eeg_sensor_erps'\n",
    "if not os.path.exists(pipeline_root):\n",
    "    os.makedirs(pipeline_root)\n",
    "for subject in subjects + ['group']:\n",
    "    if not os.path.exists('%s/%s/erps' % (pipeline_root, subject)):\n",
    "        os.makedirs('%s/%s/erps' % (pipeline_root, subject))"
   ]
  },
  {
   "cell_type": "markdown",
   "metadata": {},
   "source": [
    "# Make Evoked Data"
   ]
  },
  {
   "cell_type": "code",
   "execution_count": 9,
   "metadata": {
    "ExecuteTime": {
     "end_time": "2017-11-01T15:37:18.713515Z",
     "start_time": "2017-11-01T15:37:15.401575Z"
    },
    "scrolled": true
   },
   "outputs": [
    {
     "name": "stdout",
     "output_type": "stream",
     "text": [
      "sub-hc013\n",
      "Computing interpolation matrix from 64 sensor positions\n",
      "Interpolating 6 sensors\n",
      "<EpochsFIF  |  n_events : 119 (all good), tmin : -0.5 (s), tmax : 1.75 (s), baseline : None, ~176.8 MB, data loaded>\n",
      "<EpochsFIF  |  n_events : 0 (all good), tmin : -0.5 (s), tmax : 1.75 (s), baseline : None, ~5.1 MB, data loaded>\n",
      "evoked object is empty (based on less than 1 epoch)\n",
      "[u'Fp1', u'Fpz', u'Fp2', u'AF7', u'AF3', u'AFz', u'AF4', u'AF8', u'F7', u'F5', u'F3', u'F1', u'Fz', u'F2', u'F4', u'F6', u'F8', u'FT9', u'FT7', u'FC5', u'FC3', u'FC1', u'FCz', u'FC2', u'FC4', u'FC6', u'FT8', u'FT10', u'T9', u'T7', u'C5', u'C3', u'C1', u'Cz', u'C2', u'C4', u'C6', u'T8', u'T10', u'TP9', u'TP7', u'CP5', u'CP3', u'CP1', u'CPz', u'CP2', u'CP4', u'CP6', u'TP8', u'TP10', u'P9', u'P7', u'P5', u'P3', u'P1', u'Pz', u'P2', u'P4', u'P6', u'P8', u'HEOG', u'VEOG', u'P10', u'PO7', u'PO3', u'P0z', u'PO4', u'PO8', u'O1', u'Oz', u'O2', u'Iz']\n",
      "Identiying common channels ...\n",
      "all channels are corresponding, nothing to do.\n",
      "Identiying common channels ...\n",
      "all channels are corresponding, nothing to do.\n"
     ]
    },
    {
     "name": "stderr",
     "output_type": "stream",
     "text": [
      "<ipython-input-9-a9a107b884ca>:47: RuntimeWarning: evoked object is empty (based on less than 1 epoch)\n",
      "  evos = [epochs['incongruent'].average(picks),\n"
     ]
    },
    {
     "name": "stdout",
     "output_type": "stream",
     "text": [
      "sub-hc013\n",
      "Computing interpolation matrix from 64 sensor positions\n",
      "Interpolating 6 sensors\n",
      "<EpochsFIF  |  n_events : 105 (all good), tmin : -1.0 (s), tmax : 1.0 (s), baseline : None, ~139.8 MB, data loaded>\n",
      "<EpochsFIF  |  n_events : 0 (all good), tmin : -1.0 (s), tmax : 1.0 (s), baseline : None, ~5.1 MB, data loaded>\n",
      "evoked object is empty (based on less than 1 epoch)\n",
      "evoked object is empty (based on less than 1 epoch)\n",
      "[u'Fp1', u'Fpz', u'Fp2', u'AF7', u'AF3', u'AFz', u'AF4', u'AF8', u'F7', u'F5', u'F3', u'F1', u'Fz', u'F2', u'F4', u'F6', u'F8', u'FT9', u'FT7', u'FC5', u'FC3', u'FC1', u'FCz', u'FC2', u'FC4', u'FC6', u'FT8', u'FT10', u'T9', u'T7', u'C5', u'C3', u'C1', u'Cz', u'C2', u'C4', u'C6', u'T8', u'T10', u'TP9', u'TP7', u'CP5', u'CP3', u'CP1', u'CPz', u'CP2', u'CP4', u'CP6', u'TP8', u'TP10', u'P9', u'P7', u'P5', u'P3', u'P1', u'Pz', u'P2', u'P4', u'P6', u'P8', u'HEOG', u'VEOG', u'P10', u'PO7', u'PO3', u'P0z', u'PO4', u'PO8', u'O1', u'Oz', u'O2', u'Iz']\n",
      "Identiying common channels ...\n",
      "all channels are corresponding, nothing to do.\n",
      "Identiying common channels ...\n",
      "all channels are corresponding, nothing to do.\n",
      "Done!\n"
     ]
    },
    {
     "name": "stderr",
     "output_type": "stream",
     "text": [
      "<ipython-input-9-a9a107b884ca>:47: RuntimeWarning: evoked object is empty (based on less than 1 epoch)\n",
      "  evos = [epochs['incongruent'].average(picks),\n",
      "<ipython-input-9-a9a107b884ca>:48: RuntimeWarning: evoked object is empty (based on less than 1 epoch)\n",
      "  epochs['congruent'].average(picks)]\n"
     ]
    }
   ],
   "source": [
    "for epo_type, epo_times in zip(config['epoch_types'], \n",
    "                               config['epoch_times']):\n",
    "    \n",
    "    evokeds = {'incongruent': [], 'congruent': []}\n",
    "    \n",
    "    for subject in subjects:\n",
    "        if subject != 'sub-hc013':\n",
    "            continue\n",
    "        print(subject)\n",
    "\n",
    "        sub_behavior = behavior[behavior.participant_id == subject]\n",
    "        sub_behavior = sub_behavior[sub_behavior.no_response != 1].reset_index()\n",
    "    \n",
    "        # load, crop, and interpolate cleaned epochs\n",
    "        epo_file = layout.get(subject=subject, \n",
    "                              derivative='eeg_preprocessing', \n",
    "                              extensions='%s_cleaned-epo.fif' % epo_type)[0].filename\n",
    "        epochs = read_epochs(epo_file, verbose=False)\n",
    "        epochs.crop(epo_times[0], epo_times[1])\n",
    "        epochs.interpolate_bads(reset_bads=True)\n",
    "        print(epochs)\n",
    "\n",
    "        # drop bad eeg trials from behavior\n",
    "        ar_file = layout.get(subject=subject, \n",
    "                             derivative='eeg_preprocessing', \n",
    "                             extensions='%s_ar.pkl' % epo_type)[0].filename\n",
    "        ar = pickle.load(open(ar_file, 'r'))\n",
    "        sub_behavior = sub_behavior.drop(ar.bad_epochs_idx).reset_index()\n",
    "        \n",
    "        # drop bad behavior trials from eeg and behavior\n",
    "        behavior_exclude = np.where(np.sum(sub_behavior[['fast_rt', 'error', \n",
    "                                                         'post_error']], \n",
    "                                           axis=1))[0]\n",
    "        sub_behavior = sub_behavior.drop(behavior_exclude)\n",
    "        epochs.drop(behavior_exclude)\n",
    "        \n",
    "        # inject event labels\n",
    "        events = sub_behavior.trial_type.astype('category').cat.codes\n",
    "        if subject == 'sub-pp012':\n",
    "            events = events[1:]\n",
    "        epochs.event_id = {'incongruent': 1, 'congruent': 0}\n",
    "        epochs.events[:, -1] = events\n",
    "        print(epochs['incongruent'])\n",
    "        \n",
    "        # write evokeds to file\n",
    "        picks = pick_types(epochs.info, eeg=True, eog=True, meg=False)\n",
    "        evos = [epochs['incongruent'].average(picks), \n",
    "                epochs['congruent'].average(picks)]\n",
    "        print(evos[0].ch_names)\n",
    "        write_evokeds('%s/%s/%s_%s-ave.fif' % (pipeline_root,\n",
    "                                               subject, subject,\n",
    "                                               epo_type), evos)\n",
    "        # accumulate evokeds for group average\n",
    "        evokeds['incongruent'].append(evos[0])\n",
    "        evokeds['congruent'].append(evos[1])\n",
    "    \n",
    "    # calculate group average and save\n",
    "    evos = [grand_average(evokeds['incongruent']),\n",
    "            grand_average(evokeds['congruent'])]\n",
    "    write_evokeds('%s/group/group_%s-ave.fif' % (pipeline_root,\n",
    "                                                 epo_type), evos)\n",
    "\n",
    "\n",
    "print('Done!')"
   ]
  },
  {
   "cell_type": "markdown",
   "metadata": {},
   "source": [
    "# Plot Congruent vs. Incongruent ERPs"
   ]
  },
  {
   "cell_type": "code",
   "execution_count": 11,
   "metadata": {
    "ExecuteTime": {
     "end_time": "2017-11-03T18:42:47.101908Z",
     "start_time": "2017-11-03T18:42:45.161888Z"
    }
   },
   "outputs": [
    {
     "data": {
      "application/vnd.jupyter.widget-view+json": {
       "model_id": "a8747da1696746a0aa3b99d7303ac546"
      }
     },
     "metadata": {},
     "output_type": "display_data"
    },
    {
     "data": {
      "text/plain": [
       "<function __main__.plot_erp>"
      ]
     },
     "execution_count": 11,
     "metadata": {},
     "output_type": "execute_result"
    }
   ],
   "source": [
    "from ipywidgets import interact\n",
    "\n",
    "def plot_erp(subject, ch):\n",
    "\n",
    "    fig, axs = plt.subplots(1, 2, figsize=(24, 8))\n",
    "\n",
    "    for i, epo_type in enumerate(config['epoch_types']):\n",
    "\n",
    "        ax = axs[i]\n",
    "\n",
    "        evokeds = read_evokeds('%s/%s/%s_%s-ave.fif' % (pipeline_root,\n",
    "                                                        subject,\n",
    "                                                        subject,\n",
    "                                                        epo_type),\n",
    "                              verbose=False)\n",
    "        pick = evokeds[0].ch_names.index(ch)\n",
    "        evokeds = dict((config['conditions'][i], evokeds[i]) \n",
    "                       for i in range(len(evokeds)))\n",
    "        plot_compare_evokeds(evokeds, picks=pick, axes=ax, show=False)\n",
    "        ax.set_title('%s-locked' % epo_type)\n",
    "        ax.set_ylim((-6, 6))\n",
    "        ax.axvline(0, linestyle='--', color='k')\n",
    "\n",
    "    plt.suptitle('%s %s ERP' % (subject, ch))\n",
    "    plt.show()\n",
    "\n",
    "interact(plot_erp, subject=subjects + ['group'], ch=CH_NAMES)"
   ]
  },
  {
   "cell_type": "code",
   "execution_count": 7,
   "metadata": {
    "ExecuteTime": {
     "end_time": "2017-10-23T16:24:43.909647Z",
     "start_time": "2017-10-23T16:24:43.861345Z"
    },
    "collapsed": true
   },
   "outputs": [],
   "source": [
    "plot_compare_evokeds?"
   ]
  },
  {
   "cell_type": "code",
   "execution_count": null,
   "metadata": {
    "collapsed": true
   },
   "outputs": [],
   "source": []
  }
 ],
 "metadata": {
  "kernelspec": {
   "display_name": "Python 2",
   "language": "python",
   "name": "python2"
  },
  "language_info": {
   "codemirror_mode": {
    "name": "ipython",
    "version": 2
   },
   "file_extension": ".py",
   "mimetype": "text/x-python",
   "name": "python",
   "nbconvert_exporter": "python",
   "pygments_lexer": "ipython2",
   "version": "2.7.13"
  },
  "toc": {
   "colors": {
    "hover_highlight": "#DAA520",
    "navigate_num": "#000000",
    "navigate_text": "#333333",
    "running_highlight": "#FF0000",
    "selected_highlight": "#FFD700",
    "sidebar_border": "#EEEEEE",
    "wrapper_background": "#FFFFFF"
   },
   "moveMenuLeft": true,
   "nav_menu": {
    "height": "30px",
    "width": "252px"
   },
   "navigate_menu": true,
   "number_sections": true,
   "sideBar": true,
   "threshold": 4,
   "toc_cell": false,
   "toc_section_display": "block",
   "toc_window_display": true,
   "widenNotebook": false
  },
  "varInspector": {
   "cols": {
    "lenName": 16,
    "lenType": 16,
    "lenVar": 40
   },
   "kernels_config": {
    "python": {
     "delete_cmd_postfix": "",
     "delete_cmd_prefix": "del ",
     "library": "var_list.py",
     "varRefreshCmd": "print(var_dic_list())"
    },
    "r": {
     "delete_cmd_postfix": ") ",
     "delete_cmd_prefix": "rm(",
     "library": "var_list.r",
     "varRefreshCmd": "cat(var_dic_list()) "
    }
   },
   "types_to_exclude": [
    "module",
    "function",
    "builtin_function_or_method",
    "instance",
    "_Feature"
   ],
   "window_display": false
  }
 },
 "nbformat": 4,
 "nbformat_minor": 2
}
