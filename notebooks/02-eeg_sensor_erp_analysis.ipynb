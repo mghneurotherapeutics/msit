{
 "cells": [
  {
   "cell_type": "markdown",
   "metadata": {},
   "source": [
    "# Initialization"
   ]
  },
  {
   "cell_type": "code",
   "execution_count": 17,
   "metadata": {
    "ExecuteTime": {
     "end_time": "2017-11-07T21:41:09.469803Z",
     "start_time": "2017-11-07T21:41:07.500709Z"
    }
   },
   "outputs": [],
   "source": [
    "import os\n",
    "import numpy as np\n",
    "import pickle\n",
    "import json\n",
    "import pandas as pd\n",
    "from grabbit import Layout\n",
    "from mne import read_epochs, grand_average, write_evokeds, read_evokeds\n",
    "from mne import pick_types, combine_evoked, set_log_level\n",
    "from mne.viz import plot_compare_evokeds\n",
    "from msit import CH_NAMES, select_subjects, add_events, drop_bad_trials\n",
    "import matplotlib.pyplot as plt\n",
    "from mne import read_evokeds\n",
    "\n",
    "set_log_level('critical')\n",
    "\n",
    "# load subject names to process\n",
    "layout = Layout('../data', '../data/grabbit_config.json')\n",
    "subjects = select_subjects(layout, 'eeg', exclude='eeg')\n",
    "\n",
    "# load eeg configurations\n",
    "with open('../config.json') as f:    \n",
    "    config = json.load(f)\n",
    "\n",
    "# load behavior\n",
    "behavior = pd.read_csv('../data/derivatives/behavior/group_data.tsv', \n",
    "                       na_values='n/a', sep='\\t') \n",
    "behavior = behavior[behavior.modality == 'eeg']\n",
    "\n",
    "pipeline_root = '../data/derivatives/eeg_sensor_erps'"
   ]
  },
  {
   "cell_type": "markdown",
   "metadata": {},
   "source": [
    "# Make Directory Structure"
   ]
  },
  {
   "cell_type": "code",
   "execution_count": 2,
   "metadata": {
    "ExecuteTime": {
     "end_time": "2017-11-07T20:34:57.652290Z",
     "start_time": "2017-11-07T20:34:57.646626Z"
    }
   },
   "outputs": [],
   "source": [
    "# Make directory structure\n",
    "if not os.path.exists(pipeline_root):\n",
    "    os.makedirs(pipeline_root)\n",
    "for subject in subjects + ['group']:\n",
    "    if not os.path.exists('%s/%s' % (pipeline_root, subject)):\n",
    "        os.makedirs('%s/%s' % (pipeline_root, subject))"
   ]
  },
  {
   "cell_type": "markdown",
   "metadata": {},
   "source": [
    "# Make Evoked Data"
   ]
  },
  {
   "cell_type": "code",
   "execution_count": 18,
   "metadata": {
    "ExecuteTime": {
     "end_time": "2017-11-07T21:43:56.090394Z",
     "start_time": "2017-11-07T21:41:17.350167Z"
    },
    "scrolled": true
   },
   "outputs": [
    {
     "name": "stdout",
     "output_type": "stream",
     "text": [
      "stimulus\n",
      "condition\n",
      "sub-hc001\n",
      "sub-hc002\n",
      "sub-hc003\n",
      "sub-hc004\n",
      "sub-hc005\n",
      "sub-hc006\n",
      "sub-hc007\n",
      "sub-hc008\n",
      "sub-hc009\n",
      "sub-hc010\n",
      "sub-hc011\n",
      "sub-hc012\n",
      "sub-hc014\n",
      "sub-hc015\n",
      "sub-hc016\n",
      "sub-hc017\n",
      "sub-hc019\n",
      "sub-hc020\n",
      "sub-hc021\n",
      "sub-hc022\n",
      "sub-hc023\n",
      "sub-hc024\n",
      "sub-hc025\n",
      "sub-hc026\n",
      "sub-hc028\n",
      "sub-hc029\n",
      "sub-hc030\n",
      "sub-hc031\n",
      "sub-hc032\n",
      "sub-hc033\n",
      "sub-hc034\n",
      "sub-hc035\n",
      "sub-hc036\n",
      "sub-hc037\n",
      "sub-hc042\n",
      "sub-hc044\n",
      "sub-hc045\n",
      "sub-pp001\n",
      "sub-pp002\n",
      "sub-pp003\n",
      "sub-pp004\n",
      "sub-pp005\n",
      "sub-pp006\n",
      "sub-pp007\n",
      "sub-pp008\n",
      "sub-pp009\n",
      "sub-pp010\n",
      "sub-pp011\n"
     ]
    },
    {
     "ename": "KeyboardInterrupt",
     "evalue": "",
     "output_type": "error",
     "traceback": [
      "\u001b[0;31m---------------------------------------------------------------------------\u001b[0m",
      "\u001b[0;31mKeyboardInterrupt\u001b[0m                         Traceback (most recent call last)",
      "\u001b[0;32m<ipython-input-18-18e3aec44a99>\u001b[0m in \u001b[0;36m<module>\u001b[0;34m()\u001b[0m\n\u001b[1;32m     30\u001b[0m             \u001b[0;31m# interpolate the bad channels\u001b[0m\u001b[0;34m\u001b[0m\u001b[0;34m\u001b[0m\u001b[0m\n\u001b[1;32m     31\u001b[0m             \u001b[0mbads\u001b[0m\u001b[0;34m.\u001b[0m\u001b[0mappend\u001b[0m\u001b[0;34m(\u001b[0m\u001b[0mepochs\u001b[0m\u001b[0;34m.\u001b[0m\u001b[0minfo\u001b[0m\u001b[0;34m[\u001b[0m\u001b[0;34m'bads'\u001b[0m\u001b[0;34m]\u001b[0m\u001b[0;34m)\u001b[0m\u001b[0;34m\u001b[0m\u001b[0m\n\u001b[0;32m---> 32\u001b[0;31m             \u001b[0mepochs\u001b[0m\u001b[0;34m.\u001b[0m\u001b[0minterpolate_bads\u001b[0m\u001b[0;34m(\u001b[0m\u001b[0mreset_bads\u001b[0m\u001b[0;34m=\u001b[0m\u001b[0mTrue\u001b[0m\u001b[0;34m)\u001b[0m\u001b[0;34m\u001b[0m\u001b[0m\n\u001b[0m\u001b[1;32m     33\u001b[0m             \u001b[0;31m# drop bad trials from epochs and behavior\u001b[0m\u001b[0;34m\u001b[0m\u001b[0;34m\u001b[0m\u001b[0m\n\u001b[1;32m     34\u001b[0m             sub_behavior, epochs = drop_bad_trials(subject, sub_behavior, \n",
      "\u001b[0;32m/autofs/space/cassia_001/users/matt/software/anaconda2.7/lib/python2.7/site-packages/mne/channels/channels.pyc\u001b[0m in \u001b[0;36minterpolate_bads\u001b[0;34m(self, reset_bads, mode)\u001b[0m\n\u001b[1;32m    833\u001b[0m             \u001b[0;32mraise\u001b[0m \u001b[0mValueError\u001b[0m\u001b[0;34m(\u001b[0m\u001b[0;34m'Data must be preloaded.'\u001b[0m\u001b[0;34m)\u001b[0m\u001b[0;34m\u001b[0m\u001b[0m\n\u001b[1;32m    834\u001b[0m \u001b[0;34m\u001b[0m\u001b[0m\n\u001b[0;32m--> 835\u001b[0;31m         \u001b[0m_interpolate_bads_eeg\u001b[0m\u001b[0;34m(\u001b[0m\u001b[0mself\u001b[0m\u001b[0;34m)\u001b[0m\u001b[0;34m\u001b[0m\u001b[0m\n\u001b[0m\u001b[1;32m    836\u001b[0m         \u001b[0m_interpolate_bads_meg\u001b[0m\u001b[0;34m(\u001b[0m\u001b[0mself\u001b[0m\u001b[0;34m,\u001b[0m \u001b[0mmode\u001b[0m\u001b[0;34m=\u001b[0m\u001b[0mmode\u001b[0m\u001b[0;34m)\u001b[0m\u001b[0;34m\u001b[0m\u001b[0m\n\u001b[1;32m    837\u001b[0m \u001b[0;34m\u001b[0m\u001b[0m\n",
      "\u001b[0;32m/autofs/space/cassia_001/users/matt/software/anaconda2.7/lib/python2.7/site-packages/mne/channels/interpolation.pyc\u001b[0m in \u001b[0;36m_interpolate_bads_eeg\u001b[0;34m(inst)\u001b[0m\n\u001b[1;32m    151\u001b[0m \u001b[0;34m\u001b[0m\u001b[0m\n\u001b[1;32m    152\u001b[0m     \u001b[0mlogger\u001b[0m\u001b[0;34m.\u001b[0m\u001b[0minfo\u001b[0m\u001b[0;34m(\u001b[0m\u001b[0;34m'Interpolating {0} sensors'\u001b[0m\u001b[0;34m.\u001b[0m\u001b[0mformat\u001b[0m\u001b[0;34m(\u001b[0m\u001b[0mlen\u001b[0m\u001b[0;34m(\u001b[0m\u001b[0mpos_bad\u001b[0m\u001b[0;34m)\u001b[0m\u001b[0;34m)\u001b[0m\u001b[0;34m)\u001b[0m\u001b[0;34m\u001b[0m\u001b[0m\n\u001b[0;32m--> 153\u001b[0;31m     \u001b[0m_do_interp_dots\u001b[0m\u001b[0;34m(\u001b[0m\u001b[0minst\u001b[0m\u001b[0;34m,\u001b[0m \u001b[0minterpolation\u001b[0m\u001b[0;34m,\u001b[0m \u001b[0mgoods_idx\u001b[0m\u001b[0;34m,\u001b[0m \u001b[0mbads_idx\u001b[0m\u001b[0;34m)\u001b[0m\u001b[0;34m\u001b[0m\u001b[0m\n\u001b[0m\u001b[1;32m    154\u001b[0m \u001b[0;34m\u001b[0m\u001b[0m\n\u001b[1;32m    155\u001b[0m \u001b[0;34m\u001b[0m\u001b[0m\n",
      "\u001b[0;32m/autofs/space/cassia_001/users/matt/software/anaconda2.7/lib/python2.7/site-packages/mne/channels/interpolation.pyc\u001b[0m in \u001b[0;36m_do_interp_dots\u001b[0;34m(inst, interpolation, goods_idx, bads_idx)\u001b[0m\n\u001b[1;32m     99\u001b[0m     \u001b[0;32melif\u001b[0m \u001b[0misinstance\u001b[0m\u001b[0;34m(\u001b[0m\u001b[0minst\u001b[0m\u001b[0;34m,\u001b[0m \u001b[0mBaseEpochs\u001b[0m\u001b[0;34m)\u001b[0m\u001b[0;34m:\u001b[0m\u001b[0;34m\u001b[0m\u001b[0m\n\u001b[1;32m    100\u001b[0m         inst._data[:, bads_idx, :] = np.einsum('ij,xjy->xiy', interpolation,\n\u001b[0;32m--> 101\u001b[0;31m                                                inst._data[:, goods_idx, :])\n\u001b[0m\u001b[1;32m    102\u001b[0m     \u001b[0;32melse\u001b[0m\u001b[0;34m:\u001b[0m\u001b[0;34m\u001b[0m\u001b[0m\n\u001b[1;32m    103\u001b[0m         raise ValueError('Inputs of type {0} are not supported'\n",
      "\u001b[0;31mKeyboardInterrupt\u001b[0m: "
     ]
    }
   ],
   "source": [
    "for epo_type, epo_times in zip(config['epoch_types'], \n",
    "                               config['epoch_times']):\n",
    "    print(epo_type)\n",
    "    \n",
    "    for event_type in config['event_types']:\n",
    "        print(event_type)\n",
    "        mne_evokeds = {}\n",
    "        evokeds = {}\n",
    "        naves = {}\n",
    "        ses = {}\n",
    "        for event in config[event_type]:\n",
    "            mne_evokeds[event] = []\n",
    "            evokeds[event] = []\n",
    "            ses[event] = []\n",
    "            naves[event] = []\n",
    "        bads = []\n",
    "    \n",
    "        for subject in subjects:\n",
    "            print(subject)\n",
    "\n",
    "            # load subject behavior and epochs\n",
    "            sub_behavior = behavior[behavior.participant_id == subject]\n",
    "            epo_file = layout.get(subject=subject, \n",
    "                                  derivative='eeg_preprocessing', \n",
    "                                  extensions='%s_cleaned-epo.fif' % epo_type)[0]\n",
    "            epochs = read_epochs(epo_file.filename, verbose=False)\n",
    "\n",
    "            # remove filter buffer \n",
    "            epochs.crop(epo_times[0], epo_times[1])\n",
    "            # interpolate the bad channels\n",
    "            bads.append(epochs.info['bads'])\n",
    "            epochs.interpolate_bads(reset_bads=True)\n",
    "            # drop bad trials from epochs and behavior\n",
    "            sub_behavior, epochs = drop_bad_trials(subject, sub_behavior, \n",
    "                                                   epochs, layout, epo_type)\n",
    "\n",
    "            # add event labels\n",
    "            epochs = add_events(epochs, sub_behavior, event_type,\n",
    "                                config[event_type])\n",
    "\n",
    "            # compute averages and standard errors \n",
    "            evos = [epochs[event].average() for event in config[event_type]]\n",
    "            evos_se = [epochs[event].standard_error() \n",
    "                       for event in config[event_type]]\n",
    "            \n",
    "            # write subject evoked objects to file\n",
    "            write_evokeds('%s/%s/%s_%s_%s-ave.fif' % (pipeline_root,\n",
    "                                                      subject, subject,\n",
    "                                                      event_type, epo_type), \n",
    "                          evos)\n",
    "            # accumulate evoked objects for group average topomap\n",
    "            for i, event in enumerate(config[event_type]):\n",
    "                mne_evokeds[event].append(evos[i])\n",
    "            \n",
    "            # extract info for group erp object\n",
    "            for i, event in enumerate(config[event_type]):\n",
    "                evokeds[event].append(evos[i].data)\n",
    "                ses[event].append(evos_se[i].data)\n",
    "                naves[event].append(evos[i].nave)\n",
    "            \n",
    "        # save out group erp information\n",
    "        for event in config[event_type]:\n",
    "            evokeds[event] = np.array(evokeds[event])\n",
    "            ses[event] = np.array(ses[event])\n",
    "            naves[event] = np.array(naves[event])\n",
    "            \n",
    "        f = '%s/group/group_%s_%s_erp_info.npz' % (pipeline_root, \n",
    "                                                   event_type, epo_type)\n",
    "        np.savez_compressed(f, evoked=evokeds, standard_error=ses,\n",
    "                            num_ave=naves, chs=evos[0].ch_names, \n",
    "                            times=evos[0].times)\n",
    "            \n",
    "\n",
    "        # calculate group average evoked object and save \n",
    "        evos = [combine_evoked(mne_evokeds[event], weights='nave')\n",
    "                for event in config[event_type]]\n",
    "        write_evokeds('%s/group/group_%s_%s-ave.fif' % (pipeline_root, \n",
    "                                                        event_type,\n",
    "                                                        epo_type), evos)\n",
    "\n",
    "\n",
    "print('Done!')"
   ]
  },
  {
   "cell_type": "markdown",
   "metadata": {},
   "source": [
    "# Plot Topomaps "
   ]
  },
  {
   "cell_type": "code",
   "execution_count": 43,
   "metadata": {
    "ExecuteTime": {
     "end_time": "2017-11-07T22:01:28.912081Z",
     "start_time": "2017-11-07T22:01:27.401574Z"
    }
   },
   "outputs": [
    {
     "data": {
      "application/vnd.jupyter.widget-view+json": {
       "model_id": "d89bab5e24184fb7ae7662689bb502e3"
      }
     },
     "metadata": {},
     "output_type": "display_data"
    },
    {
     "data": {
      "text/plain": [
       "<function __main__.plot_topomap>"
      ]
     },
     "execution_count": 43,
     "metadata": {},
     "output_type": "execute_result"
    }
   ],
   "source": [
    "from mne import read_evokeds\n",
    "import matplotlib.pyplot as plt\n",
    "import seaborn as sns\n",
    "from ipywidgets import interact\n",
    "\n",
    "def plot_topomap(subject, epo_type, event_type, time, col_limit):\n",
    "    plt.close('all')\n",
    "    f = '%s/%s/%s_%s_%s-ave.fif' % (pipeline_root, subject, subject,\n",
    "                                          event_type, epo_type)\n",
    "    evokeds = read_evokeds(f)\n",
    "    \n",
    "    f, axs = plt.subplots(1, len(evokeds), figsize=(6 * len(evokeds), 6))\n",
    "    \n",
    "    for i, evo in enumerate(evokeds):\n",
    "        evo.plot_topomap(times=time, axes=axs[i], colorbar=False, \n",
    "                         show=False, vmin=-col_limit, vmax=col_limit)\n",
    "        axs[i].set_xlabel(config[event_type][i])\n",
    "    plt.show()\n",
    "\n",
    "interact(plot_topomap, subject=['group'] + subjects, \n",
    "         epo_type=['response', 'stimulus'], event_type=config['event_types'],\n",
    "         time=np.arange(-1, 1.75, .01), col_limit=np.arange(.5, 5, .5))"
   ]
  },
  {
   "cell_type": "code",
   "execution_count": 11,
   "metadata": {
    "ExecuteTime": {
     "end_time": "2017-11-03T18:42:47.101908Z",
     "start_time": "2017-11-03T18:42:45.161888Z"
    }
   },
   "outputs": [
    {
     "data": {
      "application/vnd.jupyter.widget-view+json": {
       "model_id": "a8747da1696746a0aa3b99d7303ac546"
      }
     },
     "metadata": {},
     "output_type": "display_data"
    },
    {
     "data": {
      "text/plain": [
       "<function __main__.plot_erp>"
      ]
     },
     "execution_count": 11,
     "metadata": {},
     "output_type": "execute_result"
    }
   ],
   "source": [
    "from ipywidgets import interact\n",
    "\n",
    "def plot_erp(subject, ch):\n",
    "\n",
    "    fig, axs = plt.subplots(1, 2, figsize=(24, 8))\n",
    "\n",
    "    for i, epo_type in enumerate(config['epoch_types']):\n",
    "\n",
    "        ax = axs[i]\n",
    "\n",
    "        evokeds = read_evokeds('%s/%s/%s_%s-ave.fif' % (pipeline_root,\n",
    "                                                        subject,\n",
    "                                                        subject,\n",
    "                                                        epo_type),\n",
    "                              verbose=False)\n",
    "        pick = evokeds[0].ch_names.index(ch)\n",
    "        evokeds = dict((config['conditions'][i], evokeds[i]) \n",
    "                       for i in range(len(evokeds)))\n",
    "        plot_compare_evokeds(evokeds, picks=pick, axes=ax, show=False)\n",
    "        ax.set_title('%s-locked' % epo_type)\n",
    "        ax.set_ylim((-6, 6))\n",
    "        ax.axvline(0, linestyle='--', color='k')\n",
    "\n",
    "    plt.suptitle('%s %s ERP' % (subject, ch))\n",
    "    plt.show()\n",
    "\n",
    "interact(plot_erp, subject=subjects + ['group'], ch=CH_NAMES)"
   ]
  },
  {
   "cell_type": "code",
   "execution_count": 7,
   "metadata": {
    "ExecuteTime": {
     "end_time": "2017-10-23T16:24:43.909647Z",
     "start_time": "2017-10-23T16:24:43.861345Z"
    },
    "collapsed": true
   },
   "outputs": [],
   "source": [
    "plot_compare_evokeds?"
   ]
  },
  {
   "cell_type": "code",
   "execution_count": null,
   "metadata": {
    "collapsed": true
   },
   "outputs": [],
   "source": []
  }
 ],
 "metadata": {
  "kernelspec": {
   "display_name": "Python 2",
   "language": "python",
   "name": "python2"
  },
  "language_info": {
   "codemirror_mode": {
    "name": "ipython",
    "version": 2
   },
   "file_extension": ".py",
   "mimetype": "text/x-python",
   "name": "python",
   "nbconvert_exporter": "python",
   "pygments_lexer": "ipython2",
   "version": "2.7.13"
  },
  "toc": {
   "colors": {
    "hover_highlight": "#DAA520",
    "navigate_num": "#000000",
    "navigate_text": "#333333",
    "running_highlight": "#FF0000",
    "selected_highlight": "#FFD700",
    "sidebar_border": "#EEEEEE",
    "wrapper_background": "#FFFFFF"
   },
   "moveMenuLeft": true,
   "nav_menu": {
    "height": "30px",
    "width": "252px"
   },
   "navigate_menu": true,
   "number_sections": true,
   "sideBar": true,
   "threshold": 4,
   "toc_cell": false,
   "toc_section_display": "block",
   "toc_window_display": true,
   "widenNotebook": false
  },
  "varInspector": {
   "cols": {
    "lenName": 16,
    "lenType": 16,
    "lenVar": 40
   },
   "kernels_config": {
    "python": {
     "delete_cmd_postfix": "",
     "delete_cmd_prefix": "del ",
     "library": "var_list.py",
     "varRefreshCmd": "print(var_dic_list())"
    },
    "r": {
     "delete_cmd_postfix": ") ",
     "delete_cmd_prefix": "rm(",
     "library": "var_list.r",
     "varRefreshCmd": "cat(var_dic_list()) "
    }
   },
   "types_to_exclude": [
    "module",
    "function",
    "builtin_function_or_method",
    "instance",
    "_Feature"
   ],
   "window_display": false
  }
 },
 "nbformat": 4,
 "nbformat_minor": 2
}
