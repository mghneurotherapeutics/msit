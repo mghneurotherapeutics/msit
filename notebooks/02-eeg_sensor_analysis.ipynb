{
 "cells": [
  {
   "cell_type": "markdown",
   "metadata": {},
   "source": [
    "# Initialization"
   ]
  },
  {
   "cell_type": "code",
   "execution_count": 9,
   "metadata": {
    "ExecuteTime": {
     "end_time": "2017-12-21T19:33:35.070366Z",
     "start_time": "2017-12-21T19:33:34.306042Z"
    }
   },
   "outputs": [],
   "source": [
    "import sys\n",
    "sys.path.append(\"../src\")\n",
    "import os\n",
    "import numpy as np\n",
    "import pickle\n",
    "import json\n",
    "import pandas as pd\n",
    "from grabbit import Layout\n",
    "from mne import read_epochs, grand_average, write_evokeds, read_evokeds\n",
    "from mne import pick_types, combine_evoked, set_log_level, grand_average\n",
    "from mne.time_frequency import tfr_morlet, read_tfrs, write_tfrs\n",
    "from mne.viz import plot_compare_evokeds\n",
    "from utils import CH_NAMES, select_subjects, drop_bad_trials\n",
    "from eeg_sensor_analysis import baseline_normalize, power_heatmap, add_events\n",
    "import matplotlib.pyplot as plt\n",
    "import seaborn as sns\n",
    "from ipywidgets import interact, fixed\n",
    "\n",
    "sns.set(style='whitegrid', font_scale=2)\n",
    "colors = ['#e41a1c', '#377eb8', '#4daf4a', '#984ea3']\n",
    "set_log_level('critical')\n",
    "\n",
    "# load subjects to process\n",
    "layout = Layout('../data', '../data/grabbit_config.json')\n",
    "subjects = select_subjects(layout, 'eeg', exclude='eeg')\n",
    "\n",
    "# Analysis Parameters \n",
    "conditions = ['incongruent', 'congruent']\n",
    "epoch_types = ['stimulus', 'response']\n",
    "epoch_times = [(-.5, 1.75), (-1, 1)]\n",
    "baseline = (-.5, -.1)\n",
    "# match Cohen, Donner 2013 \n",
    "frequencies = np.logspace(np.log10(2), np.log10(60), num=30) \n",
    "n_cycles = np.logspace(np.log10(3), np.log10(10), num=30) \n",
    "\n",
    "# load behavior\n",
    "behavior = pd.read_csv('../data/derivatives/behavior/group_data.tsv', \n",
    "                       na_values='n/a', sep='\\t') \n",
    "behavior = behavior[behavior.modality == 'eeg']\n",
    "\n",
    "# make eeg_sensor derivative directory structure\n",
    "pipeline_root = '../data/derivatives/eeg_sensor'\n",
    "if not os.path.exists(pipeline_root):\n",
    "    os.makedirs(pipeline_root)\n",
    "for subject in subjects + ['group']:\n",
    "    if not os.path.exists('%s/%s' % (pipeline_root, subject)):\n",
    "        os.makedirs('%s/%s' % (pipeline_root, subject))\n",
    "    if not os.path.exists('%s/%s/evoked' % (pipeline_root, subject)):\n",
    "        os.makedirs('%s/%s/evoked' % (pipeline_root, subject))\n",
    "    if not os.path.exists('%s/%s/tfr' % (pipeline_root, subject)):\n",
    "        os.makedirs('%s/%s/tfr' % (pipeline_root, subject))"
   ]
  },
  {
   "cell_type": "markdown",
   "metadata": {},
   "source": [
    "# ERPs"
   ]
  },
  {
   "cell_type": "markdown",
   "metadata": {},
   "source": [
    "## Make Evoked Data"
   ]
  },
  {
   "cell_type": "code",
   "execution_count": 7,
   "metadata": {
    "ExecuteTime": {
     "end_time": "2017-12-21T19:30:39.872731Z",
     "start_time": "2017-12-21T19:25:54.452012Z"
    },
    "scrolled": true
   },
   "outputs": [
    {
     "name": "stdout",
     "output_type": "stream",
     "text": [
      "stimulus\n",
      "sub-hc001\n",
      "sub-hc002\n",
      "sub-hc003\n",
      "sub-hc004\n",
      "sub-hc005\n",
      "sub-hc006\n",
      "sub-hc007\n",
      "sub-hc008\n",
      "sub-hc009\n",
      "sub-hc010\n",
      "sub-hc011\n",
      "sub-hc012\n",
      "sub-hc014\n",
      "sub-hc015\n",
      "sub-hc016\n",
      "sub-hc017\n",
      "sub-hc019\n",
      "sub-hc020\n",
      "sub-hc021\n",
      "sub-hc022\n",
      "sub-hc023\n",
      "sub-hc024\n",
      "sub-hc025\n",
      "sub-hc026\n",
      "sub-hc028\n",
      "sub-hc029\n",
      "sub-hc030\n",
      "sub-hc031\n",
      "sub-hc032\n",
      "sub-hc033\n",
      "sub-hc034\n",
      "sub-hc035\n",
      "sub-hc036\n",
      "sub-hc037\n",
      "sub-hc042\n",
      "sub-hc044\n",
      "sub-hc045\n",
      "sub-pp001\n",
      "sub-pp002\n",
      "sub-pp003\n",
      "sub-pp004\n",
      "sub-pp005\n",
      "sub-pp006\n",
      "sub-pp007\n",
      "sub-pp008\n",
      "sub-pp009\n",
      "sub-pp010\n",
      "sub-pp011\n",
      "sub-pp012\n",
      "sub-pp013\n",
      "sub-pp014\n",
      "sub-pp015\n",
      "sub-pp016\n",
      "response\n",
      "sub-hc001\n",
      "sub-hc002\n",
      "sub-hc003\n",
      "sub-hc004\n",
      "sub-hc005\n",
      "sub-hc006\n",
      "sub-hc007\n",
      "sub-hc008\n",
      "sub-hc009\n",
      "sub-hc010\n",
      "sub-hc011\n",
      "sub-hc012\n",
      "sub-hc014\n",
      "sub-hc015\n",
      "sub-hc016\n",
      "sub-hc017\n",
      "sub-hc019\n",
      "sub-hc020\n",
      "sub-hc021\n",
      "sub-hc022\n",
      "sub-hc023\n",
      "sub-hc024\n",
      "sub-hc025\n",
      "sub-hc026\n",
      "sub-hc028\n",
      "sub-hc029\n",
      "sub-hc030\n",
      "sub-hc031\n",
      "sub-hc032\n",
      "sub-hc033\n",
      "sub-hc034\n",
      "sub-hc035\n",
      "sub-hc036\n",
      "sub-hc037\n",
      "sub-hc042\n",
      "sub-hc044\n",
      "sub-hc045\n",
      "sub-pp001\n",
      "sub-pp002\n",
      "sub-pp003\n",
      "sub-pp004\n",
      "sub-pp005\n",
      "sub-pp006\n",
      "sub-pp007\n",
      "sub-pp008\n",
      "sub-pp009\n",
      "sub-pp010\n",
      "sub-pp011\n",
      "sub-pp012\n",
      "sub-pp013\n",
      "sub-pp014\n",
      "sub-pp015\n",
      "sub-pp016\n",
      "Done!\n"
     ]
    }
   ],
   "source": [
    "for epo_type, epo_times in zip(epoch_types, epoch_times):\n",
    "    print(epo_type)\n",
    "    \n",
    "    group = {'incongruent': [], 'congruent': []}\n",
    "    \n",
    "    for subject in subjects:\n",
    "        if subject == 'group':\n",
    "            continue\n",
    "            \n",
    "        print(subject)\n",
    "        \n",
    "        # load subject epochs & behavior\n",
    "        epo_file = layout.get(subject=subject, \n",
    "                              derivative='eeg_preprocessing', \n",
    "                              extensions='%s_cleaned-epo.fif' % epo_type)[0]\n",
    "        epochs = read_epochs(epo_file.filename, verbose=False)\n",
    "        sub_behavior = behavior[behavior.participant_id == subject]\n",
    "        \n",
    "        # crop filter period\n",
    "        epochs.crop(epo_times[0], epo_times[1])\n",
    "        \n",
    "        # drop bad trials from epochs and behavior\n",
    "        sub_behavior, epochs = drop_bad_trials(subject, sub_behavior,\n",
    "                                               epochs, layout, epo_type)\n",
    "        \n",
    "        # add event labels\n",
    "        epochs = add_events(epochs, sub_behavior)\n",
    "        \n",
    "        # interpolate bads\n",
    "        bads = epochs.info['bads']\n",
    "        epochs.interpolate_bads(reset_bads=True)\n",
    "        \n",
    "        # extract evoked and standard error\n",
    "        evos = [epochs[c].average() for c in conditions]\n",
    "        evos_std = [epochs[c].standard_error() for c in conditions]\n",
    "        \n",
    "        # save evoked and standard error\n",
    "        f = '%s/%s/evoked/%s_%s-ave.fif' % (pipeline_root, subject,\n",
    "                                                   subject, epo_type)\n",
    "        write_evokeds(f, evos)\n",
    "        f = '%s/%s/evoked/%s_%s_stderr-ave.fif' % (pipeline_root, subject,\n",
    "                                                       subject, epo_type)\n",
    "        write_evokeds(f, evos_std)\n",
    "        \n",
    "        # accumulate group data\n",
    "        for i, c in enumerate(conditions):\n",
    "            group[c].append(evos[i])\n",
    "        \n",
    "    # accumulate group data\n",
    "    evos = []\n",
    "    evos_std = []\n",
    "    for i, c in enumerate(conditions):\n",
    "        evos.append(grand_average(group[c]))\n",
    "        \n",
    "        # compute group standard error\n",
    "        tmp = np.array([e.data for e in group[c]])\n",
    "        tmp = np.std(tmp, axis=0) / np.sqrt(tmp.shape[0])\n",
    "        \n",
    "        # place group standard error in evoked object\n",
    "        std_err = evos[i].copy()\n",
    "        std_err.data = tmp.squeeze()\n",
    "        evos_std.append(std_err)\n",
    "        \n",
    "    # save group evoked and standard error\n",
    "    f = '%s/group/evoked/group_%s-ave.fif' % (pipeline_root, epo_type)\n",
    "    write_evokeds(f, evos)\n",
    "    f = '%s/group/evoked/group_%s_stderr-ave.fif' % (pipeline_root, \n",
    "                                                     epo_type)\n",
    "    write_evokeds(f, evos_std)\n",
    "\n",
    "\n",
    "print('Done!')"
   ]
  },
  {
   "cell_type": "markdown",
   "metadata": {},
   "source": [
    "## Visualize Evoked Responses "
   ]
  },
  {
   "cell_type": "markdown",
   "metadata": {},
   "source": [
    "### Plot ERP Waveforms"
   ]
  },
  {
   "cell_type": "code",
   "execution_count": 12,
   "metadata": {
    "ExecuteTime": {
     "end_time": "2017-12-21T19:34:49.940695Z",
     "start_time": "2017-12-21T19:34:48.694808Z"
    }
   },
   "outputs": [
    {
     "data": {
      "application/vnd.jupyter.widget-view+json": {
       "model_id": "65daf5cb346f4677ac5a23b09571d020",
       "version_major": 2,
       "version_minor": 0
      },
      "text/html": [
       "<p>Failed to display Jupyter Widget of type <code>interactive</code>.</p>\n",
       "<p>\n",
       "  If you're reading this message in the Jupyter Notebook or JupyterLab Notebook, it may mean\n",
       "  that the widgets JavaScript is still loading. If this message persists, it\n",
       "  likely means that the widgets JavaScript library is either not installed or\n",
       "  not enabled. See the <a href=\"https://ipywidgets.readthedocs.io/en/stable/user_install.html\">Jupyter\n",
       "  Widgets Documentation</a> for setup instructions.\n",
       "</p>\n",
       "<p>\n",
       "  If you're reading this message in another frontend (for example, a static\n",
       "  rendering on GitHub or <a href=\"https://nbviewer.jupyter.org/\">NBViewer</a>),\n",
       "  it may mean that your frontend doesn't currently support widgets.\n",
       "</p>\n"
      ],
      "text/plain": [
       "interactive(children=(Dropdown(description=u'subject', options=('group', 'sub-hc001', 'sub-hc002', 'sub-hc003', 'sub-hc004', 'sub-hc005', 'sub-hc006', 'sub-hc007', 'sub-hc008', 'sub-hc009', 'sub-hc010', 'sub-hc011', 'sub-hc012', 'sub-hc014', 'sub-hc015', 'sub-hc016', 'sub-hc017', 'sub-hc019', 'sub-hc020', 'sub-hc021', 'sub-hc022', 'sub-hc023', 'sub-hc024', 'sub-hc025', 'sub-hc026', 'sub-hc028', 'sub-hc029', 'sub-hc030', 'sub-hc031', 'sub-hc032', 'sub-hc033', 'sub-hc034', 'sub-hc035', 'sub-hc036', 'sub-hc037', 'sub-hc042', 'sub-hc044', 'sub-hc045', 'sub-pp001', 'sub-pp002', 'sub-pp003', 'sub-pp004', 'sub-pp005', 'sub-pp006', 'sub-pp007', 'sub-pp008', 'sub-pp009', 'sub-pp010', 'sub-pp011', 'sub-pp012', 'sub-pp013', 'sub-pp014', 'sub-pp015', 'sub-pp016'), value='group'), Dropdown(description=u'ch', options=('Fp1', 'Fpz', 'Fp2', 'AF7', 'AF3', 'AFz', 'AF4', 'AF8', 'F7', 'F5', 'F3', 'F1', 'Fz', 'F2', 'F4', 'F6', 'F8', 'FT9', 'FT7', 'FC5', 'FC3', 'FC1', 'FCz', 'FC2', 'FC4', 'FC6', 'FT8', 'FT10', 'T9', 'T7', 'C5', 'C3', 'C1', 'Cz', 'C2', 'C4', 'C6', 'T8', 'T10', 'TP9', 'TP7', 'CP5', 'CP3', 'CP1', 'CPz', 'CP2', 'CP4', 'CP6', 'TP8', 'TP10', 'P9', 'P7', 'P5', 'P3', 'P1', 'Pz', 'P2', 'P4', 'P6', 'P8', 'P10', 'PO7', 'PO3', 'P0z', 'PO4', 'PO8', 'O1', 'Oz', 'O2', 'Iz'), value='Fp1'), Output()), _dom_classes=('widget-interact',))"
      ]
     },
     "metadata": {},
     "output_type": "display_data"
    }
   ],
   "source": [
    "def plot_erps(subject, ch, behavior):\n",
    "    \n",
    "    plt.close('all')\n",
    "    fig, axs = plt.subplots(1, 2, figsize=(24, 6), sharey=True)\n",
    "    \n",
    "    # remove bad trials from behavior\n",
    "    exclusions = ['fast_rt', 'no_response', 'error', 'post_error']\n",
    "    behavior = behavior.loc[np.where(np.sum(behavior[exclusions], \n",
    "                                            axis=1) == 0)[0], :]\n",
    "    if subject != 'group':\n",
    "        behavior = behavior.loc[behavior.participant_id == subject, :]\n",
    "    \n",
    "    for i, epo_type in enumerate(epoch_types):\n",
    "        ax = axs[i]\n",
    "        \n",
    "        # load evoked with standard error \n",
    "        evo_file = layout.get(subject=subject, \n",
    "                              derivative='eeg_sensor', \n",
    "                              extensions='%s-ave.fif' % epo_type)[0]\n",
    "        evos = read_evokeds(evo_file.filename, verbose=False)\n",
    "        evo_file = layout.get(subject=subject, \n",
    "                              derivative='eeg_sensor', \n",
    "                              extensions='%s_stderr-ave.fif' % epo_type)[0]\n",
    "        evos_std = read_evokeds(evo_file.filename, verbose=False)\n",
    "        \n",
    "        \n",
    "        for j, c in enumerate(conditions):\n",
    "            \n",
    "            evo = evos[j]\n",
    "            evo_std = evos_std[j]\n",
    "            \n",
    "            # select out chosen channel\n",
    "            evo.pick_channels([ch])\n",
    "            evo_std.pick_channels([ch])\n",
    "            \n",
    "            # extract the data and standard error\n",
    "            times = evo.times \n",
    "            data = evo.data.squeeze() * 1e6\n",
    "            std_err = evo_std.data.squeeze() * 1e6\n",
    "            \n",
    "            # plot waveforms with standard error shading\n",
    "            ax.plot(times, data, color=colors[j])\n",
    "            ax.fill_between(times, data - std_err, data + std_err,\n",
    "                            alpha=0.5, color=colors[j])\n",
    "            \n",
    "        # histogram rts on bottom of stimulus-locked plots\n",
    "        for j, c in enumerate(conditions):\n",
    "            \n",
    "            if epo_type == 'stimulus':\n",
    "                bottom=ax.get_ylim()[0]\n",
    "                rt = behavior[behavior.trial_type == c].response_time\n",
    "                ax.hist(rt, color=colors[j], alpha=0.2, \n",
    "                        normed=True, bottom=bottom)\n",
    "            \n",
    "        # set time axis ticks\n",
    "        if epo_type == 'stimulus':\n",
    "            ax.set_xticks(np.arange(-.5, 1.8, .25))\n",
    "            ax.set_xlim((-.5, 1.75))\n",
    "            ax.set_ylabel('$\\mu V$')\n",
    "        else:\n",
    "            ax.set_xticks(np.arange(-1, 1.1, .25))\n",
    "        \n",
    "        # plot flourishes\n",
    "        ax.set_title('%s-locked' % epo_type)\n",
    "        ax.axvline(0, color='k')\n",
    "        ax.axhline(0, color='k')\n",
    "        ax.set_xlabel('Time (s)')\n",
    "        ax.legend(conditions, loc='best')\n",
    "    \n",
    "    plt.suptitle('%s %s ERPs' % (subject, ch), y=1.05)\n",
    "    sns.despine()\n",
    "    plt.show();\n",
    "\n",
    "interact(plot_erps, subject=subjects, ch=CH_NAMES, \n",
    "         behavior=fixed(behavior));"
   ]
  },
  {
   "cell_type": "markdown",
   "metadata": {},
   "source": [
    "### Plot Topomaps "
   ]
  },
  {
   "cell_type": "code",
   "execution_count": 13,
   "metadata": {
    "ExecuteTime": {
     "end_time": "2017-12-21T19:36:19.914682Z",
     "start_time": "2017-12-21T19:36:18.827353Z"
    }
   },
   "outputs": [
    {
     "data": {
      "application/vnd.jupyter.widget-view+json": {
       "model_id": "304bd4c9c3fe4fba93cc75c75b68afea",
       "version_major": 2,
       "version_minor": 0
      },
      "text/html": [
       "<p>Failed to display Jupyter Widget of type <code>interactive</code>.</p>\n",
       "<p>\n",
       "  If you're reading this message in the Jupyter Notebook or JupyterLab Notebook, it may mean\n",
       "  that the widgets JavaScript is still loading. If this message persists, it\n",
       "  likely means that the widgets JavaScript library is either not installed or\n",
       "  not enabled. See the <a href=\"https://ipywidgets.readthedocs.io/en/stable/user_install.html\">Jupyter\n",
       "  Widgets Documentation</a> for setup instructions.\n",
       "</p>\n",
       "<p>\n",
       "  If you're reading this message in another frontend (for example, a static\n",
       "  rendering on GitHub or <a href=\"https://nbviewer.jupyter.org/\">NBViewer</a>),\n",
       "  it may mean that your frontend doesn't currently support widgets.\n",
       "</p>\n"
      ],
      "text/plain": [
       "interactive(children=(Dropdown(description=u'subject', options=('group', 'group', 'sub-hc001', 'sub-hc002', 'sub-hc003', 'sub-hc004', 'sub-hc005', 'sub-hc006', 'sub-hc007', 'sub-hc008', 'sub-hc009', 'sub-hc010', 'sub-hc011', 'sub-hc012', 'sub-hc014', 'sub-hc015', 'sub-hc016', 'sub-hc017', 'sub-hc019', 'sub-hc020', 'sub-hc021', 'sub-hc022', 'sub-hc023', 'sub-hc024', 'sub-hc025', 'sub-hc026', 'sub-hc028', 'sub-hc029', 'sub-hc030', 'sub-hc031', 'sub-hc032', 'sub-hc033', 'sub-hc034', 'sub-hc035', 'sub-hc036', 'sub-hc037', 'sub-hc042', 'sub-hc044', 'sub-hc045', 'sub-pp001', 'sub-pp002', 'sub-pp003', 'sub-pp004', 'sub-pp005', 'sub-pp006', 'sub-pp007', 'sub-pp008', 'sub-pp009', 'sub-pp010', 'sub-pp011', 'sub-pp012', 'sub-pp013', 'sub-pp014', 'sub-pp015', 'sub-pp016'), value='group'), Dropdown(description=u'epo_type', options=('response', 'stimulus'), value='response'), Dropdown(description=u'time', options=(-1.0, -0.98999999999999999, -0.97999999999999998, -0.96999999999999997, -0.95999999999999996, -0.94999999999999996, -0.93999999999999995, -0.92999999999999994, -0.91999999999999993, -0.90999999999999992, -0.89999999999999991, -0.8899999999999999, -0.87999999999999989, -0.86999999999999988, -0.85999999999999988, -0.84999999999999987, -0.83999999999999986, -0.82999999999999985, -0.81999999999999984, -0.80999999999999983, -0.79999999999999982, -0.78999999999999981, -0.7799999999999998, -0.7699999999999998, -0.75999999999999979, -0.74999999999999978, -0.73999999999999977, -0.72999999999999976, -0.71999999999999975, -0.70999999999999974, -0.69999999999999973, -0.68999999999999972, -0.67999999999999972, -0.66999999999999971, -0.6599999999999997, -0.64999999999999969, -0.63999999999999968, -0.62999999999999967, -0.61999999999999966, -0.60999999999999965, -0.59999999999999964, -0.58999999999999964, -0.57999999999999963, -0.56999999999999962, -0.55999999999999961, -0.5499999999999996, -0.53999999999999959, -0.52999999999999958, -0.51999999999999957, -0.50999999999999956, -0.49999999999999956, -0.48999999999999955, -0.47999999999999954, -0.46999999999999953, -0.45999999999999952, -0.44999999999999951, -0.4399999999999995, -0.42999999999999949, -0.41999999999999948, -0.40999999999999948, -0.39999999999999947, -0.38999999999999946, -0.37999999999999945, -0.36999999999999944, -0.35999999999999943, -0.34999999999999942, -0.33999999999999941, -0.3299999999999994, -0.3199999999999994, -0.30999999999999939, -0.29999999999999938, -0.28999999999999937, -0.27999999999999936, -0.26999999999999935, -0.25999999999999934, -0.24999999999999933, -0.23999999999999932, -0.22999999999999932, -0.21999999999999931, -0.2099999999999993, -0.19999999999999929, -0.18999999999999928, -0.17999999999999927, -0.16999999999999926, -0.15999999999999925, -0.14999999999999925, -0.13999999999999924, -0.12999999999999923, -0.11999999999999922, -0.10999999999999921, -0.099999999999999201, -0.089999999999999192, -0.079999999999999183, -0.069999999999999174, -0.059999999999999165, -0.049999999999999156, -0.039999999999999147, -0.029999999999999138, -0.01999999999999913, -0.0099999999999991207, 8.8817841970012523e-16, 0.010000000000000897, 0.020000000000000906, 0.030000000000000915, 0.040000000000000924, 0.050000000000000933, 0.060000000000000941, 0.07000000000000095, 0.080000000000000959, 0.090000000000000968, 0.10000000000000098, 0.11000000000000099, 0.12000000000000099, 0.130000000000001, 0.14000000000000101, 0.15000000000000102, 0.16000000000000103, 0.17000000000000104, 0.18000000000000105, 0.19000000000000106, 0.20000000000000107, 0.21000000000000107, 0.22000000000000108, 0.23000000000000109, 0.2400000000000011, 0.25000000000000111, 0.26000000000000112, 0.27000000000000113, 0.28000000000000114, 0.29000000000000115, 0.30000000000000115, 0.31000000000000116, 0.32000000000000117, 0.33000000000000118, 0.34000000000000119, 0.3500000000000012, 0.36000000000000121, 0.37000000000000122, 0.38000000000000123, 0.39000000000000123, 0.40000000000000124, 0.41000000000000125, 0.42000000000000126, 0.43000000000000127, 0.44000000000000128, 0.45000000000000129, 0.4600000000000013, 0.47000000000000131, 0.48000000000000131, 0.49000000000000132, 0.50000000000000133, 0.51000000000000134, 0.52000000000000135, 0.53000000000000136, 0.54000000000000137, 0.55000000000000138, 0.56000000000000139, 0.57000000000000139, 0.5800000000000014, 0.59000000000000141, 0.60000000000000142, 0.61000000000000143, 0.62000000000000144, 0.63000000000000145, 0.64000000000000146, 0.65000000000000147, 0.66000000000000147, 0.67000000000000148, 0.68000000000000149, 0.6900000000000015, 0.70000000000000151, 0.71000000000000152, 0.72000000000000153, 0.73000000000000154, 0.74000000000000155, 0.75000000000000155, 0.76000000000000156, 0.77000000000000157, 0.78000000000000158, 0.79000000000000159, 0.8000000000000016, 0.81000000000000161, 0.82000000000000162, 0.83000000000000163, 0.84000000000000163, 0.85000000000000164, 0.86000000000000165, 0.87000000000000166, 0.88000000000000167, 0.89000000000000168, 0.90000000000000169, 0.9100000000000017, 0.92000000000000171, 0.93000000000000171, 0.94000000000000172, 0.95000000000000173, 0.96000000000000174, 0.97000000000000175, 0.98000000000000176, 0.99000000000000177, 1.0000000000000018, 1.0100000000000016, 1.0200000000000018, 1.030000000000002, 1.0400000000000018, 1.0500000000000016, 1.0600000000000018, 1.0700000000000021, 1.0800000000000018, 1.0900000000000016, 1.1000000000000019, 1.1100000000000021, 1.1200000000000019, 1.1300000000000017, 1.1400000000000019, 1.1500000000000021, 1.1600000000000019, 1.1700000000000017, 1.1800000000000019, 1.1900000000000022, 1.200000000000002, 1.2100000000000017, 1.220000000000002, 1.2300000000000022, 1.240000000000002, 1.2500000000000018, 1.260000000000002, 1.2700000000000022, 1.280000000000002, 1.2900000000000018, 1.300000000000002, 1.3100000000000023, 1.3200000000000021, 1.3300000000000018, 1.3400000000000021, 1.3500000000000023, 1.3600000000000021, 1.3700000000000019, 1.3800000000000021, 1.3900000000000023, 1.4000000000000021, 1.4100000000000019, 1.4200000000000021, 1.4300000000000024, 1.4400000000000022, 1.450000000000002, 1.4600000000000022, 1.4700000000000024, 1.4800000000000022, 1.490000000000002, 1.5000000000000022, 1.5100000000000025, 1.5200000000000022, 1.530000000000002, 1.5400000000000023, 1.5500000000000025, 1.5600000000000023, 1.5700000000000021, 1.5800000000000023, 1.5900000000000025, 1.6000000000000023, 1.6100000000000021, 1.6200000000000023, 1.6300000000000026, 1.6400000000000023, 1.6500000000000021, 1.6600000000000024, 1.6700000000000026, 1.6800000000000024, 1.6900000000000022, 1.7000000000000024, 1.7100000000000026, 1.7200000000000024, 1.7300000000000022, 1.7400000000000024), value=-1.0), Dropdown(description=u'col_limit', options=(0.5, 1.0, 1.5, 2.0, 2.5, 3.0, 3.5, 4.0, 4.5), value=0.5), Output()), _dom_classes=('widget-interact',))"
      ]
     },
     "metadata": {},
     "output_type": "display_data"
    }
   ],
   "source": [
    "def plot_topomap(subject, epo_type, time, col_limit):\n",
    "    plt.close('all')\n",
    "    evo_file = layout.get(subject=subject, \n",
    "                          derivative='eeg_sensor', \n",
    "                          extensions='%s-ave.fif' % epo_type)[0]\n",
    "    evokeds = read_evokeds(evo_file.filename, verbose=False)\n",
    "    \n",
    "    f, axs = plt.subplots(1, 4, figsize=(24, 6)) \n",
    "    \n",
    "    for i, evo in enumerate(evokeds):\n",
    "        evo.plot_topomap(times=time, axes=axs[i], colorbar=True, \n",
    "                         show=False, vmin=-col_limit, vmax=col_limit)\n",
    "        axs[i].set_xlabel(conditions[i])\n",
    "        \n",
    "    diff = combine_evoked(evokeds, weights=[1, -1])\n",
    "    diff.plot_topomap(times=time, axes=axs[2], colorbar=True, \n",
    "                      show=False, vmin=-col_limit, vmax=col_limit)\n",
    "    axs[2].set_xlabel('i-c')\n",
    "    \n",
    "    plt.show();\n",
    "\n",
    "interact(plot_topomap, subject=['group'] + subjects, \n",
    "         epo_type=['response', 'stimulus'],\n",
    "         time=np.arange(-1, 1.75, .01), col_limit=np.arange(.5, 5, .5),\n",
    "         diff_col_limit=np.arange(.5, 5, .5));\n"
   ]
  },
  {
   "cell_type": "markdown",
   "metadata": {
    "collapsed": true
   },
   "source": [
    "# TFR Power"
   ]
  },
  {
   "cell_type": "markdown",
   "metadata": {},
   "source": [
    "## Make TFR Power"
   ]
  },
  {
   "cell_type": "markdown",
   "metadata": {},
   "source": [
    "### Compute Raw TFR Power"
   ]
  },
  {
   "cell_type": "code",
   "execution_count": 15,
   "metadata": {
    "ExecuteTime": {
     "end_time": "2017-12-22T00:23:40.790785Z",
     "start_time": "2017-12-21T19:36:42.403974Z"
    },
    "scrolled": true
   },
   "outputs": [
    {
     "name": "stdout",
     "output_type": "stream",
     "text": [
      "stimulus\n",
      "sub-hc001\n",
      "sub-hc002\n",
      "sub-hc003\n",
      "sub-hc004\n",
      "sub-hc005\n",
      "sub-hc006\n",
      "sub-hc007\n",
      "sub-hc008\n",
      "sub-hc009\n",
      "sub-hc010\n",
      "sub-hc011\n",
      "sub-hc012\n",
      "sub-hc014\n",
      "sub-hc015\n",
      "sub-hc016\n",
      "sub-hc017\n",
      "sub-hc019\n",
      "sub-hc020\n",
      "sub-hc021\n",
      "sub-hc022\n",
      "sub-hc023\n",
      "sub-hc024\n",
      "sub-hc025\n",
      "sub-hc026\n",
      "sub-hc028\n",
      "sub-hc029\n",
      "sub-hc030\n",
      "sub-hc031\n",
      "sub-hc032\n",
      "sub-hc033\n",
      "sub-hc034\n",
      "sub-hc035\n",
      "sub-hc036\n",
      "sub-hc037\n",
      "sub-hc042\n",
      "sub-hc044\n",
      "sub-hc045\n",
      "sub-pp001\n",
      "sub-pp002\n",
      "sub-pp003\n",
      "sub-pp004\n",
      "sub-pp005\n",
      "sub-pp006\n",
      "sub-pp007\n",
      "sub-pp008\n",
      "sub-pp009\n",
      "sub-pp010\n",
      "sub-pp011\n",
      "sub-pp012\n",
      "sub-pp013\n",
      "sub-pp014\n",
      "sub-pp015\n",
      "sub-pp016\n",
      "response\n",
      "sub-hc001\n",
      "sub-hc002\n",
      "sub-hc003\n",
      "sub-hc004\n",
      "sub-hc005\n",
      "sub-hc006\n",
      "sub-hc007\n",
      "sub-hc008\n",
      "sub-hc009\n",
      "sub-hc010\n",
      "sub-hc011\n",
      "sub-hc012\n",
      "sub-hc014\n",
      "sub-hc015\n",
      "sub-hc016\n",
      "sub-hc017\n",
      "sub-hc019\n",
      "sub-hc020\n",
      "sub-hc021\n",
      "sub-hc022\n",
      "sub-hc023\n",
      "sub-hc024\n",
      "sub-hc025\n",
      "sub-hc026\n",
      "sub-hc028\n",
      "sub-hc029\n",
      "sub-hc030\n",
      "sub-hc031\n",
      "sub-hc032\n",
      "sub-hc033\n",
      "sub-hc034\n",
      "sub-hc035\n",
      "sub-hc036\n",
      "sub-hc037\n",
      "sub-hc042\n",
      "sub-hc044\n",
      "sub-hc045\n",
      "sub-pp001\n",
      "sub-pp002\n",
      "sub-pp003\n",
      "sub-pp004\n",
      "sub-pp005\n",
      "sub-pp006\n",
      "sub-pp007\n",
      "sub-pp008\n",
      "sub-pp009\n",
      "sub-pp010\n",
      "sub-pp011\n",
      "sub-pp012\n",
      "sub-pp013\n",
      "sub-pp014\n",
      "sub-pp015\n",
      "sub-pp016\n",
      "Done!\n"
     ]
    }
   ],
   "source": [
    "for epo_type, epo_times in zip(epoch_types, epoch_times):\n",
    "    print(epo_type)\n",
    "    \n",
    "    for subject in subjects:\n",
    "        if subject == 'group':\n",
    "            continue\n",
    "        print(subject)\n",
    "\n",
    "        # load subject behavior and epochs\n",
    "        sub_behavior = behavior[behavior.participant_id == subject]\n",
    "        epo_file = layout.get(subject=subject, \n",
    "                              derivative='eeg_preprocessing', \n",
    "                              extensions='%s_cleaned-epo.fif' % epo_type)[0]\n",
    "        epochs = read_epochs(epo_file.filename, verbose=False)\n",
    "\n",
    "        # interpolate the bad channels\n",
    "        epochs.interpolate_bads(reset_bads=True)\n",
    "\n",
    "        # drop bad trials from epochs and behavior\n",
    "        sub_behavior, epochs = drop_bad_trials(subject, sub_behavior, \n",
    "                                               epochs, layout, epo_type)\n",
    "\n",
    "        # add event labels\n",
    "        epochs = add_events(epochs, sub_behavior)\n",
    "\n",
    "        tfrs = []\n",
    "        for event in conditions:\n",
    "            cond_epochs = epochs[event]\n",
    "            \n",
    "            # remove evoked response\n",
    "            cond_epochs.subtract_evoked()\n",
    "            \n",
    "            # compute tfr\n",
    "            power = tfr_morlet(cond_epochs, freqs=frequencies, \n",
    "                               n_cycles=n_cycles, decim=5, \n",
    "                               return_itc=False, average=False, n_jobs=5)\n",
    "            \n",
    "            # crop out filter buffer\n",
    "            power.crop(epo_times[0], epo_times[1])\n",
    "            tfrs.append(power)\n",
    "\n",
    "        f = '../data/derivatives/eeg_sensor/%s/tfr/%s_%s_raw-tfr.h5'\n",
    "        write_tfrs(f % (subject, subject, epo_type), tfrs, overwrite=True)\n",
    "\n",
    "print('Done!')"
   ]
  },
  {
   "cell_type": "markdown",
   "metadata": {},
   "source": [
    "### Baseline Normalize Power"
   ]
  },
  {
   "cell_type": "code",
   "execution_count": null,
   "metadata": {
    "ExecuteTime": {
     "start_time": "2017-12-22T15:08:29.381Z"
    },
    "scrolled": true
   },
   "outputs": [
    {
     "name": "stdout",
     "output_type": "stream",
     "text": [
      "stimulus\n",
      "sub-hc001\n",
      "sub-hc002\n",
      "sub-hc003\n",
      "sub-hc004\n",
      "sub-hc005\n",
      "sub-hc006\n",
      "sub-hc007\n"
     ]
    }
   ],
   "source": [
    "# cache stimulus baseline periods \n",
    "baselines = {}\n",
    "\n",
    "for epo_type, epo_times in zip(epoch_types, epoch_times):\n",
    "    print(epo_type)\n",
    "    \n",
    "    group = {'incongruent': [], 'congruent': []}\n",
    "    for subject in subjects:\n",
    "        if subject == 'group':\n",
    "            continue\n",
    "        print(subject)\n",
    "        \n",
    "        f = '../data/derivatives/eeg_sensor/%s/tfr/%s_%s_raw-tfr.h5'\n",
    "        tfrs = read_tfrs(f % (subject, subject, epo_type))\n",
    "        \n",
    "        if epo_type == 'stimulus':\n",
    "            baselines[subject] = {'incongruent': (-.5, -.1), \n",
    "                                  'congruent': (-.5, -.1)}\n",
    "        \n",
    "        norm_tfrs = []\n",
    "        for i, c in enumerate(conditions):\n",
    "            \n",
    "            tfr, baseline = baseline_normalize(tfrs[i], baselines[subject][c])\n",
    "            norm_tfrs.append(tfr)\n",
    "            group[c].append(tfr)\n",
    "            baselines[subject][c] = baseline\n",
    "            \n",
    "            \n",
    "        f = '../data/derivatives/eeg_sensor/%s/tfr/%s_%s_norm-tfr.h5'\n",
    "        write_tfrs(f % (subject, subject, epo_type), norm_tfrs, \n",
    "                   overwrite=True)\n",
    "        \n",
    "    group_tfrs = [grand_average(group[c]) for c in conditions]\n",
    "    f = '../data/derivatives/eeg_sensor/group/tfr/group_%s_norm-tfr.h5'\n",
    "    write_tfrs(f % (epo_type), group_tfrs, overwrite=True)\n",
    "        \n",
    "print('Done!')"
   ]
  },
  {
   "cell_type": "markdown",
   "metadata": {},
   "source": [
    "## Visualize TFR Power"
   ]
  },
  {
   "cell_type": "markdown",
   "metadata": {},
   "source": [
    "### TFR Power Heatmaps"
   ]
  },
  {
   "cell_type": "code",
   "execution_count": 2,
   "metadata": {
    "ExecuteTime": {
     "end_time": "2017-12-21T19:22:56.680382Z",
     "start_time": "2017-12-21T19:22:51.786570Z"
    }
   },
   "outputs": [
    {
     "data": {
      "application/vnd.jupyter.widget-view+json": {
       "model_id": "d3d8c1b58dee48c4931829ff0779b423",
       "version_major": 2,
       "version_minor": 0
      },
      "text/html": [
       "<p>Failed to display Jupyter Widget of type <code>interactive</code>.</p>\n",
       "<p>\n",
       "  If you're reading this message in the Jupyter Notebook or JupyterLab Notebook, it may mean\n",
       "  that the widgets JavaScript is still loading. If this message persists, it\n",
       "  likely means that the widgets JavaScript library is either not installed or\n",
       "  not enabled. See the <a href=\"https://ipywidgets.readthedocs.io/en/stable/user_install.html\">Jupyter\n",
       "  Widgets Documentation</a> for setup instructions.\n",
       "</p>\n",
       "<p>\n",
       "  If you're reading this message in another frontend (for example, a static\n",
       "  rendering on GitHub or <a href=\"https://nbviewer.jupyter.org/\">NBViewer</a>),\n",
       "  it may mean that your frontend doesn't currently support widgets.\n",
       "</p>\n"
      ],
      "text/plain": [
       "interactive(children=(Dropdown(description=u'subject', options=('group', 'group', 'sub-hc001', 'sub-hc002', 'sub-hc003', 'sub-hc004', 'sub-hc005', 'sub-hc006', 'sub-hc007', 'sub-hc008', 'sub-hc009', 'sub-hc010', 'sub-hc011', 'sub-hc012', 'sub-hc014', 'sub-hc015', 'sub-hc016', 'sub-hc017', 'sub-hc019', 'sub-hc020', 'sub-hc021', 'sub-hc022', 'sub-hc023', 'sub-hc024', 'sub-hc025', 'sub-hc026', 'sub-hc028', 'sub-hc029', 'sub-hc030', 'sub-hc031', 'sub-hc032', 'sub-hc033', 'sub-hc034', 'sub-hc035', 'sub-hc036', 'sub-hc037', 'sub-hc042', 'sub-hc044', 'sub-hc045', 'sub-pp001', 'sub-pp002', 'sub-pp003', 'sub-pp004', 'sub-pp005', 'sub-pp006', 'sub-pp007', 'sub-pp008', 'sub-pp009', 'sub-pp010', 'sub-pp011', 'sub-pp012', 'sub-pp013', 'sub-pp014', 'sub-pp015', 'sub-pp016'), value='group'), Dropdown(description=u'ch', options=('Fp1', 'Fpz', 'Fp2', 'AF7', 'AF3', 'AFz', 'AF4', 'AF8', 'F7', 'F5', 'F3', 'F1', 'Fz', 'F2', 'F4', 'F6', 'F8', 'FT9', 'FT7', 'FC5', 'FC3', 'FC1', 'FCz', 'FC2', 'FC4', 'FC6', 'FT8', 'FT10', 'T9', 'T7', 'C5', 'C3', 'C1', 'Cz', 'C2', 'C4', 'C6', 'T8', 'T10', 'TP9', 'TP7', 'CP5', 'CP3', 'CP1', 'CPz', 'CP2', 'CP4', 'CP6', 'TP8', 'TP10', 'P9', 'P7', 'P5', 'P3', 'P1', 'Pz', 'P2', 'P4', 'P6', 'P8', 'P10', 'PO7', 'PO3', 'P0z', 'PO4', 'PO8', 'O1', 'Oz', 'O2', 'Iz'), value='Fp1'), FloatSlider(value=2.0, description=u'lim', max=4.0, min=0.5, step=0.5), Output()), _dom_classes=('widget-interact',))"
      ]
     },
     "metadata": {},
     "output_type": "display_data"
    }
   ],
   "source": [
    "def plot_tfr_heatmap(subject, ch, lim, behavior):\n",
    "    \n",
    "    exclusions = ['fast_rt', 'no_response', 'error', 'post_error']\n",
    "    sub_behavior = behavior.loc[np.where(np.sum(behavior[exclusions], \n",
    "                                            axis=1) == 0)[0], :]\n",
    "    if subject != 'group':\n",
    "        sub_behavior = sub_behavior.loc[sub_behavior.participant_id == subject, :]\n",
    "    sns.set(style='white', font_scale=2)\n",
    "    plt.close('all')\n",
    "\n",
    "    fig, axs = plt.subplots(2, 3, figsize=(24, 16))\n",
    "    \n",
    "    \n",
    "    for i, epo_type in enumerate(epoch_types):\n",
    "        \n",
    "        f = '../data/derivatives/eeg_sensor/%s/tfr/%s_%s_norm-tfr.h5'\n",
    "        tfrs = read_tfrs(f % (subject, subject, epo_type))\n",
    "\n",
    "        powers = []\n",
    "        for j, c in enumerate(conditions):\n",
    "            \n",
    "            power = tfrs[j]\n",
    "            power.pick_channels([ch])\n",
    "            ax = axs[i, j]\n",
    "            rts = [sub_behavior[sub_behavior.trial_type == c].response_time]\n",
    "            rt_colors = [colors[j]] \n",
    "            if epo_type == 'stimulus':\n",
    "                ax = power_heatmap(power, ax, lim, rts, rt_colors)\n",
    "            else:\n",
    "                ax = power_heatmap(power, ax, lim)\n",
    "            ax.set_title('%s-locked' % epo_type)\n",
    "                \n",
    "\n",
    "        ax = axs[i, 2]\n",
    "        power = tfrs[0] - tfrs[1] \n",
    "        power.pick_channels([ch])\n",
    "        rts = [sub_behavior[sub_behavior.trial_type == c].response_time for c in conditions]\n",
    "        rt_colors = [colors[0], colors[1]]\n",
    "        if epo_type == 'stimulus':\n",
    "            ax = power_heatmap(power, ax, lim, rts, rt_colors)\n",
    "        else:\n",
    "            ax = power_heatmap(power, ax, lim)\n",
    "\n",
    "    plt.tight_layout()\n",
    "    plt.subplots_adjust(top=.92)\n",
    "    plt.suptitle('%s %s TFR Heatmaps' % (subject, ch), fontsize=24)\n",
    "    plt.show()\n",
    "\n",
    "interact(plot_tfr_heatmap, subject=['group'] + subjects, ch=CH_NAMES, \n",
    "         lim=(.5, 4, .5), behavior=fixed(behavior));"
   ]
  },
  {
   "cell_type": "markdown",
   "metadata": {},
   "source": [
    "### TFR Power Topomaps"
   ]
  },
  {
   "cell_type": "code",
   "execution_count": 3,
   "metadata": {
    "ExecuteTime": {
     "end_time": "2017-12-21T19:23:28.683441Z",
     "start_time": "2017-12-21T19:23:26.722931Z"
    }
   },
   "outputs": [
    {
     "data": {
      "application/vnd.jupyter.widget-view+json": {
       "model_id": "b04dbd8520a74c47a58b183f8939dec2",
       "version_major": 2,
       "version_minor": 0
      },
      "text/html": [
       "<p>Failed to display Jupyter Widget of type <code>interactive</code>.</p>\n",
       "<p>\n",
       "  If you're reading this message in the Jupyter Notebook or JupyterLab Notebook, it may mean\n",
       "  that the widgets JavaScript is still loading. If this message persists, it\n",
       "  likely means that the widgets JavaScript library is either not installed or\n",
       "  not enabled. See the <a href=\"https://ipywidgets.readthedocs.io/en/stable/user_install.html\">Jupyter\n",
       "  Widgets Documentation</a> for setup instructions.\n",
       "</p>\n",
       "<p>\n",
       "  If you're reading this message in another frontend (for example, a static\n",
       "  rendering on GitHub or <a href=\"https://nbviewer.jupyter.org/\">NBViewer</a>),\n",
       "  it may mean that your frontend doesn't currently support widgets.\n",
       "</p>\n"
      ],
      "text/plain": [
       "interactive(children=(Dropdown(description=u'subject', options=('group', 'group', 'sub-hc001', 'sub-hc002', 'sub-hc003', 'sub-hc004', 'sub-hc005', 'sub-hc006', 'sub-hc007', 'sub-hc008', 'sub-hc009', 'sub-hc010', 'sub-hc011', 'sub-hc012', 'sub-hc014', 'sub-hc015', 'sub-hc016', 'sub-hc017', 'sub-hc019', 'sub-hc020', 'sub-hc021', 'sub-hc022', 'sub-hc023', 'sub-hc024', 'sub-hc025', 'sub-hc026', 'sub-hc028', 'sub-hc029', 'sub-hc030', 'sub-hc031', 'sub-hc032', 'sub-hc033', 'sub-hc034', 'sub-hc035', 'sub-hc036', 'sub-hc037', 'sub-hc042', 'sub-hc044', 'sub-hc045', 'sub-pp001', 'sub-pp002', 'sub-pp003', 'sub-pp004', 'sub-pp005', 'sub-pp006', 'sub-pp007', 'sub-pp008', 'sub-pp009', 'sub-pp010', 'sub-pp011', 'sub-pp012', 'sub-pp013', 'sub-pp014', 'sub-pp015', 'sub-pp016'), value='group'), Dropdown(description=u'epo_type', options=('response', 'stimulus'), value='response'), Dropdown(description=u'time', options=(-1.0, -0.98999999999999999, -0.97999999999999998, -0.96999999999999997, -0.95999999999999996, -0.94999999999999996, -0.93999999999999995, -0.92999999999999994, -0.91999999999999993, -0.90999999999999992, -0.89999999999999991, -0.8899999999999999, -0.87999999999999989, -0.86999999999999988, -0.85999999999999988, -0.84999999999999987, -0.83999999999999986, -0.82999999999999985, -0.81999999999999984, -0.80999999999999983, -0.79999999999999982, -0.78999999999999981, -0.7799999999999998, -0.7699999999999998, -0.75999999999999979, -0.74999999999999978, -0.73999999999999977, -0.72999999999999976, -0.71999999999999975, -0.70999999999999974, -0.69999999999999973, -0.68999999999999972, -0.67999999999999972, -0.66999999999999971, -0.6599999999999997, -0.64999999999999969, -0.63999999999999968, -0.62999999999999967, -0.61999999999999966, -0.60999999999999965, -0.59999999999999964, -0.58999999999999964, -0.57999999999999963, -0.56999999999999962, -0.55999999999999961, -0.5499999999999996, -0.53999999999999959, -0.52999999999999958, -0.51999999999999957, -0.50999999999999956, -0.49999999999999956, -0.48999999999999955, -0.47999999999999954, -0.46999999999999953, -0.45999999999999952, -0.44999999999999951, -0.4399999999999995, -0.42999999999999949, -0.41999999999999948, -0.40999999999999948, -0.39999999999999947, -0.38999999999999946, -0.37999999999999945, -0.36999999999999944, -0.35999999999999943, -0.34999999999999942, -0.33999999999999941, -0.3299999999999994, -0.3199999999999994, -0.30999999999999939, -0.29999999999999938, -0.28999999999999937, -0.27999999999999936, -0.26999999999999935, -0.25999999999999934, -0.24999999999999933, -0.23999999999999932, -0.22999999999999932, -0.21999999999999931, -0.2099999999999993, -0.19999999999999929, -0.18999999999999928, -0.17999999999999927, -0.16999999999999926, -0.15999999999999925, -0.14999999999999925, -0.13999999999999924, -0.12999999999999923, -0.11999999999999922, -0.10999999999999921, -0.099999999999999201, -0.089999999999999192, -0.079999999999999183, -0.069999999999999174, -0.059999999999999165, -0.049999999999999156, -0.039999999999999147, -0.029999999999999138, -0.01999999999999913, -0.0099999999999991207, 8.8817841970012523e-16, 0.010000000000000897, 0.020000000000000906, 0.030000000000000915, 0.040000000000000924, 0.050000000000000933, 0.060000000000000941, 0.07000000000000095, 0.080000000000000959, 0.090000000000000968, 0.10000000000000098, 0.11000000000000099, 0.12000000000000099, 0.130000000000001, 0.14000000000000101, 0.15000000000000102, 0.16000000000000103, 0.17000000000000104, 0.18000000000000105, 0.19000000000000106, 0.20000000000000107, 0.21000000000000107, 0.22000000000000108, 0.23000000000000109, 0.2400000000000011, 0.25000000000000111, 0.26000000000000112, 0.27000000000000113, 0.28000000000000114, 0.29000000000000115, 0.30000000000000115, 0.31000000000000116, 0.32000000000000117, 0.33000000000000118, 0.34000000000000119, 0.3500000000000012, 0.36000000000000121, 0.37000000000000122, 0.38000000000000123, 0.39000000000000123, 0.40000000000000124, 0.41000000000000125, 0.42000000000000126, 0.43000000000000127, 0.44000000000000128, 0.45000000000000129, 0.4600000000000013, 0.47000000000000131, 0.48000000000000131, 0.49000000000000132, 0.50000000000000133, 0.51000000000000134, 0.52000000000000135, 0.53000000000000136, 0.54000000000000137, 0.55000000000000138, 0.56000000000000139, 0.57000000000000139, 0.5800000000000014, 0.59000000000000141, 0.60000000000000142, 0.61000000000000143, 0.62000000000000144, 0.63000000000000145, 0.64000000000000146, 0.65000000000000147, 0.66000000000000147, 0.67000000000000148, 0.68000000000000149, 0.6900000000000015, 0.70000000000000151, 0.71000000000000152, 0.72000000000000153, 0.73000000000000154, 0.74000000000000155, 0.75000000000000155, 0.76000000000000156, 0.77000000000000157, 0.78000000000000158, 0.79000000000000159, 0.8000000000000016, 0.81000000000000161, 0.82000000000000162, 0.83000000000000163, 0.84000000000000163, 0.85000000000000164, 0.86000000000000165, 0.87000000000000166, 0.88000000000000167, 0.89000000000000168, 0.90000000000000169, 0.9100000000000017, 0.92000000000000171, 0.93000000000000171, 0.94000000000000172, 0.95000000000000173, 0.96000000000000174, 0.97000000000000175, 0.98000000000000176, 0.99000000000000177, 1.0000000000000018, 1.0100000000000016, 1.0200000000000018, 1.030000000000002, 1.0400000000000018, 1.0500000000000016, 1.0600000000000018, 1.0700000000000021, 1.0800000000000018, 1.0900000000000016, 1.1000000000000019, 1.1100000000000021, 1.1200000000000019, 1.1300000000000017, 1.1400000000000019, 1.1500000000000021, 1.1600000000000019, 1.1700000000000017, 1.1800000000000019, 1.1900000000000022, 1.200000000000002, 1.2100000000000017, 1.220000000000002, 1.2300000000000022, 1.240000000000002, 1.2500000000000018, 1.260000000000002, 1.2700000000000022, 1.280000000000002, 1.2900000000000018, 1.300000000000002, 1.3100000000000023, 1.3200000000000021, 1.3300000000000018, 1.3400000000000021, 1.3500000000000023, 1.3600000000000021, 1.3700000000000019, 1.3800000000000021, 1.3900000000000023, 1.4000000000000021, 1.4100000000000019, 1.4200000000000021, 1.4300000000000024, 1.4400000000000022, 1.450000000000002, 1.4600000000000022, 1.4700000000000024, 1.4800000000000022, 1.490000000000002, 1.5000000000000022, 1.5100000000000025, 1.5200000000000022, 1.530000000000002, 1.5400000000000023, 1.5500000000000025, 1.5600000000000023, 1.5700000000000021, 1.5800000000000023, 1.5900000000000025, 1.6000000000000023, 1.6100000000000021, 1.6200000000000023, 1.6300000000000026, 1.6400000000000023, 1.6500000000000021, 1.6600000000000024, 1.6700000000000026, 1.6800000000000024, 1.6900000000000022, 1.7000000000000024, 1.7100000000000026, 1.7200000000000024, 1.7300000000000022, 1.7400000000000024), value=-1.0), Dropdown(description=u'fmin', options=(2.0, 2.2488744551392053, 2.5287181574888282, 2.8433848343116517, 3.1972077600068474, 3.5950594296261187, 4.0424186579967492, 4.5454460284734983, 5.1110687303240008, 5.7470759530432085, 6.4622261512718371, 7.2663676574638858, 8.1705743032601212, 9.1872979172092464, 10.330539798882747, 11.616043530753158, 13.061511783047896, 14.686850097198077, 16.514441005023748, 18.569452258550662, 20.880183415090805, 23.478455550409507, 26.40004946671861, 29.685198430057429, 33.379142222547301, 37.532750139372546, 42.203221509778693, 47.454873388961353, 53.360026268150207, 60.0), value=2.0), Dropdown(description=u'fmax', options=(2.0, 2.2488744551392053, 2.5287181574888282, 2.8433848343116517, 3.1972077600068474, 3.5950594296261187, 4.0424186579967492, 4.5454460284734983, 5.1110687303240008, 5.7470759530432085, 6.4622261512718371, 7.2663676574638858, 8.1705743032601212, 9.1872979172092464, 10.330539798882747, 11.616043530753158, 13.061511783047896, 14.686850097198077, 16.514441005023748, 18.569452258550662, 20.880183415090805, 23.478455550409507, 26.40004946671861, 29.685198430057429, 33.379142222547301, 37.532750139372546, 42.203221509778693, 47.454873388961353, 53.360026268150207, 60.0), value=2.0), Dropdown(description=u'col_limit', options=(0.5, 1.0, 1.5, 2.0, 2.5, 3.0, 3.5, 4.0, 4.5), value=0.5), Output()), _dom_classes=('widget-interact',))"
      ]
     },
     "metadata": {},
     "output_type": "display_data"
    }
   ],
   "source": [
    "def plot_topomap(subject, epo_type, time, fmin, fmax, col_limit):\n",
    "    plt.close('all')\n",
    "    f = '../data/derivatives/eeg_sensor/%s/tfr/%s_%s_norm-tfr.h5'\n",
    "    tfrs = read_tfrs(f % (subject, subject, epo_type))\n",
    "\n",
    "    f, axs = plt.subplots(1, 3, figsize=(24, 6)) \n",
    "    \n",
    "    for i, tfr in enumerate(tfrs):\n",
    "        tfr.plot_topomap(tmin=time, tmax=time + .005,\n",
    "                         fmin=fmin, fmax=fmax, axes=axs[i], colorbar=True, \n",
    "                         show=False, vmin=-col_limit, vmax=col_limit)\n",
    "        axs[i].set_xlabel(config['condition'][i])\n",
    "        \n",
    "    diff = tfrs[0] - tfrs[1]\n",
    "    diff.plot_topomap(tmin=time, tmax=time + .005,\n",
    "                      fmin=fmin, fmax=fmax, axes=axs[2], colorbar=True, \n",
    "                      show=False, vmin=-col_limit, vmax=col_limit)\n",
    "    axs[2].set_xlabel('i-c')\n",
    "    plt.suptitle('%.2f s' % time)\n",
    "    \n",
    "    plt.show()\n",
    "\n",
    "interact(plot_topomap, subject=['group'] + subjects, \n",
    "         epo_type=['response', 'stimulus'],\n",
    "         time=np.arange(-1, 1.75, .01), \n",
    "         fmin=frequencies, fmax=frequencies,\n",
    "         col_limit=np.arange(.5, 5, .5));\n"
   ]
  },
  {
   "cell_type": "code",
   "execution_count": null,
   "metadata": {
    "collapsed": true
   },
   "outputs": [],
   "source": []
  }
 ],
 "metadata": {
  "kernelspec": {
   "display_name": "Python 2",
   "language": "python",
   "name": "python2"
  },
  "language_info": {
   "codemirror_mode": {
    "name": "ipython",
    "version": 2
   },
   "file_extension": ".py",
   "mimetype": "text/x-python",
   "name": "python",
   "nbconvert_exporter": "python",
   "pygments_lexer": "ipython2",
   "version": "2.7.13"
  },
  "toc": {
   "nav_menu": {
    "height": "30px",
    "width": "252px"
   },
   "number_sections": true,
   "sideBar": true,
   "skip_h1_title": false,
   "toc_cell": false,
   "toc_position": {
    "height": "795px",
    "left": "0px",
    "right": "1496.28px",
    "top": "106px",
    "width": "280px"
   },
   "toc_section_display": "block",
   "toc_window_display": true
  },
  "varInspector": {
   "cols": {
    "lenName": 16,
    "lenType": 16,
    "lenVar": 40
   },
   "kernels_config": {
    "python": {
     "delete_cmd_postfix": "",
     "delete_cmd_prefix": "del ",
     "library": "var_list.py",
     "varRefreshCmd": "print(var_dic_list())"
    },
    "r": {
     "delete_cmd_postfix": ") ",
     "delete_cmd_prefix": "rm(",
     "library": "var_list.r",
     "varRefreshCmd": "cat(var_dic_list()) "
    }
   },
   "types_to_exclude": [
    "module",
    "function",
    "builtin_function_or_method",
    "instance",
    "_Feature"
   ],
   "window_display": false
  }
 },
 "nbformat": 4,
 "nbformat_minor": 2
}
