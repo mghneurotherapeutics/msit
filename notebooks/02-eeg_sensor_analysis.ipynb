{
 "cells": [
  {
   "cell_type": "markdown",
   "metadata": {},
   "source": [
    "# Initialization"
   ]
  },
  {
   "cell_type": "code",
   "execution_count": 1,
   "metadata": {
    "ExecuteTime": {
     "end_time": "2017-12-19T23:17:52.824341Z",
     "start_time": "2017-12-19T23:17:50.904826Z"
    }
   },
   "outputs": [],
   "source": [
    "# add custom functions to path\n",
    "import sys\n",
    "sys.path.append(\"../src\")\n",
    "\n",
    "%load_ext autoreload\n",
    "%autoreload 2\n",
    "\n",
    "import os\n",
    "import numpy as np\n",
    "import pickle\n",
    "import json\n",
    "import pandas as pd\n",
    "from grabbit import Layout\n",
    "from mne import read_epochs, grand_average, write_evokeds, read_evokeds\n",
    "from mne import pick_types, combine_evoked, set_log_level, grand_average\n",
    "from mne.time_frequency import tfr_morlet, read_tfrs, write_tfrs\n",
    "from mne.viz import plot_compare_evokeds\n",
    "from utils import CH_NAMES, select_subjects, drop_bad_trials\n",
    "from eeg_sensor_analysis import add_events, baseline_normalize\n",
    "import matplotlib.pyplot as plt\n",
    "import seaborn as sns\n",
    "from ipywidgets import interact, fixed\n",
    "\n",
    "sns.set(style='whitegrid', font_scale=2)\n",
    "\n",
    "set_log_level('critical')\n",
    "\n",
    "# load subject names to process\n",
    "layout = Layout('../data', '../data/grabbit_config.json')\n",
    "subjects = select_subjects(layout, 'eeg', exclude='eeg')\n",
    "\n",
    "# load eeg configurations\n",
    "with open('../config.json') as f:    \n",
    "    config = json.load(f)\n",
    "    \n",
    "frequencies = np.arange(1, 40) \n",
    "n_cycles = frequencies\n",
    "\n",
    "# load behavior\n",
    "behavior = pd.read_csv('../data/derivatives/behavior/group_data.tsv', \n",
    "                       na_values='n/a', sep='\\t') \n",
    "behavior = behavior[behavior.modality == 'eeg']\n",
    "\n",
    "pipeline_root = '../data/derivatives/eeg_sensor'"
   ]
  },
  {
   "cell_type": "markdown",
   "metadata": {},
   "source": [
    "# Make Directory Structure"
   ]
  },
  {
   "cell_type": "code",
   "execution_count": 5,
   "metadata": {
    "ExecuteTime": {
     "end_time": "2017-12-18T20:56:22.574095Z",
     "start_time": "2017-12-18T20:56:22.423207Z"
    },
    "collapsed": true
   },
   "outputs": [],
   "source": [
    "# Make directory structure\n",
    "if not os.path.exists(pipeline_root):\n",
    "    os.makedirs(pipeline_root)\n",
    "for subject in subjects + ['group']:\n",
    "    if not os.path.exists('%s/%s' % (pipeline_root, subject)):\n",
    "        os.makedirs('%s/%s' % (pipeline_root, subject))\n",
    "    if not os.path.exists('%s/%s/evoked' % (pipeline_root, subject)):\n",
    "        os.makedirs('%s/%s/evoked' % (pipeline_root, subject))\n",
    "    if not os.path.exists('%s/%s/tfr' % (pipeline_root, subject)):\n",
    "        os.makedirs('%s/%s/tfr' % (pipeline_root, subject))"
   ]
  },
  {
   "cell_type": "markdown",
   "metadata": {},
   "source": [
    "# ERPs"
   ]
  },
  {
   "cell_type": "markdown",
   "metadata": {},
   "source": [
    "## Make Evoked Data"
   ]
  },
  {
   "cell_type": "code",
   "execution_count": 37,
   "metadata": {
    "ExecuteTime": {
     "end_time": "2017-11-08T15:28:02.957332Z",
     "start_time": "2017-11-08T15:27:14.831082Z"
    },
    "scrolled": true
   },
   "outputs": [
    {
     "name": "stdout",
     "output_type": "stream",
     "text": [
      "stimulus\n",
      "condition\n",
      "sub-hc001\n",
      "sub-hc002\n",
      "sub-hc003\n",
      "sub-hc004\n",
      "sub-hc005\n",
      "sub-hc006\n",
      "sub-hc007\n",
      "sub-hc008\n",
      "sub-hc009\n",
      "sub-hc010\n",
      "sub-hc011\n",
      "sub-hc012\n",
      "sub-hc014\n",
      "sub-hc015\n",
      "sub-hc016\n",
      "sub-hc017\n"
     ]
    },
    {
     "ename": "KeyboardInterrupt",
     "evalue": "",
     "output_type": "error",
     "traceback": [
      "\u001b[0;31m---------------------------------------------------------------------------\u001b[0m",
      "\u001b[0;31mKeyboardInterrupt\u001b[0m                         Traceback (most recent call last)",
      "\u001b[0;32m<ipython-input-37-e12850b189ce>\u001b[0m in \u001b[0;36m<module>\u001b[0;34m()\u001b[0m\n\u001b[1;32m     31\u001b[0m             \u001b[0;31m# interpolate the bad channels\u001b[0m\u001b[0;34m\u001b[0m\u001b[0;34m\u001b[0m\u001b[0m\n\u001b[1;32m     32\u001b[0m             \u001b[0mgroup_info\u001b[0m\u001b[0;34m[\u001b[0m\u001b[0;34m'bads'\u001b[0m\u001b[0;34m]\u001b[0m\u001b[0;34m.\u001b[0m\u001b[0mappend\u001b[0m\u001b[0;34m(\u001b[0m\u001b[0mepochs\u001b[0m\u001b[0;34m.\u001b[0m\u001b[0minfo\u001b[0m\u001b[0;34m[\u001b[0m\u001b[0;34m'bads'\u001b[0m\u001b[0;34m]\u001b[0m\u001b[0;34m)\u001b[0m\u001b[0;34m\u001b[0m\u001b[0m\n\u001b[0;32m---> 33\u001b[0;31m             \u001b[0mepochs\u001b[0m\u001b[0;34m.\u001b[0m\u001b[0minterpolate_bads\u001b[0m\u001b[0;34m(\u001b[0m\u001b[0mreset_bads\u001b[0m\u001b[0;34m=\u001b[0m\u001b[0mTrue\u001b[0m\u001b[0;34m)\u001b[0m\u001b[0;34m\u001b[0m\u001b[0m\n\u001b[0m\u001b[1;32m     34\u001b[0m             \u001b[0;31m# drop bad trials from epochs and behavior\u001b[0m\u001b[0;34m\u001b[0m\u001b[0;34m\u001b[0m\u001b[0m\n\u001b[1;32m     35\u001b[0m             sub_behavior, epochs = drop_bad_trials(subject, sub_behavior, \n",
      "\u001b[0;32m/autofs/space/cassia_001/users/matt/software/anaconda2.7/lib/python2.7/site-packages/mne/channels/channels.pyc\u001b[0m in \u001b[0;36minterpolate_bads\u001b[0;34m(self, reset_bads, mode)\u001b[0m\n\u001b[1;32m    833\u001b[0m             \u001b[0;32mraise\u001b[0m \u001b[0mValueError\u001b[0m\u001b[0;34m(\u001b[0m\u001b[0;34m'Data must be preloaded.'\u001b[0m\u001b[0;34m)\u001b[0m\u001b[0;34m\u001b[0m\u001b[0m\n\u001b[1;32m    834\u001b[0m \u001b[0;34m\u001b[0m\u001b[0m\n\u001b[0;32m--> 835\u001b[0;31m         \u001b[0m_interpolate_bads_eeg\u001b[0m\u001b[0;34m(\u001b[0m\u001b[0mself\u001b[0m\u001b[0;34m)\u001b[0m\u001b[0;34m\u001b[0m\u001b[0m\n\u001b[0m\u001b[1;32m    836\u001b[0m         \u001b[0m_interpolate_bads_meg\u001b[0m\u001b[0;34m(\u001b[0m\u001b[0mself\u001b[0m\u001b[0;34m,\u001b[0m \u001b[0mmode\u001b[0m\u001b[0;34m=\u001b[0m\u001b[0mmode\u001b[0m\u001b[0;34m)\u001b[0m\u001b[0;34m\u001b[0m\u001b[0m\n\u001b[1;32m    837\u001b[0m \u001b[0;34m\u001b[0m\u001b[0m\n",
      "\u001b[0;32m/autofs/space/cassia_001/users/matt/software/anaconda2.7/lib/python2.7/site-packages/mne/channels/interpolation.pyc\u001b[0m in \u001b[0;36m_interpolate_bads_eeg\u001b[0;34m(inst)\u001b[0m\n\u001b[1;32m    151\u001b[0m \u001b[0;34m\u001b[0m\u001b[0m\n\u001b[1;32m    152\u001b[0m     \u001b[0mlogger\u001b[0m\u001b[0;34m.\u001b[0m\u001b[0minfo\u001b[0m\u001b[0;34m(\u001b[0m\u001b[0;34m'Interpolating {0} sensors'\u001b[0m\u001b[0;34m.\u001b[0m\u001b[0mformat\u001b[0m\u001b[0;34m(\u001b[0m\u001b[0mlen\u001b[0m\u001b[0;34m(\u001b[0m\u001b[0mpos_bad\u001b[0m\u001b[0;34m)\u001b[0m\u001b[0;34m)\u001b[0m\u001b[0;34m)\u001b[0m\u001b[0;34m\u001b[0m\u001b[0m\n\u001b[0;32m--> 153\u001b[0;31m     \u001b[0m_do_interp_dots\u001b[0m\u001b[0;34m(\u001b[0m\u001b[0minst\u001b[0m\u001b[0;34m,\u001b[0m \u001b[0minterpolation\u001b[0m\u001b[0;34m,\u001b[0m \u001b[0mgoods_idx\u001b[0m\u001b[0;34m,\u001b[0m \u001b[0mbads_idx\u001b[0m\u001b[0;34m)\u001b[0m\u001b[0;34m\u001b[0m\u001b[0m\n\u001b[0m\u001b[1;32m    154\u001b[0m \u001b[0;34m\u001b[0m\u001b[0m\n\u001b[1;32m    155\u001b[0m \u001b[0;34m\u001b[0m\u001b[0m\n",
      "\u001b[0;32m/autofs/space/cassia_001/users/matt/software/anaconda2.7/lib/python2.7/site-packages/mne/channels/interpolation.pyc\u001b[0m in \u001b[0;36m_do_interp_dots\u001b[0;34m(inst, interpolation, goods_idx, bads_idx)\u001b[0m\n\u001b[1;32m     99\u001b[0m     \u001b[0;32melif\u001b[0m \u001b[0misinstance\u001b[0m\u001b[0;34m(\u001b[0m\u001b[0minst\u001b[0m\u001b[0;34m,\u001b[0m \u001b[0mBaseEpochs\u001b[0m\u001b[0;34m)\u001b[0m\u001b[0;34m:\u001b[0m\u001b[0;34m\u001b[0m\u001b[0m\n\u001b[1;32m    100\u001b[0m         inst._data[:, bads_idx, :] = np.einsum('ij,xjy->xiy', interpolation,\n\u001b[0;32m--> 101\u001b[0;31m                                                inst._data[:, goods_idx, :])\n\u001b[0m\u001b[1;32m    102\u001b[0m     \u001b[0;32melse\u001b[0m\u001b[0;34m:\u001b[0m\u001b[0;34m\u001b[0m\u001b[0m\n\u001b[1;32m    103\u001b[0m         raise ValueError('Inputs of type {0} are not supported'\n",
      "\u001b[0;31mKeyboardInterrupt\u001b[0m: "
     ]
    }
   ],
   "source": [
    "for epo_type, epo_times in zip(config['epoch_types'], \n",
    "                               config['epoch_times']):\n",
    "    print(epo_type)\n",
    "    \n",
    "    for event_type in config['event_types']:\n",
    "        print(event_type)\n",
    "        group_info = {}\n",
    "        mne_evokeds = {}\n",
    "        group_info['evokeds'] = {}\n",
    "        group_info['naves'] = {}\n",
    "        group_info['ses'] = {}\n",
    "        for event in config[event_type]:\n",
    "            mne_evokeds[event] = []\n",
    "            group_info['evokeds'][event] = []\n",
    "            group_info['ses'][event] = []\n",
    "            group_info['naves'][event] = []\n",
    "        group_info['bads'] = []\n",
    "    \n",
    "        for subject in subjects:\n",
    "            print(subject)\n",
    "\n",
    "            # load subject behavior and epochs\n",
    "            sub_behavior = behavior[behavior.participant_id == subject]\n",
    "            epo_file = layout.get(subject=subject, \n",
    "                                  derivative='eeg_preprocessing', \n",
    "                                  extensions='%s_cleaned-epo.fif' % epo_type)[0]\n",
    "            epochs = read_epochs(epo_file.filename, verbose=False)\n",
    "\n",
    "            # remove filter buffer \n",
    "            epochs.crop(epo_times[0], epo_times[1])\n",
    "            # interpolate the bad channels\n",
    "            group_info['bads'].append(epochs.info['bads'])\n",
    "            epochs.interpolate_bads(reset_bads=True)\n",
    "            # drop bad trials from epochs and behavior\n",
    "            sub_behavior, epochs = drop_bad_trials(subject, sub_behavior, \n",
    "                                                   epochs, layout, epo_type)\n",
    "\n",
    "            # add event labels\n",
    "            epochs = add_events(epochs, sub_behavior, event_type,\n",
    "                                config[event_type])\n",
    "\n",
    "            # compute averages and standard errors \n",
    "            evos = [epochs[event].average() for event in config[event_type]]\n",
    "            evos_se = [epochs[event].standard_error() \n",
    "                       for event in config[event_type]]\n",
    "            \n",
    "            # write subject evoked objects to file\n",
    "            write_evokeds('%s/%s/%s_%s_%s-ave.fif' % (pipeline_root,\n",
    "                                                      subject, subject,\n",
    "                                                      event_type, epo_type), \n",
    "                          evos)\n",
    "            # accumulate evoked objects for group average topomap\n",
    "            for i, event in enumerate(config[event_type]):\n",
    "                mne_evokeds[event].append(evos[i])\n",
    "            \n",
    "            # extract info for group erp object\n",
    "            for i, event in enumerate(config[event_type]):\n",
    "                group_info['evokeds'][event].append(evos[i].data)\n",
    "                group_info['ses'][event].append(evos_se[i].data)\n",
    "                group_info['naves'][event].append(evos[i].nave)\n",
    "            \n",
    "        # save out group erp information\n",
    "        for event in config[event_type]:\n",
    "            group_info['evokeds'][event] = np.array(group_info['evokeds'][event])\n",
    "            group_info['ses'][event] = np.array(group_info['ses'][event])\n",
    "            group_info['naves'][event] = np.array(group_info['naves'][event])\n",
    "            \n",
    "        group_info['chs'] = evos[0].ch_names\n",
    "        group_info['times'] = evos[0].times\n",
    "        f = '%s/group/group_%s_%s_erp_info.pickle' % (pipeline_root, \n",
    "                                                   event_type, epo_type)\n",
    "        with open(f, 'w') as fid:\n",
    "            pickle.dump(group_info, fid, protocol=pickle.HIGHEST_PROTOCOL)\n",
    "            \n",
    "\n",
    "        # calculate group average evoked object and save \n",
    "        evos = [combine_evoked(mne_evokeds[event], weights='nave')\n",
    "                for event in config[event_type]]\n",
    "        write_evokeds('%s/group/group_%s_%s-ave.fif' % (pipeline_root, \n",
    "                                                        event_type,\n",
    "                                                        epo_type), evos)\n",
    "\n",
    "\n",
    "print('Done!')"
   ]
  },
  {
   "cell_type": "markdown",
   "metadata": {},
   "source": [
    "## Visualize Evoked Responses "
   ]
  },
  {
   "cell_type": "markdown",
   "metadata": {},
   "source": [
    "### Plot Topomaps "
   ]
  },
  {
   "cell_type": "code",
   "execution_count": 40,
   "metadata": {
    "ExecuteTime": {
     "end_time": "2017-12-07T21:54:21.540042Z",
     "start_time": "2017-12-07T21:54:20.216043Z"
    }
   },
   "outputs": [
    {
     "data": {
      "application/vnd.jupyter.widget-view+json": {
       "model_id": "f864cff6f0954b228730605cace3d1e4",
       "version_major": 2,
       "version_minor": 0
      },
      "text/html": [
       "<p>Failed to display Jupyter Widget of type <code>interactive</code>.</p>\n",
       "<p>\n",
       "  If you're reading this message in the Jupyter Notebook or JupyterLab Notebook, it may mean\n",
       "  that the widgets JavaScript is still loading. If this message persists, it\n",
       "  likely means that the widgets JavaScript library is either not installed or\n",
       "  not enabled. See the <a href=\"https://ipywidgets.readthedocs.io/en/stable/user_install.html\">Jupyter\n",
       "  Widgets Documentation</a> for setup instructions.\n",
       "</p>\n",
       "<p>\n",
       "  If you're reading this message in another frontend (for example, a static\n",
       "  rendering on GitHub or <a href=\"https://nbviewer.jupyter.org/\">NBViewer</a>),\n",
       "  it may mean that your frontend doesn't currently support widgets.\n",
       "</p>\n"
      ],
      "text/plain": [
       "interactive(children=(Dropdown(description=u'subject', options=('group', 'sub-hc001', 'sub-hc002', 'sub-hc003', 'sub-hc004', 'sub-hc005', 'sub-hc006', 'sub-hc007', 'sub-hc008', 'sub-hc009', 'sub-hc010', 'sub-hc011', 'sub-hc012', 'sub-hc014', 'sub-hc015', 'sub-hc016', 'sub-hc017', 'sub-hc019', 'sub-hc020', 'sub-hc021', 'sub-hc022', 'sub-hc023', 'sub-hc024', 'sub-hc025', 'sub-hc026', 'sub-hc028', 'sub-hc029', 'sub-hc030', 'sub-hc031', 'sub-hc032', 'sub-hc033', 'sub-hc034', 'sub-hc035', 'sub-hc036', 'sub-hc037', 'sub-hc042', 'sub-hc044', 'sub-hc045', 'sub-pp001', 'sub-pp002', 'sub-pp003', 'sub-pp004', 'sub-pp005', 'sub-pp006', 'sub-pp007', 'sub-pp008', 'sub-pp009', 'sub-pp010', 'sub-pp011', 'sub-pp012', 'sub-pp013', 'sub-pp014', 'sub-pp015', 'sub-pp016'), value='group'), Dropdown(description=u'epo_type', options=('response', 'stimulus'), value='response'), Dropdown(description=u'time', options=(-1.0, -0.98999999999999999, -0.97999999999999998, -0.96999999999999997, -0.95999999999999996, -0.94999999999999996, -0.93999999999999995, -0.92999999999999994, -0.91999999999999993, -0.90999999999999992, -0.89999999999999991, -0.8899999999999999, -0.87999999999999989, -0.86999999999999988, -0.85999999999999988, -0.84999999999999987, -0.83999999999999986, -0.82999999999999985, -0.81999999999999984, -0.80999999999999983, -0.79999999999999982, -0.78999999999999981, -0.7799999999999998, -0.7699999999999998, -0.75999999999999979, -0.74999999999999978, -0.73999999999999977, -0.72999999999999976, -0.71999999999999975, -0.70999999999999974, -0.69999999999999973, -0.68999999999999972, -0.67999999999999972, -0.66999999999999971, -0.6599999999999997, -0.64999999999999969, -0.63999999999999968, -0.62999999999999967, -0.61999999999999966, -0.60999999999999965, -0.59999999999999964, -0.58999999999999964, -0.57999999999999963, -0.56999999999999962, -0.55999999999999961, -0.5499999999999996, -0.53999999999999959, -0.52999999999999958, -0.51999999999999957, -0.50999999999999956, -0.49999999999999956, -0.48999999999999955, -0.47999999999999954, -0.46999999999999953, -0.45999999999999952, -0.44999999999999951, -0.4399999999999995, -0.42999999999999949, -0.41999999999999948, -0.40999999999999948, -0.39999999999999947, -0.38999999999999946, -0.37999999999999945, -0.36999999999999944, -0.35999999999999943, -0.34999999999999942, -0.33999999999999941, -0.3299999999999994, -0.3199999999999994, -0.30999999999999939, -0.29999999999999938, -0.28999999999999937, -0.27999999999999936, -0.26999999999999935, -0.25999999999999934, -0.24999999999999933, -0.23999999999999932, -0.22999999999999932, -0.21999999999999931, -0.2099999999999993, -0.19999999999999929, -0.18999999999999928, -0.17999999999999927, -0.16999999999999926, -0.15999999999999925, -0.14999999999999925, -0.13999999999999924, -0.12999999999999923, -0.11999999999999922, -0.10999999999999921, -0.099999999999999201, -0.089999999999999192, -0.079999999999999183, -0.069999999999999174, -0.059999999999999165, -0.049999999999999156, -0.039999999999999147, -0.029999999999999138, -0.01999999999999913, -0.0099999999999991207, 8.8817841970012523e-16, 0.010000000000000897, 0.020000000000000906, 0.030000000000000915, 0.040000000000000924, 0.050000000000000933, 0.060000000000000941, 0.07000000000000095, 0.080000000000000959, 0.090000000000000968, 0.10000000000000098, 0.11000000000000099, 0.12000000000000099, 0.130000000000001, 0.14000000000000101, 0.15000000000000102, 0.16000000000000103, 0.17000000000000104, 0.18000000000000105, 0.19000000000000106, 0.20000000000000107, 0.21000000000000107, 0.22000000000000108, 0.23000000000000109, 0.2400000000000011, 0.25000000000000111, 0.26000000000000112, 0.27000000000000113, 0.28000000000000114, 0.29000000000000115, 0.30000000000000115, 0.31000000000000116, 0.32000000000000117, 0.33000000000000118, 0.34000000000000119, 0.3500000000000012, 0.36000000000000121, 0.37000000000000122, 0.38000000000000123, 0.39000000000000123, 0.40000000000000124, 0.41000000000000125, 0.42000000000000126, 0.43000000000000127, 0.44000000000000128, 0.45000000000000129, 0.4600000000000013, 0.47000000000000131, 0.48000000000000131, 0.49000000000000132, 0.50000000000000133, 0.51000000000000134, 0.52000000000000135, 0.53000000000000136, 0.54000000000000137, 0.55000000000000138, 0.56000000000000139, 0.57000000000000139, 0.5800000000000014, 0.59000000000000141, 0.60000000000000142, 0.61000000000000143, 0.62000000000000144, 0.63000000000000145, 0.64000000000000146, 0.65000000000000147, 0.66000000000000147, 0.67000000000000148, 0.68000000000000149, 0.6900000000000015, 0.70000000000000151, 0.71000000000000152, 0.72000000000000153, 0.73000000000000154, 0.74000000000000155, 0.75000000000000155, 0.76000000000000156, 0.77000000000000157, 0.78000000000000158, 0.79000000000000159, 0.8000000000000016, 0.81000000000000161, 0.82000000000000162, 0.83000000000000163, 0.84000000000000163, 0.85000000000000164, 0.86000000000000165, 0.87000000000000166, 0.88000000000000167, 0.89000000000000168, 0.90000000000000169, 0.9100000000000017, 0.92000000000000171, 0.93000000000000171, 0.94000000000000172, 0.95000000000000173, 0.96000000000000174, 0.97000000000000175, 0.98000000000000176, 0.99000000000000177, 1.0000000000000018, 1.0100000000000016, 1.0200000000000018, 1.030000000000002, 1.0400000000000018, 1.0500000000000016, 1.0600000000000018, 1.0700000000000021, 1.0800000000000018, 1.0900000000000016, 1.1000000000000019, 1.1100000000000021, 1.1200000000000019, 1.1300000000000017, 1.1400000000000019, 1.1500000000000021, 1.1600000000000019, 1.1700000000000017, 1.1800000000000019, 1.1900000000000022, 1.200000000000002, 1.2100000000000017, 1.220000000000002, 1.2300000000000022, 1.240000000000002, 1.2500000000000018, 1.260000000000002, 1.2700000000000022, 1.280000000000002, 1.2900000000000018, 1.300000000000002, 1.3100000000000023, 1.3200000000000021, 1.3300000000000018, 1.3400000000000021, 1.3500000000000023, 1.3600000000000021, 1.3700000000000019, 1.3800000000000021, 1.3900000000000023, 1.4000000000000021, 1.4100000000000019, 1.4200000000000021, 1.4300000000000024, 1.4400000000000022, 1.450000000000002, 1.4600000000000022, 1.4700000000000024, 1.4800000000000022, 1.490000000000002, 1.5000000000000022, 1.5100000000000025, 1.5200000000000022, 1.530000000000002, 1.5400000000000023, 1.5500000000000025, 1.5600000000000023, 1.5700000000000021, 1.5800000000000023, 1.5900000000000025, 1.6000000000000023, 1.6100000000000021, 1.6200000000000023, 1.6300000000000026, 1.6400000000000023, 1.6500000000000021, 1.6600000000000024, 1.6700000000000026, 1.6800000000000024, 1.6900000000000022, 1.7000000000000024, 1.7100000000000026, 1.7200000000000024, 1.7300000000000022, 1.7400000000000024), value=-1.0), Dropdown(description=u'col_limit', options=(0.5, 1.0, 1.5, 2.0, 2.5, 3.0, 3.5, 4.0, 4.5), value=0.5), Output()), _dom_classes=('widget-interact',))"
      ]
     },
     "metadata": {},
     "output_type": "display_data"
    }
   ],
   "source": [
    "def plot_topomap(subject, epo_type, time, col_limit):\n",
    "    plt.close('all')\n",
    "    f = '%s/%s/%s_condition_%s-ave.fif' % (pipeline_root, subject, subject,\n",
    "                                           epo_type)\n",
    "    evokeds = read_evokeds(f)\n",
    "    \n",
    "    f, axs = plt.subplots(1, 4, figsize=(24, 6)) \n",
    "    \n",
    "    for i, evo in enumerate(evokeds):\n",
    "        evo.plot_topomap(times=time, axes=axs[i], colorbar=True, \n",
    "                         show=False, vmin=-col_limit, vmax=col_limit)\n",
    "        axs[i].set_xlabel(config['condition'][i])\n",
    "        \n",
    "    diff = combine_evoked(evokeds, weights=[1, -1])\n",
    "    diff.plot_topomap(times=time, axes=axs[2], colorbar=True, \n",
    "                      show=False, vmin=-col_limit, vmax=col_limit, show_names=True)\n",
    "    axs[2].set_xlabel('i-c')\n",
    "    \n",
    "    plt.show();\n",
    "\n",
    "interact(plot_topomap, subject=['group'] + subjects, \n",
    "         epo_type=['response', 'stimulus'],\n",
    "         time=np.arange(-1, 1.75, .01), col_limit=np.arange(.5, 5, .5),\n",
    "         diff_col_limit=np.arange(.5, 5, .5));\n"
   ]
  },
  {
   "cell_type": "markdown",
   "metadata": {},
   "source": [
    "### Plot ERP Waveforms"
   ]
  },
  {
   "cell_type": "code",
   "execution_count": 3,
   "metadata": {
    "ExecuteTime": {
     "end_time": "2017-12-18T15:44:37.946097Z",
     "start_time": "2017-12-18T15:44:33.988946Z"
    }
   },
   "outputs": [
    {
     "data": {
      "application/vnd.jupyter.widget-view+json": {
       "model_id": "3ff2dd8032444384830adcdb13e96088",
       "version_major": 2,
       "version_minor": 0
      },
      "text/html": [
       "<p>Failed to display Jupyter Widget of type <code>interactive</code>.</p>\n",
       "<p>\n",
       "  If you're reading this message in the Jupyter Notebook or JupyterLab Notebook, it may mean\n",
       "  that the widgets JavaScript is still loading. If this message persists, it\n",
       "  likely means that the widgets JavaScript library is either not installed or\n",
       "  not enabled. See the <a href=\"https://ipywidgets.readthedocs.io/en/stable/user_install.html\">Jupyter\n",
       "  Widgets Documentation</a> for setup instructions.\n",
       "</p>\n",
       "<p>\n",
       "  If you're reading this message in another frontend (for example, a static\n",
       "  rendering on GitHub or <a href=\"https://nbviewer.jupyter.org/\">NBViewer</a>),\n",
       "  it may mean that your frontend doesn't currently support widgets.\n",
       "</p>\n"
      ],
      "text/plain": [
       "interactive(children=(Dropdown(description=u'weight', options=('equal', 'nave', 'std_err'), value='equal'), Dropdown(description=u'ch', options=('Fp1', 'Fpz', 'Fp2', 'AF7', 'AF3', 'AFz', 'AF4', 'AF8', 'F7', 'F5', 'F3', 'F1', 'Fz', 'F2', 'F4', 'F6', 'F8', 'FT9', 'FT7', 'FC5', 'FC3', 'FC1', 'FCz', 'FC2', 'FC4', 'FC6', 'FT8', 'FT10', 'T9', 'T7', 'C5', 'C3', 'C1', 'Cz', 'C2', 'C4', 'C6', 'T8', 'T10', 'TP9', 'TP7', 'CP5', 'CP3', 'CP1', 'CPz', 'CP2', 'CP4', 'CP6', 'TP8', 'TP10', 'P9', 'P7', 'P5', 'P3', 'P1', 'Pz', 'P2', 'P4', 'P6', 'P8', 'P10', 'PO7', 'PO3', 'P0z', 'PO4', 'PO8', 'O1', 'Oz', 'O2', 'Iz'), value='Fp1'), Output()), _dom_classes=('widget-interact',))"
      ]
     },
     "metadata": {},
     "output_type": "display_data"
    }
   ],
   "source": [
    "def plot_group_erps(weight, ch, behavior):\n",
    "    plt.close('all')\n",
    "    exclusions = ['fast_rt', 'no_response', 'error', 'post_error']\n",
    "    behavior = behavior.loc[np.where(np.sum(behavior[exclusions], \n",
    "                                            axis=1) == 0)[0], :]\n",
    "    fig, axs = plt.subplots(1, 2, figsize=(24, 6))\n",
    "    \n",
    "    for i, epo_type in enumerate(config['epoch_types']):\n",
    "        ax = axs[i]\n",
    "        \n",
    "        f = '%s/group/group_condition_%s_erp_info.pickle' % (pipeline_root, \n",
    "                                                             epo_type)\n",
    "        with open(f, 'r') as fid:\n",
    "            info = pickle.load(fid)\n",
    "            \n",
    "        ch_ix = list(info['chs']).index(ch)\n",
    "        times = info['times']\n",
    "        data = info['evokeds']\n",
    "        naves = info['naves']\n",
    "        std_err = info['ses']\n",
    "        \n",
    "        for j, event in enumerate(config['condition']):\n",
    "            cond_data = data[event]\n",
    "            cond_data = cond_data[:, ch_ix, :] * 1e6\n",
    "            \n",
    "            if weight == 'equal':\n",
    "                weights = np.ones(cond_data.shape[0])\n",
    "            elif weight == 'nave':\n",
    "                weights = naves[event]\n",
    "            elif weight == 'std_err':\n",
    "                weights = std_err[event]\n",
    "                weights = weights[:, ch_ix, :] * 1e6\n",
    "                \n",
    "            cond_ave = np.average(cond_data, axis=0, weights=weights)\n",
    "            variance = np.average((cond_data - cond_ave) ** 2, axis=0, \n",
    "                                   weights=weights)\n",
    "            std = np.sqrt((variance * cond_data.shape[0]) / (cond_data.shape[0] - 1))\n",
    "            std_error = std / np.sqrt(cond_data.shape[0]) \n",
    "            \n",
    "            ax.plot(times, cond_ave, color=config['colors'][j])\n",
    "            ax.fill_between(times, cond_ave - std_error, cond_ave + std_error,\n",
    "                            alpha=0.5, color=config['colors'][j])\n",
    "            \n",
    "        for j, event in enumerate(config['condition']):\n",
    "            if epo_type == 'stimulus':\n",
    "                bottom=ax.get_ylim()[0]\n",
    "                rt = behavior[behavior.trial_type == event].response_time\n",
    "                ax.hist(rt, color=config['colors'][j], alpha=0.2, normed=True, bottom=bottom)\n",
    "                \n",
    "            \n",
    "        if epo_type == 'stimulus':\n",
    "            ax.set_xticks(np.arange(-.5, 1.8, .25))\n",
    "            ax.set_xlim((-.5, 1.75))\n",
    "        else:\n",
    "            ax.set_xticks(np.arange(-1, 1.1, .25))\n",
    "        \n",
    "        ax.set_title('%s-locked' % epo_type)\n",
    "        ax.axvline(0, color='k')\n",
    "        ax.axhline(0, color='k')\n",
    "        ax.legend(config['condition'], loc='best')\n",
    "    \n",
    "    plt.suptitle(ch)\n",
    "    sns.despine()\n",
    "    plt.show();\n",
    "\n",
    "interact(plot_group_erps, weight=['equal', 'nave', 'std_err'], ch=CH_NAMES, behavior=fixed(behavior));"
   ]
  },
  {
   "cell_type": "markdown",
   "metadata": {
    "collapsed": true
   },
   "source": [
    "# TFR Power"
   ]
  },
  {
   "cell_type": "markdown",
   "metadata": {},
   "source": [
    "## Make TFR Power"
   ]
  },
  {
   "cell_type": "markdown",
   "metadata": {},
   "source": [
    "### Compute Raw TFR Power"
   ]
  },
  {
   "cell_type": "code",
   "execution_count": 3,
   "metadata": {
    "ExecuteTime": {
     "end_time": "2017-12-19T05:33:20.038847Z",
     "start_time": "2017-12-18T22:40:10.366878Z"
    },
    "scrolled": true
   },
   "outputs": [
    {
     "name": "stdout",
     "output_type": "stream",
     "text": [
      "stimulus\n",
      "sub-hc001\n",
      "sub-hc002\n",
      "sub-hc003\n",
      "sub-hc004\n",
      "sub-hc005\n",
      "sub-hc006\n",
      "sub-hc007\n",
      "sub-hc008\n",
      "sub-hc009\n",
      "sub-hc010\n",
      "sub-hc011\n",
      "sub-hc012\n",
      "sub-hc014\n",
      "sub-hc015\n",
      "sub-hc016\n",
      "sub-hc017\n",
      "sub-hc019\n",
      "sub-hc020\n",
      "sub-hc021\n",
      "sub-hc022\n",
      "sub-hc023\n",
      "sub-hc024\n",
      "sub-hc025\n",
      "sub-hc026\n",
      "sub-hc028\n",
      "sub-hc029\n",
      "sub-hc030\n",
      "sub-hc031\n",
      "sub-hc032\n",
      "sub-hc033\n",
      "sub-hc034\n",
      "sub-hc035\n",
      "sub-hc036\n",
      "sub-hc037\n",
      "sub-hc042\n",
      "sub-hc044\n",
      "sub-hc045\n",
      "sub-pp001\n",
      "sub-pp002\n",
      "sub-pp003\n",
      "sub-pp004\n",
      "sub-pp005\n",
      "sub-pp006\n",
      "sub-pp007\n",
      "sub-pp008\n",
      "sub-pp009\n",
      "sub-pp010\n",
      "sub-pp011\n",
      "sub-pp012\n",
      "sub-pp013\n",
      "sub-pp014\n",
      "sub-pp015\n",
      "sub-pp016\n",
      "response\n",
      "sub-hc001\n",
      "sub-hc002\n",
      "sub-hc003\n",
      "sub-hc004\n",
      "sub-hc005\n",
      "sub-hc006\n",
      "sub-hc007\n",
      "sub-hc008\n",
      "sub-hc009\n",
      "sub-hc010\n",
      "sub-hc011\n",
      "sub-hc012\n",
      "sub-hc014\n",
      "sub-hc015\n",
      "sub-hc016\n",
      "sub-hc017\n",
      "sub-hc019\n",
      "sub-hc020\n",
      "sub-hc021\n",
      "sub-hc022\n",
      "sub-hc023\n",
      "sub-hc024\n",
      "sub-hc025\n",
      "sub-hc026\n",
      "sub-hc028\n",
      "sub-hc029\n",
      "sub-hc030\n",
      "sub-hc031\n",
      "sub-hc032\n",
      "sub-hc033\n",
      "sub-hc034\n",
      "sub-hc035\n",
      "sub-hc036\n",
      "sub-hc037\n",
      "sub-hc042\n",
      "sub-hc044\n",
      "sub-hc045\n",
      "sub-pp001\n",
      "sub-pp002\n",
      "sub-pp003\n",
      "sub-pp004\n",
      "sub-pp005\n",
      "sub-pp006\n",
      "sub-pp007\n",
      "sub-pp008\n",
      "sub-pp009\n",
      "sub-pp010\n",
      "sub-pp011\n",
      "sub-pp012\n",
      "sub-pp013\n",
      "sub-pp014\n",
      "sub-pp015\n",
      "sub-pp016\n",
      "Done!\n"
     ]
    }
   ],
   "source": [
    "for epo_type, epo_times in zip(config['epoch_types'], \n",
    "                               config['epoch_times']):\n",
    "    print(epo_type)\n",
    "    \n",
    "    for subject in subjects:\n",
    "        print(subject)\n",
    "\n",
    "        # load subject behavior and epochs\n",
    "        sub_behavior = behavior[behavior.participant_id == subject]\n",
    "        epo_file = layout.get(subject=subject, \n",
    "                              derivative='eeg_preprocessing', \n",
    "                              extensions='%s_cleaned-epo.fif' % epo_type)[0]\n",
    "        epochs = read_epochs(epo_file.filename, verbose=False)\n",
    "\n",
    "        # interpolate the bad channels\n",
    "        epochs.interpolate_bads(reset_bads=True)\n",
    "\n",
    "        # drop bad trials from epochs and behavior\n",
    "        sub_behavior, epochs = drop_bad_trials(subject, sub_behavior, \n",
    "                                               epochs, layout, epo_type)\n",
    "\n",
    "        # add event labels\n",
    "        epochs = add_events(epochs, sub_behavior, 'condition',\n",
    "                            config['condition'])\n",
    "\n",
    "        tfrs = []\n",
    "        for event in config['condition']:\n",
    "            power = tfr_morlet(epochs[event], freqs=frequencies, \n",
    "                               n_cycles=n_cycles, decim=5, \n",
    "                               return_itc=False, average=False, n_jobs=5)\n",
    "            power.crop(epo_times[0], epo_times[1])\n",
    "            tfrs.append(power)\n",
    "\n",
    "        f = '../data/derivatives/eeg_sensor/%s/tfr/%s_%s-locked_raw-tfr.h5'\n",
    "        write_tfrs(f % (subject, subject, epo_type), tfrs, overwrite=True)\n",
    "\n",
    "print('Done!')"
   ]
  },
  {
   "cell_type": "markdown",
   "metadata": {},
   "source": [
    "### Baseline Normalize Power"
   ]
  },
  {
   "cell_type": "code",
   "execution_count": 6,
   "metadata": {
    "ExecuteTime": {
     "end_time": "2017-12-20T04:10:41.024710Z",
     "start_time": "2017-12-20T04:10:27.666516Z"
    },
    "scrolled": true
   },
   "outputs": [
    {
     "name": "stdout",
     "output_type": "stream",
     "text": [
      "stimulus\n",
      "sub-hc001\n"
     ]
    },
    {
     "ename": "KeyError",
     "evalue": "u'incongruent'",
     "output_type": "error",
     "traceback": [
      "\u001b[0;31m---------------------------------------------------------------------------\u001b[0m",
      "\u001b[0;31mKeyError\u001b[0m                                  Traceback (most recent call last)",
      "\u001b[0;32m<ipython-input-6-0ef95f85ac97>\u001b[0m in \u001b[0;36m<module>\u001b[0;34m()\u001b[0m\n\u001b[1;32m     17\u001b[0m         \u001b[0;32mfor\u001b[0m \u001b[0mi\u001b[0m\u001b[0;34m,\u001b[0m \u001b[0mc\u001b[0m \u001b[0;32min\u001b[0m \u001b[0menumerate\u001b[0m\u001b[0;34m(\u001b[0m\u001b[0mconfig\u001b[0m\u001b[0;34m[\u001b[0m\u001b[0;34m'condition'\u001b[0m\u001b[0;34m]\u001b[0m\u001b[0;34m)\u001b[0m\u001b[0;34m:\u001b[0m\u001b[0;34m\u001b[0m\u001b[0m\n\u001b[1;32m     18\u001b[0m \u001b[0;34m\u001b[0m\u001b[0m\n\u001b[0;32m---> 19\u001b[0;31m             \u001b[0mtfr\u001b[0m\u001b[0;34m,\u001b[0m \u001b[0mbaseline\u001b[0m \u001b[0;34m=\u001b[0m \u001b[0mbaseline_normalize\u001b[0m\u001b[0;34m(\u001b[0m\u001b[0mtfrs\u001b[0m\u001b[0;34m[\u001b[0m\u001b[0mi\u001b[0m\u001b[0;34m]\u001b[0m\u001b[0;34m,\u001b[0m \u001b[0mbaselines\u001b[0m\u001b[0;34m[\u001b[0m\u001b[0mc\u001b[0m\u001b[0;34m]\u001b[0m\u001b[0;34m)\u001b[0m\u001b[0;34m\u001b[0m\u001b[0m\n\u001b[0m\u001b[1;32m     20\u001b[0m             \u001b[0mnorm_tfrs\u001b[0m\u001b[0;34m.\u001b[0m\u001b[0mappend\u001b[0m\u001b[0;34m(\u001b[0m\u001b[0mtfr\u001b[0m\u001b[0;34m)\u001b[0m\u001b[0;34m\u001b[0m\u001b[0m\n\u001b[1;32m     21\u001b[0m             \u001b[0mgroup\u001b[0m\u001b[0;34m[\u001b[0m\u001b[0mc\u001b[0m\u001b[0;34m]\u001b[0m\u001b[0;34m.\u001b[0m\u001b[0mappend\u001b[0m\u001b[0;34m(\u001b[0m\u001b[0mtfr\u001b[0m\u001b[0;34m)\u001b[0m\u001b[0;34m\u001b[0m\u001b[0m\n",
      "\u001b[0;31mKeyError\u001b[0m: u'incongruent'"
     ]
    }
   ],
   "source": [
    "for epo_type, epo_times in zip(config['epoch_types'], \n",
    "                               config['epoch_times']):\n",
    "    print(epo_type)\n",
    "    \n",
    "    baselines = {}\n",
    "    group = {'incongruent': [], 'congruent': []}\n",
    "    for subject in subjects:\n",
    "        print(subject)\n",
    "        \n",
    "        f = '../data/derivatives/eeg_sensor/%s/tfr/%s_%s-locked_raw-tfr.h5'\n",
    "        tfrs = read_tfrs(f % (subject, subject, epo_type))\n",
    "        \n",
    "        if epo_type == 'stimulus':\n",
    "            baselines[subject] = {'incongruent': (-.5, -.1), 'congruent': (-.5, -.1)}\n",
    "        \n",
    "        norm_tfrs = []\n",
    "        for i, c in enumerate(config['condition']):\n",
    "            \n",
    "            tfr, baseline = baseline_normalize(tfrs[i], baselines[c])\n",
    "            norm_tfrs.append(tfr)\n",
    "            group[c].append(tfr)\n",
    "            baselines[subject][c] = baseline\n",
    "            \n",
    "            \n",
    "        f = '../data/derivatives/eeg_sensor/%s/tfr/%s_%s-locked_norm-tfr.h5'\n",
    "        write_tfrs(f % (subject, subject, epo_type), norm_tfrs, \n",
    "                   overwrite=True)\n",
    "    group_tfrs = [grand_average(group[c]) for c in config['condition']]\n",
    "    f = '../data/derivatives/eeg_sensor/group/tfr/group_%s-locked_norm-tfr.h5'\n",
    "    write_tfrs(f % (epo_type), group_tfrs, overwrite=True)\n",
    "        \n",
    "print('Done!')"
   ]
  },
  {
   "cell_type": "markdown",
   "metadata": {},
   "source": [
    "## Visualize TFR Power"
   ]
  },
  {
   "cell_type": "markdown",
   "metadata": {},
   "source": [
    "### TFR Power Heatmaps"
   ]
  },
  {
   "cell_type": "code",
   "execution_count": 5,
   "metadata": {
    "ExecuteTime": {
     "end_time": "2017-12-20T04:06:01.106943Z",
     "start_time": "2017-12-20T04:05:56.524180Z"
    }
   },
   "outputs": [
    {
     "data": {
      "application/vnd.jupyter.widget-view+json": {
       "model_id": "da3c8b92be9c4c50b6fb5f0cb5d68a3a",
       "version_major": 2,
       "version_minor": 0
      },
      "text/html": [
       "<p>Failed to display Jupyter Widget of type <code>interactive</code>.</p>\n",
       "<p>\n",
       "  If you're reading this message in the Jupyter Notebook or JupyterLab Notebook, it may mean\n",
       "  that the widgets JavaScript is still loading. If this message persists, it\n",
       "  likely means that the widgets JavaScript library is either not installed or\n",
       "  not enabled. See the <a href=\"https://ipywidgets.readthedocs.io/en/stable/user_install.html\">Jupyter\n",
       "  Widgets Documentation</a> for setup instructions.\n",
       "</p>\n",
       "<p>\n",
       "  If you're reading this message in another frontend (for example, a static\n",
       "  rendering on GitHub or <a href=\"https://nbviewer.jupyter.org/\">NBViewer</a>),\n",
       "  it may mean that your frontend doesn't currently support widgets.\n",
       "</p>\n"
      ],
      "text/plain": [
       "interactive(children=(Dropdown(description=u'subject', options=('group', 'sub-hc001', 'sub-hc002', 'sub-hc003', 'sub-hc004', 'sub-hc005', 'sub-hc006', 'sub-hc007', 'sub-hc008', 'sub-hc009', 'sub-hc010', 'sub-hc011', 'sub-hc012', 'sub-hc014', 'sub-hc015', 'sub-hc016', 'sub-hc017', 'sub-hc019', 'sub-hc020', 'sub-hc021', 'sub-hc022', 'sub-hc023', 'sub-hc024', 'sub-hc025', 'sub-hc026', 'sub-hc028', 'sub-hc029', 'sub-hc030', 'sub-hc031', 'sub-hc032', 'sub-hc033', 'sub-hc034', 'sub-hc035', 'sub-hc036', 'sub-hc037', 'sub-hc042', 'sub-hc044', 'sub-hc045', 'sub-pp001', 'sub-pp002', 'sub-pp003', 'sub-pp004', 'sub-pp005', 'sub-pp006', 'sub-pp007', 'sub-pp008', 'sub-pp009', 'sub-pp010', 'sub-pp011', 'sub-pp012', 'sub-pp013', 'sub-pp014', 'sub-pp015', 'sub-pp016'), value='group'), Dropdown(description=u'ch', options=('Fp1', 'Fpz', 'Fp2', 'AF7', 'AF3', 'AFz', 'AF4', 'AF8', 'F7', 'F5', 'F3', 'F1', 'Fz', 'F2', 'F4', 'F6', 'F8', 'FT9', 'FT7', 'FC5', 'FC3', 'FC1', 'FCz', 'FC2', 'FC4', 'FC6', 'FT8', 'FT10', 'T9', 'T7', 'C5', 'C3', 'C1', 'Cz', 'C2', 'C4', 'C6', 'T8', 'T10', 'TP9', 'TP7', 'CP5', 'CP3', 'CP1', 'CPz', 'CP2', 'CP4', 'CP6', 'TP8', 'TP10', 'P9', 'P7', 'P5', 'P3', 'P1', 'Pz', 'P2', 'P4', 'P6', 'P8', 'P10', 'PO7', 'PO3', 'P0z', 'PO4', 'PO8', 'O1', 'Oz', 'O2', 'Iz'), value='Fp1'), IntSlider(value=2, description=u'lim', max=6, min=-2), Output()), _dom_classes=('widget-interact',))"
      ]
     },
     "metadata": {},
     "output_type": "display_data"
    }
   ],
   "source": [
    "def plot_tfr_heatmap(subject, ch, lim):\n",
    "    exclusions = ['fast_rt', 'no_response', 'error', 'post_error']\n",
    "    sub_behavior = behavior.loc[np.where(np.sum(behavior[exclusions], \n",
    "                                            axis=1) == 0)[0], :]\n",
    "    if subject != 'group':\n",
    "        sub_behavior = sub_behavior.loc[sub_behavior.participant_id == subject, :]\n",
    "    sns.set(style='white', font_scale=2)\n",
    "    plt.close('all')\n",
    "\n",
    "    fig, axs = plt.subplots(2, 3, figsize=(24, 16))\n",
    "    \n",
    "    \n",
    "    for i, epo_type in enumerate(config['epoch_types']):\n",
    "        \n",
    "        f = '../data/derivatives/eeg_sensor/%s/tfr/%s_%s-locked_norm-tfr.h5'\n",
    "        tfrs = read_tfrs(f % (subject, subject, epo_type))\n",
    "\n",
    "        powers = []\n",
    "        for j, c in enumerate(config['condition']):\n",
    "\n",
    "            power = tfrs[j]\n",
    "            power = power.pick_channels([ch])\n",
    "            powers.append(power)\n",
    "            times = power.times\n",
    "            freqs = power.freqs\n",
    "\n",
    "            ax = axs[i, j]\n",
    "            ax.contourf(power.times, power.freqs, power.data.squeeze(), 40, \n",
    "                        cmap='jet', vmin=-lim, vmax=lim)\n",
    "            \n",
    "            ax.set_xlabel('Time (s)')\n",
    "            ax.set_ylabel('Frequency (Hz)')\n",
    "            ax.set_title('%s %s-locked' % (c, epo_type))\n",
    "            ax.axvline(0, color='k')\n",
    "            for v in [4, 8, 15, 30]:\n",
    "                ax.axhline(v, color='k', linestyle='--')\n",
    "            \n",
    "            if epo_type == 'stimulus':\n",
    "                rt = sub_behavior[sub_behavior.trial_type == c].response_time\n",
    "                ax.hist(rt, color=config['colors'][j],\n",
    "                            normed=True, bottom=-4)\n",
    "                \n",
    "\n",
    "        ax = axs[i, 2]\n",
    "        ax.contourf(power.times, power.freqs, \n",
    "                    (powers[0].data.squeeze() - powers[1].data.squeeze()), 40, \n",
    "                    cmap='jet', vmin=-lim, vmax=lim)\n",
    "\n",
    "        ax.set_xlabel('Time (s)')\n",
    "        ax.set_ylabel('Frequency (Hz)')\n",
    "        ax.set_title('i - c %s-locked' % (epo_type))\n",
    "        ax.axvline(0, color='k')\n",
    "        for v in [4, 8, 15, 30]:\n",
    "            ax.axhline(v, color='k', linestyle='--')\n",
    "        for j, c in enumerate(config['condition']):\n",
    "            if epo_type == 'stimulus':\n",
    "                rt = sub_behavior[sub_behavior.trial_type == c].response_time\n",
    "                ax.hist(rt, color=config['colors'][j], alpha=0.5,\n",
    "                            normed=True, bottom=-4)\n",
    "        \n",
    "    plt.tight_layout()\n",
    "    plt.subplots_adjust(top=.92)\n",
    "    plt.suptitle('%s %s TFR Heatmaps' % (subject, ch), fontsize=24)\n",
    "    plt.show()\n",
    "\n",
    "interact(plot_tfr_heatmap, subject=['group'] + subjects, ch=CH_NAMES, \n",
    "         lim=(2));"
   ]
  },
  {
   "cell_type": "markdown",
   "metadata": {},
   "source": [
    "### TFR Power Topomaps"
   ]
  },
  {
   "cell_type": "code",
   "execution_count": null,
   "metadata": {
    "collapsed": true
   },
   "outputs": [],
   "source": []
  }
 ],
 "metadata": {
  "kernelspec": {
   "display_name": "Python 2",
   "language": "python",
   "name": "python2"
  },
  "toc": {
   "nav_menu": {
    "height": "30px",
    "width": "252px"
   },
   "number_sections": true,
   "sideBar": true,
   "skip_h1_title": false,
   "toc_cell": false,
   "toc_position": {
    "height": "795px",
    "left": "0px",
    "right": "1496.28px",
    "top": "106px",
    "width": "280px"
   },
   "toc_section_display": "block",
   "toc_window_display": true
  },
  "varInspector": {
   "cols": {
    "lenName": 16,
    "lenType": 16,
    "lenVar": 40
   },
   "kernels_config": {
    "python": {
     "delete_cmd_postfix": "",
     "delete_cmd_prefix": "del ",
     "library": "var_list.py",
     "varRefreshCmd": "print(var_dic_list())"
    },
    "r": {
     "delete_cmd_postfix": ") ",
     "delete_cmd_prefix": "rm(",
     "library": "var_list.r",
     "varRefreshCmd": "cat(var_dic_list()) "
    }
   },
   "types_to_exclude": [
    "module",
    "function",
    "builtin_function_or_method",
    "instance",
    "_Feature"
   ],
   "window_display": false
  }
 },
 "nbformat": 4,
 "nbformat_minor": 2
}
