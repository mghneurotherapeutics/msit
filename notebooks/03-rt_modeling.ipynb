{
 "cells": [
  {
   "cell_type": "markdown",
   "metadata": {},
   "source": [
    "# Initialization"
   ]
  },
  {
   "cell_type": "code",
   "execution_count": 1,
   "metadata": {
    "ExecuteTime": {
     "end_time": "2017-12-17T18:10:43.207613Z",
     "start_time": "2017-12-17T18:10:40.945715Z"
    },
    "collapsed": true
   },
   "outputs": [],
   "source": [
    "import numpy as np\n",
    "import pandas as pd\n",
    "from ipywidgets import interact\n",
    "import matplotlib.pyplot as plt\n",
    "import seaborn as sns\n",
    "import pystan\n",
    "import pickle\n",
    "from scipy.stats import gamma, norm\n",
    "\n",
    "# load in behavioral data and clean\n",
    "data = pd.read_csv('../data/derivatives/behavior/group_data.tsv', sep='\\t', \n",
    "                   na_values='n/a')\n",
    "exclusions = ['no_response', 'error', 'post_error', 'fast_rt']\n",
    "data = data[data[exclusions].sum(axis=1) == 0]\n",
    "\n",
    "subjects = list(data.participant_id.unique())\n",
    "\n",
    "sns.set(style='whitegrid', font_scale=2)"
   ]
  },
  {
   "cell_type": "markdown",
   "metadata": {},
   "source": [
    "# Weibull Models"
   ]
  },
  {
   "cell_type": "code",
   "execution_count": 2,
   "metadata": {
    "ExecuteTime": {
     "end_time": "2017-12-17T18:10:48.212542Z",
     "start_time": "2017-12-17T18:10:48.207014Z"
    },
    "collapsed": true
   },
   "outputs": [],
   "source": [
    "def weibull(x, alpha, sigma, shift):\n",
    "    p1 = (alpha / sigma)\n",
    "    p2 = np.power((x - shift) / sigma, alpha - 1) \n",
    "    p3 = np.exp(-np.power((x - shift) / sigma, alpha))\n",
    "    return p1 * p2 * p3"
   ]
  },
  {
   "cell_type": "markdown",
   "metadata": {},
   "source": [
    "## Weibull Intuition"
   ]
  },
  {
   "cell_type": "code",
   "execution_count": 3,
   "metadata": {
    "ExecuteTime": {
     "end_time": "2017-12-17T00:15:34.996586Z",
     "start_time": "2017-12-17T00:15:34.703367Z"
    }
   },
   "outputs": [
    {
     "data": {
      "application/vnd.jupyter.widget-view+json": {
       "model_id": "eb92b134f1604d6a88ec40e740ce0293",
       "version_major": 2,
       "version_minor": 0
      },
      "text/html": [
       "<p>Failed to display Jupyter Widget of type <code>interactive</code>.</p>\n",
       "<p>\n",
       "  If you're reading this message in the Jupyter Notebook or JupyterLab Notebook, it may mean\n",
       "  that the widgets JavaScript is still loading. If this message persists, it\n",
       "  likely means that the widgets JavaScript library is either not installed or\n",
       "  not enabled. See the <a href=\"https://ipywidgets.readthedocs.io/en/stable/user_install.html\">Jupyter\n",
       "  Widgets Documentation</a> for setup instructions.\n",
       "</p>\n",
       "<p>\n",
       "  If you're reading this message in another frontend (for example, a static\n",
       "  rendering on GitHub or <a href=\"https://nbviewer.jupyter.org/\">NBViewer</a>),\n",
       "  it may mean that your frontend doesn't currently support widgets.\n",
       "</p>\n"
      ],
      "text/plain": [
       "interactive(children=(FloatSlider(value=2.0, description=u'alpha', max=3.0, min=1.0, step=0.01), FloatSlider(value=1.0, description=u'sigma', max=2.0, step=0.01), FloatSlider(value=1.0, description=u'shift', max=2.0, step=0.01), Output()), _dom_classes=('widget-interact',))"
      ]
     },
     "metadata": {},
     "output_type": "display_data"
    }
   ],
   "source": [
    "def plot_weibull(alpha, sigma, shift):\n",
    "    x = np.arange(shift, 1.75, .001, dtype=np.float64)\n",
    "    plt.plot(x, weibull(x, alpha, sigma, shift))\n",
    "    plt.xlim((0, 1.75))\n",
    "    plt.show();\n",
    "    \n",
    "interact(plot_weibull, alpha=(1, 3, .01), sigma=(0, 2, .01), shift=(0, 2, .01));"
   ]
  },
  {
   "cell_type": "markdown",
   "metadata": {},
   "source": [
    "## Prior Intuition & Determination"
   ]
  },
  {
   "cell_type": "markdown",
   "metadata": {},
   "source": [
    "### Build distribution of individual subject MAPs\n",
    "\n",
    "First, we compile the inidividual subject stan model."
   ]
  },
  {
   "cell_type": "code",
   "execution_count": 3,
   "metadata": {
    "ExecuteTime": {
     "end_time": "2017-12-17T17:50:18.076934Z",
     "start_time": "2017-12-17T17:50:05.569526Z"
    }
   },
   "outputs": [
    {
     "name": "stderr",
     "output_type": "stream",
     "text": [
      "INFO:pystan:COMPILING THE C++ CODE FOR MODEL anon_model_8b64186d7c72474f92436047d86f728a NOW.\n"
     ]
    },
    {
     "ename": "KeyboardInterrupt",
     "evalue": "",
     "output_type": "error",
     "traceback": [
      "\u001b[0;31m---------------------------------------------------------------------------\u001b[0m",
      "\u001b[0;31mKeyboardInterrupt\u001b[0m                         Traceback (most recent call last)",
      "\u001b[0;32m<ipython-input-3-dac05955464b>\u001b[0m in \u001b[0;36m<module>\u001b[0;34m()\u001b[0m\n\u001b[0;32m----> 1\u001b[0;31m \u001b[0mmodel\u001b[0m \u001b[0;34m=\u001b[0m \u001b[0mpystan\u001b[0m\u001b[0;34m.\u001b[0m\u001b[0mStanModel\u001b[0m\u001b[0;34m(\u001b[0m\u001b[0mfile\u001b[0m\u001b[0;34m=\u001b[0m\u001b[0;34m'../stan_models/single_subject_non-additive_weibull.stan'\u001b[0m\u001b[0;34m)\u001b[0m\u001b[0;34m\u001b[0m\u001b[0m\n\u001b[0m",
      "\u001b[0;32m/Users/matt/anaconda3/envs/msit/lib/python2.7/site-packages/pystan/model.pyc\u001b[0m in \u001b[0;36m__init__\u001b[0;34m(self, file, charset, model_name, model_code, stanc_ret, boost_lib, eigen_lib, verbose, obfuscate_model_name, extra_compile_args)\u001b[0m\n\u001b[1;32m    311\u001b[0m \u001b[0;34m\u001b[0m\u001b[0m\n\u001b[1;32m    312\u001b[0m         \u001b[0;32mtry\u001b[0m\u001b[0;34m:\u001b[0m\u001b[0;34m\u001b[0m\u001b[0m\n\u001b[0;32m--> 313\u001b[0;31m             \u001b[0mbuild_extension\u001b[0m\u001b[0;34m.\u001b[0m\u001b[0mrun\u001b[0m\u001b[0;34m(\u001b[0m\u001b[0;34m)\u001b[0m\u001b[0;34m\u001b[0m\u001b[0m\n\u001b[0m\u001b[1;32m    314\u001b[0m         \u001b[0;32mfinally\u001b[0m\u001b[0;34m:\u001b[0m\u001b[0;34m\u001b[0m\u001b[0m\n\u001b[1;32m    315\u001b[0m             \u001b[0;32mif\u001b[0m \u001b[0mredirect_stderr\u001b[0m\u001b[0;34m:\u001b[0m\u001b[0;34m\u001b[0m\u001b[0m\n",
      "\u001b[0;32m/Users/matt/anaconda3/envs/msit/lib/python2.7/distutils/command/build_ext.pyc\u001b[0m in \u001b[0;36mrun\u001b[0;34m(self)\u001b[0m\n\u001b[1;32m    338\u001b[0m \u001b[0;34m\u001b[0m\u001b[0m\n\u001b[1;32m    339\u001b[0m         \u001b[0;31m# Now actually compile and link everything.\u001b[0m\u001b[0;34m\u001b[0m\u001b[0;34m\u001b[0m\u001b[0m\n\u001b[0;32m--> 340\u001b[0;31m         \u001b[0mself\u001b[0m\u001b[0;34m.\u001b[0m\u001b[0mbuild_extensions\u001b[0m\u001b[0;34m(\u001b[0m\u001b[0;34m)\u001b[0m\u001b[0;34m\u001b[0m\u001b[0m\n\u001b[0m\u001b[1;32m    341\u001b[0m \u001b[0;34m\u001b[0m\u001b[0m\n\u001b[1;32m    342\u001b[0m     \u001b[0;32mdef\u001b[0m \u001b[0mcheck_extensions_list\u001b[0m\u001b[0;34m(\u001b[0m\u001b[0mself\u001b[0m\u001b[0;34m,\u001b[0m \u001b[0mextensions\u001b[0m\u001b[0;34m)\u001b[0m\u001b[0;34m:\u001b[0m\u001b[0;34m\u001b[0m\u001b[0m\n",
      "\u001b[0;32m/Users/matt/anaconda3/envs/msit/lib/python2.7/distutils/command/build_ext.pyc\u001b[0m in \u001b[0;36mbuild_extensions\u001b[0;34m(self)\u001b[0m\n\u001b[1;32m    447\u001b[0m \u001b[0;34m\u001b[0m\u001b[0m\n\u001b[1;32m    448\u001b[0m         \u001b[0;32mfor\u001b[0m \u001b[0mext\u001b[0m \u001b[0;32min\u001b[0m \u001b[0mself\u001b[0m\u001b[0;34m.\u001b[0m\u001b[0mextensions\u001b[0m\u001b[0;34m:\u001b[0m\u001b[0;34m\u001b[0m\u001b[0m\n\u001b[0;32m--> 449\u001b[0;31m             \u001b[0mself\u001b[0m\u001b[0;34m.\u001b[0m\u001b[0mbuild_extension\u001b[0m\u001b[0;34m(\u001b[0m\u001b[0mext\u001b[0m\u001b[0;34m)\u001b[0m\u001b[0;34m\u001b[0m\u001b[0m\n\u001b[0m\u001b[1;32m    450\u001b[0m \u001b[0;34m\u001b[0m\u001b[0m\n\u001b[1;32m    451\u001b[0m     \u001b[0;32mdef\u001b[0m \u001b[0mbuild_extension\u001b[0m\u001b[0;34m(\u001b[0m\u001b[0mself\u001b[0m\u001b[0;34m,\u001b[0m \u001b[0mext\u001b[0m\u001b[0;34m)\u001b[0m\u001b[0;34m:\u001b[0m\u001b[0;34m\u001b[0m\u001b[0m\n",
      "\u001b[0;32m/Users/matt/anaconda3/envs/msit/lib/python2.7/distutils/command/build_ext.pyc\u001b[0m in \u001b[0;36mbuild_extension\u001b[0;34m(self, ext)\u001b[0m\n\u001b[1;32m    497\u001b[0m                                          \u001b[0mdebug\u001b[0m\u001b[0;34m=\u001b[0m\u001b[0mself\u001b[0m\u001b[0;34m.\u001b[0m\u001b[0mdebug\u001b[0m\u001b[0;34m,\u001b[0m\u001b[0;34m\u001b[0m\u001b[0m\n\u001b[1;32m    498\u001b[0m                                          \u001b[0mextra_postargs\u001b[0m\u001b[0;34m=\u001b[0m\u001b[0mextra_args\u001b[0m\u001b[0;34m,\u001b[0m\u001b[0;34m\u001b[0m\u001b[0m\n\u001b[0;32m--> 499\u001b[0;31m                                          depends=ext.depends)\n\u001b[0m\u001b[1;32m    500\u001b[0m \u001b[0;34m\u001b[0m\u001b[0m\n\u001b[1;32m    501\u001b[0m         \u001b[0;31m# XXX -- this is a Vile HACK!\u001b[0m\u001b[0;34m\u001b[0m\u001b[0;34m\u001b[0m\u001b[0m\n",
      "\u001b[0;32m/Users/matt/anaconda3/envs/msit/lib/python2.7/distutils/ccompiler.pyc\u001b[0m in \u001b[0;36mcompile\u001b[0;34m(self, sources, output_dir, macros, include_dirs, debug, extra_preargs, extra_postargs, depends)\u001b[0m\n\u001b[1;32m    572\u001b[0m             \u001b[0;32mexcept\u001b[0m \u001b[0mKeyError\u001b[0m\u001b[0;34m:\u001b[0m\u001b[0;34m\u001b[0m\u001b[0m\n\u001b[1;32m    573\u001b[0m                 \u001b[0;32mcontinue\u001b[0m\u001b[0;34m\u001b[0m\u001b[0m\n\u001b[0;32m--> 574\u001b[0;31m             \u001b[0mself\u001b[0m\u001b[0;34m.\u001b[0m\u001b[0m_compile\u001b[0m\u001b[0;34m(\u001b[0m\u001b[0mobj\u001b[0m\u001b[0;34m,\u001b[0m \u001b[0msrc\u001b[0m\u001b[0;34m,\u001b[0m \u001b[0mext\u001b[0m\u001b[0;34m,\u001b[0m \u001b[0mcc_args\u001b[0m\u001b[0;34m,\u001b[0m \u001b[0mextra_postargs\u001b[0m\u001b[0;34m,\u001b[0m \u001b[0mpp_opts\u001b[0m\u001b[0;34m)\u001b[0m\u001b[0;34m\u001b[0m\u001b[0m\n\u001b[0m\u001b[1;32m    575\u001b[0m \u001b[0;34m\u001b[0m\u001b[0m\n\u001b[1;32m    576\u001b[0m         \u001b[0;31m# Return *all* object filenames, not just the ones we just built.\u001b[0m\u001b[0;34m\u001b[0m\u001b[0;34m\u001b[0m\u001b[0m\n",
      "\u001b[0;32m/Users/matt/anaconda3/envs/msit/lib/python2.7/distutils/unixccompiler.pyc\u001b[0m in \u001b[0;36m_compile\u001b[0;34m(self, obj, src, ext, cc_args, extra_postargs, pp_opts)\u001b[0m\n\u001b[1;32m    120\u001b[0m         \u001b[0;32mtry\u001b[0m\u001b[0;34m:\u001b[0m\u001b[0;34m\u001b[0m\u001b[0m\n\u001b[1;32m    121\u001b[0m             self.spawn(compiler_so + cc_args + [src, '-o', obj] +\n\u001b[0;32m--> 122\u001b[0;31m                        extra_postargs)\n\u001b[0m\u001b[1;32m    123\u001b[0m         \u001b[0;32mexcept\u001b[0m \u001b[0mDistutilsExecError\u001b[0m\u001b[0;34m,\u001b[0m \u001b[0mmsg\u001b[0m\u001b[0;34m:\u001b[0m\u001b[0;34m\u001b[0m\u001b[0m\n\u001b[1;32m    124\u001b[0m             \u001b[0;32mraise\u001b[0m \u001b[0mCompileError\u001b[0m\u001b[0;34m,\u001b[0m \u001b[0mmsg\u001b[0m\u001b[0;34m\u001b[0m\u001b[0m\n",
      "\u001b[0;32m/Users/matt/anaconda3/envs/msit/lib/python2.7/distutils/ccompiler.pyc\u001b[0m in \u001b[0;36mspawn\u001b[0;34m(self, cmd)\u001b[0m\n\u001b[1;32m    874\u001b[0m \u001b[0;34m\u001b[0m\u001b[0m\n\u001b[1;32m    875\u001b[0m     \u001b[0;32mdef\u001b[0m \u001b[0mspawn\u001b[0m\u001b[0;34m(\u001b[0m\u001b[0mself\u001b[0m\u001b[0;34m,\u001b[0m \u001b[0mcmd\u001b[0m\u001b[0;34m)\u001b[0m\u001b[0;34m:\u001b[0m\u001b[0;34m\u001b[0m\u001b[0m\n\u001b[0;32m--> 876\u001b[0;31m         \u001b[0mspawn\u001b[0m\u001b[0;34m(\u001b[0m\u001b[0mcmd\u001b[0m\u001b[0;34m,\u001b[0m \u001b[0mdry_run\u001b[0m\u001b[0;34m=\u001b[0m\u001b[0mself\u001b[0m\u001b[0;34m.\u001b[0m\u001b[0mdry_run\u001b[0m\u001b[0;34m)\u001b[0m\u001b[0;34m\u001b[0m\u001b[0m\n\u001b[0m\u001b[1;32m    877\u001b[0m \u001b[0;34m\u001b[0m\u001b[0m\n\u001b[1;32m    878\u001b[0m     \u001b[0;32mdef\u001b[0m \u001b[0mmove_file\u001b[0m\u001b[0;34m(\u001b[0m\u001b[0mself\u001b[0m\u001b[0;34m,\u001b[0m \u001b[0msrc\u001b[0m\u001b[0;34m,\u001b[0m \u001b[0mdst\u001b[0m\u001b[0;34m)\u001b[0m\u001b[0;34m:\u001b[0m\u001b[0;34m\u001b[0m\u001b[0m\n",
      "\u001b[0;32m/Users/matt/anaconda3/envs/msit/lib/python2.7/distutils/spawn.pyc\u001b[0m in \u001b[0;36mspawn\u001b[0;34m(cmd, search_path, verbose, dry_run)\u001b[0m\n\u001b[1;32m     36\u001b[0m     \u001b[0mcmd\u001b[0m \u001b[0;34m=\u001b[0m \u001b[0mlist\u001b[0m\u001b[0;34m(\u001b[0m\u001b[0mcmd\u001b[0m\u001b[0;34m)\u001b[0m\u001b[0;34m\u001b[0m\u001b[0m\n\u001b[1;32m     37\u001b[0m     \u001b[0;32mif\u001b[0m \u001b[0mos\u001b[0m\u001b[0;34m.\u001b[0m\u001b[0mname\u001b[0m \u001b[0;34m==\u001b[0m \u001b[0;34m'posix'\u001b[0m\u001b[0;34m:\u001b[0m\u001b[0;34m\u001b[0m\u001b[0m\n\u001b[0;32m---> 38\u001b[0;31m         \u001b[0m_spawn_posix\u001b[0m\u001b[0;34m(\u001b[0m\u001b[0mcmd\u001b[0m\u001b[0;34m,\u001b[0m \u001b[0msearch_path\u001b[0m\u001b[0;34m,\u001b[0m \u001b[0mdry_run\u001b[0m\u001b[0;34m=\u001b[0m\u001b[0mdry_run\u001b[0m\u001b[0;34m)\u001b[0m\u001b[0;34m\u001b[0m\u001b[0m\n\u001b[0m\u001b[1;32m     39\u001b[0m     \u001b[0;32melif\u001b[0m \u001b[0mos\u001b[0m\u001b[0;34m.\u001b[0m\u001b[0mname\u001b[0m \u001b[0;34m==\u001b[0m \u001b[0;34m'nt'\u001b[0m\u001b[0;34m:\u001b[0m\u001b[0;34m\u001b[0m\u001b[0m\n\u001b[1;32m     40\u001b[0m         \u001b[0m_spawn_nt\u001b[0m\u001b[0;34m(\u001b[0m\u001b[0mcmd\u001b[0m\u001b[0;34m,\u001b[0m \u001b[0msearch_path\u001b[0m\u001b[0;34m,\u001b[0m \u001b[0mdry_run\u001b[0m\u001b[0;34m=\u001b[0m\u001b[0mdry_run\u001b[0m\u001b[0;34m)\u001b[0m\u001b[0;34m\u001b[0m\u001b[0m\n",
      "\u001b[0;32m/Users/matt/anaconda3/envs/msit/lib/python2.7/distutils/spawn.pyc\u001b[0m in \u001b[0;36m_spawn_posix\u001b[0;34m(cmd, search_path, verbose, dry_run)\u001b[0m\n\u001b[1;32m    165\u001b[0m         \u001b[0;32mwhile\u001b[0m \u001b[0;36m1\u001b[0m\u001b[0;34m:\u001b[0m\u001b[0;34m\u001b[0m\u001b[0m\n\u001b[1;32m    166\u001b[0m             \u001b[0;32mtry\u001b[0m\u001b[0;34m:\u001b[0m\u001b[0;34m\u001b[0m\u001b[0m\n\u001b[0;32m--> 167\u001b[0;31m                 \u001b[0mpid\u001b[0m\u001b[0;34m,\u001b[0m \u001b[0mstatus\u001b[0m \u001b[0;34m=\u001b[0m \u001b[0mos\u001b[0m\u001b[0;34m.\u001b[0m\u001b[0mwaitpid\u001b[0m\u001b[0;34m(\u001b[0m\u001b[0mpid\u001b[0m\u001b[0;34m,\u001b[0m \u001b[0;36m0\u001b[0m\u001b[0;34m)\u001b[0m\u001b[0;34m\u001b[0m\u001b[0m\n\u001b[0m\u001b[1;32m    168\u001b[0m             \u001b[0;32mexcept\u001b[0m \u001b[0mOSError\u001b[0m\u001b[0;34m,\u001b[0m \u001b[0mexc\u001b[0m\u001b[0;34m:\u001b[0m\u001b[0;34m\u001b[0m\u001b[0m\n\u001b[1;32m    169\u001b[0m                 \u001b[0;32mimport\u001b[0m \u001b[0merrno\u001b[0m\u001b[0;34m\u001b[0m\u001b[0m\n",
      "\u001b[0;31mKeyboardInterrupt\u001b[0m: "
     ]
    }
   ],
   "source": [
    "model = pystan.StanModel(file='../stan_models/single_subject_non-additive_weibull.stan')"
   ]
  },
  {
   "cell_type": "markdown",
   "metadata": {},
   "source": [
    "Next we gather the map estimates for each subject's shift, scale, and shape parameters split by condition. "
   ]
  },
  {
   "cell_type": "code",
   "execution_count": 28,
   "metadata": {
    "ExecuteTime": {
     "end_time": "2017-12-17T00:27:15.289395Z",
     "start_time": "2017-12-17T00:27:14.853364Z"
    },
    "scrolled": true
   },
   "outputs": [
    {
     "name": "stdout",
     "output_type": "stream",
     "text": [
      "sub-hc001 sub-hc002 sub-hc003 sub-hc004 sub-hc005 sub-hc006 sub-hc007 sub-hc008 sub-hc009 sub-hc010 sub-hc011 sub-hc012 sub-hc013 sub-hc014 sub-hc015 sub-hc016 sub-hc017 sub-hc018 sub-hc019 sub-hc020 sub-hc021 sub-hc022 sub-hc023 sub-hc024 sub-hc025 sub-hc026 sub-hc027 sub-hc028 sub-hc029 sub-hc030 sub-hc031 sub-hc032 sub-hc033 sub-hc034 sub-hc035 sub-hc036 sub-hc037 sub-hc042 sub-hc044 sub-hc045 sub-pp001 sub-pp002 sub-pp003 sub-pp004 sub-pp005 sub-pp006 sub-pp007 sub-pp008 sub-pp009 sub-pp010 sub-pp011 sub-pp012 sub-pp013 sub-pp014 sub-pp015 sub-pp016 sub-hc038 sub-hc041 sub-hc047 Done!\n"
     ]
    }
   ],
   "source": [
    "maps = []\n",
    "for subject in subjects:\n",
    "    print(subject, end=' ')\n",
    "    sub_data = data[data.participant_id == subject]\n",
    "    rt_c = sub_data[sub_data.trial_type == 'congruent'].response_time\n",
    "    rt_i = sub_data[sub_data.trial_type == 'incongruent'].response_time\n",
    "    data_in = {'Ni': len(rt_i), 'Nc': len(rt_c), 'rt_c': rt_c, 'rt_i': rt_i}\n",
    "    \n",
    "    op = model.optimizing(data=data_in, seed=8)\n",
    "    maps.append(op)\n",
    "print('Done!')"
   ]
  },
  {
   "cell_type": "markdown",
   "metadata": {},
   "source": [
    "Next, we sift through the map distribution fits to each subject's data as a sanity check of how well we can fit."
   ]
  },
  {
   "cell_type": "code",
   "execution_count": 50,
   "metadata": {
    "ExecuteTime": {
     "end_time": "2017-12-17T08:32:27.028276Z",
     "start_time": "2017-12-17T08:32:26.923234Z"
    }
   },
   "outputs": [
    {
     "data": {
      "application/vnd.jupyter.widget-view+json": {
       "model_id": "2b044ed2dc554b55b6ebc16f06eaa4ac",
       "version_major": 2,
       "version_minor": 0
      },
      "text/html": [
       "<p>Failed to display Jupyter Widget of type <code>interactive</code>.</p>\n",
       "<p>\n",
       "  If you're reading this message in the Jupyter Notebook or JupyterLab Notebook, it may mean\n",
       "  that the widgets JavaScript is still loading. If this message persists, it\n",
       "  likely means that the widgets JavaScript library is either not installed or\n",
       "  not enabled. See the <a href=\"https://ipywidgets.readthedocs.io/en/stable/user_install.html\">Jupyter\n",
       "  Widgets Documentation</a> for setup instructions.\n",
       "</p>\n",
       "<p>\n",
       "  If you're reading this message in another frontend (for example, a static\n",
       "  rendering on GitHub or <a href=\"https://nbviewer.jupyter.org/\">NBViewer</a>),\n",
       "  it may mean that your frontend doesn't currently support widgets.\n",
       "</p>\n"
      ],
      "text/plain": [
       "interactive(children=(Dropdown(description=u'subject', options=('sub-hc001', 'sub-hc002', 'sub-hc003', 'sub-hc004', 'sub-hc005', 'sub-hc006', 'sub-hc007', 'sub-hc008', 'sub-hc009', 'sub-hc010', 'sub-hc011', 'sub-hc012', 'sub-hc013', 'sub-hc014', 'sub-hc015', 'sub-hc016', 'sub-hc017', 'sub-hc018', 'sub-hc019', 'sub-hc020', 'sub-hc021', 'sub-hc022', 'sub-hc023', 'sub-hc024', 'sub-hc025', 'sub-hc026', 'sub-hc027', 'sub-hc028', 'sub-hc029', 'sub-hc030', 'sub-hc031', 'sub-hc032', 'sub-hc033', 'sub-hc034', 'sub-hc035', 'sub-hc036', 'sub-hc037', 'sub-hc042', 'sub-hc044', 'sub-hc045', 'sub-pp001', 'sub-pp002', 'sub-pp003', 'sub-pp004', 'sub-pp005', 'sub-pp006', 'sub-pp007', 'sub-pp008', 'sub-pp009', 'sub-pp010', 'sub-pp011', 'sub-pp012', 'sub-pp013', 'sub-pp014', 'sub-pp015', 'sub-pp016', 'sub-hc038', 'sub-hc041', 'sub-hc047'), value='sub-hc001'), Output()), _dom_classes=('widget-interact',))"
      ]
     },
     "metadata": {},
     "output_type": "display_data"
    }
   ],
   "source": [
    "def plot_subject_fit(subject):\n",
    "    f, ax = plt.subplots(1, 1, figsize=(16, 8))\n",
    "    colors = ['#e41a1c', '#377eb8']\n",
    "    conditions = ['incongruent', 'congruent']\n",
    "    sub_ix = subjects.index(subject)\n",
    "    mapp = maps[sub_ix]\n",
    "    sub_data = data[data.participant_id == subject]\n",
    "    \n",
    "    for i, c in enumerate(conditions):\n",
    "        rt = sub_data[sub_data.trial_type == c].response_time\n",
    "        x = np.arange(mapp['shift_%s' % c[0]], 1.75, .01)\n",
    "        sns.distplot(rt, color=colors[i], ax=ax, kde=False, \n",
    "                     norm_hist=True)\n",
    "        plt.plot(x, weibull(x, mapp['shape_%s' % c[0]], \n",
    "                            mapp['scale_%s' % c[0]], \n",
    "                            mapp['shift_%s' % c[0]]), color=colors[i])\n",
    "    \n",
    "    plt.legend(conditions)\n",
    "    plt.xlim((0, 1.75))\n",
    "    plt.ylim((0, 4))\n",
    "    plt.show()\n",
    "    \n",
    "interact(plot_subject_fit, subject=subjects);"
   ]
  },
  {
   "cell_type": "markdown",
   "metadata": {},
   "source": [
    "Finally, we look at the parameter map distributions to get a sense of reasonable range of expected parameters."
   ]
  },
  {
   "cell_type": "code",
   "execution_count": 23,
   "metadata": {
    "ExecuteTime": {
     "end_time": "2017-12-17T00:25:29.806378Z",
     "start_time": "2017-12-17T00:25:29.307056Z"
    }
   },
   "outputs": [
    {
     "data": {
      "application/vnd.jupyter.widget-view+json": {
       "model_id": "76511afd73994fb2ab639d8b02a2e047",
       "version_major": 2,
       "version_minor": 0
      },
      "text/html": [
       "<p>Failed to display Jupyter Widget of type <code>interactive</code>.</p>\n",
       "<p>\n",
       "  If you're reading this message in the Jupyter Notebook or JupyterLab Notebook, it may mean\n",
       "  that the widgets JavaScript is still loading. If this message persists, it\n",
       "  likely means that the widgets JavaScript library is either not installed or\n",
       "  not enabled. See the <a href=\"https://ipywidgets.readthedocs.io/en/stable/user_install.html\">Jupyter\n",
       "  Widgets Documentation</a> for setup instructions.\n",
       "</p>\n",
       "<p>\n",
       "  If you're reading this message in another frontend (for example, a static\n",
       "  rendering on GitHub or <a href=\"https://nbviewer.jupyter.org/\">NBViewer</a>),\n",
       "  it may mean that your frontend doesn't currently support widgets.\n",
       "</p>\n"
      ],
      "text/plain": [
       "interactive(children=(Dropdown(description=u'param', options=('shift', 'scale', 'shape'), value='shift'), Output()), _dom_classes=('widget-interact',))"
      ]
     },
     "metadata": {},
     "output_type": "display_data"
    }
   ],
   "source": [
    "def plot_map_dist(param):\n",
    "    f, ax = plt.subplots(1, 1, figsize=(16, 8))\n",
    "    colors = ['#e41a1c', '#377eb8']\n",
    "    conditions = ['incongruent', 'congruent']\n",
    "    for i, c in enumerate(conditions):\n",
    "        values = [m['%s_%s' % (param, c[0])] for m in maps]\n",
    "        sns.distplot(values, color=colors[i])\n",
    "    plt.legend(conditions)\n",
    "    plt.xlabel(param)\n",
    "    plt.show()\n",
    "\n",
    "interact(plot_map_dist, param=['shift', 'scale', 'shape']);"
   ]
  },
  {
   "cell_type": "markdown",
   "metadata": {},
   "source": [
    "### Visualizing Prior Distribution\n",
    "\n",
    "For the hiearchical model, we are not going to model each condition with a separate distribution. Instead, we will do a regression approach.\n",
    "\n",
    "First we, look at the priors for the scale parameter."
   ]
  },
  {
   "cell_type": "code",
   "execution_count": 46,
   "metadata": {
    "ExecuteTime": {
     "end_time": "2017-12-17T02:54:05.870628Z",
     "start_time": "2017-12-17T02:54:05.279802Z"
    }
   },
   "outputs": [
    {
     "data": {
      "application/vnd.jupyter.widget-view+json": {
       "model_id": "397d7b5cc5b14e458fa459b080007ff7",
       "version_major": 2,
       "version_minor": 0
      },
      "text/html": [
       "<p>Failed to display Jupyter Widget of type <code>interactive</code>.</p>\n",
       "<p>\n",
       "  If you're reading this message in the Jupyter Notebook or JupyterLab Notebook, it may mean\n",
       "  that the widgets JavaScript is still loading. If this message persists, it\n",
       "  likely means that the widgets JavaScript library is either not installed or\n",
       "  not enabled. See the <a href=\"https://ipywidgets.readthedocs.io/en/stable/user_install.html\">Jupyter\n",
       "  Widgets Documentation</a> for setup instructions.\n",
       "</p>\n",
       "<p>\n",
       "  If you're reading this message in another frontend (for example, a static\n",
       "  rendering on GitHub or <a href=\"https://nbviewer.jupyter.org/\">NBViewer</a>),\n",
       "  it may mean that your frontend doesn't currently support widgets.\n",
       "</p>\n"
      ],
      "text/plain": [
       "interactive(children=(FloatSlider(value=1.0, description=u'shape1', max=3.0), FloatSlider(value=2.0, description=u'scale1', max=4.0), FloatSlider(value=1.0, description=u'shape2', max=3.0), FloatSlider(value=2.0, description=u'scale2', max=4.0), Output()), _dom_classes=('widget-interact',))"
      ]
     },
     "metadata": {},
     "output_type": "display_data"
    }
   ],
   "source": [
    "def plot_scale_prior(shape1, scale1, shape2, scale2):\n",
    "    f, axs = plt.subplots(1, 3, figsize=(16, 8))\n",
    "    \n",
    "    gamma1 = gamma(shape1, scale=scale1)\n",
    "    shape3 = gamma1.mean()\n",
    "    x = np.arange(0, 7, .01, dtype=np.float64)\n",
    "    axs[0].plot(x, gamma1.pdf(x))\n",
    "    \n",
    "    gamma2 = gamma(shape2, scale=scale2)\n",
    "    scale3 = gamma2.mean()\n",
    "    x = np.arange(0, 7, .01, dtype=np.float64)\n",
    "    axs[1].plot(x, gamma2.pdf(x))\n",
    "    \n",
    "    gamma3 = gamma(shape3, scale=scale3)\n",
    "    x = np.arange(0, 7, .01, dtype=np.float64)\n",
    "    axs[2].plot(x, gamma3.pdf(x))\n",
    "    plt.show()\n",
    "\n",
    "interact(plot_scale_prior, shape1=(0, 3, .1), scale1=(0, 4, .1), \n",
    "         shape2=(0, 3, .1), scale2=(0, 4, .1));"
   ]
  },
  {
   "cell_type": "markdown",
   "metadata": {},
   "source": [
    "Shape prior"
   ]
  },
  {
   "cell_type": "code",
   "execution_count": 48,
   "metadata": {
    "ExecuteTime": {
     "end_time": "2017-12-17T03:04:15.578740Z",
     "start_time": "2017-12-17T03:04:14.956135Z"
    }
   },
   "outputs": [
    {
     "data": {
      "application/vnd.jupyter.widget-view+json": {
       "model_id": "79f591b3b7a04d4aadc783ca4ef7093a",
       "version_major": 2,
       "version_minor": 0
      },
      "text/html": [
       "<p>Failed to display Jupyter Widget of type <code>interactive</code>.</p>\n",
       "<p>\n",
       "  If you're reading this message in the Jupyter Notebook or JupyterLab Notebook, it may mean\n",
       "  that the widgets JavaScript is still loading. If this message persists, it\n",
       "  likely means that the widgets JavaScript library is either not installed or\n",
       "  not enabled. See the <a href=\"https://ipywidgets.readthedocs.io/en/stable/user_install.html\">Jupyter\n",
       "  Widgets Documentation</a> for setup instructions.\n",
       "</p>\n",
       "<p>\n",
       "  If you're reading this message in another frontend (for example, a static\n",
       "  rendering on GitHub or <a href=\"https://nbviewer.jupyter.org/\">NBViewer</a>),\n",
       "  it may mean that your frontend doesn't currently support widgets.\n",
       "</p>\n"
      ],
      "text/plain": [
       "interactive(children=(FloatSlider(value=1.0, description=u'shape1', max=3.0), FloatSlider(value=2.0, description=u'scale1', max=4.0, step=0.01), FloatSlider(value=1.0, description=u'shape2', max=3.0), FloatSlider(value=2.0, description=u'scale2', max=4.0, step=0.01), Output()), _dom_classes=('widget-interact',))"
      ]
     },
     "metadata": {},
     "output_type": "display_data"
    }
   ],
   "source": [
    "def plot_shape_prior(shape1, scale1, shape2, scale2):\n",
    "    f, axs = plt.subplots(1, 3, figsize=(16, 8))\n",
    "    \n",
    "    gamma1 = gamma(shape1, scale=scale1)\n",
    "    shape3 = gamma1.mean()\n",
    "    x = np.arange(0, 7, .01, dtype=np.float64)\n",
    "    axs[0].plot(x, gamma1.pdf(x))\n",
    "    \n",
    "    gamma2 = gamma(shape2, scale=scale2)\n",
    "    scale3 = gamma2.mean()\n",
    "    x = np.arange(0, 7, .01, dtype=np.float64)\n",
    "    axs[1].plot(x, gamma2.pdf(x))\n",
    "    \n",
    "    gamma3 = gamma(shape3, scale=scale3)\n",
    "    x = np.arange(0, 7, .01, dtype=np.float64)\n",
    "    axs[2].plot(x, gamma3.pdf(x))\n",
    "    plt.show()\n",
    "\n",
    "interact(plot_shape_prior, shape1=(0, 3, .1), scale1=(0, 4, .01), \n",
    "         shape2=(0, 3, .1), scale2=(0, 4, .01));"
   ]
  },
  {
   "cell_type": "markdown",
   "metadata": {},
   "source": [
    "## Hierarchical Model Fitting "
   ]
  },
  {
   "cell_type": "markdown",
   "metadata": {},
   "source": [
    "### Prep Data"
   ]
  },
  {
   "cell_type": "code",
   "execution_count": 3,
   "metadata": {
    "ExecuteTime": {
     "end_time": "2017-12-17T18:10:53.406288Z",
     "start_time": "2017-12-17T18:10:53.388313Z"
    },
    "collapsed": true
   },
   "outputs": [],
   "source": [
    "ns = len(data.participant_id.unique())\n",
    "ll = data.participant_id.astype('category').cat.codes + 1\n",
    "rt = data.response_time\n",
    "tt = data.trial_type.astype('category').cat.codes\n",
    "\n",
    "min_rts = np.array(data.groupby(['participant_id', 'trial_type']).response_time.min())\n",
    "min_rt_i = min_rts[1::2]\n",
    "min_rt_c = min_rts[::2]\n",
    "\n",
    "data_in = {'Ns': ns, 'll': ll, 'Nt': len(rt), 'rt': rt, 'tt': tt, \n",
    "           'min_rt_i': min_rt_i, 'min_rt_c': min_rt_c}"
   ]
  },
  {
   "cell_type": "markdown",
   "metadata": {},
   "source": [
    "### Compile & Fit Model"
   ]
  },
  {
   "cell_type": "code",
   "execution_count": 4,
   "metadata": {
    "ExecuteTime": {
     "end_time": "2017-12-17T18:11:44.327060Z",
     "start_time": "2017-12-17T18:11:00.989044Z"
    },
    "scrolled": false
   },
   "outputs": [
    {
     "name": "stderr",
     "output_type": "stream",
     "text": [
      "INFO:pystan:COMPILING THE C++ CODE FOR MODEL weibull_hierarchical_8ced4885fd3a5093d70202d34ed6ffdc NOW.\n"
     ]
    }
   ],
   "source": [
    "model = pystan.StanModel(file='../stan_models/weibull_hierarchical_additive.stan',\n",
    "                         model_name='weibull_hierarchical')"
   ]
  },
  {
   "cell_type": "code",
   "execution_count": 5,
   "metadata": {
    "ExecuteTime": {
     "end_time": "2017-12-17T18:13:47.311820Z",
     "start_time": "2017-12-17T18:11:44.498610Z"
    },
    "collapsed": true
   },
   "outputs": [],
   "source": [
    "init_dict = {'scale_hyp1': 2, 'scale_hyp2': 0.5, 'shape_hyp1': 2, 'shape_hyp2': 0.5,\n",
    "             'scale_base': [.2] * len(subjects), \n",
    "             'shape_base': [2] * len(subjects),\n",
    "             'scale_group_beta': 0.1, 'scale_beta': [0.1] * len(subjects),\n",
    "             'shape_group_beta': 0.1, 'shape_beta': [0.1] * len(subjects),\n",
    "             'shift_base_i': [0.1] * len(subjects), 'shift_base_c': [0.1] * len(subjects)}\n",
    "mapp = model.optimizing(data=data_in, seed=5, init=init_dict)"
   ]
  },
  {
   "cell_type": "code",
   "execution_count": 6,
   "metadata": {
    "ExecuteTime": {
     "end_time": "2017-12-17T19:18:27.510796Z",
     "start_time": "2017-12-17T18:13:47.501228Z"
    },
    "collapsed": true
   },
   "outputs": [],
   "source": [
    "init_dict = {'scale_hyp1': 2, 'scale_hyp2': 0.5, 'shape_hyp1': 2, 'shape_hyp2': 0.5,\n",
    "             'scale_base': [.2] * len(subjects), \n",
    "             'shape_base': [2] * len(subjects),\n",
    "             'scale_group_beta': 0.1, 'scale_beta': [0.1] * len(subjects),\n",
    "             'shape_group_beta': 0.1, 'shape_beta': [0.1] * len(subjects),\n",
    "             'shift_base_i': [0.1] * len(subjects), 'shift_base_c': [0.1] * len(subjects)}\n",
    "fit = model.sampling(data=data_in, iter=100, init=[init_dict] * 4, seed=10)"
   ]
  },
  {
   "cell_type": "code",
   "execution_count": 10,
   "metadata": {
    "ExecuteTime": {
     "end_time": "2017-12-17T20:39:38.399221Z",
     "start_time": "2017-12-17T20:39:06.014200Z"
    }
   },
   "outputs": [
    {
     "name": "stderr",
     "output_type": "stream",
     "text": [
      "/Users/matt/anaconda3/envs/msit/lib/python2.7/pickle.py:306: UserWarning: Pickling fit objects is an experimental feature!\n",
      "The relevant StanModel instance must be pickled along with this fit object.\n",
      "When unpickling the StanModel must be unpickled first.\n",
      "  rv = reduce(self.proto)\n"
     ]
    }
   ],
   "source": [
    "model_fit = {'model': model, 'mapp': mapp, 'fit': fit}\n",
    "pickle.dump(model_fit, open('../stan_models/weibull_hierarchical.pkl', 'w'))"
   ]
  },
  {
   "cell_type": "markdown",
   "metadata": {},
   "source": [
    "### Plot the Posteriors"
   ]
  },
  {
   "cell_type": "code",
   "execution_count": null,
   "metadata": {
    "ExecuteTime": {
     "start_time": "2017-12-17T20:43:58.210Z"
    },
    "scrolled": false
   },
   "outputs": [
    {
     "data": {
      "application/vnd.jupyter.widget-view+json": {
       "model_id": "bae9170b6d0b4548a9ef5432e3813cc3",
       "version_major": 2,
       "version_minor": 0
      },
      "text/html": [
       "<p>Failed to display Jupyter Widget of type <code>interactive</code>.</p>\n",
       "<p>\n",
       "  If you're reading this message in the Jupyter Notebook or JupyterLab Notebook, it may mean\n",
       "  that the widgets JavaScript is still loading. If this message persists, it\n",
       "  likely means that the widgets JavaScript library is either not installed or\n",
       "  not enabled. See the <a href=\"https://ipywidgets.readthedocs.io/en/stable/user_install.html\">Jupyter\n",
       "  Widgets Documentation</a> for setup instructions.\n",
       "</p>\n",
       "<p>\n",
       "  If you're reading this message in another frontend (for example, a static\n",
       "  rendering on GitHub or <a href=\"https://nbviewer.jupyter.org/\">NBViewer</a>),\n",
       "  it may mean that your frontend doesn't currently support widgets.\n",
       "</p>\n"
      ],
      "text/plain": [
       "interactive(children=(Dropdown(description=u'param', options=('scale_group_beta', 'shape_hyp1', 'shape_hyp2', 'scale_beta', 'scale_base', 'shift_base_c', 'shape_group_beta', 'shift_base_i', 'shape_beta', 'shape_base', 'scale_hyp2', 'scale_hyp1'), value='scale_group_beta'), Output()), _dom_classes=('widget-interact',))"
      ]
     },
     "metadata": {},
     "output_type": "display_data"
    },
    {
     "data": {
      "text/plain": [
       "<function __main__.plot_posterior>"
      ]
     },
     "execution_count": 16,
     "metadata": {},
     "output_type": "execute_result"
    }
   ],
   "source": [
    "def plot_posterior(param):\n",
    "    \n",
    "    f, axs = plt.subplots(1, 2, figsize=(16, 8))\n",
    "    \n",
    "    samples = fit.extract(pars=[param])\n",
    "    samples = samples[param]\n",
    "    print(samples.shape)\n",
    "    if len(samples.shape) > 1:\n",
    "        nd = samples.shape[1]\n",
    "        for j in range(nd):\n",
    "            sns.distplot(samples[:, j], ax=axs[0])\n",
    "    else:\n",
    "        sns.distplot(samples, ax=axs[0])\n",
    "\n",
    "    axs[0].set_title('%s Density' % param)\n",
    "\n",
    "    axs[1].plot(samples)\n",
    "    axs[1].set_title('%s Traceplot' % param)\n",
    "        \n",
    "    plt.show()\n",
    "interact(plot_posterior, param=init_dict.keys())"
   ]
  },
  {
   "cell_type": "markdown",
   "metadata": {},
   "source": [
    "### Plot the MAP Fits"
   ]
  },
  {
   "cell_type": "code",
   "execution_count": 18,
   "metadata": {
    "ExecuteTime": {
     "end_time": "2017-12-17T17:59:32.133784Z",
     "start_time": "2017-12-17T17:59:31.679207Z"
    }
   },
   "outputs": [
    {
     "data": {
      "application/vnd.jupyter.widget-view+json": {
       "model_id": "2e11992c33004e258a59064835b15c55",
       "version_major": 2,
       "version_minor": 0
      },
      "text/html": [
       "<p>Failed to display Jupyter Widget of type <code>interactive</code>.</p>\n",
       "<p>\n",
       "  If you're reading this message in the Jupyter Notebook or JupyterLab Notebook, it may mean\n",
       "  that the widgets JavaScript is still loading. If this message persists, it\n",
       "  likely means that the widgets JavaScript library is either not installed or\n",
       "  not enabled. See the <a href=\"https://ipywidgets.readthedocs.io/en/stable/user_install.html\">Jupyter\n",
       "  Widgets Documentation</a> for setup instructions.\n",
       "</p>\n",
       "<p>\n",
       "  If you're reading this message in another frontend (for example, a static\n",
       "  rendering on GitHub or <a href=\"https://nbviewer.jupyter.org/\">NBViewer</a>),\n",
       "  it may mean that your frontend doesn't currently support widgets.\n",
       "</p>\n"
      ],
      "text/plain": [
       "interactive(children=(Dropdown(description=u'subject', options=('sub-hc001', 'sub-hc002', 'sub-hc003', 'sub-hc004', 'sub-hc005', 'sub-hc006', 'sub-hc007', 'sub-hc008', 'sub-hc009', 'sub-hc010', 'sub-hc011', 'sub-hc012', 'sub-hc013', 'sub-hc014', 'sub-hc015', 'sub-hc016', 'sub-hc017', 'sub-hc018', 'sub-hc019', 'sub-hc020', 'sub-hc021', 'sub-hc022', 'sub-hc023', 'sub-hc024', 'sub-hc025', 'sub-hc026', 'sub-hc027', 'sub-hc028', 'sub-hc029', 'sub-hc030', 'sub-hc031', 'sub-hc032', 'sub-hc033', 'sub-hc034', 'sub-hc035', 'sub-hc036', 'sub-hc037', 'sub-hc042', 'sub-hc044', 'sub-hc045', 'sub-pp001', 'sub-pp002', 'sub-pp003', 'sub-pp004', 'sub-pp005', 'sub-pp006', 'sub-pp007', 'sub-pp008', 'sub-pp009', 'sub-pp010', 'sub-pp011', 'sub-pp012', 'sub-pp013', 'sub-pp014', 'sub-pp015', 'sub-pp016', 'sub-hc038', 'sub-hc041', 'sub-hc047'), value='sub-hc001'), Output()), _dom_classes=('widget-interact',))"
      ]
     },
     "metadata": {},
     "output_type": "display_data"
    }
   ],
   "source": [
    "def plot_subject_fit(subject):\n",
    "    plt.close('all')\n",
    "    f, ax = plt.subplots(1, 1, figsize=(16, 8))\n",
    "    colors = ['#e41a1c', '#377eb8']\n",
    "    conditions = ['congruent', 'incongruent']\n",
    "    sub_ix = subjects.index(subject)\n",
    "    sub_data = data[data.participant_id == subject]\n",
    "    \n",
    "    for i, c in enumerate(conditions):\n",
    "        \n",
    "        if c == 'congruent':\n",
    "            shape = mapp['shape_base'][sub_ix]\n",
    "            scale = mapp['scale_base'][sub_ix]\n",
    "            shift = mapp['shift_base_c'][sub_ix] * min_rt_c[sub_ix]\n",
    "        else:\n",
    "            shape = mapp['shape_base'][sub_ix] + mapp['shape_beta'][sub_ix]\n",
    "            scale = mapp['scale_base'][sub_ix] + mapp['scale_beta'][sub_ix]\n",
    "            shift = mapp['shift_base_i'][sub_ix] * min_rt_i[sub_ix]\n",
    "            \n",
    "            \n",
    "        rt = sub_data[sub_data.trial_type == c].response_time\n",
    "        x = np.arange(shift, 1.75, .01)\n",
    "        sns.distplot(rt, color=colors[i], ax=ax, kde=False, \n",
    "                     norm_hist=True)\n",
    "            \n",
    "        plt.plot(x, weibull(x, shape, scale, shift), color=colors[i])\n",
    "    \n",
    "    plt.legend(conditions)\n",
    "    plt.xlim((0, 1.75))\n",
    "    plt.ylim((0, 4))\n",
    "    plt.show()\n",
    "    \n",
    "interact(plot_subject_fit, subject=subjects);"
   ]
  },
  {
   "cell_type": "code",
   "execution_count": 62,
   "metadata": {
    "ExecuteTime": {
     "end_time": "2017-12-17T08:47:39.500382Z",
     "start_time": "2017-12-17T08:47:39.464333Z"
    }
   },
   "outputs": [
    {
     "data": {
      "application/vnd.jupyter.widget-view+json": {
       "model_id": "6109352a96b648ba982add47e9da2a5a",
       "version_major": 2,
       "version_minor": 0
      },
      "text/html": [
       "<p>Failed to display Jupyter Widget of type <code>interactive</code>.</p>\n",
       "<p>\n",
       "  If you're reading this message in the Jupyter Notebook or JupyterLab Notebook, it may mean\n",
       "  that the widgets JavaScript is still loading. If this message persists, it\n",
       "  likely means that the widgets JavaScript library is either not installed or\n",
       "  not enabled. See the <a href=\"https://ipywidgets.readthedocs.io/en/stable/user_install.html\">Jupyter\n",
       "  Widgets Documentation</a> for setup instructions.\n",
       "</p>\n",
       "<p>\n",
       "  If you're reading this message in another frontend (for example, a static\n",
       "  rendering on GitHub or <a href=\"https://nbviewer.jupyter.org/\">NBViewer</a>),\n",
       "  it may mean that your frontend doesn't currently support widgets.\n",
       "</p>\n"
      ],
      "text/plain": [
       "interactive(children=(Dropdown(description=u'param', options=(u'scale_hyp1', u'scale_hyp2', u'shape_hyp1', u'shape_hyp2', u'scale_group_beta', u'shape_group_beta', u'shift_base', u'scale_base', u'scale_beta', u'shape_base', u'shape_beta', u'shape', u'scale', u'shift'), value=u'scale_hyp1'), Output()), _dom_classes=('widget-interact',))"
      ]
     },
     "metadata": {},
     "output_type": "display_data"
    }
   ],
   "source": [
    "def plot_map_dist(param):\n",
    "    plt.close('all')\n",
    "    values = mapp[param]\n",
    "    if values.shape:\n",
    "        values = np.unique(values)\n",
    "        f, ax = plt.subplots(1, 1, figsize=(16, 8))\n",
    "        sns.distplot(values)\n",
    "        plt.xlabel(param)\n",
    "        plt.show()\n",
    "    else:\n",
    "        print(values)\n",
    "\n",
    "interact(plot_map_dist, param=mapp.keys());"
   ]
  },
  {
   "cell_type": "code",
   "execution_count": null,
   "metadata": {
    "collapsed": true
   },
   "outputs": [],
   "source": []
  }
 ],
 "metadata": {
  "kernelspec": {
   "display_name": "Python 2",
   "language": "python",
   "name": "python2"
  },
  "language_info": {
   "codemirror_mode": {
    "name": "ipython",
    "version": 2
   },
   "file_extension": ".py",
   "mimetype": "text/x-python",
   "name": "python",
   "nbconvert_exporter": "python",
   "pygments_lexer": "ipython2",
   "version": "2.7.13"
  },
  "toc": {
   "colors": {
    "hover_highlight": "#DAA520",
    "navigate_num": "#000000",
    "navigate_text": "#333333",
    "running_highlight": "#FF0000",
    "selected_highlight": "#FFD700",
    "sidebar_border": "#EEEEEE",
    "wrapper_background": "#FFFFFF"
   },
   "moveMenuLeft": true,
   "nav_menu": {
    "height": "102px",
    "width": "252px"
   },
   "navigate_menu": true,
   "number_sections": true,
   "sideBar": true,
   "threshold": 4,
   "toc_cell": false,
   "toc_position": {
    "height": "696px",
    "left": "0px",
    "right": "1162px",
    "top": "107px",
    "width": "278px"
   },
   "toc_section_display": "block",
   "toc_window_display": true,
   "widenNotebook": false
  },
  "varInspector": {
   "cols": {
    "lenName": 16,
    "lenType": 16,
    "lenVar": 40
   },
   "kernels_config": {
    "python": {
     "delete_cmd_postfix": "",
     "delete_cmd_prefix": "del ",
     "library": "var_list.py",
     "varRefreshCmd": "print(var_dic_list())"
    },
    "r": {
     "delete_cmd_postfix": ") ",
     "delete_cmd_prefix": "rm(",
     "library": "var_list.r",
     "varRefreshCmd": "cat(var_dic_list()) "
    }
   },
   "types_to_exclude": [
    "module",
    "function",
    "builtin_function_or_method",
    "instance",
    "_Feature"
   ],
   "window_display": false
  }
 },
 "nbformat": 4,
 "nbformat_minor": 2
}
