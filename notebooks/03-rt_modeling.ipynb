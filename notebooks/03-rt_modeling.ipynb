{
 "cells": [
  {
   "cell_type": "markdown",
   "metadata": {},
   "source": [
    "# Initialization"
   ]
  },
  {
   "cell_type": "code",
   "execution_count": 7,
   "metadata": {
    "ExecuteTime": {
     "end_time": "2017-12-26T09:55:51.930964Z",
     "start_time": "2017-12-26T09:55:51.815614Z"
    }
   },
   "outputs": [
    {
     "name": "stdout",
     "output_type": "stream",
     "text": [
      "The autoreload extension is already loaded. To reload it, use:\n",
      "  %reload_ext autoreload\n",
      "['sub-hc001', 'sub-hc002', 'sub-hc003', 'sub-hc004', 'sub-hc005', 'sub-hc006', 'sub-hc007', 'sub-hc008', 'sub-hc009', 'sub-hc010', 'sub-hc011', 'sub-hc012', 'sub-hc013', 'sub-hc014', 'sub-hc015', 'sub-hc016', 'sub-hc017', 'sub-hc018', 'sub-hc019', 'sub-hc020', 'sub-hc021', 'sub-hc022', 'sub-hc023', 'sub-hc024', 'sub-hc025', 'sub-hc026', 'sub-hc027', 'sub-hc028', 'sub-hc029', 'sub-hc030', 'sub-hc031', 'sub-hc032', 'sub-hc033', 'sub-hc034', 'sub-hc035', 'sub-hc036', 'sub-hc037', 'sub-hc038', 'sub-hc041', 'sub-hc042', 'sub-hc044', 'sub-hc045', 'sub-hc047', 'sub-pp001', 'sub-pp002', 'sub-pp003', 'sub-pp004', 'sub-pp005', 'sub-pp006', 'sub-pp007', 'sub-pp008', 'sub-pp009', 'sub-pp010', 'sub-pp011', 'sub-pp012', 'sub-pp013', 'sub-pp014', 'sub-pp015', 'sub-pp016']\n"
     ]
    }
   ],
   "source": [
    "# add custom functions to path\n",
    "import sys\n",
    "sys.path.append(\"../src\")\n",
    "\n",
    "%load_ext autoreload\n",
    "%autoreload 2\n",
    "\n",
    "import numpy as np\n",
    "import pandas as pd\n",
    "from ipywidgets import interact, fixed\n",
    "import matplotlib.pyplot as plt\n",
    "import seaborn as sns\n",
    "import pystan\n",
    "import pickle\n",
    "from scipy.stats import gamma, norm\n",
    "from stan import fit_model, plot_weibull_subject_fit, plot_map_estimates\n",
    "from stan import plot_posterior\n",
    "\n",
    "# load in behavioral data and clean\n",
    "data = pd.read_csv('../data/derivatives/behavior/group_data.tsv', sep='\\t', \n",
    "                   na_values='n/a')\n",
    "exclusions = ['no_response', 'error', 'post_error', 'fast_rt']\n",
    "data = data[data[exclusions].sum(axis=1) == 0]\n",
    "\n",
    "subjects = sorted(list(data.participant_id.unique()))\n",
    "print(subjects)\n",
    "\n",
    "sns.set(style='whitegrid', font_scale=2)"
   ]
  },
  {
   "cell_type": "markdown",
   "metadata": {},
   "source": [
    "# Weibull Model\n",
    "\n",
    "Main parameters with interpretations from Rouder 2005:\n",
    "- shape: Change in structure of central processing. Such as different overall processing strategy.\n",
    "- scale: Differences in speed of central processing given similar structure.\n",
    "- shift: Differences in peripheral processing (motor, visual, etc.).\n",
    "\n",
    "<img src=\"../models/weibull_hierarchical/weibull_hierarchical.png\">"
   ]
  },
  {
   "cell_type": "code",
   "execution_count": 9,
   "metadata": {
    "ExecuteTime": {
     "end_time": "2017-12-18T16:42:04.888997Z",
     "start_time": "2017-12-18T16:42:04.881321Z"
    },
    "collapsed": true
   },
   "outputs": [],
   "source": [
    "def weibull(x, alpha, sigma, shift):\n",
    "    p1 = (alpha / sigma)\n",
    "    p2 = np.power((x - shift) / sigma, alpha - 1) \n",
    "    p3 = np.exp(-np.power((x - shift) / sigma, alpha))\n",
    "    return p1 * p2 * p3"
   ]
  },
  {
   "cell_type": "markdown",
   "metadata": {},
   "source": [
    "## Weibull Intuition"
   ]
  },
  {
   "cell_type": "code",
   "execution_count": 10,
   "metadata": {
    "ExecuteTime": {
     "end_time": "2017-12-18T16:42:06.817837Z",
     "start_time": "2017-12-18T16:42:06.589287Z"
    }
   },
   "outputs": [
    {
     "data": {
      "application/vnd.jupyter.widget-view+json": {
       "model_id": "d910e61fc9844004b2b5f984137f56ee",
       "version_major": 2,
       "version_minor": 0
      },
      "text/html": [
       "<p>Failed to display Jupyter Widget of type <code>interactive</code>.</p>\n",
       "<p>\n",
       "  If you're reading this message in the Jupyter Notebook or JupyterLab Notebook, it may mean\n",
       "  that the widgets JavaScript is still loading. If this message persists, it\n",
       "  likely means that the widgets JavaScript library is either not installed or\n",
       "  not enabled. See the <a href=\"https://ipywidgets.readthedocs.io/en/stable/user_install.html\">Jupyter\n",
       "  Widgets Documentation</a> for setup instructions.\n",
       "</p>\n",
       "<p>\n",
       "  If you're reading this message in another frontend (for example, a static\n",
       "  rendering on GitHub or <a href=\"https://nbviewer.jupyter.org/\">NBViewer</a>),\n",
       "  it may mean that your frontend doesn't currently support widgets.\n",
       "</p>\n"
      ],
      "text/plain": [
       "interactive(children=(FloatSlider(value=3.0, description=u'shape', max=5.0, min=1.0, step=0.01), FloatSlider(value=1.0, description=u'scale', max=2.0, step=0.01), FloatSlider(value=1.0, description=u'shift', max=2.0, step=0.01), Output()), _dom_classes=('widget-interact',))"
      ]
     },
     "metadata": {},
     "output_type": "display_data"
    }
   ],
   "source": [
    "def plot_weibull(shape, scale, shift):\n",
    "    x = np.arange(shift, 1.75, .001, dtype=np.float64)\n",
    "    plt.plot(x, weibull(x, shape, scale, shift))\n",
    "    plt.xlim((0, 1.75))\n",
    "    plt.show();\n",
    "    \n",
    "interact(plot_weibull, shape=(1, 5, .01), scale=(0, 2, .01), shift=(0, 2, .01));"
   ]
  },
  {
   "cell_type": "markdown",
   "metadata": {},
   "source": [
    "## Prior Intuition & Determination"
   ]
  },
  {
   "cell_type": "markdown",
   "metadata": {},
   "source": [
    "### Build distribution of individual subject MAPs\n",
    "\n",
    "First, we compile the inidividual subject stan model."
   ]
  },
  {
   "cell_type": "code",
   "execution_count": 11,
   "metadata": {
    "ExecuteTime": {
     "end_time": "2017-12-18T16:42:53.580019Z",
     "start_time": "2017-12-18T16:42:10.135873Z"
    }
   },
   "outputs": [
    {
     "name": "stderr",
     "output_type": "stream",
     "text": [
      "INFO:pystan:COMPILING THE C++ CODE FOR MODEL anon_model_8b64186d7c72474f92436047d86f728a NOW.\n"
     ]
    }
   ],
   "source": [
    "model = pystan.StanModel(file='../stan_models/single_subject_non-additive_weibull.stan')"
   ]
  },
  {
   "cell_type": "markdown",
   "metadata": {},
   "source": [
    "Next we gather the map estimates for each subject's shift, scale, and shape parameters split by condition. "
   ]
  },
  {
   "cell_type": "code",
   "execution_count": 13,
   "metadata": {
    "ExecuteTime": {
     "end_time": "2017-12-18T16:43:03.647167Z",
     "start_time": "2017-12-18T16:43:03.118481Z"
    },
    "scrolled": true
   },
   "outputs": [
    {
     "name": "stdout",
     "output_type": "stream",
     "text": [
      "sub-hc001\n",
      "sub-hc002\n",
      "sub-hc003\n",
      "sub-hc004\n",
      "sub-hc005\n",
      "sub-hc006\n",
      "sub-hc007\n",
      "sub-hc008\n",
      "sub-hc009\n",
      "sub-hc010\n",
      "sub-hc011\n",
      "sub-hc012\n",
      "sub-hc013\n",
      "sub-hc014\n",
      "sub-hc015\n",
      "sub-hc016\n",
      "sub-hc017\n",
      "sub-hc018\n",
      "sub-hc019\n",
      "sub-hc020\n",
      "sub-hc021\n",
      "sub-hc022\n",
      "sub-hc023\n",
      "sub-hc024\n",
      "sub-hc025\n",
      "sub-hc026\n",
      "sub-hc027\n",
      "sub-hc028\n",
      "sub-hc029\n",
      "sub-hc030\n",
      "sub-hc031\n",
      "sub-hc032\n",
      "sub-hc033\n",
      "sub-hc034\n",
      "sub-hc035\n",
      "sub-hc036\n",
      "sub-hc037\n",
      "sub-hc042\n",
      "sub-hc044\n",
      "sub-hc045\n",
      "sub-pp001\n",
      "sub-pp002\n",
      "sub-pp003\n",
      "sub-pp004\n",
      "sub-pp005\n",
      "sub-pp006\n",
      "sub-pp007\n",
      "sub-pp008\n",
      "sub-pp009\n",
      "sub-pp010\n",
      "sub-pp011\n",
      "sub-pp012\n",
      "sub-pp013\n",
      "sub-pp014\n",
      "sub-pp015\n",
      "sub-pp016\n",
      "sub-hc038\n",
      "sub-hc041\n",
      "sub-hc047\n",
      "Done!\n"
     ]
    }
   ],
   "source": [
    "maps = []\n",
    "for subject in subjects:\n",
    "    print(subject)\n",
    "    sub_data = data[data.participant_id == subject]\n",
    "    rt_c = sub_data[sub_data.trial_type == 'congruent'].response_time\n",
    "    rt_i = sub_data[sub_data.trial_type == 'incongruent'].response_time\n",
    "    data_in = {'Ni': len(rt_i), 'Nc': len(rt_c), 'rt_c': rt_c, 'rt_i': rt_i}\n",
    "    \n",
    "    op = model.optimizing(data=data_in, seed=8)\n",
    "    maps.append(op)\n",
    "print('Done!')"
   ]
  },
  {
   "cell_type": "markdown",
   "metadata": {},
   "source": [
    "Next, we sift through the map distribution fits to each subject's data as a sanity check of how well we can fit."
   ]
  },
  {
   "cell_type": "code",
   "execution_count": 14,
   "metadata": {
    "ExecuteTime": {
     "end_time": "2017-12-18T16:43:07.589715Z",
     "start_time": "2017-12-18T16:43:07.166399Z"
    }
   },
   "outputs": [
    {
     "data": {
      "application/vnd.jupyter.widget-view+json": {
       "model_id": "27d4378796b64d1db55bef76807619a5",
       "version_major": 2,
       "version_minor": 0
      },
      "text/html": [
       "<p>Failed to display Jupyter Widget of type <code>interactive</code>.</p>\n",
       "<p>\n",
       "  If you're reading this message in the Jupyter Notebook or JupyterLab Notebook, it may mean\n",
       "  that the widgets JavaScript is still loading. If this message persists, it\n",
       "  likely means that the widgets JavaScript library is either not installed or\n",
       "  not enabled. See the <a href=\"https://ipywidgets.readthedocs.io/en/stable/user_install.html\">Jupyter\n",
       "  Widgets Documentation</a> for setup instructions.\n",
       "</p>\n",
       "<p>\n",
       "  If you're reading this message in another frontend (for example, a static\n",
       "  rendering on GitHub or <a href=\"https://nbviewer.jupyter.org/\">NBViewer</a>),\n",
       "  it may mean that your frontend doesn't currently support widgets.\n",
       "</p>\n"
      ],
      "text/plain": [
       "interactive(children=(Dropdown(description=u'subject', options=('sub-hc001', 'sub-hc002', 'sub-hc003', 'sub-hc004', 'sub-hc005', 'sub-hc006', 'sub-hc007', 'sub-hc008', 'sub-hc009', 'sub-hc010', 'sub-hc011', 'sub-hc012', 'sub-hc013', 'sub-hc014', 'sub-hc015', 'sub-hc016', 'sub-hc017', 'sub-hc018', 'sub-hc019', 'sub-hc020', 'sub-hc021', 'sub-hc022', 'sub-hc023', 'sub-hc024', 'sub-hc025', 'sub-hc026', 'sub-hc027', 'sub-hc028', 'sub-hc029', 'sub-hc030', 'sub-hc031', 'sub-hc032', 'sub-hc033', 'sub-hc034', 'sub-hc035', 'sub-hc036', 'sub-hc037', 'sub-hc042', 'sub-hc044', 'sub-hc045', 'sub-pp001', 'sub-pp002', 'sub-pp003', 'sub-pp004', 'sub-pp005', 'sub-pp006', 'sub-pp007', 'sub-pp008', 'sub-pp009', 'sub-pp010', 'sub-pp011', 'sub-pp012', 'sub-pp013', 'sub-pp014', 'sub-pp015', 'sub-pp016', 'sub-hc038', 'sub-hc041', 'sub-hc047'), value='sub-hc001'), Output()), _dom_classes=('widget-interact',))"
      ]
     },
     "metadata": {},
     "output_type": "display_data"
    }
   ],
   "source": [
    "def plot_subject_fit(subject):\n",
    "    f, ax = plt.subplots(1, 1, figsize=(16, 8))\n",
    "    colors = ['#e41a1c', '#377eb8']\n",
    "    conditions = ['incongruent', 'congruent']\n",
    "    sub_ix = subjects.index(subject)\n",
    "    mapp = maps[sub_ix]\n",
    "    sub_data = data[data.participant_id == subject]\n",
    "    \n",
    "    for i, c in enumerate(conditions):\n",
    "        rt = sub_data[sub_data.trial_type == c].response_time\n",
    "        x = np.arange(mapp['shift_%s' % c[0]], 1.75, .01)\n",
    "        sns.distplot(rt, color=colors[i], ax=ax, kde=False, \n",
    "                     norm_hist=True)\n",
    "        plt.plot(x, weibull(x, mapp['shape_%s' % c[0]], \n",
    "                            mapp['scale_%s' % c[0]], \n",
    "                            mapp['shift_%s' % c[0]]), color=colors[i])\n",
    "    \n",
    "    plt.legend(conditions)\n",
    "    plt.xlim((0, 1.75))\n",
    "    plt.ylim((0, 4))\n",
    "    plt.show()\n",
    "    \n",
    "interact(plot_subject_fit, subject=subjects);"
   ]
  },
  {
   "cell_type": "markdown",
   "metadata": {},
   "source": [
    "Finally, we look at the parameter map distributions to get a sense of reasonable range of expected parameters."
   ]
  },
  {
   "cell_type": "code",
   "execution_count": 18,
   "metadata": {
    "ExecuteTime": {
     "end_time": "2017-12-18T16:44:40.343761Z",
     "start_time": "2017-12-18T16:44:39.919479Z"
    }
   },
   "outputs": [
    {
     "data": {
      "application/vnd.jupyter.widget-view+json": {
       "model_id": "df5cc150c7204c75bf91b10533a4f388",
       "version_major": 2,
       "version_minor": 0
      },
      "text/html": [
       "<p>Failed to display Jupyter Widget of type <code>interactive</code>.</p>\n",
       "<p>\n",
       "  If you're reading this message in the Jupyter Notebook or JupyterLab Notebook, it may mean\n",
       "  that the widgets JavaScript is still loading. If this message persists, it\n",
       "  likely means that the widgets JavaScript library is either not installed or\n",
       "  not enabled. See the <a href=\"https://ipywidgets.readthedocs.io/en/stable/user_install.html\">Jupyter\n",
       "  Widgets Documentation</a> for setup instructions.\n",
       "</p>\n",
       "<p>\n",
       "  If you're reading this message in another frontend (for example, a static\n",
       "  rendering on GitHub or <a href=\"https://nbviewer.jupyter.org/\">NBViewer</a>),\n",
       "  it may mean that your frontend doesn't currently support widgets.\n",
       "</p>\n"
      ],
      "text/plain": [
       "interactive(children=(Dropdown(description=u'param', options=('shift', 'scale', 'shape'), value='shift'), Output()), _dom_classes=('widget-interact',))"
      ]
     },
     "metadata": {},
     "output_type": "display_data"
    }
   ],
   "source": [
    "def plot_map_dist(param):\n",
    "    f, ax = plt.subplots(1, 1, figsize=(16, 8))\n",
    "    colors = ['#e41a1c', '#377eb8']\n",
    "    conditions = ['incongruent', 'congruent']\n",
    "    for i, c in enumerate(conditions):\n",
    "        values = [m['%s_%s' % (param, c[0])] for m in maps]\n",
    "        sns.distplot(values, color=colors[i], bins=20)\n",
    "    plt.legend(conditions)\n",
    "    plt.xlabel(param)\n",
    "    plt.show()\n",
    "\n",
    "interact(plot_map_dist, param=['shift', 'scale', 'shape']);"
   ]
  },
  {
   "cell_type": "markdown",
   "metadata": {},
   "source": [
    "### Visualizing Prior Distribution\n",
    "\n",
    "For the hiearchical model, we are not going to model each condition with a separate distribution. Instead, we will do a regression approach.\n",
    "\n",
    "First we, look at the priors for the scale parameter."
   ]
  },
  {
   "cell_type": "code",
   "execution_count": 19,
   "metadata": {
    "ExecuteTime": {
     "end_time": "2017-12-18T16:45:05.779693Z",
     "start_time": "2017-12-18T16:45:05.249255Z"
    }
   },
   "outputs": [
    {
     "data": {
      "application/vnd.jupyter.widget-view+json": {
       "model_id": "b4c23c216ed34ab8b93daee7e595ce72",
       "version_major": 2,
       "version_minor": 0
      },
      "text/html": [
       "<p>Failed to display Jupyter Widget of type <code>interactive</code>.</p>\n",
       "<p>\n",
       "  If you're reading this message in the Jupyter Notebook or JupyterLab Notebook, it may mean\n",
       "  that the widgets JavaScript is still loading. If this message persists, it\n",
       "  likely means that the widgets JavaScript library is either not installed or\n",
       "  not enabled. See the <a href=\"https://ipywidgets.readthedocs.io/en/stable/user_install.html\">Jupyter\n",
       "  Widgets Documentation</a> for setup instructions.\n",
       "</p>\n",
       "<p>\n",
       "  If you're reading this message in another frontend (for example, a static\n",
       "  rendering on GitHub or <a href=\"https://nbviewer.jupyter.org/\">NBViewer</a>),\n",
       "  it may mean that your frontend doesn't currently support widgets.\n",
       "</p>\n"
      ],
      "text/plain": [
       "interactive(children=(FloatSlider(value=1.0, description=u'shape1', max=3.0), FloatSlider(value=2.0, description=u'scale1', max=4.0), FloatSlider(value=1.0, description=u'shape2', max=3.0), FloatSlider(value=2.0, description=u'scale2', max=4.0), Output()), _dom_classes=('widget-interact',))"
      ]
     },
     "metadata": {},
     "output_type": "display_data"
    }
   ],
   "source": [
    "def plot_scale_prior(shape1, scale1, shape2, scale2):\n",
    "    f, axs = plt.subplots(1, 3, figsize=(16, 8))\n",
    "    \n",
    "    gamma1 = gamma(shape1, scale=scale1)\n",
    "    shape3 = gamma1.mean()\n",
    "    x = np.arange(0, 7, .01, dtype=np.float64)\n",
    "    axs[0].plot(x, gamma1.pdf(x))\n",
    "    \n",
    "    gamma2 = gamma(shape2, scale=scale2)\n",
    "    scale3 = gamma2.mean()\n",
    "    x = np.arange(0, 7, .01, dtype=np.float64)\n",
    "    axs[1].plot(x, gamma2.pdf(x))\n",
    "    \n",
    "    gamma3 = gamma(shape3, scale=scale3)\n",
    "    x = np.arange(0, 7, .01, dtype=np.float64)\n",
    "    axs[2].plot(x, gamma3.pdf(x))\n",
    "    plt.show()\n",
    "\n",
    "interact(plot_scale_prior, shape1=(0, 3, .1), scale1=(0, 4, .1), \n",
    "         shape2=(0, 3, .1), scale2=(0, 4, .1));"
   ]
  },
  {
   "cell_type": "markdown",
   "metadata": {},
   "source": [
    "Shape prior"
   ]
  },
  {
   "cell_type": "code",
   "execution_count": 7,
   "metadata": {
    "ExecuteTime": {
     "end_time": "2017-12-18T16:20:12.373203Z",
     "start_time": "2017-12-18T16:20:11.770941Z"
    }
   },
   "outputs": [
    {
     "data": {
      "application/vnd.jupyter.widget-view+json": {
       "model_id": "9a5994de13854d77971b5c84bc394edb",
       "version_major": 2,
       "version_minor": 0
      },
      "text/html": [
       "<p>Failed to display Jupyter Widget of type <code>interactive</code>.</p>\n",
       "<p>\n",
       "  If you're reading this message in the Jupyter Notebook or JupyterLab Notebook, it may mean\n",
       "  that the widgets JavaScript is still loading. If this message persists, it\n",
       "  likely means that the widgets JavaScript library is either not installed or\n",
       "  not enabled. See the <a href=\"https://ipywidgets.readthedocs.io/en/stable/user_install.html\">Jupyter\n",
       "  Widgets Documentation</a> for setup instructions.\n",
       "</p>\n",
       "<p>\n",
       "  If you're reading this message in another frontend (for example, a static\n",
       "  rendering on GitHub or <a href=\"https://nbviewer.jupyter.org/\">NBViewer</a>),\n",
       "  it may mean that your frontend doesn't currently support widgets.\n",
       "</p>\n"
      ],
      "text/plain": [
       "interactive(children=(FloatSlider(value=1.0, description=u'shape1', max=3.0), FloatSlider(value=2.0, description=u'scale1', max=4.0, step=0.01), FloatSlider(value=1.0, description=u'shape2', max=3.0), FloatSlider(value=2.0, description=u'scale2', max=4.0, step=0.01), Output()), _dom_classes=('widget-interact',))"
      ]
     },
     "metadata": {},
     "output_type": "display_data"
    }
   ],
   "source": [
    "def plot_shape_prior(shape1, scale1, shape2, scale2):\n",
    "    f, axs = plt.subplots(1, 3, figsize=(16, 8))\n",
    "    \n",
    "    gamma1 = gamma(shape1, scale=scale1)\n",
    "    shape3 = gamma1.mean()\n",
    "    x = np.arange(0, 7, .01, dtype=np.float64)\n",
    "    axs[0].plot(x, gamma1.pdf(x))\n",
    "    \n",
    "    gamma2 = gamma(shape2, scale=scale2)\n",
    "    scale3 = gamma2.mean()\n",
    "    x = np.arange(0, 7, .01, dtype=np.float64)\n",
    "    axs[1].plot(x, gamma2.pdf(x))\n",
    "    \n",
    "    gamma3 = gamma(shape3, scale=scale3)\n",
    "    x = np.arange(0, 7, .01, dtype=np.float64)\n",
    "    axs[2].plot(x, gamma3.pdf(x))\n",
    "    plt.show()\n",
    "\n",
    "interact(plot_shape_prior, shape1=(0, 3, .1), scale1=(0, 4, .01), \n",
    "         shape2=(0, 3, .1), scale2=(0, 4, .01));"
   ]
  },
  {
   "cell_type": "markdown",
   "metadata": {},
   "source": [
    "## Hierarchical Model Fitting "
   ]
  },
  {
   "cell_type": "markdown",
   "metadata": {},
   "source": [
    "### Prepare Data"
   ]
  },
  {
   "cell_type": "code",
   "execution_count": 2,
   "metadata": {
    "ExecuteTime": {
     "end_time": "2017-12-26T08:11:00.684815Z",
     "start_time": "2017-12-26T08:11:00.642888Z"
    },
    "collapsed": true
   },
   "outputs": [],
   "source": [
    "ns = len(data.participant_id.unique())\n",
    "ll = data.participant_id.astype('category').cat.codes + 1\n",
    "rt = data.response_time\n",
    "tt = data.trial_type.astype('category').cat.codes\n",
    "\n",
    "min_rts = np.array(data.groupby(['participant_id', 'trial_type']).response_time.min())\n",
    "min_rt_i = min_rts[1::2]\n",
    "min_rt_c = min_rts[::2]\n",
    "        \n",
    "data_in = {'Ns': ns, 'll': ll, 'Nt': len(rt), 'rt': rt, 'tt': tt, \n",
    "           'min_rt_i': min_rt_i, 'min_rt_c': min_rt_c}"
   ]
  },
  {
   "cell_type": "markdown",
   "metadata": {},
   "source": [
    "### Compile & Fit Model"
   ]
  },
  {
   "cell_type": "code",
   "execution_count": 3,
   "metadata": {
    "ExecuteTime": {
     "end_time": "2017-12-26T09:21:13.983713Z",
     "start_time": "2017-12-26T08:11:03.174160Z"
    }
   },
   "outputs": [
    {
     "name": "stderr",
     "output_type": "stream",
     "text": [
      "INFO:pystan:COMPILING THE C++ CODE FOR MODEL weibull_hierarchical_4cc0713bf9a173743a2ab57a55c24b69 NOW.\n"
     ]
    },
    {
     "name": "stdout",
     "output_type": "stream",
     "text": [
      "Starting Model Fit...\n",
      "Compiling Model...\n",
      "Compiling took 0 min. 38 sec.\n",
      "Computing MAP Estimates...\n",
      "Finding MAP estimates took 0 min. 39 sec.\n",
      "Sampling from Posterior...\n",
      "Drawing 100 Posterior Samples took 68 min. 20 sec.\n",
      "Extracting Samples...\n",
      "Extracting samples took 0 min. 0 sec.\n",
      "Extracting Fit Summary...\n",
      "Extracting fit summary took 0 min. 31 sec.\n",
      "Pickling Model Fit...\n",
      "Pickling model fit took 0 min. 0 sec.\n",
      "Total Time: took 70 min. 10 sec.\n",
      "Finished\n"
     ]
    }
   ],
   "source": [
    "init_dict = {'k_beta0_scale': 2, 'theta_beta0_scale': 0.5, 'k_beta0_shape': 2, \n",
    "             'theta_beta0_shape': 0.5, 'beta0_scale': [.2] * len(subjects), \n",
    "             'beta0_shape': [2] * len(subjects),\n",
    "             'mu_beta1_scale': 0.2, 'beta1_scale': [0.1] * len(subjects), 'sigma_beta1_scale': 1,\n",
    "             'mu_beta1_shape': 0.2, 'beta1_shape': [0.5] * len(subjects), 'sigma_beta1_shape': 1}\n",
    "keep_params = init_dict.keys() + ['beta0_shift', 'beta1_shift']\n",
    "model_fit = fit_model('weibull_hierarchical', data_in, n_iter=100, n_chains=3,\n",
    "                      init=init_dict, seed=7, keep_params=keep_params)"
   ]
  },
  {
   "cell_type": "markdown",
   "metadata": {},
   "source": [
    "### Plot Results"
   ]
  },
  {
   "cell_type": "code",
   "execution_count": 3,
   "metadata": {
    "ExecuteTime": {
     "end_time": "2017-12-25T13:59:02.721591Z",
     "start_time": "2017-12-25T13:59:02.586655Z"
    }
   },
   "outputs": [],
   "source": [
    "model_fit = pickle.load(open('../models/weibull_hierarchical/weibull_hierarchical.pkl', 'r'))"
   ]
  },
  {
   "cell_type": "markdown",
   "metadata": {},
   "source": [
    "#### Plot the Posteriors"
   ]
  },
  {
   "cell_type": "code",
   "execution_count": 8,
   "metadata": {
    "ExecuteTime": {
     "end_time": "2017-12-26T09:55:59.301872Z",
     "start_time": "2017-12-26T09:55:58.458176Z"
    }
   },
   "outputs": [
    {
     "data": {
      "application/vnd.jupyter.widget-view+json": {
       "model_id": "66ebb92e08cf4f899167e6b0daf7f65c",
       "version_major": 2,
       "version_minor": 0
      },
      "text/html": [
       "<p>Failed to display Jupyter Widget of type <code>interactive</code>.</p>\n",
       "<p>\n",
       "  If you're reading this message in the Jupyter Notebook or JupyterLab Notebook, it may mean\n",
       "  that the widgets JavaScript is still loading. If this message persists, it\n",
       "  likely means that the widgets JavaScript library is either not installed or\n",
       "  not enabled. See the <a href=\"https://ipywidgets.readthedocs.io/en/stable/user_install.html\">Jupyter\n",
       "  Widgets Documentation</a> for setup instructions.\n",
       "</p>\n",
       "<p>\n",
       "  If you're reading this message in another frontend (for example, a static\n",
       "  rendering on GitHub or <a href=\"https://nbviewer.jupyter.org/\">NBViewer</a>),\n",
       "  it may mean that your frontend doesn't currently support widgets.\n",
       "</p>\n"
      ],
      "text/plain": [
       "interactive(children=(Dropdown(description=u'param', options=(u'k_beta0_scale', u'theta_beta0_scale', u'mu_beta1_scale', u'sigma_beta1_scale', u'k_beta0_shape', u'theta_beta0_shape', u'mu_beta1_shape', u'sigma_beta1_shape', u'beta_con_shift', u'beta_inc_shift', u'beta0_scale', u'beta1_scale', u'beta0_shape', u'beta1_shape', u'shape', u'scale', u'shift', u'beta1_shift', u'beta0_shift'), value=u'k_beta0_scale'), Dropdown(description=u'subject', options=('sub-hc001', 'sub-hc002', 'sub-hc003', 'sub-hc004', 'sub-hc005', 'sub-hc006', 'sub-hc007', 'sub-hc008', 'sub-hc009', 'sub-hc010', 'sub-hc011', 'sub-hc012', 'sub-hc013', 'sub-hc014', 'sub-hc015', 'sub-hc016', 'sub-hc017', 'sub-hc018', 'sub-hc019', 'sub-hc020', 'sub-hc021', 'sub-hc022', 'sub-hc023', 'sub-hc024', 'sub-hc025', 'sub-hc026', 'sub-hc027', 'sub-hc028', 'sub-hc029', 'sub-hc030', 'sub-hc031', 'sub-hc032', 'sub-hc033', 'sub-hc034', 'sub-hc035', 'sub-hc036', 'sub-hc037', 'sub-hc038', 'sub-hc041', 'sub-hc042', 'sub-hc044', 'sub-hc045', 'sub-hc047', 'sub-pp001', 'sub-pp002', 'sub-pp003', 'sub-pp004', 'sub-pp005', 'sub-pp006', 'sub-pp007', 'sub-pp008', 'sub-pp009', 'sub-pp010', 'sub-pp011', 'sub-pp012', 'sub-pp013', 'sub-pp014', 'sub-pp015', 'sub-pp016'), value='sub-hc001'), Output()), _dom_classes=('widget-interact',))"
      ]
     },
     "metadata": {},
     "output_type": "display_data"
    }
   ],
   "source": [
    "interact(plot_posterior, param=model_fit['map'].keys(), model_fit=fixed(model_fit),\n",
    "         subject=subjects, subjects=fixed(subjects));"
   ]
  },
  {
   "cell_type": "markdown",
   "metadata": {},
   "source": [
    "#### Plot the MAP Fits"
   ]
  },
  {
   "cell_type": "code",
   "execution_count": 10,
   "metadata": {
    "ExecuteTime": {
     "end_time": "2017-12-25T15:24:53.499208Z",
     "start_time": "2017-12-25T15:24:53.058408Z"
    }
   },
   "outputs": [
    {
     "data": {
      "application/vnd.jupyter.widget-view+json": {
       "model_id": "eae50c495bb344248a0a0f191aaa1d9d",
       "version_major": 2,
       "version_minor": 0
      },
      "text/html": [
       "<p>Failed to display Jupyter Widget of type <code>interactive</code>.</p>\n",
       "<p>\n",
       "  If you're reading this message in the Jupyter Notebook or JupyterLab Notebook, it may mean\n",
       "  that the widgets JavaScript is still loading. If this message persists, it\n",
       "  likely means that the widgets JavaScript library is either not installed or\n",
       "  not enabled. See the <a href=\"https://ipywidgets.readthedocs.io/en/stable/user_install.html\">Jupyter\n",
       "  Widgets Documentation</a> for setup instructions.\n",
       "</p>\n",
       "<p>\n",
       "  If you're reading this message in another frontend (for example, a static\n",
       "  rendering on GitHub or <a href=\"https://nbviewer.jupyter.org/\">NBViewer</a>),\n",
       "  it may mean that your frontend doesn't currently support widgets.\n",
       "</p>\n"
      ],
      "text/plain": [
       "interactive(children=(Dropdown(description=u'subject', options=('sub-hc001', 'sub-hc002', 'sub-hc003', 'sub-hc004', 'sub-hc005', 'sub-hc006', 'sub-hc007', 'sub-hc008', 'sub-hc009', 'sub-hc010', 'sub-hc011', 'sub-hc012', 'sub-hc013', 'sub-hc014', 'sub-hc015', 'sub-hc016', 'sub-hc017', 'sub-hc018', 'sub-hc019', 'sub-hc020', 'sub-hc021', 'sub-hc022', 'sub-hc023', 'sub-hc024', 'sub-hc025', 'sub-hc026', 'sub-hc027', 'sub-hc028', 'sub-hc029', 'sub-hc030', 'sub-hc031', 'sub-hc032', 'sub-hc033', 'sub-hc034', 'sub-hc035', 'sub-hc036', 'sub-hc037', 'sub-hc038', 'sub-hc041', 'sub-hc042', 'sub-hc044', 'sub-hc045', 'sub-hc047', 'sub-pp001', 'sub-pp002', 'sub-pp003', 'sub-pp004', 'sub-pp005', 'sub-pp006', 'sub-pp007', 'sub-pp008', 'sub-pp009', 'sub-pp010', 'sub-pp011', 'sub-pp012', 'sub-pp013', 'sub-pp014', 'sub-pp015', 'sub-pp016'), value='sub-hc001'), Output()), _dom_classes=('widget-interact',))"
      ]
     },
     "metadata": {},
     "output_type": "display_data"
    }
   ],
   "source": [
    "interact(plot_weibull_subject_fit, model_fit=fixed(model_fit), \n",
    "         behavior=fixed(data), subject=subjects, subjects=fixed(subjects));"
   ]
  }
 ],
 "metadata": {
  "kernelspec": {
   "display_name": "Python 2",
   "language": "python",
   "name": "python2"
  },
  "toc": {
   "colors": {
    "hover_highlight": "#DAA520",
    "navigate_num": "#000000",
    "navigate_text": "#333333",
    "running_highlight": "#FF0000",
    "selected_highlight": "#FFD700",
    "sidebar_border": "#EEEEEE",
    "wrapper_background": "#FFFFFF"
   },
   "moveMenuLeft": true,
   "nav_menu": {
    "height": "102px",
    "width": "252px"
   },
   "navigate_menu": true,
   "number_sections": true,
   "sideBar": true,
   "skip_h1_title": false,
   "threshold": 4,
   "toc_cell": false,
   "toc_position": {
    "height": "748px",
    "left": "0px",
    "right": "1162px",
    "top": "106px",
    "width": "278px"
   },
   "toc_section_display": "block",
   "toc_window_display": true,
   "widenNotebook": false
  },
  "varInspector": {
   "cols": {
    "lenName": 16,
    "lenType": 16,
    "lenVar": 40
   },
   "kernels_config": {
    "python": {
     "delete_cmd_postfix": "",
     "delete_cmd_prefix": "del ",
     "library": "var_list.py",
     "varRefreshCmd": "print(var_dic_list())"
    },
    "r": {
     "delete_cmd_postfix": ") ",
     "delete_cmd_prefix": "rm(",
     "library": "var_list.r",
     "varRefreshCmd": "cat(var_dic_list()) "
    }
   },
   "types_to_exclude": [
    "module",
    "function",
    "builtin_function_or_method",
    "instance",
    "_Feature"
   ],
   "window_display": false
  }
 },
 "nbformat": 4,
 "nbformat_minor": 2
}
