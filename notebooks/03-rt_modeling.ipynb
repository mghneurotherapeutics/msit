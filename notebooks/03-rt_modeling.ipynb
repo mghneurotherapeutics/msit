{
 "cells": [
  {
   "cell_type": "markdown",
   "metadata": {},
   "source": [
    "# Initialization"
   ]
  },
  {
   "cell_type": "code",
   "execution_count": 8,
   "metadata": {
    "ExecuteTime": {
     "end_time": "2017-12-18T16:42:03.456195Z",
     "start_time": "2017-12-18T16:42:03.363648Z"
    },
    "collapsed": true
   },
   "outputs": [],
   "source": [
    "import numpy as np\n",
    "import pandas as pd\n",
    "from ipywidgets import interact\n",
    "import matplotlib.pyplot as plt\n",
    "import seaborn as sns\n",
    "import pystan\n",
    "import pickle\n",
    "from scipy.stats import gamma, norm\n",
    "\n",
    "# load in behavioral data and clean\n",
    "data = pd.read_csv('../data/derivatives/behavior/group_data.tsv', sep='\\t', \n",
    "                   na_values='n/a')\n",
    "exclusions = ['no_response', 'error', 'post_error', 'fast_rt']\n",
    "data = data[data[exclusions].sum(axis=1) == 0]\n",
    "\n",
    "subjects = list(data.participant_id.unique())\n",
    "\n",
    "sns.set(style='whitegrid', font_scale=2)"
   ]
  },
  {
   "cell_type": "markdown",
   "metadata": {},
   "source": [
    "# Weibull Models"
   ]
  },
  {
   "cell_type": "code",
   "execution_count": 9,
   "metadata": {
    "ExecuteTime": {
     "end_time": "2017-12-18T16:42:04.888997Z",
     "start_time": "2017-12-18T16:42:04.881321Z"
    },
    "collapsed": true
   },
   "outputs": [],
   "source": [
    "def weibull(x, alpha, sigma, shift):\n",
    "    p1 = (alpha / sigma)\n",
    "    p2 = np.power((x - shift) / sigma, alpha - 1) \n",
    "    p3 = np.exp(-np.power((x - shift) / sigma, alpha))\n",
    "    return p1 * p2 * p3"
   ]
  },
  {
   "cell_type": "markdown",
   "metadata": {},
   "source": [
    "## Weibull Intuition"
   ]
  },
  {
   "cell_type": "code",
   "execution_count": 10,
   "metadata": {
    "ExecuteTime": {
     "end_time": "2017-12-18T16:42:06.817837Z",
     "start_time": "2017-12-18T16:42:06.589287Z"
    }
   },
   "outputs": [
    {
     "data": {
      "application/vnd.jupyter.widget-view+json": {
       "model_id": "d910e61fc9844004b2b5f984137f56ee",
       "version_major": 2,
       "version_minor": 0
      },
      "text/html": [
       "<p>Failed to display Jupyter Widget of type <code>interactive</code>.</p>\n",
       "<p>\n",
       "  If you're reading this message in the Jupyter Notebook or JupyterLab Notebook, it may mean\n",
       "  that the widgets JavaScript is still loading. If this message persists, it\n",
       "  likely means that the widgets JavaScript library is either not installed or\n",
       "  not enabled. See the <a href=\"https://ipywidgets.readthedocs.io/en/stable/user_install.html\">Jupyter\n",
       "  Widgets Documentation</a> for setup instructions.\n",
       "</p>\n",
       "<p>\n",
       "  If you're reading this message in another frontend (for example, a static\n",
       "  rendering on GitHub or <a href=\"https://nbviewer.jupyter.org/\">NBViewer</a>),\n",
       "  it may mean that your frontend doesn't currently support widgets.\n",
       "</p>\n"
      ],
      "text/plain": [
       "interactive(children=(FloatSlider(value=3.0, description=u'shape', max=5.0, min=1.0, step=0.01), FloatSlider(value=1.0, description=u'scale', max=2.0, step=0.01), FloatSlider(value=1.0, description=u'shift', max=2.0, step=0.01), Output()), _dom_classes=('widget-interact',))"
      ]
     },
     "metadata": {},
     "output_type": "display_data"
    }
   ],
   "source": [
    "def plot_weibull(shape, scale, shift):\n",
    "    x = np.arange(shift, 1.75, .001, dtype=np.float64)\n",
    "    plt.plot(x, weibull(x, shape, scale, shift))\n",
    "    plt.xlim((0, 1.75))\n",
    "    plt.show();\n",
    "    \n",
    "interact(plot_weibull, shape=(1, 5, .01), scale=(0, 2, .01), shift=(0, 2, .01));"
   ]
  },
  {
   "cell_type": "markdown",
   "metadata": {},
   "source": [
    "## Prior Intuition & Determination"
   ]
  },
  {
   "cell_type": "markdown",
   "metadata": {},
   "source": [
    "### Build distribution of individual subject MAPs\n",
    "\n",
    "First, we compile the inidividual subject stan model."
   ]
  },
  {
   "cell_type": "code",
   "execution_count": 11,
   "metadata": {
    "ExecuteTime": {
     "end_time": "2017-12-18T16:42:53.580019Z",
     "start_time": "2017-12-18T16:42:10.135873Z"
    }
   },
   "outputs": [
    {
     "name": "stderr",
     "output_type": "stream",
     "text": [
      "INFO:pystan:COMPILING THE C++ CODE FOR MODEL anon_model_8b64186d7c72474f92436047d86f728a NOW.\n"
     ]
    }
   ],
   "source": [
    "model = pystan.StanModel(file='../stan_models/single_subject_non-additive_weibull.stan')"
   ]
  },
  {
   "cell_type": "markdown",
   "metadata": {},
   "source": [
    "Next we gather the map estimates for each subject's shift, scale, and shape parameters split by condition. "
   ]
  },
  {
   "cell_type": "code",
   "execution_count": 13,
   "metadata": {
    "ExecuteTime": {
     "end_time": "2017-12-18T16:43:03.647167Z",
     "start_time": "2017-12-18T16:43:03.118481Z"
    },
    "scrolled": true
   },
   "outputs": [
    {
     "name": "stdout",
     "output_type": "stream",
     "text": [
      "sub-hc001\n",
      "sub-hc002\n",
      "sub-hc003\n",
      "sub-hc004\n",
      "sub-hc005\n",
      "sub-hc006\n",
      "sub-hc007\n",
      "sub-hc008\n",
      "sub-hc009\n",
      "sub-hc010\n",
      "sub-hc011\n",
      "sub-hc012\n",
      "sub-hc013\n",
      "sub-hc014\n",
      "sub-hc015\n",
      "sub-hc016\n",
      "sub-hc017\n",
      "sub-hc018\n",
      "sub-hc019\n",
      "sub-hc020\n",
      "sub-hc021\n",
      "sub-hc022\n",
      "sub-hc023\n",
      "sub-hc024\n",
      "sub-hc025\n",
      "sub-hc026\n",
      "sub-hc027\n",
      "sub-hc028\n",
      "sub-hc029\n",
      "sub-hc030\n",
      "sub-hc031\n",
      "sub-hc032\n",
      "sub-hc033\n",
      "sub-hc034\n",
      "sub-hc035\n",
      "sub-hc036\n",
      "sub-hc037\n",
      "sub-hc042\n",
      "sub-hc044\n",
      "sub-hc045\n",
      "sub-pp001\n",
      "sub-pp002\n",
      "sub-pp003\n",
      "sub-pp004\n",
      "sub-pp005\n",
      "sub-pp006\n",
      "sub-pp007\n",
      "sub-pp008\n",
      "sub-pp009\n",
      "sub-pp010\n",
      "sub-pp011\n",
      "sub-pp012\n",
      "sub-pp013\n",
      "sub-pp014\n",
      "sub-pp015\n",
      "sub-pp016\n",
      "sub-hc038\n",
      "sub-hc041\n",
      "sub-hc047\n",
      "Done!\n"
     ]
    }
   ],
   "source": [
    "maps = []\n",
    "for subject in subjects:\n",
    "    print(subject)\n",
    "    sub_data = data[data.participant_id == subject]\n",
    "    rt_c = sub_data[sub_data.trial_type == 'congruent'].response_time\n",
    "    rt_i = sub_data[sub_data.trial_type == 'incongruent'].response_time\n",
    "    data_in = {'Ni': len(rt_i), 'Nc': len(rt_c), 'rt_c': rt_c, 'rt_i': rt_i}\n",
    "    \n",
    "    op = model.optimizing(data=data_in, seed=8)\n",
    "    maps.append(op)\n",
    "print('Done!')"
   ]
  },
  {
   "cell_type": "markdown",
   "metadata": {},
   "source": [
    "Next, we sift through the map distribution fits to each subject's data as a sanity check of how well we can fit."
   ]
  },
  {
   "cell_type": "code",
   "execution_count": 14,
   "metadata": {
    "ExecuteTime": {
     "end_time": "2017-12-18T16:43:07.589715Z",
     "start_time": "2017-12-18T16:43:07.166399Z"
    }
   },
   "outputs": [
    {
     "data": {
      "application/vnd.jupyter.widget-view+json": {
       "model_id": "27d4378796b64d1db55bef76807619a5",
       "version_major": 2,
       "version_minor": 0
      },
      "text/html": [
       "<p>Failed to display Jupyter Widget of type <code>interactive</code>.</p>\n",
       "<p>\n",
       "  If you're reading this message in the Jupyter Notebook or JupyterLab Notebook, it may mean\n",
       "  that the widgets JavaScript is still loading. If this message persists, it\n",
       "  likely means that the widgets JavaScript library is either not installed or\n",
       "  not enabled. See the <a href=\"https://ipywidgets.readthedocs.io/en/stable/user_install.html\">Jupyter\n",
       "  Widgets Documentation</a> for setup instructions.\n",
       "</p>\n",
       "<p>\n",
       "  If you're reading this message in another frontend (for example, a static\n",
       "  rendering on GitHub or <a href=\"https://nbviewer.jupyter.org/\">NBViewer</a>),\n",
       "  it may mean that your frontend doesn't currently support widgets.\n",
       "</p>\n"
      ],
      "text/plain": [
       "interactive(children=(Dropdown(description=u'subject', options=('sub-hc001', 'sub-hc002', 'sub-hc003', 'sub-hc004', 'sub-hc005', 'sub-hc006', 'sub-hc007', 'sub-hc008', 'sub-hc009', 'sub-hc010', 'sub-hc011', 'sub-hc012', 'sub-hc013', 'sub-hc014', 'sub-hc015', 'sub-hc016', 'sub-hc017', 'sub-hc018', 'sub-hc019', 'sub-hc020', 'sub-hc021', 'sub-hc022', 'sub-hc023', 'sub-hc024', 'sub-hc025', 'sub-hc026', 'sub-hc027', 'sub-hc028', 'sub-hc029', 'sub-hc030', 'sub-hc031', 'sub-hc032', 'sub-hc033', 'sub-hc034', 'sub-hc035', 'sub-hc036', 'sub-hc037', 'sub-hc042', 'sub-hc044', 'sub-hc045', 'sub-pp001', 'sub-pp002', 'sub-pp003', 'sub-pp004', 'sub-pp005', 'sub-pp006', 'sub-pp007', 'sub-pp008', 'sub-pp009', 'sub-pp010', 'sub-pp011', 'sub-pp012', 'sub-pp013', 'sub-pp014', 'sub-pp015', 'sub-pp016', 'sub-hc038', 'sub-hc041', 'sub-hc047'), value='sub-hc001'), Output()), _dom_classes=('widget-interact',))"
      ]
     },
     "metadata": {},
     "output_type": "display_data"
    }
   ],
   "source": [
    "def plot_subject_fit(subject):\n",
    "    f, ax = plt.subplots(1, 1, figsize=(16, 8))\n",
    "    colors = ['#e41a1c', '#377eb8']\n",
    "    conditions = ['incongruent', 'congruent']\n",
    "    sub_ix = subjects.index(subject)\n",
    "    mapp = maps[sub_ix]\n",
    "    sub_data = data[data.participant_id == subject]\n",
    "    \n",
    "    for i, c in enumerate(conditions):\n",
    "        rt = sub_data[sub_data.trial_type == c].response_time\n",
    "        x = np.arange(mapp['shift_%s' % c[0]], 1.75, .01)\n",
    "        sns.distplot(rt, color=colors[i], ax=ax, kde=False, \n",
    "                     norm_hist=True)\n",
    "        plt.plot(x, weibull(x, mapp['shape_%s' % c[0]], \n",
    "                            mapp['scale_%s' % c[0]], \n",
    "                            mapp['shift_%s' % c[0]]), color=colors[i])\n",
    "    \n",
    "    plt.legend(conditions)\n",
    "    plt.xlim((0, 1.75))\n",
    "    plt.ylim((0, 4))\n",
    "    plt.show()\n",
    "    \n",
    "interact(plot_subject_fit, subject=subjects);"
   ]
  },
  {
   "cell_type": "markdown",
   "metadata": {},
   "source": [
    "Finally, we look at the parameter map distributions to get a sense of reasonable range of expected parameters."
   ]
  },
  {
   "cell_type": "code",
   "execution_count": 18,
   "metadata": {
    "ExecuteTime": {
     "end_time": "2017-12-18T16:44:40.343761Z",
     "start_time": "2017-12-18T16:44:39.919479Z"
    }
   },
   "outputs": [
    {
     "data": {
      "application/vnd.jupyter.widget-view+json": {
       "model_id": "df5cc150c7204c75bf91b10533a4f388",
       "version_major": 2,
       "version_minor": 0
      },
      "text/html": [
       "<p>Failed to display Jupyter Widget of type <code>interactive</code>.</p>\n",
       "<p>\n",
       "  If you're reading this message in the Jupyter Notebook or JupyterLab Notebook, it may mean\n",
       "  that the widgets JavaScript is still loading. If this message persists, it\n",
       "  likely means that the widgets JavaScript library is either not installed or\n",
       "  not enabled. See the <a href=\"https://ipywidgets.readthedocs.io/en/stable/user_install.html\">Jupyter\n",
       "  Widgets Documentation</a> for setup instructions.\n",
       "</p>\n",
       "<p>\n",
       "  If you're reading this message in another frontend (for example, a static\n",
       "  rendering on GitHub or <a href=\"https://nbviewer.jupyter.org/\">NBViewer</a>),\n",
       "  it may mean that your frontend doesn't currently support widgets.\n",
       "</p>\n"
      ],
      "text/plain": [
       "interactive(children=(Dropdown(description=u'param', options=('shift', 'scale', 'shape'), value='shift'), Output()), _dom_classes=('widget-interact',))"
      ]
     },
     "metadata": {},
     "output_type": "display_data"
    }
   ],
   "source": [
    "def plot_map_dist(param):\n",
    "    f, ax = plt.subplots(1, 1, figsize=(16, 8))\n",
    "    colors = ['#e41a1c', '#377eb8']\n",
    "    conditions = ['incongruent', 'congruent']\n",
    "    for i, c in enumerate(conditions):\n",
    "        values = [m['%s_%s' % (param, c[0])] for m in maps]\n",
    "        sns.distplot(values, color=colors[i], bins=20)\n",
    "    plt.legend(conditions)\n",
    "    plt.xlabel(param)\n",
    "    plt.show()\n",
    "\n",
    "interact(plot_map_dist, param=['shift', 'scale', 'shape']);"
   ]
  },
  {
   "cell_type": "markdown",
   "metadata": {},
   "source": [
    "### Visualizing Prior Distribution\n",
    "\n",
    "For the hiearchical model, we are not going to model each condition with a separate distribution. Instead, we will do a regression approach.\n",
    "\n",
    "First we, look at the priors for the scale parameter."
   ]
  },
  {
   "cell_type": "code",
   "execution_count": 19,
   "metadata": {
    "ExecuteTime": {
     "end_time": "2017-12-18T16:45:05.779693Z",
     "start_time": "2017-12-18T16:45:05.249255Z"
    }
   },
   "outputs": [
    {
     "data": {
      "application/vnd.jupyter.widget-view+json": {
       "model_id": "b4c23c216ed34ab8b93daee7e595ce72",
       "version_major": 2,
       "version_minor": 0
      },
      "text/html": [
       "<p>Failed to display Jupyter Widget of type <code>interactive</code>.</p>\n",
       "<p>\n",
       "  If you're reading this message in the Jupyter Notebook or JupyterLab Notebook, it may mean\n",
       "  that the widgets JavaScript is still loading. If this message persists, it\n",
       "  likely means that the widgets JavaScript library is either not installed or\n",
       "  not enabled. See the <a href=\"https://ipywidgets.readthedocs.io/en/stable/user_install.html\">Jupyter\n",
       "  Widgets Documentation</a> for setup instructions.\n",
       "</p>\n",
       "<p>\n",
       "  If you're reading this message in another frontend (for example, a static\n",
       "  rendering on GitHub or <a href=\"https://nbviewer.jupyter.org/\">NBViewer</a>),\n",
       "  it may mean that your frontend doesn't currently support widgets.\n",
       "</p>\n"
      ],
      "text/plain": [
       "interactive(children=(FloatSlider(value=1.0, description=u'shape1', max=3.0), FloatSlider(value=2.0, description=u'scale1', max=4.0), FloatSlider(value=1.0, description=u'shape2', max=3.0), FloatSlider(value=2.0, description=u'scale2', max=4.0), Output()), _dom_classes=('widget-interact',))"
      ]
     },
     "metadata": {},
     "output_type": "display_data"
    }
   ],
   "source": [
    "def plot_scale_prior(shape1, scale1, shape2, scale2):\n",
    "    f, axs = plt.subplots(1, 3, figsize=(16, 8))\n",
    "    \n",
    "    gamma1 = gamma(shape1, scale=scale1)\n",
    "    shape3 = gamma1.mean()\n",
    "    x = np.arange(0, 7, .01, dtype=np.float64)\n",
    "    axs[0].plot(x, gamma1.pdf(x))\n",
    "    \n",
    "    gamma2 = gamma(shape2, scale=scale2)\n",
    "    scale3 = gamma2.mean()\n",
    "    x = np.arange(0, 7, .01, dtype=np.float64)\n",
    "    axs[1].plot(x, gamma2.pdf(x))\n",
    "    \n",
    "    gamma3 = gamma(shape3, scale=scale3)\n",
    "    x = np.arange(0, 7, .01, dtype=np.float64)\n",
    "    axs[2].plot(x, gamma3.pdf(x))\n",
    "    plt.show()\n",
    "\n",
    "interact(plot_scale_prior, shape1=(0, 3, .1), scale1=(0, 4, .1), \n",
    "         shape2=(0, 3, .1), scale2=(0, 4, .1));"
   ]
  },
  {
   "cell_type": "markdown",
   "metadata": {},
   "source": [
    "Shape prior"
   ]
  },
  {
   "cell_type": "code",
   "execution_count": 7,
   "metadata": {
    "ExecuteTime": {
     "end_time": "2017-12-18T16:20:12.373203Z",
     "start_time": "2017-12-18T16:20:11.770941Z"
    }
   },
   "outputs": [
    {
     "data": {
      "application/vnd.jupyter.widget-view+json": {
       "model_id": "9a5994de13854d77971b5c84bc394edb",
       "version_major": 2,
       "version_minor": 0
      },
      "text/html": [
       "<p>Failed to display Jupyter Widget of type <code>interactive</code>.</p>\n",
       "<p>\n",
       "  If you're reading this message in the Jupyter Notebook or JupyterLab Notebook, it may mean\n",
       "  that the widgets JavaScript is still loading. If this message persists, it\n",
       "  likely means that the widgets JavaScript library is either not installed or\n",
       "  not enabled. See the <a href=\"https://ipywidgets.readthedocs.io/en/stable/user_install.html\">Jupyter\n",
       "  Widgets Documentation</a> for setup instructions.\n",
       "</p>\n",
       "<p>\n",
       "  If you're reading this message in another frontend (for example, a static\n",
       "  rendering on GitHub or <a href=\"https://nbviewer.jupyter.org/\">NBViewer</a>),\n",
       "  it may mean that your frontend doesn't currently support widgets.\n",
       "</p>\n"
      ],
      "text/plain": [
       "interactive(children=(FloatSlider(value=1.0, description=u'shape1', max=3.0), FloatSlider(value=2.0, description=u'scale1', max=4.0, step=0.01), FloatSlider(value=1.0, description=u'shape2', max=3.0), FloatSlider(value=2.0, description=u'scale2', max=4.0, step=0.01), Output()), _dom_classes=('widget-interact',))"
      ]
     },
     "metadata": {},
     "output_type": "display_data"
    }
   ],
   "source": [
    "def plot_shape_prior(shape1, scale1, shape2, scale2):\n",
    "    f, axs = plt.subplots(1, 3, figsize=(16, 8))\n",
    "    \n",
    "    gamma1 = gamma(shape1, scale=scale1)\n",
    "    shape3 = gamma1.mean()\n",
    "    x = np.arange(0, 7, .01, dtype=np.float64)\n",
    "    axs[0].plot(x, gamma1.pdf(x))\n",
    "    \n",
    "    gamma2 = gamma(shape2, scale=scale2)\n",
    "    scale3 = gamma2.mean()\n",
    "    x = np.arange(0, 7, .01, dtype=np.float64)\n",
    "    axs[1].plot(x, gamma2.pdf(x))\n",
    "    \n",
    "    gamma3 = gamma(shape3, scale=scale3)\n",
    "    x = np.arange(0, 7, .01, dtype=np.float64)\n",
    "    axs[2].plot(x, gamma3.pdf(x))\n",
    "    plt.show()\n",
    "\n",
    "interact(plot_shape_prior, shape1=(0, 3, .1), scale1=(0, 4, .01), \n",
    "         shape2=(0, 3, .1), scale2=(0, 4, .01));"
   ]
  },
  {
   "cell_type": "markdown",
   "metadata": {},
   "source": [
    "## Hierarchical Model Fitting "
   ]
  },
  {
   "cell_type": "markdown",
   "metadata": {},
   "source": [
    "### Prep Data"
   ]
  },
  {
   "cell_type": "code",
   "execution_count": 4,
   "metadata": {
    "ExecuteTime": {
     "end_time": "2017-12-18T12:44:24.765111Z",
     "start_time": "2017-12-18T12:44:24.687936Z"
    },
    "collapsed": true
   },
   "outputs": [],
   "source": [
    "ns = len(data.participant_id.unique())\n",
    "ll = data.participant_id.astype('category').cat.codes + 1\n",
    "rt = data.response_time\n",
    "tt = data.trial_type.astype('category').cat.codes\n",
    "\n",
    "min_rts = np.array(data.groupby(['participant_id', 'trial_type']).response_time.min())\n",
    "min_rt_i = min_rts[1::2]\n",
    "min_rt_c = min_rts[::2]\n",
    "\n",
    "data_in = {'Ns': ns, 'll': ll, 'Nt': len(rt), 'rt': rt, 'tt': tt, \n",
    "           'min_rt_i': min_rt_i, 'min_rt_c': min_rt_c}"
   ]
  },
  {
   "cell_type": "markdown",
   "metadata": {},
   "source": [
    "### Compile & Fit Model"
   ]
  },
  {
   "cell_type": "code",
   "execution_count": 5,
   "metadata": {
    "ExecuteTime": {
     "end_time": "2017-12-18T12:45:22.235823Z",
     "start_time": "2017-12-18T12:44:26.280826Z"
    },
    "scrolled": false
   },
   "outputs": [
    {
     "name": "stderr",
     "output_type": "stream",
     "text": [
      "INFO:pystan:COMPILING THE C++ CODE FOR MODEL weibull_hierarchical_8ced4885fd3a5093d70202d34ed6ffdc NOW.\n"
     ]
    }
   ],
   "source": [
    "model = pystan.StanModel(file='../stan_models/weibull_hierarchical_additive.stan',\n",
    "                         model_name='weibull_hierarchical')"
   ]
  },
  {
   "cell_type": "code",
   "execution_count": 6,
   "metadata": {
    "ExecuteTime": {
     "end_time": "2017-12-18T12:50:09.416869Z",
     "start_time": "2017-12-18T12:48:53.270711Z"
    },
    "collapsed": true
   },
   "outputs": [],
   "source": [
    "init_dict = {'scale_hyp1': 2, 'scale_hyp2': 0.5, 'shape_hyp1': 2, 'shape_hyp2': 0.5,\n",
    "             'scale_base': [.2] * len(subjects), \n",
    "             'shape_base': [2] * len(subjects),\n",
    "             'scale_group_beta': 0.1, 'scale_beta': [0.1] * len(subjects),\n",
    "             'shape_group_beta': 0.1, 'shape_beta': [0.1] * len(subjects),\n",
    "             'shift_base_i': [0.1] * len(subjects), 'shift_base_c': [0.1] * len(subjects)}\n",
    "mapp = model.optimizing(data=data_in, seed=5, init=init_dict)"
   ]
  },
  {
   "cell_type": "code",
   "execution_count": null,
   "metadata": {
    "ExecuteTime": {
     "start_time": "2017-12-18T12:54:13.989Z"
    },
    "collapsed": true
   },
   "outputs": [],
   "source": [
    "init_dict = {'scale_hyp1': 2, 'scale_hyp2': 0.5, 'shape_hyp1': 2, 'shape_hyp2': 0.5,\n",
    "             'scale_base': [.2] * len(subjects), \n",
    "             'shape_base': [2] * len(subjects),\n",
    "             'scale_group_beta': 0.1, 'scale_beta': [0.1] * len(subjects),\n",
    "             'shape_group_beta': 0.1, 'shape_beta': [0.1] * len(subjects),\n",
    "             'shift_base_i': [0.1] * len(subjects), 'shift_base_c': [0.1] * len(subjects)}\n",
    "n_chains = 10\n",
    "fit = model.sampling(data=data_in, iter=100, chains=n_chains, \n",
    "                     init=[init_dict] * n_chains, seed=10)"
   ]
  },
  {
   "cell_type": "code",
   "execution_count": null,
   "metadata": {
    "ExecuteTime": {
     "start_time": "2017-12-18T14:32:14.232Z"
    },
    "collapsed": true
   },
   "outputs": [],
   "source": [
    "print('h')"
   ]
  },
  {
   "cell_type": "code",
   "execution_count": 10,
   "metadata": {
    "ExecuteTime": {
     "end_time": "2017-12-17T20:39:38.399221Z",
     "start_time": "2017-12-17T20:39:06.014200Z"
    }
   },
   "outputs": [
    {
     "name": "stderr",
     "output_type": "stream",
     "text": [
      "/Users/matt/anaconda3/envs/msit/lib/python2.7/pickle.py:306: UserWarning: Pickling fit objects is an experimental feature!\n",
      "The relevant StanModel instance must be pickled along with this fit object.\n",
      "When unpickling the StanModel must be unpickled first.\n",
      "  rv = reduce(self.proto)\n"
     ]
    }
   ],
   "source": [
    "model_fit = {'model': model, 'mapp': mapp, 'fit': fit}\n",
    "pickle.dump(model_fit, open('../stan_models/weibull_hierarchical.pkl', 'w'))"
   ]
  },
  {
   "cell_type": "markdown",
   "metadata": {},
   "source": [
    "### Plot the Posteriors"
   ]
  },
  {
   "cell_type": "code",
   "execution_count": null,
   "metadata": {
    "ExecuteTime": {
     "start_time": "2017-12-17T20:43:58.210Z"
    },
    "scrolled": false
   },
   "outputs": [
    {
     "data": {
      "application/vnd.jupyter.widget-view+json": {
       "model_id": "bae9170b6d0b4548a9ef5432e3813cc3",
       "version_major": 2,
       "version_minor": 0
      },
      "text/html": [
       "<p>Failed to display Jupyter Widget of type <code>interactive</code>.</p>\n",
       "<p>\n",
       "  If you're reading this message in the Jupyter Notebook or JupyterLab Notebook, it may mean\n",
       "  that the widgets JavaScript is still loading. If this message persists, it\n",
       "  likely means that the widgets JavaScript library is either not installed or\n",
       "  not enabled. See the <a href=\"https://ipywidgets.readthedocs.io/en/stable/user_install.html\">Jupyter\n",
       "  Widgets Documentation</a> for setup instructions.\n",
       "</p>\n",
       "<p>\n",
       "  If you're reading this message in another frontend (for example, a static\n",
       "  rendering on GitHub or <a href=\"https://nbviewer.jupyter.org/\">NBViewer</a>),\n",
       "  it may mean that your frontend doesn't currently support widgets.\n",
       "</p>\n"
      ],
      "text/plain": [
       "interactive(children=(Dropdown(description=u'param', options=('scale_group_beta', 'shape_hyp1', 'shape_hyp2', 'scale_beta', 'scale_base', 'shift_base_c', 'shape_group_beta', 'shift_base_i', 'shape_beta', 'shape_base', 'scale_hyp2', 'scale_hyp1'), value='scale_group_beta'), Output()), _dom_classes=('widget-interact',))"
      ]
     },
     "metadata": {},
     "output_type": "display_data"
    },
    {
     "data": {
      "text/plain": [
       "<function __main__.plot_posterior>"
      ]
     },
     "execution_count": 16,
     "metadata": {},
     "output_type": "execute_result"
    }
   ],
   "source": [
    "def plot_posterior(param):\n",
    "    \n",
    "    f, axs = plt.subplots(1, 2, figsize=(16, 8))\n",
    "    \n",
    "    samples = fit.extract(pars=[param])\n",
    "    samples = samples[param]\n",
    "    print(samples.shape)\n",
    "    if len(samples.shape) > 1:\n",
    "        nd = samples.shape[1]\n",
    "        for j in range(nd):\n",
    "            f, axs = plt.subplots(1, 2, figsize=(16, 8))\n",
    "            sns.distplot(samples[:, j], ax=axs[0])\n",
    "            axs[0].set_title('%s Density' % param)\n",
    "\n",
    "            axs[1].plot(samples)\n",
    "            axs[1].set_title('%s Traceplot' % param)\n",
    "    else:\n",
    "        sns.distplot(samples, ax=axs[0])\n",
    "\n",
    "        \n",
    "    plt.show()\n",
    "interact(plot_posterior, param=init_dict.keys())"
   ]
  },
  {
   "cell_type": "markdown",
   "metadata": {},
   "source": [
    "### Plot the MAP Fits"
   ]
  },
  {
   "cell_type": "code",
   "execution_count": 18,
   "metadata": {
    "ExecuteTime": {
     "end_time": "2017-12-17T17:59:32.133784Z",
     "start_time": "2017-12-17T17:59:31.679207Z"
    }
   },
   "outputs": [
    {
     "data": {
      "application/vnd.jupyter.widget-view+json": {
       "model_id": "2e11992c33004e258a59064835b15c55",
       "version_major": 2,
       "version_minor": 0
      },
      "text/html": [
       "<p>Failed to display Jupyter Widget of type <code>interactive</code>.</p>\n",
       "<p>\n",
       "  If you're reading this message in the Jupyter Notebook or JupyterLab Notebook, it may mean\n",
       "  that the widgets JavaScript is still loading. If this message persists, it\n",
       "  likely means that the widgets JavaScript library is either not installed or\n",
       "  not enabled. See the <a href=\"https://ipywidgets.readthedocs.io/en/stable/user_install.html\">Jupyter\n",
       "  Widgets Documentation</a> for setup instructions.\n",
       "</p>\n",
       "<p>\n",
       "  If you're reading this message in another frontend (for example, a static\n",
       "  rendering on GitHub or <a href=\"https://nbviewer.jupyter.org/\">NBViewer</a>),\n",
       "  it may mean that your frontend doesn't currently support widgets.\n",
       "</p>\n"
      ],
      "text/plain": [
       "interactive(children=(Dropdown(description=u'subject', options=('sub-hc001', 'sub-hc002', 'sub-hc003', 'sub-hc004', 'sub-hc005', 'sub-hc006', 'sub-hc007', 'sub-hc008', 'sub-hc009', 'sub-hc010', 'sub-hc011', 'sub-hc012', 'sub-hc013', 'sub-hc014', 'sub-hc015', 'sub-hc016', 'sub-hc017', 'sub-hc018', 'sub-hc019', 'sub-hc020', 'sub-hc021', 'sub-hc022', 'sub-hc023', 'sub-hc024', 'sub-hc025', 'sub-hc026', 'sub-hc027', 'sub-hc028', 'sub-hc029', 'sub-hc030', 'sub-hc031', 'sub-hc032', 'sub-hc033', 'sub-hc034', 'sub-hc035', 'sub-hc036', 'sub-hc037', 'sub-hc042', 'sub-hc044', 'sub-hc045', 'sub-pp001', 'sub-pp002', 'sub-pp003', 'sub-pp004', 'sub-pp005', 'sub-pp006', 'sub-pp007', 'sub-pp008', 'sub-pp009', 'sub-pp010', 'sub-pp011', 'sub-pp012', 'sub-pp013', 'sub-pp014', 'sub-pp015', 'sub-pp016', 'sub-hc038', 'sub-hc041', 'sub-hc047'), value='sub-hc001'), Output()), _dom_classes=('widget-interact',))"
      ]
     },
     "metadata": {},
     "output_type": "display_data"
    }
   ],
   "source": [
    "def plot_subject_fit(subject):\n",
    "    plt.close('all')\n",
    "    f, ax = plt.subplots(1, 1, figsize=(16, 8))\n",
    "    colors = ['#e41a1c', '#377eb8']\n",
    "    conditions = ['congruent', 'incongruent']\n",
    "    sub_ix = subjects.index(subject)\n",
    "    sub_data = data[data.participant_id == subject]\n",
    "    \n",
    "    for i, c in enumerate(conditions):\n",
    "        \n",
    "        if c == 'congruent':\n",
    "            shape = mapp['shape_base'][sub_ix]\n",
    "            scale = mapp['scale_base'][sub_ix]\n",
    "            shift = mapp['shift_base_c'][sub_ix] * min_rt_c[sub_ix]\n",
    "        else:\n",
    "            shape = mapp['shape_base'][sub_ix] + mapp['shape_beta'][sub_ix]\n",
    "            scale = mapp['scale_base'][sub_ix] + mapp['scale_beta'][sub_ix]\n",
    "            shift = mapp['shift_base_i'][sub_ix] * min_rt_i[sub_ix]\n",
    "            \n",
    "            \n",
    "        rt = sub_data[sub_data.trial_type == c].response_time\n",
    "        x = np.arange(shift, 1.75, .01)\n",
    "        sns.distplot(rt, color=colors[i], ax=ax, kde=False, \n",
    "                     norm_hist=True)\n",
    "            \n",
    "        plt.plot(x, weibull(x, shape, scale, shift), color=colors[i])\n",
    "    \n",
    "    plt.legend(conditions)\n",
    "    plt.xlim((0, 1.75))\n",
    "    plt.ylim((0, 4))\n",
    "    plt.show()\n",
    "    \n",
    "interact(plot_subject_fit, subject=subjects);"
   ]
  },
  {
   "cell_type": "code",
   "execution_count": 62,
   "metadata": {
    "ExecuteTime": {
     "end_time": "2017-12-17T08:47:39.500382Z",
     "start_time": "2017-12-17T08:47:39.464333Z"
    }
   },
   "outputs": [
    {
     "data": {
      "application/vnd.jupyter.widget-view+json": {
       "model_id": "6109352a96b648ba982add47e9da2a5a",
       "version_major": 2,
       "version_minor": 0
      },
      "text/html": [
       "<p>Failed to display Jupyter Widget of type <code>interactive</code>.</p>\n",
       "<p>\n",
       "  If you're reading this message in the Jupyter Notebook or JupyterLab Notebook, it may mean\n",
       "  that the widgets JavaScript is still loading. If this message persists, it\n",
       "  likely means that the widgets JavaScript library is either not installed or\n",
       "  not enabled. See the <a href=\"https://ipywidgets.readthedocs.io/en/stable/user_install.html\">Jupyter\n",
       "  Widgets Documentation</a> for setup instructions.\n",
       "</p>\n",
       "<p>\n",
       "  If you're reading this message in another frontend (for example, a static\n",
       "  rendering on GitHub or <a href=\"https://nbviewer.jupyter.org/\">NBViewer</a>),\n",
       "  it may mean that your frontend doesn't currently support widgets.\n",
       "</p>\n"
      ],
      "text/plain": [
       "interactive(children=(Dropdown(description=u'param', options=(u'scale_hyp1', u'scale_hyp2', u'shape_hyp1', u'shape_hyp2', u'scale_group_beta', u'shape_group_beta', u'shift_base', u'scale_base', u'scale_beta', u'shape_base', u'shape_beta', u'shape', u'scale', u'shift'), value=u'scale_hyp1'), Output()), _dom_classes=('widget-interact',))"
      ]
     },
     "metadata": {},
     "output_type": "display_data"
    }
   ],
   "source": [
    "def plot_map_dist(param):\n",
    "    plt.close('all')\n",
    "    values = mapp[param]\n",
    "    if values.shape:\n",
    "        values = np.unique(values)\n",
    "        f, ax = plt.subplots(1, 1, figsize=(16, 8))\n",
    "        sns.distplot(values)\n",
    "        plt.xlabel(param)\n",
    "        plt.show()\n",
    "    else:\n",
    "        print(values)\n",
    "\n",
    "interact(plot_map_dist, param=mapp.keys());"
   ]
  },
  {
   "cell_type": "code",
   "execution_count": null,
   "metadata": {
    "collapsed": true
   },
   "outputs": [],
   "source": []
  }
 ],
 "metadata": {
  "kernelspec": {
   "display_name": "Python 2",
   "language": "python",
   "name": "python2"
  },
  "language_info": {
   "codemirror_mode": {
    "name": "ipython",
    "version": 2
   },
   "file_extension": ".py",
   "mimetype": "text/x-python",
   "name": "python",
   "nbconvert_exporter": "python",
   "pygments_lexer": "ipython2",
   "version": "2.7.13"
  },
  "toc": {
   "nav_menu": {
    "height": "102px",
    "width": "252px"
   },
   "number_sections": true,
   "sideBar": true,
   "skip_h1_title": false,
   "toc_cell": false,
   "toc_position": {
    "height": "696px",
    "left": "0px",
    "right": "1162px",
    "top": "107px",
    "width": "278px"
   },
   "toc_section_display": "block",
   "toc_window_display": true
  },
  "varInspector": {
   "cols": {
    "lenName": 16,
    "lenType": 16,
    "lenVar": 40
   },
   "kernels_config": {
    "python": {
     "delete_cmd_postfix": "",
     "delete_cmd_prefix": "del ",
     "library": "var_list.py",
     "varRefreshCmd": "print(var_dic_list())"
    },
    "r": {
     "delete_cmd_postfix": ") ",
     "delete_cmd_prefix": "rm(",
     "library": "var_list.r",
     "varRefreshCmd": "cat(var_dic_list()) "
    }
   },
   "types_to_exclude": [
    "module",
    "function",
    "builtin_function_or_method",
    "instance",
    "_Feature"
   ],
   "window_display": false
  }
 },
 "nbformat": 4,
 "nbformat_minor": 2
}
