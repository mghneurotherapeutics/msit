{
 "cells": [
  {
   "cell_type": "markdown",
   "metadata": {},
   "source": [
    "# Initialization"
   ]
  },
  {
   "cell_type": "code",
   "execution_count": 1,
   "metadata": {
    "ExecuteTime": {
     "end_time": "2018-01-06T17:18:26.079661Z",
     "start_time": "2018-01-06T17:18:23.868851Z"
    }
   },
   "outputs": [
    {
     "name": "stdout",
     "output_type": "stream",
     "text": [
      "['sub-hc001', 'sub-hc002', 'sub-hc003', 'sub-hc004', 'sub-hc005', 'sub-hc006', 'sub-hc007', 'sub-hc008', 'sub-hc009', 'sub-hc010', 'sub-hc011', 'sub-hc012', 'sub-hc013', 'sub-hc014', 'sub-hc015', 'sub-hc016', 'sub-hc017', 'sub-hc018', 'sub-hc019', 'sub-hc020', 'sub-hc021', 'sub-hc022', 'sub-hc023', 'sub-hc024', 'sub-hc025', 'sub-hc026', 'sub-hc027', 'sub-hc028', 'sub-hc029', 'sub-hc030', 'sub-hc031', 'sub-hc032', 'sub-hc033', 'sub-hc034', 'sub-hc035', 'sub-hc036', 'sub-hc037', 'sub-hc038', 'sub-hc041', 'sub-hc042', 'sub-hc044', 'sub-hc045', 'sub-hc047', 'sub-pp001', 'sub-pp002', 'sub-pp003', 'sub-pp004', 'sub-pp005', 'sub-pp006', 'sub-pp007', 'sub-pp008', 'sub-pp009', 'sub-pp010', 'sub-pp011', 'sub-pp012', 'sub-pp013', 'sub-pp014', 'sub-pp015', 'sub-pp016']\n"
     ]
    }
   ],
   "source": [
    "# add custom functions to path\n",
    "import sys\n",
    "sys.path.append(\"../src\")\n",
    "\n",
    "%load_ext autoreload\n",
    "%autoreload 2\n",
    "\n",
    "import numpy as np\n",
    "import pandas as pd\n",
    "from ipywidgets import interact, fixed\n",
    "import matplotlib.pyplot as plt\n",
    "import seaborn as sns\n",
    "import pystan\n",
    "import pickle\n",
    "from scipy.stats import gamma, norm, halfnorm\n",
    "from stan import fit_model, plot_weibull_subject_fit\n",
    "from stan import plot_posterior, plot_hierarchical_wald_fit\n",
    "\n",
    "# load in behavioral data and clean\n",
    "data = pd.read_csv('../data/derivatives/behavior/group_data.tsv', sep='\\t', \n",
    "                   na_values='n/a')\n",
    "exclusions = ['no_response', 'error', 'post_error', 'fast_rt']\n",
    "data = data[data[exclusions].sum(axis=1) == 0]\n",
    "\n",
    "subjects = sorted(list(data.participant_id.unique()))\n",
    "print(subjects)\n",
    "\n",
    "sns.set(style='whitegrid', font_scale=2)"
   ]
  },
  {
   "cell_type": "markdown",
   "metadata": {},
   "source": [
    "# Wald Model "
   ]
  },
  {
   "cell_type": "code",
   "execution_count": 64,
   "metadata": {
    "ExecuteTime": {
     "end_time": "2018-01-06T05:20:21.078152Z",
     "start_time": "2018-01-06T05:20:21.047049Z"
    },
    "collapsed": true
   },
   "outputs": [],
   "source": [
    "def wald(x, alpha, gamma, theta):\n",
    "    first = alpha / np.sqrt(2 * np.pi * np.power(x - theta, 3))\n",
    "    second = np.exp(-(np.power(alpha - gamma * (x - theta), 2)) / (2 * (x - theta)))\n",
    "    return first * second"
   ]
  },
  {
   "cell_type": "markdown",
   "metadata": {},
   "source": [
    "## Wald Intuition"
   ]
  },
  {
   "cell_type": "code",
   "execution_count": 17,
   "metadata": {
    "ExecuteTime": {
     "end_time": "2018-01-05T17:01:15.163866Z",
     "start_time": "2018-01-05T17:01:14.831806Z"
    }
   },
   "outputs": [
    {
     "data": {
      "application/vnd.jupyter.widget-view+json": {
       "model_id": "9e381b1c55944d358ea8c7680673cbd5",
       "version_major": 2,
       "version_minor": 0
      },
      "text/html": [
       "<p>Failed to display Jupyter Widget of type <code>interactive</code>.</p>\n",
       "<p>\n",
       "  If you're reading this message in the Jupyter Notebook or JupyterLab Notebook, it may mean\n",
       "  that the widgets JavaScript is still loading. If this message persists, it\n",
       "  likely means that the widgets JavaScript library is either not installed or\n",
       "  not enabled. See the <a href=\"https://ipywidgets.readthedocs.io/en/stable/user_install.html\">Jupyter\n",
       "  Widgets Documentation</a> for setup instructions.\n",
       "</p>\n",
       "<p>\n",
       "  If you're reading this message in another frontend (for example, a static\n",
       "  rendering on GitHub or <a href=\"https://nbviewer.jupyter.org/\">NBViewer</a>),\n",
       "  it may mean that your frontend doesn't currently support widgets.\n",
       "</p>\n"
      ],
      "text/plain": [
       "interactive(children=(FloatSlider(value=2.0, description=u'db', max=5.0, step=0.01), FloatSlider(value=4.0, description=u'dr', max=8.0, step=0.01), FloatSlider(value=1.0, description=u'ndt', max=2.0, step=0.01), Output()), _dom_classes=('widget-interact',))"
      ]
     },
     "metadata": {},
     "output_type": "display_data"
    }
   ],
   "source": [
    "def plot_wald(db, dr, ndt):\n",
    "    x = np.arange(ndt, 1.75, .001, dtype=np.float64)\n",
    "    plt.plot(x, wald(x, db, dr, ndt))\n",
    "    plt.xlim((0, 1.75))\n",
    "    plt.show();\n",
    "    \n",
    "interact(plot_wald, db=(0, 5, .01), dr=(0, 8, .01), ndt=(0, 2, .01));"
   ]
  },
  {
   "cell_type": "markdown",
   "metadata": {},
   "source": [
    "## Prior Intution & Determination"
   ]
  },
  {
   "cell_type": "code",
   "execution_count": 65,
   "metadata": {
    "ExecuteTime": {
     "end_time": "2018-01-06T05:21:01.477197Z",
     "start_time": "2018-01-06T05:20:24.747498Z"
    }
   },
   "outputs": [
    {
     "name": "stderr",
     "output_type": "stream",
     "text": [
      "INFO:pystan:COMPILING THE C++ CODE FOR MODEL anon_model_517e849899abc658501bb29e8bc61bda NOW.\n"
     ]
    }
   ],
   "source": [
    "model = pystan.StanModel(file='../models/wald/single_subject_wald.stan')"
   ]
  },
  {
   "cell_type": "markdown",
   "metadata": {},
   "source": [
    "### Fit Subject MAPS"
   ]
  },
  {
   "cell_type": "code",
   "execution_count": 66,
   "metadata": {
    "ExecuteTime": {
     "end_time": "2018-01-06T05:21:06.956422Z",
     "start_time": "2018-01-06T05:21:03.529249Z"
    },
    "scrolled": true
   },
   "outputs": [
    {
     "name": "stdout",
     "output_type": "stream",
     "text": [
      "sub-hc001\n",
      "sub-hc002\n",
      "sub-hc003\n",
      "sub-hc004\n",
      "sub-hc005\n",
      "sub-hc006\n",
      "sub-hc007\n",
      "sub-hc008\n",
      "sub-hc009\n",
      "sub-hc010\n",
      "sub-hc011\n",
      "sub-hc012\n",
      "sub-hc013\n",
      "sub-hc014\n",
      "sub-hc015\n",
      "sub-hc016\n",
      "sub-hc017\n",
      "sub-hc018\n",
      "sub-hc019\n",
      "sub-hc020\n",
      "sub-hc021\n",
      "sub-hc022\n",
      "sub-hc023\n",
      "sub-hc024\n",
      "sub-hc025\n",
      "sub-hc026\n",
      "sub-hc027\n",
      "sub-hc028\n",
      "sub-hc029\n",
      "sub-hc030\n",
      "sub-hc031\n",
      "sub-hc032\n",
      "sub-hc033\n",
      "sub-hc034\n",
      "sub-hc035\n",
      "sub-hc036\n",
      "sub-hc037\n",
      "sub-hc038\n",
      "sub-hc041\n",
      "sub-hc042\n",
      "sub-hc044\n",
      "sub-hc045\n",
      "sub-hc047\n",
      "sub-pp001\n",
      "sub-pp002\n",
      "sub-pp003\n",
      "sub-pp004\n",
      "sub-pp005\n",
      "sub-pp006\n",
      "sub-pp007\n",
      "sub-pp008\n",
      "sub-pp009\n",
      "sub-pp010\n",
      "sub-pp011\n",
      "sub-pp012\n",
      "sub-pp013\n",
      "sub-pp014\n",
      "sub-pp015\n",
      "sub-pp016\n",
      "Done!\n"
     ]
    }
   ],
   "source": [
    "maps = []\n",
    "for subject in subjects:\n",
    "    print(subject)\n",
    "    sub_data = data[data.participant_id == subject]\n",
    "    rt_c = sub_data[sub_data.trial_type == 'congruent'].response_time\n",
    "    rt_i = sub_data[sub_data.trial_type == 'incongruent'].response_time\n",
    "    data_in = {'Ni': len(rt_i), 'Nc': len(rt_c), 'rt_c': rt_c, 'rt_i': rt_i}\n",
    "    \n",
    "    op = model.optimizing(data=data_in, seed=1000)\n",
    "    maps.append(op)\n",
    "print('Done!')"
   ]
  },
  {
   "cell_type": "code",
   "execution_count": 20,
   "metadata": {
    "ExecuteTime": {
     "end_time": "2018-01-05T17:01:56.091458Z",
     "start_time": "2018-01-05T17:01:55.646157Z"
    }
   },
   "outputs": [
    {
     "data": {
      "application/vnd.jupyter.widget-view+json": {
       "model_id": "af6702981a264e0caa6df11ecf011b68",
       "version_major": 2,
       "version_minor": 0
      },
      "text/html": [
       "<p>Failed to display Jupyter Widget of type <code>interactive</code>.</p>\n",
       "<p>\n",
       "  If you're reading this message in the Jupyter Notebook or JupyterLab Notebook, it may mean\n",
       "  that the widgets JavaScript is still loading. If this message persists, it\n",
       "  likely means that the widgets JavaScript library is either not installed or\n",
       "  not enabled. See the <a href=\"https://ipywidgets.readthedocs.io/en/stable/user_install.html\">Jupyter\n",
       "  Widgets Documentation</a> for setup instructions.\n",
       "</p>\n",
       "<p>\n",
       "  If you're reading this message in another frontend (for example, a static\n",
       "  rendering on GitHub or <a href=\"https://nbviewer.jupyter.org/\">NBViewer</a>),\n",
       "  it may mean that your frontend doesn't currently support widgets.\n",
       "</p>\n"
      ],
      "text/plain": [
       "interactive(children=(Dropdown(description=u'subject', options=('sub-hc001', 'sub-hc002', 'sub-hc003', 'sub-hc004', 'sub-hc005', 'sub-hc006', 'sub-hc007', 'sub-hc008', 'sub-hc009', 'sub-hc010', 'sub-hc011', 'sub-hc012', 'sub-hc013', 'sub-hc014', 'sub-hc015', 'sub-hc016', 'sub-hc017', 'sub-hc018', 'sub-hc019', 'sub-hc020', 'sub-hc021', 'sub-hc022', 'sub-hc023', 'sub-hc024', 'sub-hc025', 'sub-hc026', 'sub-hc027', 'sub-hc028', 'sub-hc029', 'sub-hc030', 'sub-hc031', 'sub-hc032', 'sub-hc033', 'sub-hc034', 'sub-hc035', 'sub-hc036', 'sub-hc037', 'sub-hc038', 'sub-hc041', 'sub-hc042', 'sub-hc044', 'sub-hc045', 'sub-hc047', 'sub-pp001', 'sub-pp002', 'sub-pp003', 'sub-pp004', 'sub-pp005', 'sub-pp006', 'sub-pp007', 'sub-pp008', 'sub-pp009', 'sub-pp010', 'sub-pp011', 'sub-pp012', 'sub-pp013', 'sub-pp014', 'sub-pp015', 'sub-pp016'), value='sub-hc001'), Output()), _dom_classes=('widget-interact',))"
      ]
     },
     "metadata": {},
     "output_type": "display_data"
    }
   ],
   "source": [
    "def plot_subject_fit(subject):\n",
    "    f, ax = plt.subplots(1, 1, figsize=(16, 8))\n",
    "    colors = ['#e41a1c', '#377eb8']\n",
    "    conditions = ['incongruent', 'congruent']\n",
    "    sub_ix = subjects.index(subject)\n",
    "    mapp = maps[sub_ix]\n",
    "    sub_data = data[data.participant_id == subject]\n",
    "    \n",
    "    for i, c in enumerate(conditions):\n",
    "        rt = sub_data[sub_data.trial_type == c].response_time\n",
    "        x = np.arange(mapp['ndt_%s' % c[0]], 1.75, .01)\n",
    "        sns.distplot(rt, color=colors[i], ax=ax, kde=False, \n",
    "                     norm_hist=True)\n",
    "        print('%s = DB: %.2f, DR: %.2f, NDT: %.2f' % (c, mapp['db_%s' % c[0]],\n",
    "                                                      mapp['dr_%s' % c[0]],\n",
    "                                                      mapp['ndt_%s' % c[0]]))\n",
    "        plt.plot(x, wald(x, mapp['db_%s' % c[0]], \n",
    "                            mapp['dr_%s' % c[0]], \n",
    "                            mapp['ndt_%s' % c[0]]), color=colors[i])\n",
    "    \n",
    "    plt.legend(conditions)\n",
    "    plt.xlim((0, 1.75))\n",
    "    plt.ylim((0, 4))\n",
    "    plt.show()\n",
    "    \n",
    "interact(plot_subject_fit, subject=subjects);"
   ]
  },
  {
   "cell_type": "markdown",
   "metadata": {},
   "source": [
    "### Visualize Priors"
   ]
  },
  {
   "cell_type": "code",
   "execution_count": 67,
   "metadata": {
    "ExecuteTime": {
     "end_time": "2018-01-06T05:22:01.852140Z",
     "start_time": "2018-01-06T05:22:01.144927Z"
    }
   },
   "outputs": [
    {
     "data": {
      "application/vnd.jupyter.widget-view+json": {
       "model_id": "ca554eaa5ca149bc951623800b79d3b7",
       "version_major": 2,
       "version_minor": 0
      },
      "text/html": [
       "<p>Failed to display Jupyter Widget of type <code>interactive</code>.</p>\n",
       "<p>\n",
       "  If you're reading this message in the Jupyter Notebook or JupyterLab Notebook, it may mean\n",
       "  that the widgets JavaScript is still loading. If this message persists, it\n",
       "  likely means that the widgets JavaScript library is either not installed or\n",
       "  not enabled. See the <a href=\"https://ipywidgets.readthedocs.io/en/stable/user_install.html\">Jupyter\n",
       "  Widgets Documentation</a> for setup instructions.\n",
       "</p>\n",
       "<p>\n",
       "  If you're reading this message in another frontend (for example, a static\n",
       "  rendering on GitHub or <a href=\"https://nbviewer.jupyter.org/\">NBViewer</a>),\n",
       "  it may mean that your frontend doesn't currently support widgets.\n",
       "</p>\n"
      ],
      "text/plain": [
       "interactive(children=(Dropdown(description=u'param', options=('db', 'dr', 'ndt'), value='db'), FloatSlider(value=10.0, description=u'group_theta_hyp_mode', max=20.0), FloatSlider(value=10.0, description=u'group_theta_hyp_sd', max=20.0), FloatSlider(value=10.0, description=u'group_k_hyp_mode', max=20.0), FloatSlider(value=10.0, description=u'group_k_hyp_sd', max=20.0), Output()), _dom_classes=('widget-interact',))"
      ]
     },
     "metadata": {},
     "output_type": "display_data"
    }
   ],
   "source": [
    "def calc_rate(mode, sd):\n",
    "    rate = (mode + np.sqrt(mode**2 + 4 * sd**2)) / (2 * sd**2)\n",
    "    return rate\n",
    "\n",
    "def calc_shape(mode, rate):\n",
    "    shape = 1 + mode * rate\n",
    "    return shape\n",
    "\n",
    "def calc_mode(shape, rate):\n",
    "    return (shape - 1) / rate\n",
    "\n",
    "def plot_priors(param, group_theta_hyp_mode, group_theta_hyp_sd, \n",
    "                group_k_hyp_mode, group_k_hyp_sd):\n",
    "    \n",
    "    f, axs = plt.subplots(3, 1, figsize=(10, 8))\n",
    "    colors = ['#e41a1c', '#377eb8']\n",
    "   \n",
    "    param_i_maps = [m['%s_i' % param] for m in maps]\n",
    "    param_c_maps = [m['%s_c' % param] for m in maps]\n",
    "    sns.distplot(param_c_maps, ax=axs[0], color=colors[1], kde=False, \n",
    "                 bins=10, norm_hist=True)\n",
    "    sns.distplot(param_i_maps, ax=axs[0], color=colors[0], kde=False, \n",
    "                 bins=10, norm_hist=True)\n",
    "    \n",
    "    x = np.arange(0, 20, .01)\n",
    "        \n",
    "    group_k_hyp_theta = calc_rate(group_k_hyp_mode, group_k_hyp_sd)\n",
    "    group_k_hyp_k = calc_shape(group_k_hyp_mode, group_k_hyp_theta)\n",
    "    group_k_hyp_prior = gamma(group_k_hyp_k, scale=1/group_k_hyp_theta)\n",
    "    axs[1].plot(x, group_k_hyp_prior.pdf(x))\n",
    "    axs[1].axvline(group_k_hyp_mode)\n",
    "    axs[1].set_title('Group K Hyperprior: k=%.2f, theta=%.2f' % (group_k_hyp_k,\n",
    "                                                                 group_k_hyp_theta))\n",
    "    \n",
    "    group_theta_hyp_theta = calc_rate(group_theta_hyp_mode, group_theta_hyp_sd)\n",
    "    group_theta_hyp_k = calc_shape(group_theta_hyp_mode, group_theta_hyp_theta)\n",
    "    group_theta_hyp_prior = gamma(group_theta_hyp_k, scale=1/group_theta_hyp_theta)\n",
    "    axs[2].plot(x, group_theta_hyp_prior.pdf(x))\n",
    "    axs[2].axvline(group_theta_hyp_mode)\n",
    "    axs[2].set_title('Group Theta Hyperprior: k=%.2f, theta=%.2f' % (group_theta_hyp_k,\n",
    "                                                                 group_theta_hyp_theta))\n",
    "    \n",
    "    if param == 'ndt':\n",
    "        x = np.arange(0, 1.75, .01, dtype=np.float64)\n",
    "    else:\n",
    "        x = np.arange(0, 15, .01, dtype=np.float64)\n",
    "    \n",
    "    group_mode = calc_mode(group_k_hyp_mode, group_theta_hyp_mode)\n",
    "    group_prior = gamma(group_k_hyp_mode, scale=1/group_theta_hyp_mode)\n",
    "    axs[0].plot(x, group_prior.pdf(x))\n",
    "    axs[0].axvline(group_mode)\n",
    "    \n",
    "    plt.tight_layout()\n",
    "    plt.show()\n",
    "\n",
    "interact(plot_priors, param=['db', 'dr', 'ndt'], \n",
    "         group_theta_hyp_mode=(0, 20, .1), group_theta_hyp_sd=(0, 20, .1), \n",
    "         group_k_hyp_mode=(0, 20, .1), group_k_hyp_sd=(0, 20, .1));"
   ]
  },
  {
   "cell_type": "markdown",
   "metadata": {},
   "source": [
    "## Hierarchical Model Fitting"
   ]
  },
  {
   "cell_type": "code",
   "execution_count": 3,
   "metadata": {
    "ExecuteTime": {
     "end_time": "2018-01-06T17:19:12.731759Z",
     "start_time": "2018-01-06T17:19:12.706386Z"
    },
    "collapsed": true
   },
   "outputs": [],
   "source": [
    "model = 'wald_hierarchical'"
   ]
  },
  {
   "cell_type": "markdown",
   "metadata": {},
   "source": [
    "### Prepare Data"
   ]
  },
  {
   "cell_type": "code",
   "execution_count": 3,
   "metadata": {
    "ExecuteTime": {
     "end_time": "2018-01-06T05:59:44.977190Z",
     "start_time": "2018-01-06T05:59:44.930002Z"
    },
    "collapsed": true
   },
   "outputs": [],
   "source": [
    "min_rts = np.array(data.groupby(['participant_id', 'trial_type']).response_time.min())\n",
    "min_rt_i = min_rts[1::2]\n",
    "min_rt_c = min_rts[::2]\n",
    "ns = len(data.participant_id.unique())\n",
    "data_i = data[data.trial_type == 'incongruent']\n",
    "data_c = data[data.trial_type == 'congruent']\n",
    "ll_i = data_i.participant_id.astype('category').cat.codes + 1\n",
    "ll_c = data_c.participant_id.astype('category').cat.codes + 1\n",
    "rt_i = data_i.response_time\n",
    "rt_c = data_c.response_time\n",
    "data_in = {'Ns': ns, 'll_i': ll_i, 'Ni': len(rt_i), 'rt_i': rt_i,\n",
    "           'll_c': ll_c, 'Nc': len(rt_c), 'rt_c': rt_c,\n",
    "           'min_rt_i': min_rt_i, 'min_rt_c': min_rt_c}"
   ]
  },
  {
   "cell_type": "markdown",
   "metadata": {},
   "source": [
    "### Fit Model"
   ]
  },
  {
   "cell_type": "code",
   "execution_count": 4,
   "metadata": {
    "ExecuteTime": {
     "end_time": "2018-01-06T07:33:24.739780Z",
     "start_time": "2018-01-06T05:59:46.816102Z"
    }
   },
   "outputs": [
    {
     "name": "stderr",
     "output_type": "stream",
     "text": [
      "INFO:pystan:COMPILING THE C++ CODE FOR MODEL wald_hierarchical_f873946d9486dc5910fb2422f444ae11 NOW.\n"
     ]
    },
    {
     "name": "stdout",
     "output_type": "stream",
     "text": [
      "Starting Model Fit...\n",
      "Compiling Model...\n",
      "Compiling took 0 min. 39 sec.\n",
      "Computing MAP Estimates...\n",
      "Finding MAP estimates took 0 min. 8 sec.\n",
      "Sampling from Posterior...\n",
      "Drawing 1000 Posterior Samples took 92 min. 48 sec.\n",
      "Extracting Samples...\n",
      "Extracting samples took 0 min. 0 sec.\n",
      "Extracting Fit Summary...\n",
      "Extracting fit summary took 0 min. 1 sec.\n",
      "Pickling Model Fit...\n",
      "Pickling model fit took 0 min. 0 sec.\n",
      "Total Time: took 93 min. 37 sec.\n",
      "Finished\n"
     ]
    }
   ],
   "source": [
    "n_iter = 1000\n",
    "init_dict = {'dr_mode_congruent': 4, 'dr_mode_incongruent': 4,\n",
    "             'dr_sd_congruent': 2.5, 'dr_sd_incongruent': 2.5,\n",
    "             'db_mode_congruent': 1.5, 'db_sd_congruent': 3,\n",
    "             'db_mode_incongruent': 1.5, 'db_sd_incongruent': 1.5,\n",
    "             'ndt_mode_congruent': .3, 'ndt_sd_congruent': .2,\n",
    "             'ndt_mode_incongruent': .3, 'ndt_sd_incongruent': .2,\n",
    "             'dr_congruent': [4] * ns, 'dr_incongruent': [4] * ns,\n",
    "             'db_congruent': [1.5] * ns, 'db_incongruent': [1.5] * ns,\n",
    "             'ndt_congruent': [.3] * ns, 'ndt_incongruent': [.3] * ns}\n",
    "model_fit = fit_model(model, 'wald', data_in, n_iter=n_iter, \n",
    "                      seed=7, init=init_dict, n_chains=3)"
   ]
  },
  {
   "cell_type": "markdown",
   "metadata": {},
   "source": [
    "### Visualize Results"
   ]
  },
  {
   "cell_type": "code",
   "execution_count": 4,
   "metadata": {
    "ExecuteTime": {
     "end_time": "2018-01-06T17:19:16.836772Z",
     "start_time": "2018-01-06T17:19:16.489133Z"
    }
   },
   "outputs": [],
   "source": [
    "model_fit = pickle.load(open('../models/wald/%s.pkl' % model, 'r'))"
   ]
  },
  {
   "cell_type": "code",
   "execution_count": 5,
   "metadata": {
    "ExecuteTime": {
     "end_time": "2018-01-06T17:19:22.858702Z",
     "start_time": "2018-01-06T17:19:21.816162Z"
    }
   },
   "outputs": [
    {
     "data": {
      "application/vnd.jupyter.widget-view+json": {
       "model_id": "3bfc29bef90341e9bc73d8c3e4958e30",
       "version_major": 2,
       "version_minor": 0
      },
      "text/html": [
       "<p>Failed to display Jupyter Widget of type <code>interactive</code>.</p>\n",
       "<p>\n",
       "  If you're reading this message in the Jupyter Notebook or JupyterLab Notebook, it may mean\n",
       "  that the widgets JavaScript is still loading. If this message persists, it\n",
       "  likely means that the widgets JavaScript library is either not installed or\n",
       "  not enabled. See the <a href=\"https://ipywidgets.readthedocs.io/en/stable/user_install.html\">Jupyter\n",
       "  Widgets Documentation</a> for setup instructions.\n",
       "</p>\n",
       "<p>\n",
       "  If you're reading this message in another frontend (for example, a static\n",
       "  rendering on GitHub or <a href=\"https://nbviewer.jupyter.org/\">NBViewer</a>),\n",
       "  it may mean that your frontend doesn't currently support widgets.\n",
       "</p>\n"
      ],
      "text/plain": [
       "interactive(children=(Dropdown(description=u'param', options=(u'dr_group_k_congruent', u'dr_group_theta_congruent', u'dr_group_k_incongruent', u'dr_group_theta_incongruent', u'db_group_k_congruent', u'db_group_theta_congruent', u'db_group_k_incongruent', u'db_group_theta_incongruent', u'ndt_group_k_congruent', u'ndt_group_theta_congruent', u'ndt_group_k_incongruent', u'ndt_group_theta_incongruent', u'ndt_inc', u'ndt_con', u'dr_congruent', u'dr_incongruent', u'db_congruent', u'db_incongruent', u'ndt_incongruent', u'ndt_congruent', u'beta_ndt', u'beta_db', u'beta_dr', u'dr_group_mode_incongruent', u'dr_group_mode_congruent', u'db_group_mode_incongruent', u'db_group_mode_congruent', u'ndt_group_mode_incongruent', u'ndt_group_mode_congruent', u'group_beta_ndt', u'group_beta_db', u'group_beta_dr'), value=u'dr_group_k_congruent'), Dropdown(description=u'subject', options=('sub-hc001', 'sub-hc002', 'sub-hc003', 'sub-hc004', 'sub-hc005', 'sub-hc006', 'sub-hc007', 'sub-hc008', 'sub-hc009', 'sub-hc010', 'sub-hc011', 'sub-hc012', 'sub-hc013', 'sub-hc014', 'sub-hc015', 'sub-hc016', 'sub-hc017', 'sub-hc018', 'sub-hc019', 'sub-hc020', 'sub-hc021', 'sub-hc022', 'sub-hc023', 'sub-hc024', 'sub-hc025', 'sub-hc026', 'sub-hc027', 'sub-hc028', 'sub-hc029', 'sub-hc030', 'sub-hc031', 'sub-hc032', 'sub-hc033', 'sub-hc034', 'sub-hc035', 'sub-hc036', 'sub-hc037', 'sub-hc038', 'sub-hc041', 'sub-hc042', 'sub-hc044', 'sub-hc045', 'sub-hc047', 'sub-pp001', 'sub-pp002', 'sub-pp003', 'sub-pp004', 'sub-pp005', 'sub-pp006', 'sub-pp007', 'sub-pp008', 'sub-pp009', 'sub-pp010', 'sub-pp011', 'sub-pp012', 'sub-pp013', 'sub-pp014', 'sub-pp015', 'sub-pp016'), value='sub-hc001'), Output()), _dom_classes=('widget-interact',))"
      ]
     },
     "metadata": {},
     "output_type": "display_data"
    }
   ],
   "source": [
    "interact(plot_posterior, param=model_fit['map'].keys(), model_fit=fixed(model_fit),\n",
    "         subject=subjects, subjects=fixed(subjects));"
   ]
  },
  {
   "cell_type": "code",
   "execution_count": 73,
   "metadata": {
    "ExecuteTime": {
     "end_time": "2018-01-06T05:54:13.091375Z",
     "start_time": "2018-01-06T05:54:12.521484Z"
    }
   },
   "outputs": [
    {
     "data": {
      "application/vnd.jupyter.widget-view+json": {
       "model_id": "6d64736fcb5345869f1bef1a5fea93c8",
       "version_major": 2,
       "version_minor": 0
      },
      "text/html": [
       "<p>Failed to display Jupyter Widget of type <code>interactive</code>.</p>\n",
       "<p>\n",
       "  If you're reading this message in the Jupyter Notebook or JupyterLab Notebook, it may mean\n",
       "  that the widgets JavaScript is still loading. If this message persists, it\n",
       "  likely means that the widgets JavaScript library is either not installed or\n",
       "  not enabled. See the <a href=\"https://ipywidgets.readthedocs.io/en/stable/user_install.html\">Jupyter\n",
       "  Widgets Documentation</a> for setup instructions.\n",
       "</p>\n",
       "<p>\n",
       "  If you're reading this message in another frontend (for example, a static\n",
       "  rendering on GitHub or <a href=\"https://nbviewer.jupyter.org/\">NBViewer</a>),\n",
       "  it may mean that your frontend doesn't currently support widgets.\n",
       "</p>\n"
      ],
      "text/plain": [
       "interactive(children=(Dropdown(description=u'subject', options=('sub-hc001', 'sub-hc002', 'sub-hc003', 'sub-hc004', 'sub-hc005', 'sub-hc006', 'sub-hc007', 'sub-hc008', 'sub-hc009', 'sub-hc010', 'sub-hc011', 'sub-hc012', 'sub-hc013', 'sub-hc014', 'sub-hc015', 'sub-hc016', 'sub-hc017', 'sub-hc018', 'sub-hc019', 'sub-hc020', 'sub-hc021', 'sub-hc022', 'sub-hc023', 'sub-hc024', 'sub-hc025', 'sub-hc026', 'sub-hc027', 'sub-hc028', 'sub-hc029', 'sub-hc030', 'sub-hc031', 'sub-hc032', 'sub-hc033', 'sub-hc034', 'sub-hc035', 'sub-hc036', 'sub-hc037', 'sub-hc038', 'sub-hc041', 'sub-hc042', 'sub-hc044', 'sub-hc045', 'sub-hc047', 'sub-pp001', 'sub-pp002', 'sub-pp003', 'sub-pp004', 'sub-pp005', 'sub-pp006', 'sub-pp007', 'sub-pp008', 'sub-pp009', 'sub-pp010', 'sub-pp011', 'sub-pp012', 'sub-pp013', 'sub-pp014', 'sub-pp015', 'sub-pp016'), value='sub-hc001'), Output()), _dom_classes=('widget-interact',))"
      ]
     },
     "metadata": {},
     "output_type": "display_data"
    }
   ],
   "source": [
    "interact(plot_hierarchical_wald_fit, model_fit=fixed(model_fit), \n",
    "         behavior=fixed(data), subject=subjects, subjects=fixed(subjects));"
   ]
  },
  {
   "cell_type": "markdown",
   "metadata": {},
   "source": [
    "# Weibull Model\n",
    "\n",
    "Main parameters with interpretations from Rouder 2005:\n",
    "- shape: Change in structure of central processing. Such as different overall processing strategy.\n",
    "- scale: Differences in speed of central processing given similar structure.\n",
    "- shift: Differences in peripheral processing (motor, visual, etc.).\n"
   ]
  },
  {
   "cell_type": "code",
   "execution_count": 2,
   "metadata": {
    "ExecuteTime": {
     "end_time": "2018-01-05T18:51:58.114756Z",
     "start_time": "2018-01-05T18:51:58.088594Z"
    },
    "collapsed": true
   },
   "outputs": [],
   "source": [
    "def weibull(x, alpha, sigma, shift):\n",
    "    p1 = (alpha / sigma)\n",
    "    p2 = np.power((x - shift) / sigma, alpha - 1) \n",
    "    p3 = np.exp(-np.power((x - shift) / sigma, alpha))\n",
    "    return p1 * p2 * p3"
   ]
  },
  {
   "cell_type": "markdown",
   "metadata": {},
   "source": [
    "## Weibull Intuition"
   ]
  },
  {
   "cell_type": "code",
   "execution_count": 10,
   "metadata": {
    "ExecuteTime": {
     "end_time": "2017-12-18T16:42:06.817837Z",
     "start_time": "2017-12-18T16:42:06.589287Z"
    }
   },
   "outputs": [
    {
     "data": {
      "application/vnd.jupyter.widget-view+json": {
       "model_id": "d910e61fc9844004b2b5f984137f56ee",
       "version_major": 2,
       "version_minor": 0
      },
      "text/html": [
       "<p>Failed to display Jupyter Widget of type <code>interactive</code>.</p>\n",
       "<p>\n",
       "  If you're reading this message in the Jupyter Notebook or JupyterLab Notebook, it may mean\n",
       "  that the widgets JavaScript is still loading. If this message persists, it\n",
       "  likely means that the widgets JavaScript library is either not installed or\n",
       "  not enabled. See the <a href=\"https://ipywidgets.readthedocs.io/en/stable/user_install.html\">Jupyter\n",
       "  Widgets Documentation</a> for setup instructions.\n",
       "</p>\n",
       "<p>\n",
       "  If you're reading this message in another frontend (for example, a static\n",
       "  rendering on GitHub or <a href=\"https://nbviewer.jupyter.org/\">NBViewer</a>),\n",
       "  it may mean that your frontend doesn't currently support widgets.\n",
       "</p>\n"
      ],
      "text/plain": [
       "interactive(children=(FloatSlider(value=3.0, description=u'shape', max=5.0, min=1.0, step=0.01), FloatSlider(value=1.0, description=u'scale', max=2.0, step=0.01), FloatSlider(value=1.0, description=u'shift', max=2.0, step=0.01), Output()), _dom_classes=('widget-interact',))"
      ]
     },
     "metadata": {},
     "output_type": "display_data"
    }
   ],
   "source": [
    "def plot_weibull(shape, scale, shift):\n",
    "    x = np.arange(shift, 1.75, .001, dtype=np.float64)\n",
    "    plt.plot(x, weibull(x, shape, scale, shift))\n",
    "    plt.xlim((0, 1.75))\n",
    "    plt.show();\n",
    "    \n",
    "interact(plot_weibull, shape=(1, 5, .01), scale=(0, 2, .01), shift=(0, 2, .01));"
   ]
  },
  {
   "cell_type": "markdown",
   "metadata": {},
   "source": [
    "## Prior Intuition & Determination"
   ]
  },
  {
   "cell_type": "markdown",
   "metadata": {},
   "source": [
    "### Build distribution of individual subject MAPs\n",
    "\n",
    "First, we compile the inidividual subject stan model."
   ]
  },
  {
   "cell_type": "code",
   "execution_count": 8,
   "metadata": {
    "ExecuteTime": {
     "end_time": "2018-01-05T20:46:19.226832Z",
     "start_time": "2018-01-05T20:45:39.127058Z"
    }
   },
   "outputs": [
    {
     "name": "stderr",
     "output_type": "stream",
     "text": [
      "INFO:pystan:COMPILING THE C++ CODE FOR MODEL anon_model_8b64186d7c72474f92436047d86f728a NOW.\n"
     ]
    }
   ],
   "source": [
    "model = pystan.StanModel(file='../models/weibull/single_subject_weibull.stan')"
   ]
  },
  {
   "cell_type": "markdown",
   "metadata": {},
   "source": [
    "Next we gather the map estimates for each subject's shift, scale, and shape parameters split by condition. "
   ]
  },
  {
   "cell_type": "code",
   "execution_count": 9,
   "metadata": {
    "ExecuteTime": {
     "end_time": "2018-01-05T20:46:21.500252Z",
     "start_time": "2018-01-05T20:46:21.016646Z"
    },
    "scrolled": true
   },
   "outputs": [
    {
     "name": "stdout",
     "output_type": "stream",
     "text": [
      "sub-hc001\n",
      "sub-hc002\n",
      "sub-hc003\n",
      "sub-hc004\n",
      "sub-hc005\n",
      "sub-hc006\n",
      "sub-hc007\n",
      "sub-hc008\n",
      "sub-hc009\n",
      "sub-hc010\n",
      "sub-hc011\n",
      "sub-hc012\n",
      "sub-hc013\n",
      "sub-hc014\n",
      "sub-hc015\n",
      "sub-hc016\n",
      "sub-hc017\n",
      "sub-hc018\n",
      "sub-hc019\n",
      "sub-hc020\n",
      "sub-hc021\n",
      "sub-hc022\n",
      "sub-hc023\n",
      "sub-hc024\n",
      "sub-hc025\n",
      "sub-hc026\n",
      "sub-hc027\n",
      "sub-hc028\n",
      "sub-hc029\n",
      "sub-hc030\n",
      "sub-hc031\n",
      "sub-hc032\n",
      "sub-hc033\n",
      "sub-hc034\n",
      "sub-hc035\n",
      "sub-hc036\n",
      "sub-hc037\n",
      "sub-hc038\n",
      "sub-hc041\n",
      "sub-hc042\n",
      "sub-hc044\n",
      "sub-hc045\n",
      "sub-hc047\n",
      "sub-pp001\n",
      "sub-pp002\n",
      "sub-pp003\n",
      "sub-pp004\n",
      "sub-pp005\n",
      "sub-pp006\n",
      "sub-pp007\n",
      "sub-pp008\n",
      "sub-pp009\n",
      "sub-pp010\n",
      "sub-pp011\n",
      "sub-pp012\n",
      "sub-pp013\n",
      "sub-pp014\n",
      "sub-pp015\n",
      "sub-pp016\n",
      "Done!\n"
     ]
    }
   ],
   "source": [
    "maps = []\n",
    "for subject in subjects:\n",
    "    print(subject)\n",
    "    sub_data = data[data.participant_id == subject]\n",
    "    rt_c = sub_data[sub_data.trial_type == 'congruent'].response_time\n",
    "    rt_i = sub_data[sub_data.trial_type == 'incongruent'].response_time\n",
    "    data_in = {'Ni': len(rt_i), 'Nc': len(rt_c), 'rt_c': rt_c, 'rt_i': rt_i}\n",
    "    \n",
    "    op = model.optimizing(data=data_in, seed=8)\n",
    "    maps.append(op)\n",
    "print('Done!')"
   ]
  },
  {
   "cell_type": "markdown",
   "metadata": {},
   "source": [
    "Next, we sift through the map distribution fits to each subject's data as a sanity check of how well we can fit."
   ]
  },
  {
   "cell_type": "code",
   "execution_count": 7,
   "metadata": {
    "ExecuteTime": {
     "end_time": "2018-01-05T18:55:03.498478Z",
     "start_time": "2018-01-05T18:55:02.980699Z"
    }
   },
   "outputs": [
    {
     "data": {
      "application/vnd.jupyter.widget-view+json": {
       "model_id": "d5d274715793483daf48f28a6d94e8c6",
       "version_major": 2,
       "version_minor": 0
      },
      "text/html": [
       "<p>Failed to display Jupyter Widget of type <code>interactive</code>.</p>\n",
       "<p>\n",
       "  If you're reading this message in the Jupyter Notebook or JupyterLab Notebook, it may mean\n",
       "  that the widgets JavaScript is still loading. If this message persists, it\n",
       "  likely means that the widgets JavaScript library is either not installed or\n",
       "  not enabled. See the <a href=\"https://ipywidgets.readthedocs.io/en/stable/user_install.html\">Jupyter\n",
       "  Widgets Documentation</a> for setup instructions.\n",
       "</p>\n",
       "<p>\n",
       "  If you're reading this message in another frontend (for example, a static\n",
       "  rendering on GitHub or <a href=\"https://nbviewer.jupyter.org/\">NBViewer</a>),\n",
       "  it may mean that your frontend doesn't currently support widgets.\n",
       "</p>\n"
      ],
      "text/plain": [
       "interactive(children=(Dropdown(description=u'subject', options=('sub-hc001', 'sub-hc002', 'sub-hc003', 'sub-hc004', 'sub-hc005', 'sub-hc006', 'sub-hc007', 'sub-hc008', 'sub-hc009', 'sub-hc010', 'sub-hc011', 'sub-hc012', 'sub-hc013', 'sub-hc014', 'sub-hc015', 'sub-hc016', 'sub-hc017', 'sub-hc018', 'sub-hc019', 'sub-hc020', 'sub-hc021', 'sub-hc022', 'sub-hc023', 'sub-hc024', 'sub-hc025', 'sub-hc026', 'sub-hc027', 'sub-hc028', 'sub-hc029', 'sub-hc030', 'sub-hc031', 'sub-hc032', 'sub-hc033', 'sub-hc034', 'sub-hc035', 'sub-hc036', 'sub-hc037', 'sub-hc038', 'sub-hc041', 'sub-hc042', 'sub-hc044', 'sub-hc045', 'sub-hc047', 'sub-pp001', 'sub-pp002', 'sub-pp003', 'sub-pp004', 'sub-pp005', 'sub-pp006', 'sub-pp007', 'sub-pp008', 'sub-pp009', 'sub-pp010', 'sub-pp011', 'sub-pp012', 'sub-pp013', 'sub-pp014', 'sub-pp015', 'sub-pp016'), value='sub-hc001'), Output()), _dom_classes=('widget-interact',))"
      ]
     },
     "metadata": {},
     "output_type": "display_data"
    }
   ],
   "source": [
    "def plot_subject_fit(subject):\n",
    "    f, ax = plt.subplots(1, 1, figsize=(16, 8))\n",
    "    colors = ['#e41a1c', '#377eb8']\n",
    "    conditions = ['incongruent', 'congruent']\n",
    "    sub_ix = subjects.index(subject)\n",
    "    mapp = maps[sub_ix]\n",
    "    sub_data = data[data.participant_id == subject]\n",
    "    \n",
    "    for i, c in enumerate(conditions):\n",
    "        rt = sub_data[sub_data.trial_type == c].response_time\n",
    "        x = np.arange(mapp['shift_%s' % c[0]], 1.75, .01)\n",
    "        sns.distplot(rt, color=colors[i], ax=ax, kde=False, \n",
    "                     norm_hist=True)\n",
    "        plt.plot(x, weibull(x, mapp['shape_%s' % c[0]], \n",
    "                            mapp['scale_%s' % c[0]], \n",
    "                            mapp['shift_%s' % c[0]]), color=colors[i])\n",
    "    \n",
    "    plt.legend(conditions)\n",
    "    plt.xlim((0, 1.75))\n",
    "    plt.ylim((0, 4))\n",
    "    plt.show()\n",
    "    \n",
    "interact(plot_subject_fit, subject=subjects);"
   ]
  },
  {
   "cell_type": "markdown",
   "metadata": {},
   "source": [
    "### Visualizing Prior Distribution\n",
    "\n",
    "For the hiearchical model, we are not going to model each condition with a separate distribution. Instead, we will do a regression approach.\n",
    "\n",
    "First we, look at the priors for the scale parameter."
   ]
  },
  {
   "cell_type": "code",
   "execution_count": 57,
   "metadata": {
    "ExecuteTime": {
     "end_time": "2018-01-06T04:39:41.443646Z",
     "start_time": "2018-01-06T04:39:40.640572Z"
    }
   },
   "outputs": [
    {
     "data": {
      "application/vnd.jupyter.widget-view+json": {
       "model_id": "eb682ac1e0864670b6898b66a1bdcd89",
       "version_major": 2,
       "version_minor": 0
      },
      "text/html": [
       "<p>Failed to display Jupyter Widget of type <code>interactive</code>.</p>\n",
       "<p>\n",
       "  If you're reading this message in the Jupyter Notebook or JupyterLab Notebook, it may mean\n",
       "  that the widgets JavaScript is still loading. If this message persists, it\n",
       "  likely means that the widgets JavaScript library is either not installed or\n",
       "  not enabled. See the <a href=\"https://ipywidgets.readthedocs.io/en/stable/user_install.html\">Jupyter\n",
       "  Widgets Documentation</a> for setup instructions.\n",
       "</p>\n",
       "<p>\n",
       "  If you're reading this message in another frontend (for example, a static\n",
       "  rendering on GitHub or <a href=\"https://nbviewer.jupyter.org/\">NBViewer</a>),\n",
       "  it may mean that your frontend doesn't currently support widgets.\n",
       "</p>\n"
      ],
      "text/plain": [
       "interactive(children=(Dropdown(description=u'param', options=('shape', 'scale', 'shift'), value='shape'), FloatSlider(value=10.0, description=u'group_theta_hyp_mode', max=20.0), FloatSlider(value=10.0, description=u'group_theta_hyp_sd', max=20.0), FloatSlider(value=10.0, description=u'group_k_hyp_mode', max=20.0), FloatSlider(value=10.0, description=u'group_k_hyp_sd', max=20.0), Output()), _dom_classes=('widget-interact',))"
      ]
     },
     "metadata": {},
     "output_type": "display_data"
    }
   ],
   "source": [
    "def calc_rate(mode, sd):\n",
    "    rate = (mode + np.sqrt(mode**2 + 4 * sd**2)) / (2 * sd**2)\n",
    "    return rate\n",
    "\n",
    "def calc_shape(mode, rate):\n",
    "    shape = 1 + mode * rate\n",
    "    return shape\n",
    "\n",
    "def calc_mode(shape, rate):\n",
    "    return (shape - 1) / rate\n",
    "\n",
    "def plot_priors(param, group_theta_hyp_mode, group_theta_hyp_sd, \n",
    "                group_k_hyp_mode, group_k_hyp_sd):\n",
    "    \n",
    "    f, axs = plt.subplots(3, 1, figsize=(10, 8))\n",
    "    colors = ['#e41a1c', '#377eb8']\n",
    "   \n",
    "        \n",
    "    param_i_maps = [m['%s_i' % param] for m in maps]\n",
    "    param_c_maps = [m['%s_c' % param] for m in maps]\n",
    "    sns.distplot(param_c_maps, ax=axs[0], color=colors[1], kde=False, \n",
    "                 bins=10, norm_hist=True)\n",
    "    sns.distplot(param_i_maps, ax=axs[0], color=colors[0], kde=False, \n",
    "                 bins=10, norm_hist=True)\n",
    "    \n",
    "    x = np.arange(0, 20, .01)\n",
    "        \n",
    "    group_k_hyp_theta = calc_rate(group_k_hyp_mode, group_k_hyp_sd)\n",
    "    group_k_hyp_k = calc_shape(group_k_hyp_mode, group_k_hyp_theta)\n",
    "    group_k_hyp_prior = gamma(group_k_hyp_k, scale=1/group_k_hyp_theta)\n",
    "    axs[1].plot(x, group_k_hyp_prior.pdf(x))\n",
    "    axs[1].axvline(group_k_hyp_mode)\n",
    "    axs[1].set_title('Group K Hyperprior: k=%.2f, theta=%.2f' % (group_k_hyp_k,\n",
    "                                                                 group_k_hyp_theta))\n",
    "    \n",
    "    group_theta_hyp_theta = calc_rate(group_theta_hyp_mode, group_theta_hyp_sd)\n",
    "    group_theta_hyp_k = calc_shape(group_theta_hyp_mode, group_theta_hyp_theta)\n",
    "    group_theta_hyp_prior = gamma(group_theta_hyp_k, scale=1/group_theta_hyp_theta)\n",
    "    axs[2].plot(x, group_theta_hyp_prior.pdf(x))\n",
    "    axs[2].axvline(group_theta_hyp_mode)\n",
    "    axs[2].set_title('Group Theta Hyperprior: k=%.2f, theta=%.2f' % (group_theta_hyp_k,\n",
    "                                                                 group_theta_hyp_theta))\n",
    "    \n",
    "    if param == 'shift':\n",
    "        x = np.arange(0, 1.75, .01, dtype=np.float64)\n",
    "    elif param == 'shape':\n",
    "        x = np.arange(0, 7, .01, dtype=np.float64)\n",
    "    else:\n",
    "        x = np.arange(0, 1, .01, dtype=np.float64)\n",
    "    \n",
    "    group_mode = calc_mode(group_k_hyp_mode, group_theta_hyp_mode)\n",
    "    group_prior = gamma(group_k_hyp_mode, scale=1/group_theta_hyp_mode)\n",
    "    axs[0].plot(x, group_prior.pdf(x))\n",
    "    axs[0].axvline(group_mode)\n",
    "    \n",
    "    plt.tight_layout()\n",
    "    plt.show()\n",
    "\n",
    "interact(plot_priors, param=['shape', 'scale', 'shift'], \n",
    "         group_theta_hyp_mode=(0, 20, .1), group_theta_hyp_sd=(0, 20, .1), \n",
    "         group_k_hyp_mode=(0, 20, .1), group_k_hyp_sd=(0, 20, .1));"
   ]
  },
  {
   "cell_type": "markdown",
   "metadata": {},
   "source": [
    "## Hierarchical Model Fitting "
   ]
  },
  {
   "cell_type": "code",
   "execution_count": 6,
   "metadata": {
    "ExecuteTime": {
     "end_time": "2018-01-06T17:25:21.057241Z",
     "start_time": "2018-01-06T17:25:21.032762Z"
    },
    "collapsed": true
   },
   "outputs": [],
   "source": [
    "model = 'weibull_hierarchical'"
   ]
  },
  {
   "cell_type": "markdown",
   "metadata": {},
   "source": [
    "### Prepare Data"
   ]
  },
  {
   "cell_type": "code",
   "execution_count": 6,
   "metadata": {
    "ExecuteTime": {
     "end_time": "2018-01-06T07:33:28.323287Z",
     "start_time": "2018-01-06T07:33:28.270813Z"
    },
    "collapsed": true
   },
   "outputs": [],
   "source": [
    "min_rts = np.array(data.groupby(['participant_id', 'trial_type']).response_time.min())\n",
    "min_rt_i = min_rts[1::2]\n",
    "min_rt_c = min_rts[::2]\n",
    "ns = len(data.participant_id.unique())\n",
    "data_i = data[data.trial_type == 'incongruent']\n",
    "data_c = data[data.trial_type == 'congruent']\n",
    "ll_i = data_i.participant_id.astype('category').cat.codes + 1\n",
    "ll_c = data_c.participant_id.astype('category').cat.codes + 1\n",
    "rt_i = data_i.response_time\n",
    "rt_c = data_c.response_time\n",
    "data_in = {'Ns': ns, 'll_i': ll_i, 'Ni': len(rt_i), 'rt_i': rt_i,\n",
    "           'll_c': ll_c, 'Nc': len(rt_c), 'rt_c': rt_c,\n",
    "           'min_rt_i': min_rt_i, 'min_rt_c': min_rt_c}"
   ]
  },
  {
   "cell_type": "markdown",
   "metadata": {},
   "source": [
    "### Compile & Fit Model"
   ]
  },
  {
   "cell_type": "code",
   "execution_count": 7,
   "metadata": {
    "ExecuteTime": {
     "end_time": "2018-01-06T08:01:53.448436Z",
     "start_time": "2018-01-06T07:33:30.030847Z"
    }
   },
   "outputs": [
    {
     "name": "stderr",
     "output_type": "stream",
     "text": [
      "INFO:pystan:COMPILING THE C++ CODE FOR MODEL weibull_hierarchical_5954055af205493781530fbe4b1191ec NOW.\n"
     ]
    },
    {
     "name": "stdout",
     "output_type": "stream",
     "text": [
      "Starting Model Fit...\n",
      "Compiling Model...\n",
      "Compiling took 0 min. 37 sec.\n",
      "Computing MAP Estimates...\n",
      "Finding MAP estimates took 0 min. 4 sec.\n",
      "Sampling from Posterior...\n",
      "Drawing 1000 Posterior Samples took 27 min. 39 sec.\n",
      "Extracting Samples...\n",
      "Extracting samples took 0 min. 0 sec.\n",
      "Extracting Fit Summary...\n",
      "Extracting fit summary took 0 min. 1 sec.\n",
      "Pickling Model Fit...\n",
      "Pickling model fit took 0 min. 0 sec.\n",
      "Total Time: took 28 min. 23 sec.\n",
      "Finished\n"
     ]
    }
   ],
   "source": [
    "n_iter = 1000\n",
    "n_chains = 3\n",
    "model_fit = fit_model(model, 'weibull', data_in, n_iter=n_iter, \n",
    "                      seed=7, init='random', n_chains=n_chains)"
   ]
  },
  {
   "cell_type": "markdown",
   "metadata": {},
   "source": [
    "### Plot Results"
   ]
  },
  {
   "cell_type": "code",
   "execution_count": 7,
   "metadata": {
    "ExecuteTime": {
     "end_time": "2018-01-06T17:25:27.676241Z",
     "start_time": "2018-01-06T17:25:27.324375Z"
    },
    "collapsed": true
   },
   "outputs": [],
   "source": [
    "model_fit = pickle.load(open('../models/weibull/%s.pkl' % model, 'r'))"
   ]
  },
  {
   "cell_type": "markdown",
   "metadata": {},
   "source": [
    "#### Plot the Posteriors"
   ]
  },
  {
   "cell_type": "code",
   "execution_count": 8,
   "metadata": {
    "ExecuteTime": {
     "end_time": "2018-01-06T17:25:30.893384Z",
     "start_time": "2018-01-06T17:25:29.901212Z"
    }
   },
   "outputs": [
    {
     "data": {
      "application/vnd.jupyter.widget-view+json": {
       "model_id": "50abc01a30e6439883f27a64f858d747",
       "version_major": 2,
       "version_minor": 0
      },
      "text/html": [
       "<p>Failed to display Jupyter Widget of type <code>interactive</code>.</p>\n",
       "<p>\n",
       "  If you're reading this message in the Jupyter Notebook or JupyterLab Notebook, it may mean\n",
       "  that the widgets JavaScript is still loading. If this message persists, it\n",
       "  likely means that the widgets JavaScript library is either not installed or\n",
       "  not enabled. See the <a href=\"https://ipywidgets.readthedocs.io/en/stable/user_install.html\">Jupyter\n",
       "  Widgets Documentation</a> for setup instructions.\n",
       "</p>\n",
       "<p>\n",
       "  If you're reading this message in another frontend (for example, a static\n",
       "  rendering on GitHub or <a href=\"https://nbviewer.jupyter.org/\">NBViewer</a>),\n",
       "  it may mean that your frontend doesn't currently support widgets.\n",
       "</p>\n"
      ],
      "text/plain": [
       "interactive(children=(Dropdown(description=u'param', options=(u'scale_group_k_congruent', u'scale_group_theta_congruent', u'scale_group_k_incongruent', u'scale_group_theta_incongruent', u'shape_group_k_congruent', u'shape_group_theta_congruent', u'shape_group_k_incongruent', u'shape_group_theta_incongruent', u'shift_group_k_congruent', u'shift_group_theta_congruent', u'shift_group_k_incongruent', u'shift_group_theta_incongruent', u'shift_inc', u'shift_con', u'scale_congruent', u'scale_incongruent', u'shape_congruent', u'shape_incongruent', u'shift_incongruent', u'shift_congruent', u'beta_shift', u'beta_shape', u'beta_scale', u'scale_group_mode_incongruent', u'scale_group_mode_congruent', u'shape_group_mode_incongruent', u'shape_group_mode_congruent', u'shift_group_mode_incongruent', u'shift_group_mode_congruent', u'group_beta_shape', u'group_beta_scale', u'group_beta_shift'), value=u'scale_group_k_congruent'), Dropdown(description=u'subject', options=('sub-hc001', 'sub-hc002', 'sub-hc003', 'sub-hc004', 'sub-hc005', 'sub-hc006', 'sub-hc007', 'sub-hc008', 'sub-hc009', 'sub-hc010', 'sub-hc011', 'sub-hc012', 'sub-hc013', 'sub-hc014', 'sub-hc015', 'sub-hc016', 'sub-hc017', 'sub-hc018', 'sub-hc019', 'sub-hc020', 'sub-hc021', 'sub-hc022', 'sub-hc023', 'sub-hc024', 'sub-hc025', 'sub-hc026', 'sub-hc027', 'sub-hc028', 'sub-hc029', 'sub-hc030', 'sub-hc031', 'sub-hc032', 'sub-hc033', 'sub-hc034', 'sub-hc035', 'sub-hc036', 'sub-hc037', 'sub-hc038', 'sub-hc041', 'sub-hc042', 'sub-hc044', 'sub-hc045', 'sub-hc047', 'sub-pp001', 'sub-pp002', 'sub-pp003', 'sub-pp004', 'sub-pp005', 'sub-pp006', 'sub-pp007', 'sub-pp008', 'sub-pp009', 'sub-pp010', 'sub-pp011', 'sub-pp012', 'sub-pp013', 'sub-pp014', 'sub-pp015', 'sub-pp016'), value='sub-hc001'), Output()), _dom_classes=('widget-interact',))"
      ]
     },
     "metadata": {},
     "output_type": "display_data"
    }
   ],
   "source": [
    "interact(plot_posterior, param=model_fit['map'].keys(), model_fit=fixed(model_fit),\n",
    "         subject=subjects, subjects=fixed(subjects));"
   ]
  },
  {
   "cell_type": "markdown",
   "metadata": {},
   "source": [
    "#### Plot the MAP Fits"
   ]
  },
  {
   "cell_type": "code",
   "execution_count": 16,
   "metadata": {
    "ExecuteTime": {
     "end_time": "2018-01-06T17:07:44.985359Z",
     "start_time": "2018-01-06T17:07:44.383195Z"
    }
   },
   "outputs": [
    {
     "data": {
      "application/vnd.jupyter.widget-view+json": {
       "model_id": "66ff7f42c7fb4c5d8ecd1306af5a4e88",
       "version_major": 2,
       "version_minor": 0
      },
      "text/html": [
       "<p>Failed to display Jupyter Widget of type <code>interactive</code>.</p>\n",
       "<p>\n",
       "  If you're reading this message in the Jupyter Notebook or JupyterLab Notebook, it may mean\n",
       "  that the widgets JavaScript is still loading. If this message persists, it\n",
       "  likely means that the widgets JavaScript library is either not installed or\n",
       "  not enabled. See the <a href=\"https://ipywidgets.readthedocs.io/en/stable/user_install.html\">Jupyter\n",
       "  Widgets Documentation</a> for setup instructions.\n",
       "</p>\n",
       "<p>\n",
       "  If you're reading this message in another frontend (for example, a static\n",
       "  rendering on GitHub or <a href=\"https://nbviewer.jupyter.org/\">NBViewer</a>),\n",
       "  it may mean that your frontend doesn't currently support widgets.\n",
       "</p>\n"
      ],
      "text/plain": [
       "interactive(children=(Dropdown(description=u'subject', options=('sub-hc001', 'sub-hc002', 'sub-hc003', 'sub-hc004', 'sub-hc005', 'sub-hc006', 'sub-hc007', 'sub-hc008', 'sub-hc009', 'sub-hc010', 'sub-hc011', 'sub-hc012', 'sub-hc013', 'sub-hc014', 'sub-hc015', 'sub-hc016', 'sub-hc017', 'sub-hc018', 'sub-hc019', 'sub-hc020', 'sub-hc021', 'sub-hc022', 'sub-hc023', 'sub-hc024', 'sub-hc025', 'sub-hc026', 'sub-hc027', 'sub-hc028', 'sub-hc029', 'sub-hc030', 'sub-hc031', 'sub-hc032', 'sub-hc033', 'sub-hc034', 'sub-hc035', 'sub-hc036', 'sub-hc037', 'sub-hc038', 'sub-hc041', 'sub-hc042', 'sub-hc044', 'sub-hc045', 'sub-hc047', 'sub-pp001', 'sub-pp002', 'sub-pp003', 'sub-pp004', 'sub-pp005', 'sub-pp006', 'sub-pp007', 'sub-pp008', 'sub-pp009', 'sub-pp010', 'sub-pp011', 'sub-pp012', 'sub-pp013', 'sub-pp014', 'sub-pp015', 'sub-pp016'), value='sub-hc001'), Output()), _dom_classes=('widget-interact',))"
      ]
     },
     "metadata": {},
     "output_type": "display_data"
    }
   ],
   "source": [
    "interact(plot_weibull_subject_fit, model_name=fixed(model), model_fit=fixed(model_fit), \n",
    "         behavior=fixed(data), subject=subjects, subjects=fixed(subjects));"
   ]
  },
  {
   "cell_type": "code",
   "execution_count": null,
   "metadata": {
    "collapsed": true
   },
   "outputs": [],
   "source": []
  }
 ],
 "metadata": {
  "kernelspec": {
   "display_name": "Python 2",
   "language": "python",
   "name": "python2"
  },
  "language_info": {
   "codemirror_mode": {
    "name": "ipython",
    "version": 2
   },
   "file_extension": ".py",
   "mimetype": "text/x-python",
   "name": "python",
   "nbconvert_exporter": "python",
   "pygments_lexer": "ipython2",
   "version": "2.7.13"
  },
  "toc": {
   "colors": {
    "hover_highlight": "#DAA520",
    "navigate_num": "#000000",
    "navigate_text": "#333333",
    "running_highlight": "#FF0000",
    "selected_highlight": "#FFD700",
    "sidebar_border": "#EEEEEE",
    "wrapper_background": "#FFFFFF"
   },
   "moveMenuLeft": true,
   "nav_menu": {
    "height": "102px",
    "width": "252px"
   },
   "navigate_menu": true,
   "number_sections": true,
   "sideBar": true,
   "skip_h1_title": false,
   "threshold": 4,
   "toc_cell": false,
   "toc_position": {
    "height": "696px",
    "left": "0px",
    "right": "1162px",
    "top": "107px",
    "width": "278px"
   },
   "toc_section_display": "block",
   "toc_window_display": true,
   "widenNotebook": false
  },
  "varInspector": {
   "cols": {
    "lenName": 16,
    "lenType": 16,
    "lenVar": 40
   },
   "kernels_config": {
    "python": {
     "delete_cmd_postfix": "",
     "delete_cmd_prefix": "del ",
     "library": "var_list.py",
     "varRefreshCmd": "print(var_dic_list())"
    },
    "r": {
     "delete_cmd_postfix": ") ",
     "delete_cmd_prefix": "rm(",
     "library": "var_list.r",
     "varRefreshCmd": "cat(var_dic_list()) "
    }
   },
   "types_to_exclude": [
    "module",
    "function",
    "builtin_function_or_method",
    "instance",
    "_Feature"
   ],
   "window_display": false
  }
 },
 "nbformat": 4,
 "nbformat_minor": 2
}
