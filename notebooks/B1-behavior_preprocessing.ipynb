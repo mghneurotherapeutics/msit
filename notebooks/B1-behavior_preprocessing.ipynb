{
 "cells": [
  {
   "cell_type": "markdown",
   "metadata": {},
   "source": [
    "# Behavior Preprocessing"
   ]
  },
  {
   "cell_type": "markdown",
   "metadata": {},
   "source": [
    "# Create Group Tidy DataFrame\n",
    "\n",
    "The raw data gives us a separate dataframe per subject per modality. Ideally, we'd like to have a single group tidy dataframe to make visualizing and analyzing the group behavior easier. The cell below takes every individual subject dataframe and concatenates them into a single group dataframe where every row is a separate trial. The multilevel hierarchy of the data (subject > modality > trial) is accessible with participant_id and modality columns added to the dataframe. \n",
    "\n",
    "In addition to creating the group dataframe, the code first cleans up each individual subject's dataframe and extracts useful derived quantities."
   ]
  },
  {
   "cell_type": "code",
   "execution_count": null,
   "metadata": {
    "ExecuteTime": {
     "end_time": "2018-05-23T17:28:04.958429Z",
     "start_time": "2018-05-23T17:28:02.692330Z"
    }
   },
   "outputs": [],
   "source": [
    "import sys\n",
    "sys.path.append('../src')\n",
    "from utils import select_subjects\n",
    "from behavior import create_tidy_subject_df\n",
    "import pandas as pd\n",
    "import os\n",
    "\n",
    "group_tidy_df = []\n",
    "beh_f_stem = '../data/%s/%s/%s_task-msit_events.tsv'\n",
    "\n",
    "# iterate through the two modalities\n",
    "for modality in ['eeg', 'fmri']:\n",
    "    \n",
    "    subjects = select_subjects(modality, exclude=[])\n",
    "    \n",
    "    # replace with fmri with func for bids filename extraction\n",
    "    if modality == 'fmri':\n",
    "        stem_mod = 'func'\n",
    "    else:\n",
    "        stem_mod = 'eeg'\n",
    "    \n",
    "    # Iterate through each subject's dataframe, tidy, and concatenate \n",
    "    for subject in subjects:\n",
    "        \n",
    "        filename = beh_f_stem % (subject, stem_mod, subject)\n",
    "        subject_tidy_df = create_tidy_subject_df(filename, subject, modality)\n",
    "\n",
    "        group_tidy_df.append(subject_tidy_df)\n",
    "        \n",
    "# concatenate into single group tidy dataframe\n",
    "group_tidy_df = pd.concat(group_tidy_df)\n",
    "\n",
    "# select out and re-order columns, order rows\n",
    "group_tidy_df = group_tidy_df[['participant_id', 'modality', 'trial', \n",
    "                               'onset', 'duration', 'iti', 'trial_type', \n",
    "                               'response_time', 'chosen_response', \n",
    "                               'correct_response', 'response_accuracy', \n",
    "                               'stimulus', 'error', 'post_error', \n",
    "                               'no_response', 'trial_type_sequence', \n",
    "                               'fast_rt']]\n",
    "group_tidy_df = group_tidy_df.sort_values(by=['participant_id',\n",
    "                                              'modality',\n",
    "                                              'trial'])\n",
    "# Save out to derivatives folder \n",
    "deriv_dir = '../data/derivatives/behavior'\n",
    "if not os.path.exists(deriv_dir):\n",
    "    os.makedirs(deriv_dir)\n",
    "group_tidy_df.to_csv('%s/group_data.tsv' % deriv_dir, sep='\\t',\n",
    "                     index=False, na_rep='n/a')\n",
    "\n",
    "group_tidy_df.head()"
   ]
  },
  {
   "cell_type": "markdown",
   "metadata": {},
   "source": [
    "# Validate Task Design"
   ]
  },
  {
   "cell_type": "markdown",
   "metadata": {},
   "source": [
    "## Check Task Design Consistency\n",
    "\n",
    "First, we check for consistency in the task design across subjects. This was a complicated project that involved a lot of data collection across a long period of time. Thus, we want to make sure that every subject got the same version of the MSIT task. The cell below checks this by comparing every subject's task design dataframes to one another."
   ]
  },
  {
   "cell_type": "code",
   "execution_count": 2,
   "metadata": {
    "ExecuteTime": {
     "end_time": "2018-05-23T17:28:32.426758Z",
     "start_time": "2018-05-23T17:28:31.883449Z"
    }
   },
   "outputs": [],
   "source": [
    "import pandas as pd\n",
    "\n",
    "df = pd.read_csv('../data/derivatives/behavior/group_data.tsv',\n",
    "                      sep='\\t', na_values='n/a')\n",
    "\n",
    "# filter to columns corresponding to task design that should \n",
    "# be identical\n",
    "columns = ['duration', 'iti', 'stimulus', 'correct_response', \n",
    "           'trial_type_sequence']\n",
    "\n",
    "for modality in ['eeg', 'fmri']:\n",
    "\n",
    "    # filter to given modality\n",
    "    mod_df = df[df.modality == modality]\n",
    "    \n",
    "    # iterate through all participant dataframes checking that they are\n",
    "    # equivalent to first participant's dataframe (and thus to each other)\n",
    "    mod_subjects = mod_df.participant_id.unique()\n",
    "    ref_df = mod_df[mod_df.participant_id == mod_subjects[0]]\n",
    "    ref_df = ref_df[columns].reset_index(drop=True)\n",
    "    for i in range(1, len(mod_subjects)):\n",
    "        check_df = mod_df[mod_df.participant_id == mod_subjects[i]]\n",
    "        check_df = ref_df[columns].reset_index(drop=True)\n",
    "        pd.testing.assert_frame_equal(ref_df, check_df)"
   ]
  },
  {
   "cell_type": "markdown",
   "metadata": {},
   "source": [
    "We see no output... which is good! This means our assertion that all of the participant task design dataframes within each modality were equal did not fail. All participants received the same design as intended. "
   ]
  },
  {
   "cell_type": "markdown",
   "metadata": {},
   "source": [
    "### Verify Task Design Parameters \n",
    "\n",
    "In the next series of cells, we will extract and verify a set of important parameters regarding our task design. We'll also reveal any differences between the EEG and fMRI design as well. Since we've already verified that our task design is identical across subjects, we'll select out only the first subject's dataframe and analyze their task design information knowing that it is equivalent for all other subjects."
   ]
  },
  {
   "cell_type": "code",
   "execution_count": 3,
   "metadata": {
    "ExecuteTime": {
     "end_time": "2018-05-23T17:29:13.153608Z",
     "start_time": "2018-05-23T17:29:13.075612Z"
    }
   },
   "outputs": [],
   "source": [
    "import pandas as pd\n",
    "import matplotlib.pyplot as plt\n",
    "import seaborn as sns\n",
    "import numpy as np\n",
    "\n",
    "sns.set(style='whitegrid', font_scale=1.5)\n",
    "\n",
    "df = pd.read_csv('../data/derivatives/behavior/group_data.tsv',\n",
    "                 sep='\\t', na_values='n/a')\n",
    "df = df[df.participant_id == 'sub-hc001']"
   ]
  },
  {
   "cell_type": "markdown",
   "metadata": {},
   "source": [
    "#### Trial Counts\n",
    "\n",
    "The main contrast of interest is incongruent vs. congruent trials so let's see the trial counts:"
   ]
  },
  {
   "cell_type": "code",
   "execution_count": 4,
   "metadata": {
    "ExecuteTime": {
     "end_time": "2018-05-23T17:29:14.527607Z",
     "start_time": "2018-05-23T17:29:14.514997Z"
    }
   },
   "outputs": [
    {
     "data": {
      "text/plain": [
       "modality  trial_type \n",
       "eeg       congruent      96\n",
       "          incongruent    96\n",
       "fmri      congruent      96\n",
       "          incongruent    96\n",
       "Name: onset, dtype: int64"
      ]
     },
     "execution_count": 4,
     "metadata": {},
     "output_type": "execute_result"
    }
   ],
   "source": [
    "df.groupby(['modality', 'trial_type']).onset.count()"
   ]
  },
  {
   "cell_type": "markdown",
   "metadata": {},
   "source": [
    "Researchers have also traditionally looked at the effect of the previous trial type as a proxy for the effect of \"conflict adaptation\". For example, one would expect a person to be better at resolving an incongruent if they had more recently had to resolve such a trial."
   ]
  },
  {
   "cell_type": "code",
   "execution_count": 5,
   "metadata": {
    "ExecuteTime": {
     "end_time": "2018-05-23T17:29:42.101120Z",
     "start_time": "2018-05-23T17:29:42.083966Z"
    }
   },
   "outputs": [
    {
     "data": {
      "text/plain": [
       "modality  trial_type_sequence\n",
       "eeg       cc                     47\n",
       "          ci                     48\n",
       "          ic                     49\n",
       "          ii                     47\n",
       "fmri      cc                     48\n",
       "          ci                     47\n",
       "          ic                     48\n",
       "          ii                     48\n",
       "Name: onset, dtype: int64"
      ]
     },
     "execution_count": 5,
     "metadata": {},
     "output_type": "execute_result"
    }
   ],
   "source": [
    "df.groupby(['modality', 'trial_type_sequence']).onset.count()"
   ]
  },
  {
   "cell_type": "markdown",
   "metadata": {},
   "source": [
    "Interestingly, we don't quite have a balance in the eeg design (one more ic than there should be). Since we have an even number of trials there are an odd number of sequences and thus we can't have a perfect balance as one condition must have one less."
   ]
  },
  {
   "cell_type": "markdown",
   "metadata": {},
   "source": [
    "#### Trial Sequences\n",
    "\n",
    "To develop some intution about the full trial sequences, let's plot a smoothed version of the condition sequences. "
   ]
  },
  {
   "cell_type": "code",
   "execution_count": 6,
   "metadata": {
    "ExecuteTime": {
     "end_time": "2018-05-23T17:29:54.538493Z",
     "start_time": "2018-05-23T17:29:54.236869Z"
    }
   },
   "outputs": [
    {
     "data": {
      "image/png": "[encoded data removed]",
      "text/plain": [
       "<matplotlib.figure.Figure at 0x7fe0209428d0>"
      ]
     },
     "metadata": {},
     "output_type": "display_data"
    }
   ],
   "source": [
    "plt.figure(figsize=(10, 6))\n",
    "\n",
    "modalities = ['eeg', 'fmri']\n",
    "for i, modality in enumerate(modalities):\n",
    "    mod_df = df[df.modality == modality]\n",
    "    trial_types = mod_df.trial_type.astype('category').cat.codes\n",
    "    plt.plot(np.convolve(trial_types, np.ones((10,))/10, mode='valid'))\n",
    "    \n",
    "plt.legend(modalities)\n",
    "plt.axhline(0.5, color='k')\n",
    "plt.title('Smoothed Trial Type Sequences')\n",
    "plt.xlim((0, len(trial_types)))\n",
    "\n",
    "sns.despine()\n",
    "plt.show();"
   ]
  },
  {
   "cell_type": "markdown",
   "metadata": {},
   "source": [
    "The time series above are smoothed with a moving average of every 10 timepoints. This allows us to get a sense of how the relative fractions of congruent vs. incongruent trials change throughout the experiment. The relative fraction is typically fairly centered around 0.5 (the mean is 0.5 since we do have an equal fraction across the entire experiment) with the exception of a particularly strong incongruent bias around 100 trials in. Note that there is a bit of a congruent bias in the first half of the experiment and then a more incongruent bias in the second half of the experiment, but it is relatively minor.\n",
    "\n",
    "One interesting peculiarity is that the eeg and fmri trial sequences appear to be identical with the exception of a difference somewhere around trial 25. I would have expected them to be more different given that the n-1 sequence counts were different, but it looks as if those n-1 trial sequence count differences may have been due to a single shift. Let's investigate."
   ]
  },
  {
   "cell_type": "code",
   "execution_count": 7,
   "metadata": {
    "ExecuteTime": {
     "end_time": "2018-05-23T17:30:30.939777Z",
     "start_time": "2018-05-23T17:30:30.919124Z"
    }
   },
   "outputs": [
    {
     "name": "stdout",
     "output_type": "stream",
     "text": [
      "(array([22, 23]),)\n",
      "20    0\n",
      "21    1\n",
      "22    0\n",
      "23    1\n",
      "24    0\n",
      "dtype: int8\n",
      "212    0\n",
      "213    1\n",
      "214    1\n",
      "215    0\n",
      "216    0\n",
      "dtype: int8\n"
     ]
    }
   ],
   "source": [
    "eeg = df[df.modality == 'eeg'].trial_type.astype('category').cat.codes\n",
    "fmri = df[df.modality == 'fmri'].trial_type.astype('category').cat.codes\n",
    "print(np.where(np.abs(np.array(eeg) - np.array(fmri)) > 0))\n",
    "print(eeg[20:25])\n",
    "print(fmri[20:25])"
   ]
  },
  {
   "cell_type": "markdown",
   "metadata": {},
   "source": [
    "Very peculiar. Trials 23 and 24 are swapped between the eeg and fmri versions. I have no idea why the trial sequences would be different like this. I would either expect them to be completely different or exactly identical. In any case, we can conclude that the trial sequences are effectively identical though there is this one small difference."
   ]
  },
  {
   "cell_type": "markdown",
   "metadata": {},
   "source": [
    "#### Trial Timing\n",
    "\n",
    "First, let's see what the total run time of our tasks was:"
   ]
  },
  {
   "cell_type": "code",
   "execution_count": 8,
   "metadata": {
    "ExecuteTime": {
     "end_time": "2018-05-23T17:30:58.862180Z",
     "start_time": "2018-05-23T17:30:58.765978Z"
    }
   },
   "outputs": [
    {
     "data": {
      "text/plain": [
       "modality\n",
       "eeg     11 min 59 sec\n",
       "fmri     6 min 37 sec\n",
       "Name: trial_time, dtype: object"
      ]
     },
     "execution_count": 8,
     "metadata": {},
     "output_type": "execute_result"
    }
   ],
   "source": [
    "def time_column(seq):\n",
    "    total = seq.sum()\n",
    "    m, s = total // 60, total % 60\n",
    "    return '%d min %d sec' % (m, s)\n",
    "\n",
    "df['trial_time'] = df['duration'] + df['iti']\n",
    "df.groupby(['modality'])['trial_time'].apply(time_column)"
   ]
  },
  {
   "cell_type": "markdown",
   "metadata": {},
   "source": [
    "So we see that the eeg version is almost twice as long. Since they have the same trial counts, this must stem from timing differences. We check the response windows."
   ]
  },
  {
   "cell_type": "code",
   "execution_count": 9,
   "metadata": {
    "ExecuteTime": {
     "end_time": "2018-05-23T17:31:04.705282Z",
     "start_time": "2018-05-23T17:31:04.612163Z"
    }
   },
   "outputs": [
    {
     "data": {
      "text/plain": [
       "modality  duration\n",
       "eeg       1.75        192\n",
       "fmri      1.75        192\n",
       "Name: duration, dtype: int64"
      ]
     },
     "execution_count": 9,
     "metadata": {},
     "output_type": "execute_result"
    }
   ],
   "source": [
    "df.groupby(['modality', 'duration']).duration.count()"
   ]
  },
  {
   "cell_type": "markdown",
   "metadata": {},
   "source": [
    "So every response was limited to 1.75 seconds. This isn't the difference since the task did not advance on a response being made. The difference must stem from the inter-trial interval differences so let's take a look at those:"
   ]
  },
  {
   "cell_type": "code",
   "execution_count": 12,
   "metadata": {
    "ExecuteTime": {
     "end_time": "2018-05-23T17:31:41.173259Z",
     "start_time": "2018-05-23T17:31:41.157003Z"
    }
   },
   "outputs": [
    {
     "data": {
      "text/plain": [
       "modality  iti \n",
       "eeg       1.75     64\n",
       "          2.00     65\n",
       "          2.25     63\n",
       "fmri      0.00    162\n",
       "          1.75     26\n",
       "          3.50      3\n",
       "          5.25      1\n",
       "Name: iti, dtype: int64"
      ]
     },
     "execution_count": 12,
     "metadata": {},
     "output_type": "execute_result"
    }
   ],
   "source": [
    "df.groupby(['modality', 'iti']).iti.count()"
   ]
  },
  {
   "cell_type": "markdown",
   "metadata": {},
   "source": [
    "So we see that the EEG design has an ITI distribution ~ U([1.75, 2, 2.25]). It is important that the ITI is not purely constant as this variation (often referred to as jitter) prevents predicting the upcoming trial onset which can affect the baseline period of the eeg signal. For the fmri, we see that the majority of the differences are 0 with some out at 1.75, 3.5 and 5.25 in decreasing amounts. I'm not entirely sure on the basis of this ITI distribution, but supposedly it was determined by optseq to provide an optimal design given the trial design and trial counts. We can clearly see that the difference in timing comes from the fmri iti's being predominantly 0."
   ]
  },
  {
   "cell_type": "markdown",
   "metadata": {},
   "source": [
    "# Subject Exclusions"
   ]
  },
  {
   "cell_type": "markdown",
   "metadata": {},
   "source": [
    "### Visualize Exclusion Metrics\n",
    "\n",
    "Here we will check some measures to determine if any subject's data should be excluded based on 3 different factors:\n",
    "\n",
    "- Non-reponses: Non-responses can imply that a person struggled with a trial and wasn't able to respond in time. Or more problematically, they can imply a lack of engagement with the task (in the worst case, they may even be dozing off). An excessive non-response rate may suggest grounds for exclusion since it signals severe disengagement and/or that the response timeout was too fast for that participant.\n",
    "- Errors: While errors in and of themselves aren't bad and suggest the task has some difficulty to it, excessive errors could imply an inability to understand the task. In the extreme case, they could also signal indiscriminate responding or a misunderstanding of the task rules.\n",
    "- Fast Responses: Large amounts of fast responses (defined here as less than 200 ms) could imply that the subject was again indiscriminately responding since responses at this speed are too fast to have resolved the correct response. "
   ]
  },
  {
   "cell_type": "code",
   "execution_count": 13,
   "metadata": {
    "ExecuteTime": {
     "end_time": "2018-05-23T17:32:53.970254Z",
     "start_time": "2018-05-23T17:32:52.182015Z"
    }
   },
   "outputs": [
    {
     "data": {
      "image/png": "[encoded data removed]",
      "text/plain": [
       "<matplotlib.figure.Figure at 0x7fe01d4c5cd0>"
      ]
     },
     "metadata": {},
     "output_type": "display_data"
    }
   ],
   "source": [
    "import pandas as pd\n",
    "import seaborn as sns\n",
    "import matplotlib.pyplot as plt\n",
    "\n",
    "sns.set(style='whitegrid')\n",
    "\n",
    "df = pd.read_csv('../data/derivatives/behavior/group_data.tsv',\n",
    "                      sep='\\t', na_values='n/a')\n",
    "\n",
    "agg_df = df[['participant_id', 'modality', 'error', 'no_response', \n",
    "                  'fast_rt']] \\\n",
    "             .groupby(['participant_id', 'modality'], as_index=False) \\\n",
    "             .agg({'error': 'mean', 'no_response': 'mean',\n",
    "                   'fast_rt': 'sum'}) \n",
    "        \n",
    "sns.pairplot(agg_df, hue='modality', size=3, aspect=1)\n",
    "plt.show()"
   ]
  },
  {
   "cell_type": "markdown",
   "metadata": {},
   "source": [
    "A few outliers immediately jump out:\n",
    "- We have an eeg participant who had nearly a 100 percent error rate on top of a 30 percent missing rate who we will definitely need to exclude. I'm not exactly sure how they had such a high error rate. Even random responding would be expected to result in a lower error rate. On top of that, they did the task without an excessive error rate in the fmri prior to the eeg version. Even if they were responding according to an incorrect rule (i.e. location instead of identity), I still wouldn't expect the error rate to be that high. \n",
    "- We have a fmri participant who had a fairly large error rate (~20%) and a large number of fast responses and fairly large non_reponse rate. This is again suggestive of someone who was not engaged. They were responding too quickly to be able to evaluate the response frequently, they were getting a lot of trials wrong (probably a lot due to the fast responses), and they didn't engage with 10-20% of the trials. Probably grounds for exclusion.\n",
    "- There is another individual who didn't respond on greater than 30% of trials. Though they didn't have a particularly large error rate, this is still a significant percentage of trials to not respond and probably grounds for exclusion.\n",
    "\n",
    "Some comments on distributions:\n",
    "- Fast responses: Apart from our outlier, our fast responses are very reasonable with the next highest value being around 5 or so and most being at 0.\n",
    "- Error: Apart from two of our outliers, the vast majority of our the density lies around 0. While it is nice not to have too many excessive error rates, this also seems to hint that we may not have enough errors to be able to explore them as a dependent variable. We'll look more closely later.\n",
    "- Non-Reponses: The vast majority of the density is clustered around 0. We have the two outliers out at around 30%. We also have a smaller cluster of individuals around 10-20% that we should be wary of."
   ]
  },
  {
   "cell_type": "markdown",
   "metadata": {},
   "source": [
    "### Subject Exclusions\n",
    "\n",
    "Here we will actually denote subject exclusions. To avoid complete subjectivity, we'll use a more objective criterion for exclusion. Since all of our exclusion metrics above lead to data lost, we can collapse all of our metrics into a single metric: the number of non-excluded trials. We can then define a threshold for outliers along this metric. Here we'll use the following metric:\n",
    "\n",
    "Exclude subject if number of trials after all exclusions < (median - 3 * mad) \n",
    "\n",
    "This is similar to z-scoring, but we use robust versions of the mean and standard deviation since we know our distribution will be skewed with some large outliers. The three is somewhat arbitrary and comes as a slightly more data keeping conservative threshold than the 2 standard deviations I've seen typically."
   ]
  },
  {
   "cell_type": "code",
   "execution_count": 14,
   "metadata": {
    "ExecuteTime": {
     "end_time": "2018-05-23T17:35:01.390223Z",
     "start_time": "2018-05-23T17:35:00.678741Z"
    }
   },
   "outputs": [
    {
     "name": "stdout",
     "output_type": "stream",
     "text": [
      "eeg\n",
      "Threshold: 154 trials\n",
      "Rejected Subjects:\n",
      "   participant_id modality  fast_rt  no_response     error\n",
      "24      sub-hc013      eeg        0     0.338542  0.976378\n",
      "52      sub-hc027      eeg        0     0.338542  0.047244\n",
      "fmri\n",
      "Threshold: 173 trials\n",
      "Rejected Subjects:\n",
      "   participant_id modality  fast_rt  no_response     error\n",
      "53      sub-hc027     fmri        2     0.135417  0.108434\n",
      "75      sub-hc041     fmri       16     0.151042  0.208589\n"
     ]
    },
    {
     "data": {
      "image/png": "[encoded data removed]",
      "text/plain": [
       "<matplotlib.figure.Figure at 0x7fe01cac8890>"
      ]
     },
     "metadata": {},
     "output_type": "display_data"
    }
   ],
   "source": [
    "import pandas as pd\n",
    "import matplotlib.pyplot as plt\n",
    "import seaborn as sns\n",
    "import numpy as np\n",
    "\n",
    "sns.set(style='whitegrid')\n",
    "\n",
    "df = pd.read_csv('../data/derivatives/behavior/group_data.tsv',\n",
    "                 sep='\\t', na_values='n/a')\n",
    "exclusions = {}\n",
    "\n",
    "# Create a new column that is 0 if a trial passes all \n",
    "# of our exclusion metrics\n",
    "exclusion_columns = ['error', 'no_response', 'fast_rt']\n",
    "df = df[['participant_id', 'modality'] + exclusion_columns]\n",
    "df['exclude'] = df.sum(axis=1)\n",
    "\n",
    "# Create a summary dataframe with non-excluded trial counts\n",
    "trial_count_df = df[df.exclude == 0] \\\n",
    "                 .groupby(['participant_id', 'modality'],\n",
    "                          as_index=False) \\\n",
    "                 .agg('count')\n",
    "    \n",
    "# Create a summary dataframe with exclusion metrics for each participant\n",
    "# modality pairing\n",
    "agg_df = df.groupby(['participant_id', 'modality'], as_index=False) \\\n",
    "                .agg({'error': 'mean', 'no_response': 'mean',\n",
    "                      'fast_rt': 'sum'})\n",
    "    \n",
    "\n",
    "# Iterate through modalities\n",
    "for col, mod in zip(['#377eb8', '#4daf4a'], ['eeg', 'fmri']):\n",
    "    print(mod)\n",
    "    \n",
    "    exclusions[mod] =[] \n",
    "    \n",
    "    # Subset our summary dataframes by modality\n",
    "    trial_mod_df = trial_count_df[trial_count_df.modality == mod]\n",
    "    agg_mod_df = agg_df[agg_df.modality == mod]\n",
    "    \n",
    "    # Calculate exclusion threshold\n",
    "    threshold = trial_mod_df['error'].median() - \\\n",
    "                3 * trial_mod_df['error'].mad()\n",
    "    print('Threshold: %d trials' % threshold)\n",
    "    \n",
    "    # Plot distribution of trials counts with threshold cutoff\n",
    "    sns.distplot(trial_mod_df['error'], norm_hist=False, kde=False, \n",
    "                 color=col)\n",
    "    plt.axvline(threshold, color=col, label='__no_legend')\n",
    "    \n",
    "    # Extract subject indices of excluded subjects by threshold\n",
    "    sub_ix = np.where(trial_mod_df['error'] < threshold)[0]\n",
    "    \n",
    "    print('Rejected Subjects:')\n",
    "        \n",
    "    # show exclusion information\n",
    "    sub = agg_mod_df.iloc[sub_ix, :]\n",
    "    print(sub)\n",
    "        \n",
    "    # update our exclusions dictionary\n",
    "    exclusions[mod] += list(sub.participant_id)\n",
    "        \n",
    "        \n",
    "# Pretty plot and show\n",
    "plt.xlabel('Number of Trials')\n",
    "plt.ylabel('Number of Participants')\n",
    "plt.legend(['eeg', 'fmri'], loc='best')\n",
    "sns.despine()\n",
    "plt.show()            "
   ]
  },
  {
   "cell_type": "markdown",
   "metadata": {},
   "source": [
    "We've selected out the very worst offenders in the EEG. We've also picked out two bad subjects in the fmri who lost over a quarter of trials when taking fast responses, no_responses, and errors together. We write these exclusions out to file below."
   ]
  },
  {
   "cell_type": "code",
   "execution_count": null,
   "metadata": {
    "ExecuteTime": {
     "end_time": "2017-11-03T18:36:03.036617Z",
     "start_time": "2017-11-03T18:36:03.013322Z"
    }
   },
   "outputs": [],
   "source": [
    "import sys\n",
    "sys.path.append('../src')\n",
    "from utils import exclude_subjects\n",
    "\n",
    "exclude_subjects(exclusions['fmri'], 'behavior_fmri')\n",
    "exclude_subjects(exclusions['eeg'], 'behavior_eeg')"
   ]
  }
 ],
 "metadata": {
  "kernelspec": {
   "display_name": "Python 2",
   "language": "python",
   "name": "python2"
  },
  "language_info": {
   "codemirror_mode": {
    "name": "ipython",
    "version": 2
   },
   "file_extension": ".py",
   "mimetype": "text/x-python",
   "name": "python",
   "nbconvert_exporter": "python",
   "pygments_lexer": "ipython2",
   "version": "2.7.13"
  },
  "toc": {
   "nav_menu": {
    "height": "210px",
    "width": "252px"
   },
   "number_sections": true,
   "sideBar": true,
   "skip_h1_title": false,
   "toc_cell": false,
   "toc_position": {},
   "toc_section_display": "block",
   "toc_window_display": true
  },
  "varInspector": {
   "cols": {
    "lenName": 16,
    "lenType": 16,
    "lenVar": 40
   },
   "kernels_config": {
    "python": {
     "delete_cmd_postfix": "",
     "delete_cmd_prefix": "del ",
     "library": "var_list.py",
     "varRefreshCmd": "print(var_dic_list())"
    },
    "r": {
     "delete_cmd_postfix": ") ",
     "delete_cmd_prefix": "rm(",
     "library": "var_list.r",
     "varRefreshCmd": "cat(var_dic_list()) "
    }
   },
   "types_to_exclude": [
    "module",
    "function",
    "builtin_function_or_method",
    "instance",
    "_Feature"
   ],
   "window_display": false
  }
 },
 "nbformat": 4,
 "nbformat_minor": 2
}
