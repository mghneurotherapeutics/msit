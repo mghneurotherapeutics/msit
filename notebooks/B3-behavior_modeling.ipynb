{
 "cells": [
  {
   "cell_type": "markdown",
   "metadata": {},
   "source": [
    "# Title"
   ]
  },
  {
   "cell_type": "markdown",
   "metadata": {},
   "source": [
    "# Wald Distribution Intuition"
   ]
  },
  {
   "cell_type": "code",
   "execution_count": 4,
   "metadata": {
    "ExecuteTime": {
     "end_time": "2018-04-20T22:01:37.020709Z",
     "start_time": "2018-04-20T22:01:36.776610Z"
    }
   },
   "outputs": [
    {
     "data": {
      "application/vnd.jupyter.widget-view+json": {
       "model_id": "073a884b843644d59185da9b739026c4",
       "version_major": 2,
       "version_minor": 0
      },
      "text/html": [
       "<p>Failed to display Jupyter Widget of type <code>interactive</code>.</p>\n",
       "<p>\n",
       "  If you're reading this message in the Jupyter Notebook or JupyterLab Notebook, it may mean\n",
       "  that the widgets JavaScript is still loading. If this message persists, it\n",
       "  likely means that the widgets JavaScript library is either not installed or\n",
       "  not enabled. See the <a href=\"https://ipywidgets.readthedocs.io/en/stable/user_install.html\">Jupyter\n",
       "  Widgets Documentation</a> for setup instructions.\n",
       "</p>\n",
       "<p>\n",
       "  If you're reading this message in another frontend (for example, a static\n",
       "  rendering on GitHub or <a href=\"https://nbviewer.jupyter.org/\">NBViewer</a>),\n",
       "  it may mean that your frontend doesn't currently support widgets.\n",
       "</p>\n"
      ],
      "text/plain": [
       "interactive(children=(FloatSlider(value=2.0, description=u'db', max=5.0, step=0.01), FloatSlider(value=4.0, description=u'dr', max=8.0, step=0.01), FloatSlider(value=1.0, description=u'ndt', max=2.0, step=0.01), Output()), _dom_classes=('widget-interact',))"
      ]
     },
     "metadata": {},
     "output_type": "display_data"
    }
   ],
   "source": [
    "import numpy as np\n",
    "from ipywidgets import interact\n",
    "import matplotlib.pyplot as plt\n",
    "\n",
    "def wald(x, alpha, gamma, theta):\n",
    "    first = alpha / (np.sqrt(2 * np.pi * np.power(x - theta, 3)) + 1e-6)\n",
    "    second = np.exp(-(np.power(alpha - gamma * (x - theta), 2)) / (((2 * (x - theta))) + 1e-6))\n",
    "    return first * second\n",
    "\n",
    "def plot_wald(db, dr, ndt):\n",
    "    x = np.arange(ndt, 1.75, .001, dtype=np.float64)\n",
    "    plt.plot(x, wald(x, db, dr, ndt))\n",
    "    plt.xlim((0, 1.75))\n",
    "    plt.show()\n",
    "    \n",
    "interact(plot_wald, db=(0, 5, .01), dr=(0, 8, .01), ndt=(0, 2, .01));"
   ]
  },
  {
   "cell_type": "markdown",
   "metadata": {},
   "source": [
    "# Model Structure"
   ]
  },
  {
   "cell_type": "code",
   "execution_count": null,
   "metadata": {},
   "outputs": [],
   "source": []
  },
  {
   "cell_type": "markdown",
   "metadata": {},
   "source": [
    "# Prior Determination"
   ]
  },
  {
   "cell_type": "code",
   "execution_count": null,
   "metadata": {},
   "outputs": [],
   "source": []
  },
  {
   "cell_type": "markdown",
   "metadata": {},
   "source": [
    "# Model Fitting"
   ]
  },
  {
   "cell_type": "code",
   "execution_count": 1,
   "metadata": {
    "ExecuteTime": {
     "end_time": "2018-04-24T15:39:33.401689Z",
     "start_time": "2018-04-24T15:39:32.460976Z"
    }
   },
   "outputs": [],
   "source": [
    "import pandas as pd\n",
    "import sys\n",
    "sys.path.append('../src')\n",
    "from utils import select_subjects\n",
    "\n",
    "# load in behavioral data and remove bad trials\n",
    "data = pd.read_csv('../data/derivatives/behavior/group_data.tsv', sep='\\t', \n",
    "                   na_values='n/a')\n",
    "exclusions = ['no_response', 'error', 'post_error', 'fast_rt']\n",
    "data = data[data[exclusions].sum(axis=1) == 0]\n",
    "\n",
    "# exclude subjects\n",
    "subjects = select_subjects('both')\n",
    "data = data[data.participant_id.isin(subjects)]\n",
    "\n",
    "# extract data for model\n",
    "data_in = {}\n",
    "data_in['Nt'] = data.shape[0]\n",
    "data_in['rt'] = data.response_time\n",
    "data_in['Ns']  = len(data.participant_id.unique())\n",
    "data_in['min_rt'] = data.groupby(['participant_id']).response_time.min().as_matrix() - .001\n",
    "data_in['sub_ix']= data.participant_id.astype('category').cat.codes + 1\n",
    "data_in['tt']= data.trial_type.astype('category').cat.codes\n",
    "data_in['mod']= data.modality.astype('category').cat.codes"
   ]
  },
  {
   "cell_type": "code",
   "execution_count": 2,
   "metadata": {
    "ExecuteTime": {
     "end_time": "2018-04-24T15:39:34.786240Z",
     "start_time": "2018-04-24T15:39:33.407808Z"
    }
   },
   "outputs": [],
   "source": [
    "import pickle\n",
    "import os\n",
    "import pystan\n",
    "\n",
    "model_name = 'wald_hierarchical'\n",
    "\n",
    "model_f = '../models/%s.stan' % model_name\n",
    "cache_f = '../models/%s.pkl' % model_name\n",
    "\n",
    "if not os.path.exists(cache_f):\n",
    "    model = pystan.StanModel(file=model_f, model_name=model_name)\n",
    "    pickle.dump(model, open(cache_f, 'w+'))\n",
    "else:\n",
    "    model = pickle.load(open(cache_f, 'r'))"
   ]
  },
  {
   "cell_type": "code",
   "execution_count": 7,
   "metadata": {
    "ExecuteTime": {
     "end_time": "2018-04-25T00:51:33.046515Z",
     "start_time": "2018-04-24T23:17:28.398260Z"
    }
   },
   "outputs": [],
   "source": [
    "niter = 3000\n",
    "nwarmup = 2000\n",
    "nchains = 3\n",
    "\n",
    "fit = model.sampling(data=data_in, iter=niter, warmup=nwarmup,\n",
    "                     chains=nchains, init=0, seed=13, thin=5)\n",
    "\n",
    "# samples = extract_samples(fit, sample_exclude)\n",
    "# samples.to_csv('%s/%s_samples.csv' % (model_dir, mod), index=False)\n",
    "\n",
    "# summary = extract_summary(fit, summary_exclude)\n",
    "# summary.to_csv('%s/%s_summary.csv' % (model_dir, mod), index=True)"
   ]
  },
  {
   "cell_type": "code",
   "execution_count": 4,
   "metadata": {
    "ExecuteTime": {
     "end_time": "2018-04-24T16:39:59.856087Z",
     "start_time": "2018-04-24T16:32:31.039894Z"
    }
   },
   "outputs": [],
   "source": [
    "import sys\n",
    "sys.path.append('../src')\n",
    "from stan_utils import extract_summary, extract_samples\n",
    "\n",
    "sample_exclude = ['mu', 'lambda', 'db', 'dr', 'ndt', 'ndt_tmp', 'ndt_sub_tmp']\n",
    "summary_exclude = sample_exclude + ['rt_pred', 'log_lik']\n",
    "\n",
    "samples = extract_samples(fit, sample_exclude)\n",
    "samples.to_csv('../models/wald_hierarchical_samples.csv', index=False)\n",
    "\n",
    "summary = extract_summary(fit, summary_exclude)\n",
    "summary.to_csv('../models/wald_hierarchical_summary.csv', index=True)"
   ]
  },
  {
   "cell_type": "markdown",
   "metadata": {},
   "source": [
    "# Model Diagnostics"
   ]
  },
  {
   "cell_type": "code",
   "execution_count": 8,
   "metadata": {
    "ExecuteTime": {
     "end_time": "2018-04-25T01:09:38.530877Z",
     "start_time": "2018-04-25T01:09:30.551049Z"
    }
   },
   "outputs": [
    {
     "data": {
      "application/vnd.jupyter.widget-view+json": {
       "model_id": "128c678a7e024cb192ea632d3398fcf8",
       "version_major": 2,
       "version_minor": 0
      },
      "text/html": [
       "<p>Failed to display Jupyter Widget of type <code>interactive</code>.</p>\n",
       "<p>\n",
       "  If you're reading this message in the Jupyter Notebook or JupyterLab Notebook, it may mean\n",
       "  that the widgets JavaScript is still loading. If this message persists, it\n",
       "  likely means that the widgets JavaScript library is either not installed or\n",
       "  not enabled. See the <a href=\"https://ipywidgets.readthedocs.io/en/stable/user_install.html\">Jupyter\n",
       "  Widgets Documentation</a> for setup instructions.\n",
       "</p>\n",
       "<p>\n",
       "  If you're reading this message in another frontend (for example, a static\n",
       "  rendering on GitHub or <a href=\"https://nbviewer.jupyter.org/\">NBViewer</a>),\n",
       "  it may mean that your frontend doesn't currently support widgets.\n",
       "</p>\n"
      ],
      "text/plain": [
       "interactive(children=(Dropdown(description=u'param', options=(u'db_beta_mod[0]', u'db_beta_mod[10]', u'db_beta_mod[11]', u'db_beta_mod[12]', u'db_beta_mod[13]', u'db_beta_mod[14]', u'db_beta_mod[15]', u'db_beta_mod[16]', u'db_beta_mod[17]', u'db_beta_mod[18]', u'db_beta_mod[19]', u'db_beta_mod[1]', u'db_beta_mod[20]', u'db_beta_mod[21]', u'db_beta_mod[22]', u'db_beta_mod[23]', u'db_beta_mod[24]', u'db_beta_mod[25]', u'db_beta_mod[26]', u'db_beta_mod[27]', u'db_beta_mod[28]', u'db_beta_mod[29]', u'db_beta_mod[2]', u'db_beta_mod[30]', u'db_beta_mod[31]', u'db_beta_mod[32]', u'db_beta_mod[33]', u'db_beta_mod[34]', u'db_beta_mod[35]', u'db_beta_mod[36]', u'db_beta_mod[37]', u'db_beta_mod[38]', u'db_beta_mod[39]', u'db_beta_mod[3]', u'db_beta_mod[40]', u'db_beta_mod[41]', u'db_beta_mod[42]', u'db_beta_mod[43]', u'db_beta_mod[44]', u'db_beta_mod[45]', u'db_beta_mod[4]', u'db_beta_mod[5]', u'db_beta_mod[6]', u'db_beta_mod[7]', u'db_beta_mod[8]', u'db_beta_mod[9]', u'db_beta_tt[0]', u'db_beta_tt[10]', u'db_beta_tt[11]', u'db_beta_tt[12]', u'db_beta_tt[13]', u'db_beta_tt[14]', u'db_beta_tt[15]', u'db_beta_tt[16]', u'db_beta_tt[17]', u'db_beta_tt[18]', u'db_beta_tt[19]', u'db_beta_tt[1]', u'db_beta_tt[20]', u'db_beta_tt[21]', u'db_beta_tt[22]', u'db_beta_tt[23]', u'db_beta_tt[24]', u'db_beta_tt[25]', u'db_beta_tt[26]', u'db_beta_tt[27]', u'db_beta_tt[28]', u'db_beta_tt[29]', u'db_beta_tt[2]', u'db_beta_tt[30]', u'db_beta_tt[31]', u'db_beta_tt[32]', u'db_beta_tt[33]', u'db_beta_tt[34]', u'db_beta_tt[35]', u'db_beta_tt[36]', u'db_beta_tt[37]', u'db_beta_tt[38]', u'db_beta_tt[39]', u'db_beta_tt[3]', u'db_beta_tt[40]', u'db_beta_tt[41]', u'db_beta_tt[42]', u'db_beta_tt[43]', u'db_beta_tt[44]', u'db_beta_tt[45]', u'db_beta_tt[4]', u'db_beta_tt[5]', u'db_beta_tt[6]', u'db_beta_tt[7]', u'db_beta_tt[8]', u'db_beta_tt[9]', u'db_group_mu_beta_mod', u'db_group_mu_beta_tt', u'db_group_mu_intercept', u'db_group_sigma_beta_mod', u'db_group_sigma_beta_tt', u'db_group_sigma_intercept', u'db_intercept[0]', u'db_intercept[10]', u'db_intercept[11]', u'db_intercept[12]', u'db_intercept[13]', u'db_intercept[14]', u'db_intercept[15]', u'db_intercept[16]', u'db_intercept[17]', u'db_intercept[18]', u'db_intercept[19]', u'db_intercept[1]', u'db_intercept[20]', u'db_intercept[21]', u'db_intercept[22]', u'db_intercept[23]', u'db_intercept[24]', u'db_intercept[25]', u'db_intercept[26]', u'db_intercept[27]', u'db_intercept[28]', u'db_intercept[29]', u'db_intercept[2]', u'db_intercept[30]', u'db_intercept[31]', u'db_intercept[32]', u'db_intercept[33]', u'db_intercept[34]', u'db_intercept[35]', u'db_intercept[36]', u'db_intercept[37]', u'db_intercept[38]', u'db_intercept[39]', u'db_intercept[3]', u'db_intercept[40]', u'db_intercept[41]', u'db_intercept[42]', u'db_intercept[43]', u'db_intercept[44]', u'db_intercept[45]', u'db_intercept[4]', u'db_intercept[5]', u'db_intercept[6]', u'db_intercept[7]', u'db_intercept[8]', u'db_intercept[9]', u'dr_beta_mod[0]', u'dr_beta_mod[10]', u'dr_beta_mod[11]', u'dr_beta_mod[12]', u'dr_beta_mod[13]', u'dr_beta_mod[14]', u'dr_beta_mod[15]', u'dr_beta_mod[16]', u'dr_beta_mod[17]', u'dr_beta_mod[18]', u'dr_beta_mod[19]', u'dr_beta_mod[1]', u'dr_beta_mod[20]', u'dr_beta_mod[21]', u'dr_beta_mod[22]', u'dr_beta_mod[23]', u'dr_beta_mod[24]', u'dr_beta_mod[25]', u'dr_beta_mod[26]', u'dr_beta_mod[27]', u'dr_beta_mod[28]', u'dr_beta_mod[29]', u'dr_beta_mod[2]', u'dr_beta_mod[30]', u'dr_beta_mod[31]', u'dr_beta_mod[32]', u'dr_beta_mod[33]', u'dr_beta_mod[34]', u'dr_beta_mod[35]', u'dr_beta_mod[36]', u'dr_beta_mod[37]', u'dr_beta_mod[38]', u'dr_beta_mod[39]', u'dr_beta_mod[3]', u'dr_beta_mod[40]', u'dr_beta_mod[41]', u'dr_beta_mod[42]', u'dr_beta_mod[43]', u'dr_beta_mod[44]', u'dr_beta_mod[45]', u'dr_beta_mod[4]', u'dr_beta_mod[5]', u'dr_beta_mod[6]', u'dr_beta_mod[7]', u'dr_beta_mod[8]', u'dr_beta_mod[9]', u'dr_beta_tt[0]', u'dr_beta_tt[10]', u'dr_beta_tt[11]', u'dr_beta_tt[12]', u'dr_beta_tt[13]', u'dr_beta_tt[14]', u'dr_beta_tt[15]', u'dr_beta_tt[16]', u'dr_beta_tt[17]', u'dr_beta_tt[18]', u'dr_beta_tt[19]', u'dr_beta_tt[1]', u'dr_beta_tt[20]', u'dr_beta_tt[21]', u'dr_beta_tt[22]', u'dr_beta_tt[23]', u'dr_beta_tt[24]', u'dr_beta_tt[25]', u'dr_beta_tt[26]', u'dr_beta_tt[27]', u'dr_beta_tt[28]', u'dr_beta_tt[29]', u'dr_beta_tt[2]', u'dr_beta_tt[30]', u'dr_beta_tt[31]', u'dr_beta_tt[32]', u'dr_beta_tt[33]', u'dr_beta_tt[34]', u'dr_beta_tt[35]', u'dr_beta_tt[36]', u'dr_beta_tt[37]', u'dr_beta_tt[38]', u'dr_beta_tt[39]', u'dr_beta_tt[3]', u'dr_beta_tt[40]', u'dr_beta_tt[41]', u'dr_beta_tt[42]', u'dr_beta_tt[43]', u'dr_beta_tt[44]', u'dr_beta_tt[45]', u'dr_beta_tt[4]', u'dr_beta_tt[5]', u'dr_beta_tt[6]', u'dr_beta_tt[7]', u'dr_beta_tt[8]', u'dr_beta_tt[9]', u'dr_group_mu_beta_mod', u'dr_group_mu_beta_tt', u'dr_group_mu_intercept', u'dr_group_sigma_beta_mod', u'dr_group_sigma_beta_tt', u'dr_group_sigma_intercept', u'dr_intercept[0]', u'dr_intercept[10]', u'dr_intercept[11]', u'dr_intercept[12]', u'dr_intercept[13]', u'dr_intercept[14]', u'dr_intercept[15]', u'dr_intercept[16]', u'dr_intercept[17]', u'dr_intercept[18]', u'dr_intercept[19]', u'dr_intercept[1]', u'dr_intercept[20]', u'dr_intercept[21]', u'dr_intercept[22]', u'dr_intercept[23]', u'dr_intercept[24]', u'dr_intercept[25]', u'dr_intercept[26]', u'dr_intercept[27]', u'dr_intercept[28]', u'dr_intercept[29]', u'dr_intercept[2]', u'dr_intercept[30]', u'dr_intercept[31]', u'dr_intercept[32]', u'dr_intercept[33]', u'dr_intercept[34]', u'dr_intercept[35]', u'dr_intercept[36]', u'dr_intercept[37]', u'dr_intercept[38]', u'dr_intercept[39]', u'dr_intercept[3]', u'dr_intercept[40]', u'dr_intercept[41]', u'dr_intercept[42]', u'dr_intercept[43]', u'dr_intercept[44]', u'dr_intercept[45]', u'dr_intercept[4]', u'dr_intercept[5]', u'dr_intercept[6]', u'dr_intercept[7]', u'dr_intercept[8]', u'dr_intercept[9]', u'ndt_beta_mod[0]', u'ndt_beta_mod[10]', u'ndt_beta_mod[11]', u'ndt_beta_mod[12]', u'ndt_beta_mod[13]', u'ndt_beta_mod[14]', u'ndt_beta_mod[15]', u'ndt_beta_mod[16]', u'ndt_beta_mod[17]', u'ndt_beta_mod[18]', u'ndt_beta_mod[19]', u'ndt_beta_mod[1]', u'ndt_beta_mod[20]', u'ndt_beta_mod[21]', u'ndt_beta_mod[22]', u'ndt_beta_mod[23]', u'ndt_beta_mod[24]', u'ndt_beta_mod[25]', u'ndt_beta_mod[26]', u'ndt_beta_mod[27]', u'ndt_beta_mod[28]', u'ndt_beta_mod[29]', u'ndt_beta_mod[2]', u'ndt_beta_mod[30]', u'ndt_beta_mod[31]', u'ndt_beta_mod[32]', u'ndt_beta_mod[33]', u'ndt_beta_mod[34]', u'ndt_beta_mod[35]', u'ndt_beta_mod[36]', u'ndt_beta_mod[37]', u'ndt_beta_mod[38]', u'ndt_beta_mod[39]', u'ndt_beta_mod[3]', u'ndt_beta_mod[40]', u'ndt_beta_mod[41]', u'ndt_beta_mod[42]', u'ndt_beta_mod[43]', u'ndt_beta_mod[44]', u'ndt_beta_mod[45]', u'ndt_beta_mod[4]', u'ndt_beta_mod[5]', u'ndt_beta_mod[6]', u'ndt_beta_mod[7]', u'ndt_beta_mod[8]', u'ndt_beta_mod[9]', u'ndt_beta_tt[0]', u'ndt_beta_tt[10]', u'ndt_beta_tt[11]', u'ndt_beta_tt[12]', u'ndt_beta_tt[13]', u'ndt_beta_tt[14]', u'ndt_beta_tt[15]', u'ndt_beta_tt[16]', u'ndt_beta_tt[17]', u'ndt_beta_tt[18]', u'ndt_beta_tt[19]', u'ndt_beta_tt[1]', u'ndt_beta_tt[20]', u'ndt_beta_tt[21]', u'ndt_beta_tt[22]', u'ndt_beta_tt[23]', u'ndt_beta_tt[24]', u'ndt_beta_tt[25]', u'ndt_beta_tt[26]', u'ndt_beta_tt[27]', u'ndt_beta_tt[28]', u'ndt_beta_tt[29]', u'ndt_beta_tt[2]', u'ndt_beta_tt[30]', u'ndt_beta_tt[31]', u'ndt_beta_tt[32]', u'ndt_beta_tt[33]', u'ndt_beta_tt[34]', u'ndt_beta_tt[35]', u'ndt_beta_tt[36]', u'ndt_beta_tt[37]', u'ndt_beta_tt[38]', u'ndt_beta_tt[39]', u'ndt_beta_tt[3]', u'ndt_beta_tt[40]', u'ndt_beta_tt[41]', u'ndt_beta_tt[42]', u'ndt_beta_tt[43]', u'ndt_beta_tt[44]', u'ndt_beta_tt[45]', u'ndt_beta_tt[4]', u'ndt_beta_tt[5]', u'ndt_beta_tt[6]', u'ndt_beta_tt[7]', u'ndt_beta_tt[8]', u'ndt_beta_tt[9]', u'ndt_group_mu_beta_mod', u'ndt_group_mu_beta_tt', u'ndt_group_mu_intercept', u'ndt_group_sigma_beta_mod', u'ndt_group_sigma_beta_tt', u'ndt_group_sigma_intercept', u'ndt_intercept[0]', u'ndt_intercept[10]', u'ndt_intercept[11]', u'ndt_intercept[12]', u'ndt_intercept[13]', u'ndt_intercept[14]', u'ndt_intercept[15]', u'ndt_intercept[16]', u'ndt_intercept[17]', u'ndt_intercept[18]', u'ndt_intercept[19]', u'ndt_intercept[1]', u'ndt_intercept[20]', u'ndt_intercept[21]', u'ndt_intercept[22]', u'ndt_intercept[23]', u'ndt_intercept[24]', u'ndt_intercept[25]', u'ndt_intercept[26]', u'ndt_intercept[27]', u'ndt_intercept[28]', u'ndt_intercept[29]', u'ndt_intercept[2]', u'ndt_intercept[30]', u'ndt_intercept[31]', u'ndt_intercept[32]', u'ndt_intercept[33]', u'ndt_intercept[34]', u'ndt_intercept[35]', u'ndt_intercept[36]', u'ndt_intercept[37]', u'ndt_intercept[38]', u'ndt_intercept[39]', u'ndt_intercept[3]', u'ndt_intercept[40]', u'ndt_intercept[41]', u'ndt_intercept[42]', u'ndt_intercept[43]', u'ndt_intercept[44]', u'ndt_intercept[45]', u'ndt_intercept[4]', u'ndt_intercept[5]', u'ndt_intercept[6]', u'ndt_intercept[7]', u'ndt_intercept[8]', u'ndt_intercept[9]'), value=u'db_beta_mod[0]'), Output()), _dom_classes=('widget-interact',))"
      ]
     },
     "metadata": {},
     "output_type": "display_data"
    },
    {
     "data": {
      "text/plain": [
       "<function __main__.view_param>"
      ]
     },
     "execution_count": 8,
     "metadata": {},
     "output_type": "execute_result"
    }
   ],
   "source": [
    "import sys\n",
    "sys.path.append('../src')\n",
    "from stan_utils import param_plot\n",
    "from ipywidgets import interact\n",
    "import pandas as pd\n",
    "\n",
    "\n",
    "params = [p for p in samples.columns.values \n",
    "          if 'dr' in p or 'db' in p or 'ndt' in p]\n",
    "\n",
    "def view_param(param): \n",
    "    \n",
    "    fig = param_plot(param, samples, summary)\n",
    "    fig.show()\n",
    "\n",
    "interact(view_param, param=params)"
   ]
  },
  {
   "cell_type": "code",
   "execution_count": null,
   "metadata": {},
   "outputs": [],
   "source": []
  }
 ],
 "metadata": {
  "kernelspec": {
   "display_name": "Python 2",
   "language": "python",
   "name": "python2"
  },
  "language_info": {
   "codemirror_mode": {
    "name": "ipython",
    "version": 2
   },
   "file_extension": ".py",
   "mimetype": "text/x-python",
   "name": "python",
   "nbconvert_exporter": "python",
   "pygments_lexer": "ipython2",
   "version": "2.7.14"
  },
  "toc": {
   "colors": {
    "hover_highlight": "#DAA520",
    "navigate_num": "#000000",
    "navigate_text": "#333333",
    "running_highlight": "#FF0000",
    "selected_highlight": "#FFD700",
    "sidebar_border": "#EEEEEE",
    "wrapper_background": "#FFFFFF"
   },
   "moveMenuLeft": true,
   "nav_menu": {
    "height": "120px",
    "width": "252px"
   },
   "navigate_menu": true,
   "number_sections": true,
   "sideBar": true,
   "threshold": 4,
   "toc_cell": false,
   "toc_section_display": "block",
   "toc_window_display": true,
   "widenNotebook": false
  }
 },
 "nbformat": 4,
 "nbformat_minor": 2
}
