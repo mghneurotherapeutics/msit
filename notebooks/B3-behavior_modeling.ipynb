{
 "cells": [
  {
   "cell_type": "markdown",
   "metadata": {},
   "source": [
    "# Behavior Response Time Modeling "
   ]
  },
  {
   "cell_type": "markdown",
   "metadata": {},
   "source": [
    "# Wald Distribution Intuition\n",
    "\n",
    "The distribution we will be using to model response times is the shifted wald distribution defined as follows:\n",
    "\n",
    "$$\n",
    "f(x) = (\\frac{\\lambda}{2  \\pi  (x-ndt)^3})^{\\frac{1}{2}} * exp(\\frac{-\\lambda (x - ndt - \\mu)}{2\\mu^2(x-ndt)})\n",
    "$$\n",
    "\n",
    "If you are coming from a psychology background, you are likely familiar with the drift diffusion model (image credit: <a href=\"https://www.frontiersin.org/articles/10.3389/fninf.2013.00014/full\">Thomas Wiecki & Michael Frank</a>)\n",
    "\n",
    "<img src=\"https://www.frontiersin.org/files/Articles/55610/fninf-07-00014-HTML/image_m/fninf-07-00014-g001.jpg\">\n",
    "\n",
    "The DDM describes response accuracy and response times in forced two choice decision tasks. It involves an accumulation process that drifts towards one of two decision boundaries (DB) at a mean drift rate (DR) with added gaussian noise. This accumulation represents the decision process: evidence for a particular choice is accumulated until it passes a threshold where the decision is then executed. This could be either the correct choice or incorrect choice if noise overcomes the drift. Additionally, there is a non-decision time (NDT) parameter that models the non-decision components of response time including visual encoding and motor execution.\n",
    "\n",
    "The DDM is a highly influential and widely used model. Though MSIT has three possible choices, the DDM still would be an excellent model for the data. However, the DDM requires a reasonable number of errors in order to estimate the incorrect response distribution. In our MSIT task, we have far too few errors.\n",
    "\n",
    "The shifted Wald represents the single-choice analog of the DDM. With the shifted wald, we assume that evidence is being accumulated towards only a single decision boundary. This thus models the response times for correct choices. It is parameterized by a DB, DR, and NDT similarly to the DDM, but now there is only boundary. Note that in the above shifted wald equation, $\\mu = DB/DR$, $\\lambda = DB^2$, and ndt is simply NDT. \n",
    "\n",
    "EVIDENCE FOR SHIFTED WALD AS REASONABLE CHOICE\n",
    "\n",
    "The cell below allows you to interactively change the parameters of the shifted wald to get a sense of how each affects the shape of the response time distribution. As you play with each parameter, make note of the following:\n",
    "- NDT: This simply shifts the entire distribution to the right.\n",
    "- DR: As this increases, the right tail of the distribution decreases and vice versa. Intuitively, this makes sense. The larger the drift rate, the less variation there will be from the noise since the drift rate will be dominant.\n",
    "- DB: This is a bit more complex. As the decision boundary increases, the distribution becomes less skewed and more normal like. Additionally, it shifts the distribution to the right during this process. This ones a bit harder to intuit, but it makes some sense when we think it through. A larger decision boundary means that it will take longer to pass it assuming the same drift rate, which explains the rightwards shift. The change in the shape has to do with the relative ratio of the DB to DR. When the DB is smaller, the relatively larger DR makes it so that most of the drifts pass the threshold relatively quickly. However, as the DB increases with respect to DR, the amount of time for the noise to produce variations greatly increases, allowing more variation in both directions around the mean."
   ]
  },
  {
   "cell_type": "code",
   "execution_count": 6,
   "metadata": {
    "ExecuteTime": {
     "end_time": "2018-05-03T00:43:22.623857Z",
     "start_time": "2018-05-03T00:43:21.563915Z"
    }
   },
   "outputs": [
    {
     "data": {
      "application/vnd.jupyter.widget-view+json": {
       "model_id": "d9bc4ca198154b31afe83249a397b404",
       "version_major": 2,
       "version_minor": 0
      },
      "text/html": [
       "<p>Failed to display Jupyter Widget of type <code>interactive</code>.</p>\n",
       "<p>\n",
       "  If you're reading this message in the Jupyter Notebook or JupyterLab Notebook, it may mean\n",
       "  that the widgets JavaScript is still loading. If this message persists, it\n",
       "  likely means that the widgets JavaScript library is either not installed or\n",
       "  not enabled. See the <a href=\"https://ipywidgets.readthedocs.io/en/stable/user_install.html\">Jupyter\n",
       "  Widgets Documentation</a> for setup instructions.\n",
       "</p>\n",
       "<p>\n",
       "  If you're reading this message in another frontend (for example, a static\n",
       "  rendering on GitHub or <a href=\"https://nbviewer.jupyter.org/\">NBViewer</a>),\n",
       "  it may mean that your frontend doesn't currently support widgets.\n",
       "</p>\n"
      ],
      "text/plain": [
       "interactive(children=(FloatSlider(value=2.0, description=u'db', max=5.0), FloatSlider(value=4.0, description=u'dr', max=8.0), FloatSlider(value=1.0, description=u'ndt', max=2.0, step=0.01), Output()), _dom_classes=('widget-interact',))"
      ]
     },
     "metadata": {},
     "output_type": "display_data"
    }
   ],
   "source": [
    "import sys\n",
    "sys.path.append('../src')\n",
    "from behavior import wald\n",
    "import numpy as np\n",
    "from ipywidgets import interact\n",
    "import matplotlib.pyplot as plt\n",
    "\n",
    "def plot_wald(db, dr, ndt):\n",
    "    x = np.arange(ndt, 1.75, .001, dtype=np.float64)\n",
    "    plt.plot(x, wald(x, db, dr, ndt))\n",
    "    plt.xlim((0, 1.75))\n",
    "    plt.show()\n",
    "    \n",
    "interact(plot_wald, db=(0, 5, .1), dr=(0, 8, .1), ndt=(0, 2, .01));"
   ]
  },
  {
   "cell_type": "markdown",
   "metadata": {},
   "source": [
    "# Model Structure\n",
    "\n",
    "Now that we have some intuition for the wald distribution, the next step is to build our bayesian model for estimating the effects of the task manipulations on the wald response time distribution parameters.\n",
    "\n",
    "Pictured below is a <a href=\"https://doingbayesiandataanalysis.blogspot.com/2012/05/graphical-model-diagrams-in-doing.html\">kruscke diagram </a> of the model using the handy template provided <a href=\"http://www.sumsar.net/blog/2013/10/diy-kruschke-style-diagrams/\"> here </a>. It is a graphical depiction of all the variables in the model, their distributions, and their relationships.\n",
    "\n",
    "<img src='../models/wald_hierarchical/wald_hierarchical.png'>\n",
    "\n",
    "Here is the key for the diagram:\n",
    "- s: subject s. This means that the variable varies between subject.\n",
    "- m: modality m. This means that the variable varies between modalities.\n",
    "- i: trial i. This means that the variable varies between trials.\n",
    "- db: decision boundary\n",
    "- rt: response time\n",
    "- dr: drift rate\n",
    "- ndt: non-decision time\n",
    "- tt: trial type (0 = congruent, 1 = incongruent)\n",
    "\n",
    "Key Model Structure:\n",
    "- The core of the model is the wald likelihood. The RT distribution is modeled by a Wald distribution parameterized by a drift rate, decision boundary, and non-decision time (see above for info on the Wald distribution). \n",
    "- The decision boundary and drift rate are modeled via hierachical regressions across subjects with trial type as a predictor. The intercept terms, equivalent to the parameter values for congruent trials, have a group mean lognormal prior, and then individual subject parameters are drawn from a normal distribution with this mean. The beta term on the trial type has a regularized normal prior around 0. Note that the sum of the regression is constrained to be positive as both drift rate and decision boundary are strictly positive values. \n",
    "- The non-decision time parameters vary across each subject and modality. Each ndt term is drawn from a uniform distribution between 0 and the minimum response time for that subject for that modality. This constraint is necessary since by definition the non-decision time cannot be greater than the minimum response time.\n",
    "\n",
    "Key Model Assumptions:\n",
    "- We always make assumptions with the particular priors we choose. See below for a discussion of the chosen priors.\n",
    "- Non-decision time does not vary between trial types. This is a fairly strong assumption. To be frank, this decision was largely made because it is difficult to model a regression on the non-decision times due to the variable constraints imposed by the varying minimum rt values. For the same reason, these weren't modeled hierarchically. That being said, given the stimuli are so similar between conditions and the response method is the same, it is not an entirely unreasonable assumption. A full suite of model comparisons should be done rather than making this assumption.\n",
    "- Drift rate and decision boundary do not vary between modalities. Again, a deciding factor in this assumption was model tractability and this should really be answered with a suite of model comparisons. However, <a href=\"The impact of MRI scanner environment on perceptual decision-making\"> this paper by van Maanen et al. </a> suggests that this may not be a completely unreasonable assumption. They use a linear ballistic accumulator model to show that it is primarily non-decision time increases due to increased response time that leads to slower RT's in the scanner. We observed this same effect. There modeling does suggest there could also be attentional effects that also affect drift rates, but the primary observation was on non-decision time.\n",
    "- Subject decision boundaries and drift rates are drawn from a single gaussian group distribution. This makes the assumption that there is a single prototype of person in this task. However, one could imagine there being more groupings. For example, maybe there are some people who are overall just much more cautious compared to some who are not. This is probably a fairly reasonable assumption since people probably span the whole spectrum.\n",
    "- This model completely ignores temporal effects and assumes that the generative model is the same for every trial. Of course, we know that this is not the case, but from our exploration we didn't find too many clear temporal effects and lacked the power to decompose a lot of the individual ones. To combat some of the global time trends, I detrend the data prior to fitting to avoid the spread caused by these trends to get absorbed into a parameter change. "
   ]
  },
  {
   "cell_type": "markdown",
   "metadata": {},
   "source": [
    "# Prior Information "
   ]
  },
  {
   "cell_type": "code",
   "execution_count": 7,
   "metadata": {
    "ExecuteTime": {
     "end_time": "2018-05-03T00:43:50.846866Z",
     "start_time": "2018-05-03T00:43:49.535141Z"
    }
   },
   "outputs": [
    {
     "data": {
      "image/png": "[encoded data removed]",
      "text/plain": [
       "<matplotlib.figure.Figure at 0x1a12a42810>"
      ]
     },
     "metadata": {},
     "output_type": "display_data"
    }
   ],
   "source": [
    "import matplotlib.pyplot as plt\n",
    "import seaborn as sns\n",
    "import numpy as np\n",
    "\n",
    "f, axs = plt.subplots(1, 3, figsize=(16, 6))\n",
    "\n",
    "ax = axs[0]\n",
    "samples = np.random.lognormal(1.5, 1, 10000)\n",
    "sns.distplot(samples, ax=ax, bins=100)\n",
    "ax.set_title('DR Prior')\n",
    "ax.set_xlim((0, 30))\n",
    "\n",
    "ax = axs[1]\n",
    "samples = np.random.lognormal(1.5, 1, 10000)\n",
    "sns.distplot(samples, ax=ax, bins=100)\n",
    "ax.set_title('DB Prior')\n",
    "ax.set_xlim((0, 30))\n",
    "\n",
    "ax = axs[2]\n",
    "samples = np.random.normal(0, 1, 1000)\n",
    "sns.distplot(samples, ax=ax)\n",
    "ax.set_title('Beta Prior')\n",
    "\n",
    "plt.show();"
   ]
  },
  {
   "cell_type": "markdown",
   "metadata": {},
   "source": [
    "# Model Fitting\n",
    "\n",
    "Now that we have conceptualized and understood our model, the next step is to actually sample the parameter posteriors given our data. To do so we make use of the <a href=\"http://mc-stan.org/\">stan package</a>. This is an amazing package that allows one to draw NUTS HMC samples from the posterior distribution of a bayesian specified in the stan modeling language. One first defines the model in a separate .stan file. This model is then compiled into C++ code and sampled via the <a href=\"https://pystan.readthedocs.io/en/latest/\"> pystan</a> Python interface.\n",
    "\n",
    "The following cells will fit and sample the model when run in order."
   ]
  },
  {
   "cell_type": "code",
   "execution_count": 8,
   "metadata": {
    "ExecuteTime": {
     "end_time": "2018-05-03T00:45:32.816292Z",
     "start_time": "2018-05-03T00:45:32.804157Z"
    }
   },
   "outputs": [],
   "source": [
    "import pandas as pd\n",
    "import sys\n",
    "sys.path.append('../src')\n",
    "from utils import select_subjects\n",
    "from behavior import extract_summary, extract_samples\n",
    "from behavior import detrend_data\n",
    "import pickle\n",
    "import os\n",
    "import pystan\n",
    "import json\n",
    "\n",
    "model_name = 'wald_hierarchical'\n",
    "model_dir = '../models/%s' % model_name\n",
    "data_dir = '../data/derivatives/behavior/%s' % model_name\n",
    "if not os.path.exists(model_dir):\n",
    "    os.makedirs(model_dir)\n",
    "if not os.path.exists(data_dir):\n",
    "    os.makedirs(data_dir)"
   ]
  },
  {
   "cell_type": "markdown",
   "metadata": {},
   "source": [
    "## Extract the Data \n",
    "\n",
    "The first step is to extract the data to be fit to be passed as a dictionary to the pystan sampler. The data must be organized as a dictionary with the keys matching the data variable names in the stan program.\n",
    "\n",
    "Prior to extracting the data we:\n",
    "- Exclude no response, error, post error, and fast rt trials\n",
    "- Exclude bad subjects\n",
    "- Globally de-trend the response time data for each subject, modality, trial type combination"
   ]
  },
  {
   "cell_type": "code",
   "execution_count": 2,
   "metadata": {
    "ExecuteTime": {
     "end_time": "2018-05-02T22:51:00.574119Z",
     "start_time": "2018-05-02T22:50:58.396058Z"
    }
   },
   "outputs": [],
   "source": [
    "# load in behavioral data and remove bad trials\n",
    "data = pd.read_csv('../data/derivatives/behavior/group_data.tsv', sep='\\t', \n",
    "                   na_values='n/a')\n",
    "exclusions = ['no_response', 'error', 'post_error', 'fast_rt']\n",
    "data = data[data[exclusions].sum(axis=1) == 0]\n",
    "\n",
    "# exclude subjects\n",
    "subjects = select_subjects('both')\n",
    "data = data[data.participant_id.isin(subjects)]\n",
    "\n",
    "# de-trend global effects\n",
    "data = detrend_data(data)\n",
    "\n",
    "# extract data for model\n",
    "data_in = {}\n",
    "data_in['Nt'] = data.shape[0]\n",
    "data_in['rt'] = data.response_time\n",
    "data_in['Ns']  = len(data.participant_id.unique())\n",
    "data_in['min_rt_eeg'] = data[data.modality == 'eeg'].groupby(['participant_id']).response_time.min().as_matrix() - .001\n",
    "data_in['min_rt_fmri'] = data[data.modality == 'fmri'].groupby(['participant_id']).response_time.min().as_matrix() - .001\n",
    "data_in['sub_ix']= data.participant_id.astype('category').cat.codes + 1\n",
    "data_in['tt']= data.trial_type.astype('category').cat.codes\n",
    "data_in['mod']= data.modality.astype('category').cat.codes"
   ]
  },
  {
   "cell_type": "markdown",
   "metadata": {},
   "source": [
    "## Compile the Model\n",
    "\n",
    "The next step is to compile our stan model so that the sampler can sample it. This takes a few minutes, but makes the sampling much faster since it is in compiled C++ code. The compiler will also check for syntax errors, so this is an important debugging stage as well."
   ]
  },
  {
   "cell_type": "code",
   "execution_count": 3,
   "metadata": {
    "ExecuteTime": {
     "end_time": "2018-05-02T22:51:46.645763Z",
     "start_time": "2018-05-02T22:51:04.206345Z"
    }
   },
   "outputs": [
    {
     "name": "stderr",
     "output_type": "stream",
     "text": [
      "INFO:pystan:COMPILING THE C++ CODE FOR MODEL wald_hierarchical_da28b299fdf6310e41de22e7dff1073e NOW.\n"
     ]
    }
   ],
   "source": [
    "model_f = '%s/%s.stan' % (model_dir, model_name)\n",
    "cache_f = '%s/%s.pkl' % (model_dir, model_name)\n",
    "\n",
    "if not os.path.exists(cache_f):\n",
    "    model = pystan.StanModel(file=model_f, model_name=model_name)\n",
    "    pickle.dump(model, open(cache_f, 'w+'))\n",
    "else:\n",
    "    model = pickle.load(open(cache_f, 'r'))"
   ]
  },
  {
   "cell_type": "markdown",
   "metadata": {},
   "source": [
    "## Sample the Model\n",
    "\n",
    "Finally, we draw samples from the posterior of the model using Stan's NUTS HMC sampling algorithm. We first run several hundred warmup samples where some parameters for the algorithm are estimated and we allow time for the sampling to converge to the posterior. These are discarded and not included in our posterior estimate. We then sample the posterior from several chains in parallel. This speeds up the sampling process and also supports later convergence checks.\n",
    "\n",
    "We had 10 cores available to us so we ran 10 chains with 2500 samples, the first 500 of which were discarded as warmup. This leaves us with 20000 samples drawn from the posterior. John Kruschke (author of Doing Bayesian Data Analysis) recommends having > 10,000 samples to reasonably estimate 95% HDI limits. 20000 samples is safely past this point with the assumption that our effective sample size percentage will be relatively high."
   ]
  },
  {
   "cell_type": "code",
   "execution_count": 4,
   "metadata": {
    "ExecuteTime": {
     "end_time": "2018-05-02T23:23:32.120771Z",
     "start_time": "2018-05-02T22:51:46.652127Z"
    }
   },
   "outputs": [
    {
     "name": "stderr",
     "output_type": "stream",
     "text": [
      "/Users/matt/anaconda3/envs/msit/lib/python2.7/site-packages/pystan/misc.py:399: FutureWarning: Conversion of the second argument of issubdtype from `float` to `np.floating` is deprecated. In future, it will be treated as `np.float64 == np.dtype(float).type`.\n",
      "  elif np.issubdtype(np.asarray(v).dtype, float):\n"
     ]
    }
   ],
   "source": [
    "niter = 1000\n",
    "nwarmup = 500\n",
    "nchains = 3\n",
    "\n",
    "fit = model.sampling(data=data_in, iter=niter, warmup=nwarmup,\n",
    "                     chains=nchains, init='random', seed=13)\n",
    "\n",
    "# exclude helper variables\n",
    "sample_exclude = ['mu', 'lambda', 'db', 'dr', 'ndt', \n",
    "                  'db_incongruent', 'dr_incongruent', \n",
    "                  'ndt_eeg_tmp', 'ndt_fmri_tmp']\n",
    "summary_exclude = sample_exclude + ['rt_pred', 'log_lik']\n",
    "\n",
    "samples = extract_samples(fit, sample_exclude)\n",
    "samples.to_csv('%s/%s_samples.csv' % (data_dir, model_name), \n",
    "               index=False)\n",
    "\n",
    "summary = extract_summary(fit, summary_exclude)\n",
    "summary.to_csv('%s/%s_summary.csv' % (data_dir, model_name), \n",
    "               index=True)"
   ]
  },
  {
   "cell_type": "markdown",
   "metadata": {},
   "source": [
    "# Model Diagnostics\n",
    "\n",
    "After fitting the model, the next step is to assess the quality of the sampling process. This includes checking things such as proper convergence of the model, how well it fits the data, etc. Each section below provides a different diagnostic plot."
   ]
  },
  {
   "cell_type": "code",
   "execution_count": 9,
   "metadata": {
    "ExecuteTime": {
     "end_time": "2018-05-03T01:10:49.505831Z",
     "start_time": "2018-05-03T01:08:24.302162Z"
    }
   },
   "outputs": [],
   "source": [
    "import pandas as pd\n",
    "import sys\n",
    "sys.path.append('../src')\n",
    "from utils import select_subjects\n",
    "from behavior import summary_plot, param_plot, wald, plot_ppc\n",
    "from ipywidgets import interact, fixed\n",
    "import matplotlib.pyplot as plt\n",
    "import os\n",
    "import json\n",
    "\n",
    "model_name = 'wald_hierarchical'\n",
    "data_dir = '../data/derivatives/behavior/%s' % model_name\n",
    "\n",
    "# load in behavioral data and remove bad trials\n",
    "behavior = pd.read_csv('../data/derivatives/behavior/group_data.tsv', sep='\\t', \n",
    "                       na_values='n/a')\n",
    "exclusions = ['no_response', 'error', 'post_error', 'fast_rt']\n",
    "behavior = behavior[behavior[exclusions].sum(axis=1) == 0]\n",
    "\n",
    "# exclude subjects\n",
    "subjects = select_subjects('both')\n",
    "behavior = behavior[behavior.participant_id.isin(subjects)]\n",
    "\n",
    "behavior = detrend_data(behavior)\n",
    "\n",
    "summary = pd.read_csv('%s/%s_summary.csv' % (data_dir, model_name),\n",
    "                      index_col=0)\n",
    "samples = pd.read_csv('%s/%s_samples.csv' % (data_dir, model_name))"
   ]
  },
  {
   "cell_type": "markdown",
   "metadata": {},
   "source": [
    "## $\\hat{R}$ Convergence\n",
    "\n",
    "The $\\hat{R}$ metric is a commonly used metric to assess the convergence of the sampling to the posterior. We throw away warmup samples to ensure that we only look at samples from the actual posterior. However, we need a way to ensure that we threw enough away and that our samples are actually converged.\n",
    "\n",
    "$\\hat{R}$ relies on the use of multiple chains sampling in parallel. Each chains is started from a different random point. The $\\hat{R}$ metric then computes an ANOVA-like ratio of the between chains variance to the within chains variance. The closer to 1.00, the closer to convergence as 1.00 represents equal between and within variance. As $\\hat{R}$ gets higher, this means the variance between chains is higher, indicating separation of the chains. The chains should all be converging to the same posterior, so separation between the chains implies they have not fully converged.\n",
    "\n",
    "As can be seen below, with the exception of one subject's dr_intercept that is slightly high (~1.01), all of the parameters have well converged according to this metric."
   ]
  },
  {
   "cell_type": "code",
   "execution_count": 10,
   "metadata": {
    "ExecuteTime": {
     "end_time": "2018-05-03T01:12:15.906251Z",
     "start_time": "2018-05-03T01:12:12.734253Z"
    }
   },
   "outputs": [
    {
     "data": {
      "application/vnd.jupyter.widget-view+json": {
       "model_id": "476b6d5c68cd47f5a972e37cdab43bec",
       "version_major": 2,
       "version_minor": 0
      },
      "text/html": [
       "<p>Failed to display Jupyter Widget of type <code>interactive</code>.</p>\n",
       "<p>\n",
       "  If you're reading this message in the Jupyter Notebook or JupyterLab Notebook, it may mean\n",
       "  that the widgets JavaScript is still loading. If this message persists, it\n",
       "  likely means that the widgets JavaScript library is either not installed or\n",
       "  not enabled. See the <a href=\"https://ipywidgets.readthedocs.io/en/stable/user_install.html\">Jupyter\n",
       "  Widgets Documentation</a> for setup instructions.\n",
       "</p>\n",
       "<p>\n",
       "  If you're reading this message in another frontend (for example, a static\n",
       "  rendering on GitHub or <a href=\"https://nbviewer.jupyter.org/\">NBViewer</a>),\n",
       "  it may mean that your frontend doesn't currently support widgets.\n",
       "</p>\n"
      ],
      "text/plain": [
       "interactive(children=(Dropdown(description=u'param_type', options=('db', 'dr', 'ndt'), value='db'), Output()), _dom_classes=('widget-interact',))"
      ]
     },
     "metadata": {},
     "output_type": "display_data"
    },
    {
     "data": {
      "text/plain": [
       "<function __main__.view_rhat>"
      ]
     },
     "execution_count": 10,
     "metadata": {},
     "output_type": "execute_result"
    }
   ],
   "source": [
    "def view_rhat(param_type):\n",
    "    \n",
    "    fig = summary_plot('Rhat', summary, param_type)\n",
    "    plt.show()\n",
    "\n",
    "interact(view_rhat, param_type=['db', 'dr', 'ndt'])"
   ]
  },
  {
   "cell_type": "markdown",
   "metadata": {},
   "source": [
    "## Effective Sample Size\n",
    "\n",
    "Another important measure is effective sample size. Normally, when we sample from a distribution, we attempt to take independent samples. That way when we try to assess some information regarding that distribution, the information we have available to do our estimate directly scales with the sample size. However, when we use Markov Chain Monte Carlo sampling (HMC is a form of this), we are typically drawing correlated samples. This is due to the MCMC property that the next sample is a function of the previous sample. HMC is a really clever method that works to greatly reduce the correlation between samples, making this often less of a problem. However, particularly tricky regions of parameter space can still result in correlated samples for certain parameters. Note that effective sample size is a measure of efficiency, not validity, where Rhat was a measure of validity.\n",
    "\n",
    "Effective sample size is simply the posterior sample size adjusted depending on the autocorrelation of the parameter MCMC chains. The greater the autocorrelation, the less independent the samples and the fewer effective samples. These samples are still drawn from the posterior assuming convergence, but a lower ESS means that we have to take more samples to get an equivalent amount of information in the uncorrelated case.\n",
    "\n",
    "Below we look at the ESS for all of our parameters. With the exception of a few, almost all of our parameters have 100% ESS which is great and suggests HMC is doing a really good job. Most of the others are fairly close to 100% with the notable exceptions of the group mean and standard deviation for the decision boundary intercept which is closer 66%. This is still not a terrible %, especially given the complex hierarchical nature of the model. It does mean we will need to adjust our estimates accordingly when looking at those two parameters."
   ]
  },
  {
   "cell_type": "code",
   "execution_count": 11,
   "metadata": {
    "ExecuteTime": {
     "end_time": "2018-05-03T01:12:45.861414Z",
     "start_time": "2018-05-03T01:12:43.824525Z"
    }
   },
   "outputs": [
    {
     "data": {
      "application/vnd.jupyter.widget-view+json": {
       "model_id": "2bbe5cac02d74c58b4025af53abbd5f4",
       "version_major": 2,
       "version_minor": 0
      },
      "text/html": [
       "<p>Failed to display Jupyter Widget of type <code>interactive</code>.</p>\n",
       "<p>\n",
       "  If you're reading this message in the Jupyter Notebook or JupyterLab Notebook, it may mean\n",
       "  that the widgets JavaScript is still loading. If this message persists, it\n",
       "  likely means that the widgets JavaScript library is either not installed or\n",
       "  not enabled. See the <a href=\"https://ipywidgets.readthedocs.io/en/stable/user_install.html\">Jupyter\n",
       "  Widgets Documentation</a> for setup instructions.\n",
       "</p>\n",
       "<p>\n",
       "  If you're reading this message in another frontend (for example, a static\n",
       "  rendering on GitHub or <a href=\"https://nbviewer.jupyter.org/\">NBViewer</a>),\n",
       "  it may mean that your frontend doesn't currently support widgets.\n",
       "</p>\n"
      ],
      "text/plain": [
       "interactive(children=(Dropdown(description=u'param_type', options=('db', 'dr', 'ndt'), value='db'), Output()), _dom_classes=('widget-interact',))"
      ]
     },
     "metadata": {},
     "output_type": "display_data"
    },
    {
     "data": {
      "text/plain": [
       "<function __main__.view_ess>"
      ]
     },
     "execution_count": 11,
     "metadata": {},
     "output_type": "execute_result"
    }
   ],
   "source": [
    "def view_ess(param_type):\n",
    "    \n",
    "    fig = summary_plot('n_eff', summary, param_type)\n",
    "    plt.show()\n",
    "\n",
    "interact(view_ess, param_type=['db', 'dr', 'ndt'])"
   ]
  },
  {
   "cell_type": "markdown",
   "metadata": {},
   "source": [
    "## Parameter Diagnostics\n",
    "\n",
    "We've looked at the $\\hat{R}$ and ESS distributions across parameters. However, sometimes it is helpful to look more closely at individual parameters, especially those who had outlier $\\hat{R}$ and ESS.\n",
    "\n",
    "The following cell allows you to interactively step through and plot each parameter. Each parameter plot includes a KDE plot of the posterior samples, an autocorrelation of the sampling chains, and a trace plot of the posterior sample time courses. Each of these plots has a separate line for each chain. The posterior plot allows us to see the posterior distribution of the variable. The autocorrelation plot gives insight into the ESS for the parameter. The trace plot gives insight into both the ESS (you can usually see the difference between more and less correlated chains) as well as $\\hat{R}$ (you can see the overlap between the chains)."
   ]
  },
  {
   "cell_type": "code",
   "execution_count": 12,
   "metadata": {
    "ExecuteTime": {
     "end_time": "2018-05-03T01:13:01.805826Z",
     "start_time": "2018-05-03T01:12:57.402028Z"
    }
   },
   "outputs": [
    {
     "data": {
      "application/vnd.jupyter.widget-view+json": {
       "model_id": "f503b59000cb47a995d7e6eb7dbdcb5e",
       "version_major": 2,
       "version_minor": 0
      },
      "text/html": [
       "<p>Failed to display Jupyter Widget of type <code>interactive</code>.</p>\n",
       "<p>\n",
       "  If you're reading this message in the Jupyter Notebook or JupyterLab Notebook, it may mean\n",
       "  that the widgets JavaScript is still loading. If this message persists, it\n",
       "  likely means that the widgets JavaScript library is either not installed or\n",
       "  not enabled. See the <a href=\"https://ipywidgets.readthedocs.io/en/stable/user_install.html\">Jupyter\n",
       "  Widgets Documentation</a> for setup instructions.\n",
       "</p>\n",
       "<p>\n",
       "  If you're reading this message in another frontend (for example, a static\n",
       "  rendering on GitHub or <a href=\"https://nbviewer.jupyter.org/\">NBViewer</a>),\n",
       "  it may mean that your frontend doesn't currently support widgets.\n",
       "</p>\n"
      ],
      "text/plain": [
       "interactive(children=(Dropdown(description=u'param', options=('db_beta[0]', 'db_beta[10]', 'db_beta[11]', 'db_beta[12]', 'db_beta[13]', 'db_beta[14]', 'db_beta[15]', 'db_beta[16]', 'db_beta[17]', 'db_beta[18]', 'db_beta[19]', 'db_beta[1]', 'db_beta[20]', 'db_beta[21]', 'db_beta[22]', 'db_beta[23]', 'db_beta[24]', 'db_beta[25]', 'db_beta[26]', 'db_beta[27]', 'db_beta[28]', 'db_beta[29]', 'db_beta[2]', 'db_beta[30]', 'db_beta[31]', 'db_beta[32]', 'db_beta[33]', 'db_beta[34]', 'db_beta[35]', 'db_beta[36]', 'db_beta[37]', 'db_beta[38]', 'db_beta[39]', 'db_beta[3]', 'db_beta[40]', 'db_beta[41]', 'db_beta[42]', 'db_beta[43]', 'db_beta[44]', 'db_beta[45]', 'db_beta[4]', 'db_beta[5]', 'db_beta[6]', 'db_beta[7]', 'db_beta[8]', 'db_beta[9]', 'db_group_mu_beta', 'db_group_mu_intercept', 'db_group_sigma_beta', 'db_group_sigma_intercept', 'db_intercept[0]', 'db_intercept[10]', 'db_intercept[11]', 'db_intercept[12]', 'db_intercept[13]', 'db_intercept[14]', 'db_intercept[15]', 'db_intercept[16]', 'db_intercept[17]', 'db_intercept[18]', 'db_intercept[19]', 'db_intercept[1]', 'db_intercept[20]', 'db_intercept[21]', 'db_intercept[22]', 'db_intercept[23]', 'db_intercept[24]', 'db_intercept[25]', 'db_intercept[26]', 'db_intercept[27]', 'db_intercept[28]', 'db_intercept[29]', 'db_intercept[2]', 'db_intercept[30]', 'db_intercept[31]', 'db_intercept[32]', 'db_intercept[33]', 'db_intercept[34]', 'db_intercept[35]', 'db_intercept[36]', 'db_intercept[37]', 'db_intercept[38]', 'db_intercept[39]', 'db_intercept[3]', 'db_intercept[40]', 'db_intercept[41]', 'db_intercept[42]', 'db_intercept[43]', 'db_intercept[44]', 'db_intercept[45]', 'db_intercept[4]', 'db_intercept[5]', 'db_intercept[6]', 'db_intercept[7]', 'db_intercept[8]', 'db_intercept[9]', 'dr_beta[0]', 'dr_beta[10]', 'dr_beta[11]', 'dr_beta[12]', 'dr_beta[13]', 'dr_beta[14]', 'dr_beta[15]', 'dr_beta[16]', 'dr_beta[17]', 'dr_beta[18]', 'dr_beta[19]', 'dr_beta[1]', 'dr_beta[20]', 'dr_beta[21]', 'dr_beta[22]', 'dr_beta[23]', 'dr_beta[24]', 'dr_beta[25]', 'dr_beta[26]', 'dr_beta[27]', 'dr_beta[28]', 'dr_beta[29]', 'dr_beta[2]', 'dr_beta[30]', 'dr_beta[31]', 'dr_beta[32]', 'dr_beta[33]', 'dr_beta[34]', 'dr_beta[35]', 'dr_beta[36]', 'dr_beta[37]', 'dr_beta[38]', 'dr_beta[39]', 'dr_beta[3]', 'dr_beta[40]', 'dr_beta[41]', 'dr_beta[42]', 'dr_beta[43]', 'dr_beta[44]', 'dr_beta[45]', 'dr_beta[4]', 'dr_beta[5]', 'dr_beta[6]', 'dr_beta[7]', 'dr_beta[8]', 'dr_beta[9]', 'dr_group_mu_beta', 'dr_group_mu_intercept', 'dr_group_sigma_beta', 'dr_group_sigma_intercept', 'dr_intercept[0]', 'dr_intercept[10]', 'dr_intercept[11]', 'dr_intercept[12]', 'dr_intercept[13]', 'dr_intercept[14]', 'dr_intercept[15]', 'dr_intercept[16]', 'dr_intercept[17]', 'dr_intercept[18]', 'dr_intercept[19]', 'dr_intercept[1]', 'dr_intercept[20]', 'dr_intercept[21]', 'dr_intercept[22]', 'dr_intercept[23]', 'dr_intercept[24]', 'dr_intercept[25]', 'dr_intercept[26]', 'dr_intercept[27]', 'dr_intercept[28]', 'dr_intercept[29]', 'dr_intercept[2]', 'dr_intercept[30]', 'dr_intercept[31]', 'dr_intercept[32]', 'dr_intercept[33]', 'dr_intercept[34]', 'dr_intercept[35]', 'dr_intercept[36]', 'dr_intercept[37]', 'dr_intercept[38]', 'dr_intercept[39]', 'dr_intercept[3]', 'dr_intercept[40]', 'dr_intercept[41]', 'dr_intercept[42]', 'dr_intercept[43]', 'dr_intercept[44]', 'dr_intercept[45]', 'dr_intercept[4]', 'dr_intercept[5]', 'dr_intercept[6]', 'dr_intercept[7]', 'dr_intercept[8]', 'dr_intercept[9]', 'ndt_eeg[0]', 'ndt_eeg[10]', 'ndt_eeg[11]', 'ndt_eeg[12]', 'ndt_eeg[13]', 'ndt_eeg[14]', 'ndt_eeg[15]', 'ndt_eeg[16]', 'ndt_eeg[17]', 'ndt_eeg[18]', 'ndt_eeg[19]', 'ndt_eeg[1]', 'ndt_eeg[20]', 'ndt_eeg[21]', 'ndt_eeg[22]', 'ndt_eeg[23]', 'ndt_eeg[24]', 'ndt_eeg[25]', 'ndt_eeg[26]', 'ndt_eeg[27]', 'ndt_eeg[28]', 'ndt_eeg[29]', 'ndt_eeg[2]', 'ndt_eeg[30]', 'ndt_eeg[31]', 'ndt_eeg[32]', 'ndt_eeg[33]', 'ndt_eeg[34]', 'ndt_eeg[35]', 'ndt_eeg[36]', 'ndt_eeg[37]', 'ndt_eeg[38]', 'ndt_eeg[39]', 'ndt_eeg[3]', 'ndt_eeg[40]', 'ndt_eeg[41]', 'ndt_eeg[42]', 'ndt_eeg[43]', 'ndt_eeg[44]', 'ndt_eeg[45]', 'ndt_eeg[4]', 'ndt_eeg[5]', 'ndt_eeg[6]', 'ndt_eeg[7]', 'ndt_eeg[8]', 'ndt_eeg[9]', 'ndt_fmri[0]', 'ndt_fmri[10]', 'ndt_fmri[11]', 'ndt_fmri[12]', 'ndt_fmri[13]', 'ndt_fmri[14]', 'ndt_fmri[15]', 'ndt_fmri[16]', 'ndt_fmri[17]', 'ndt_fmri[18]', 'ndt_fmri[19]', 'ndt_fmri[1]', 'ndt_fmri[20]', 'ndt_fmri[21]', 'ndt_fmri[22]', 'ndt_fmri[23]', 'ndt_fmri[24]', 'ndt_fmri[25]', 'ndt_fmri[26]', 'ndt_fmri[27]', 'ndt_fmri[28]', 'ndt_fmri[29]', 'ndt_fmri[2]', 'ndt_fmri[30]', 'ndt_fmri[31]', 'ndt_fmri[32]', 'ndt_fmri[33]', 'ndt_fmri[34]', 'ndt_fmri[35]', 'ndt_fmri[36]', 'ndt_fmri[37]', 'ndt_fmri[38]', 'ndt_fmri[39]', 'ndt_fmri[3]', 'ndt_fmri[40]', 'ndt_fmri[41]', 'ndt_fmri[42]', 'ndt_fmri[43]', 'ndt_fmri[44]', 'ndt_fmri[45]', 'ndt_fmri[4]', 'ndt_fmri[5]', 'ndt_fmri[6]', 'ndt_fmri[7]', 'ndt_fmri[8]', 'ndt_fmri[9]'), value='db_beta[0]'), Output()), _dom_classes=('widget-interact',))"
      ]
     },
     "metadata": {},
     "output_type": "display_data"
    }
   ],
   "source": [
    "params = [p for p in samples.columns.values \n",
    "          if 'dr' in p or 'db' in p or 'ndt' in p]\n",
    "\n",
    "def view_param(param): \n",
    "    \n",
    "    fig = param_plot(param, samples, summary)\n",
    "    fig.show()\n",
    "\n",
    "interact(view_param, param=params);"
   ]
  },
  {
   "cell_type": "markdown",
   "metadata": {},
   "source": [
    "## Posterior Predictive Checks\n",
    "\n",
    "Posterior predictive checks are an important check on how well our model actually generates our data. They involve generated predicted data using the parameter values from each posterior sample. One can then compare the alignment between the generated data and the actual data to determine how well our model accounts for the data.\n",
    "\n",
    "Below you can view posterior predictive checks for each subject. It is computationally and visually costly to plot all of the posterior predictions for every sample so we plot 100 random samples instead. These are plotted as lighter KDE. \n",
    "\n",
    "In general, our posterior predictions fit the data quite well. There are some cases where are assumption that the DB and DR are the same across modalities is perhaps not as accurate. This can be seen for sub-pp001 for example where the separation between conditions is larger in the fmri and thus the distribution is not quite shifted enough. In general, the fits are quite good and this is not a problem."
   ]
  },
  {
   "cell_type": "code",
   "execution_count": 13,
   "metadata": {
    "ExecuteTime": {
     "end_time": "2018-05-03T01:13:34.067461Z",
     "start_time": "2018-05-03T01:13:21.699318Z"
    }
   },
   "outputs": [
    {
     "data": {
      "application/vnd.jupyter.widget-view+json": {
       "model_id": "9e4fbc980f9448efb3839975bb216b13",
       "version_major": 2,
       "version_minor": 0
      },
      "text/html": [
       "<p>Failed to display Jupyter Widget of type <code>interactive</code>.</p>\n",
       "<p>\n",
       "  If you're reading this message in the Jupyter Notebook or JupyterLab Notebook, it may mean\n",
       "  that the widgets JavaScript is still loading. If this message persists, it\n",
       "  likely means that the widgets JavaScript library is either not installed or\n",
       "  not enabled. See the <a href=\"https://ipywidgets.readthedocs.io/en/stable/user_install.html\">Jupyter\n",
       "  Widgets Documentation</a> for setup instructions.\n",
       "</p>\n",
       "<p>\n",
       "  If you're reading this message in another frontend (for example, a static\n",
       "  rendering on GitHub or <a href=\"https://nbviewer.jupyter.org/\">NBViewer</a>),\n",
       "  it may mean that your frontend doesn't currently support widgets.\n",
       "</p>\n"
      ],
      "text/plain": [
       "interactive(children=(Dropdown(description=u'subject', options=('sub-hc002', 'sub-hc003', 'sub-hc004', 'sub-hc005', 'sub-hc006', 'sub-hc007', 'sub-hc008', 'sub-hc009', 'sub-hc010', 'sub-hc011', 'sub-hc012', 'sub-hc014', 'sub-hc015', 'sub-hc016', 'sub-hc017', 'sub-hc021', 'sub-hc022', 'sub-hc023', 'sub-hc024', 'sub-hc025', 'sub-hc026', 'sub-hc028', 'sub-hc029', 'sub-hc030', 'sub-hc032', 'sub-hc033', 'sub-hc034', 'sub-hc035', 'sub-hc036', 'sub-hc042', 'sub-pp001', 'sub-pp002', 'sub-pp003', 'sub-pp004', 'sub-pp005', 'sub-pp006', 'sub-pp007', 'sub-pp008', 'sub-pp009', 'sub-pp010', 'sub-pp011', 'sub-pp012', 'sub-pp013', 'sub-pp014', 'sub-pp015', 'sub-pp016'), value='sub-hc002'), Output()), _dom_classes=('widget-interact',))"
      ]
     },
     "metadata": {},
     "output_type": "display_data"
    }
   ],
   "source": [
    "interact(plot_ppc, subject=subjects, behavior=fixed(behavior), \n",
    "         samples=fixed(samples));         "
   ]
  },
  {
   "cell_type": "markdown",
   "metadata": {},
   "source": [
    "# Model Results "
   ]
  },
  {
   "cell_type": "code",
   "execution_count": 1,
   "metadata": {
    "ExecuteTime": {
     "end_time": "2018-05-03T01:32:35.741486Z",
     "start_time": "2018-05-03T01:30:28.204152Z"
    }
   },
   "outputs": [],
   "source": [
    "import pandas as pd\n",
    "import sys\n",
    "sys.path.append('../src')\n",
    "from utils import select_subjects\n",
    "from behavior import plot_posteriors, detrend_data\n",
    "from behavior import plot_corr, plot_group_es\n",
    "from ipywidgets import interact, fixed\n",
    "import os\n",
    "import json\n",
    "\n",
    "model_name = 'wald_hierarchical'\n",
    "data_dir = '../data/derivatives/behavior/%s' % model_name\n",
    "\n",
    "# load in behavioral data and remove bad trials\n",
    "behavior = pd.read_csv('../data/derivatives/behavior/group_data.tsv', sep='\\t', \n",
    "                       na_values='n/a')\n",
    "exclusions = ['no_response', 'error', 'post_error', 'fast_rt']\n",
    "behavior = behavior[behavior[exclusions].sum(axis=1) == 0]\n",
    "\n",
    "# exclude subjects\n",
    "subjects = select_subjects('both')\n",
    "behavior = behavior[behavior.participant_id.isin(subjects)]\n",
    "\n",
    "behavior = detrend_data(behavior)\n",
    "\n",
    "summary = pd.read_csv('%s/%s_summary.csv' % (data_dir, model_name),\n",
    "                      index_col=0)\n",
    "samples = pd.read_csv('%s/%s_samples.csv' % (data_dir, model_name))"
   ]
  },
  {
   "cell_type": "markdown",
   "metadata": {},
   "source": [
    "## Parameter Posteriors"
   ]
  },
  {
   "cell_type": "code",
   "execution_count": 2,
   "metadata": {
    "ExecuteTime": {
     "end_time": "2018-05-03T01:29:03.839602Z",
     "start_time": "2018-05-03T01:28:53.078700Z"
    }
   },
   "outputs": [
    {
     "data": {
      "application/vnd.jupyter.widget-view+json": {
       "model_id": "6889361c473d4463b2df92dda2301bba",
       "version_major": 2,
       "version_minor": 0
      },
      "text/html": [
       "<p>Failed to display Jupyter Widget of type <code>interactive</code>.</p>\n",
       "<p>\n",
       "  If you're reading this message in the Jupyter Notebook or JupyterLab Notebook, it may mean\n",
       "  that the widgets JavaScript is still loading. If this message persists, it\n",
       "  likely means that the widgets JavaScript library is either not installed or\n",
       "  not enabled. See the <a href=\"https://ipywidgets.readthedocs.io/en/stable/user_install.html\">Jupyter\n",
       "  Widgets Documentation</a> for setup instructions.\n",
       "</p>\n",
       "<p>\n",
       "  If you're reading this message in another frontend (for example, a static\n",
       "  rendering on GitHub or <a href=\"https://nbviewer.jupyter.org/\">NBViewer</a>),\n",
       "  it may mean that your frontend doesn't currently support widgets.\n",
       "</p>\n"
      ],
      "text/plain": [
       "interactive(children=(Dropdown(description=u'param_type', options=('db', 'dr', 'ndt'), value='db'), Output()), _dom_classes=('widget-interact',))"
      ]
     },
     "metadata": {},
     "output_type": "display_data"
    }
   ],
   "source": [
    "interact(plot_posteriors, param_type=['db', 'dr', 'ndt'], \n",
    "         samples=fixed(samples), subjects=fixed(subjects));"
   ]
  },
  {
   "cell_type": "markdown",
   "metadata": {},
   "source": [
    "## Parameter Relationships"
   ]
  },
  {
   "cell_type": "code",
   "execution_count": 3,
   "metadata": {
    "ExecuteTime": {
     "end_time": "2018-05-03T01:29:17.247669Z",
     "start_time": "2018-05-03T01:29:16.760273Z"
    }
   },
   "outputs": [
    {
     "ename": "NameError",
     "evalue": "global name 'subjects' is not defined",
     "output_type": "error",
     "traceback": [
      "\u001b[0;31m---------------------------------------------------------------------------\u001b[0m",
      "\u001b[0;31mNameError\u001b[0m                                 Traceback (most recent call last)",
      "\u001b[0;32m<ipython-input-3-447e8449df84>\u001b[0m in \u001b[0;36m<module>\u001b[0;34m()\u001b[0m\n\u001b[1;32m      1\u001b[0m params = ['db_intercept', 'db_beta', 'dr_intercept', 'dr_beta',\n\u001b[1;32m      2\u001b[0m           'ndt_fmri', 'ndt_eeg']\n\u001b[0;32m----> 3\u001b[0;31m \u001b[0mplot_corr\u001b[0m\u001b[0;34m(\u001b[0m\u001b[0mparams\u001b[0m\u001b[0;34m=\u001b[0m\u001b[0mparams\u001b[0m\u001b[0;34m,\u001b[0m \u001b[0msamples\u001b[0m\u001b[0;34m=\u001b[0m\u001b[0msamples\u001b[0m\u001b[0;34m)\u001b[0m\u001b[0;34m\u001b[0m\u001b[0m\n\u001b[0m",
      "\u001b[0;32m/Users/matt/Desktop/msit/src/behavior.pyc\u001b[0m in \u001b[0;36mplot_corr\u001b[0;34m(params, samples)\u001b[0m\n\u001b[1;32m    245\u001b[0m \u001b[0;34m\u001b[0m\u001b[0m\n\u001b[1;32m    246\u001b[0m         \u001b[0mdf\u001b[0m \u001b[0;34m=\u001b[0m \u001b[0mpd\u001b[0m\u001b[0;34m.\u001b[0m\u001b[0mDataFrame\u001b[0m\u001b[0;34m(\u001b[0m\u001b[0mdf\u001b[0m\u001b[0;34m)\u001b[0m\u001b[0;34m\u001b[0m\u001b[0m\n\u001b[0;32m--> 247\u001b[0;31m         \u001b[0mdata\u001b[0m \u001b[0;34m=\u001b[0m \u001b[0mdf\u001b[0m\u001b[0;34m.\u001b[0m\u001b[0mgroupby\u001b[0m\u001b[0;34m(\u001b[0m\u001b[0;34m[\u001b[0m\u001b[0;34m'subject'\u001b[0m\u001b[0;34m]\u001b[0m\u001b[0;34m,\u001b[0m \u001b[0mas_index\u001b[0m\u001b[0;34m=\u001b[0m\u001b[0mFalse\u001b[0m\u001b[0;34m)\u001b[0m\u001b[0;34m[\u001b[0m\u001b[0mparam\u001b[0m\u001b[0;34m]\u001b[0m\u001b[0;34m.\u001b[0m\u001b[0mmean\u001b[0m\u001b[0;34m(\u001b[0m\u001b[0;34m)\u001b[0m\u001b[0;34m\u001b[0m\u001b[0m\n\u001b[0m\u001b[1;32m    248\u001b[0m         \u001b[0morder\u001b[0m \u001b[0;34m=\u001b[0m \u001b[0mdata\u001b[0m\u001b[0;34m.\u001b[0m\u001b[0msort_values\u001b[0m\u001b[0;34m(\u001b[0m\u001b[0mby\u001b[0m\u001b[0;34m=\u001b[0m\u001b[0mparam\u001b[0m\u001b[0;34m)\u001b[0m\u001b[0;34m.\u001b[0m\u001b[0msubject\u001b[0m\u001b[0;34m\u001b[0m\u001b[0m\n\u001b[1;32m    249\u001b[0m         \u001b[0msns\u001b[0m\u001b[0;34m.\u001b[0m\u001b[0mviolinplot\u001b[0m\u001b[0;34m(\u001b[0m\u001b[0mx\u001b[0m\u001b[0;34m=\u001b[0m\u001b[0;34m'subject'\u001b[0m\u001b[0;34m,\u001b[0m \u001b[0my\u001b[0m\u001b[0;34m=\u001b[0m\u001b[0mparam\u001b[0m\u001b[0;34m,\u001b[0m \u001b[0mdata\u001b[0m\u001b[0;34m=\u001b[0m\u001b[0mdf\u001b[0m\u001b[0;34m,\u001b[0m \u001b[0morder\u001b[0m\u001b[0;34m=\u001b[0m\u001b[0morder\u001b[0m\u001b[0;34m,\u001b[0m \u001b[0max\u001b[0m\u001b[0;34m=\u001b[0m\u001b[0max\u001b[0m\u001b[0;34m)\u001b[0m\u001b[0;34m\u001b[0m\u001b[0m\n",
      "\u001b[0;31mNameError\u001b[0m: global name 'subjects' is not defined"
     ]
    }
   ],
   "source": [
    "params = ['db_intercept', 'db_beta', 'dr_intercept', 'dr_beta',\n",
    "          'ndt_fmri', 'ndt_eeg']\n",
    "plot_corr(params=params, samples=samples, subjects=subjects)"
   ]
  },
  {
   "cell_type": "markdown",
   "metadata": {},
   "source": [
    "## Group Effect Sizes"
   ]
  },
  {
   "cell_type": "code",
   "execution_count": 38,
   "metadata": {
    "ExecuteTime": {
     "end_time": "2018-05-02T19:49:39.822024Z",
     "start_time": "2018-05-02T19:49:38.269556Z"
    }
   },
   "outputs": [
    {
     "name": "stdout",
     "output_type": "stream",
     "text": [
      "                       mean  se_mean    sd   2.5%    25%   50%   75%  97.5%  \\\n",
      "db_group_mu_beta       0.94   0.0015  0.06   0.83    0.9  0.94  0.98   1.05   \n",
      "db_group_mu_intercept  1.61   0.0025  0.08   1.46   1.55  1.61  1.67   1.78   \n",
      "dr_group_mu_beta      -0.39   0.0030  0.12  -0.62  -0.46 -0.39 -0.31  -0.15   \n",
      "dr_group_mu_intercept  5.00   0.0039  0.14   4.73    4.9  5.00  5.09   5.29   \n",
      "\n",
      "                        n_eff  Rhat  \n",
      "db_group_mu_beta       1500.0   1.0  \n",
      "db_group_mu_intercept  1195.0   1.0  \n",
      "dr_group_mu_beta       1500.0   1.0  \n",
      "dr_group_mu_intercept  1341.0   1.0  \n"
     ]
    },
    {
     "ename": "NameError",
     "evalue": "global name 'wald' is not defined",
     "output_type": "error",
     "traceback": [
      "\u001b[0;31m---------------------------------------------------------------------------\u001b[0m",
      "\u001b[0;31mNameError\u001b[0m                                 Traceback (most recent call last)",
      "\u001b[0;32m<ipython-input-38-a0213bf6bda5>\u001b[0m in \u001b[0;36m<module>\u001b[0;34m()\u001b[0m\n\u001b[1;32m     48\u001b[0m     \u001b[0mplt\u001b[0m\u001b[0;34m.\u001b[0m\u001b[0mshow\u001b[0m\u001b[0;34m(\u001b[0m\u001b[0;34m)\u001b[0m\u001b[0;34m\u001b[0m\u001b[0m\n\u001b[1;32m     49\u001b[0m \u001b[0;34m\u001b[0m\u001b[0m\n\u001b[0;32m---> 50\u001b[0;31m \u001b[0mplot_group_es\u001b[0m\u001b[0;34m(\u001b[0m\u001b[0msamples\u001b[0m\u001b[0;34m,\u001b[0m \u001b[0msummary\u001b[0m\u001b[0;34m)\u001b[0m\u001b[0;34m\u001b[0m\u001b[0m\n\u001b[0m",
      "\u001b[0;32m<ipython-input-38-a0213bf6bda5>\u001b[0m in \u001b[0;36mplot_group_es\u001b[0;34m(samples, summary)\u001b[0m\n\u001b[1;32m     38\u001b[0m         \u001b[0mx\u001b[0m \u001b[0;34m=\u001b[0m \u001b[0mnp\u001b[0m\u001b[0;34m.\u001b[0m\u001b[0marange\u001b[0m\u001b[0;34m(\u001b[0m\u001b[0;36m0\u001b[0m\u001b[0;34m,\u001b[0m \u001b[0;36m1.75\u001b[0m\u001b[0;34m,\u001b[0m \u001b[0;36m.01\u001b[0m\u001b[0;34m)\u001b[0m\u001b[0;34m\u001b[0m\u001b[0m\n\u001b[1;32m     39\u001b[0m         \u001b[0;32mif\u001b[0m \u001b[0mlabel\u001b[0m \u001b[0;34m==\u001b[0m \u001b[0;34m'db'\u001b[0m\u001b[0;34m:\u001b[0m\u001b[0;34m\u001b[0m\u001b[0m\n\u001b[0;32m---> 40\u001b[0;31m             \u001b[0max\u001b[0m\u001b[0;34m.\u001b[0m\u001b[0mplot\u001b[0m\u001b[0;34m(\u001b[0m\u001b[0mx\u001b[0m\u001b[0;34m,\u001b[0m \u001b[0mwald\u001b[0m\u001b[0;34m(\u001b[0m\u001b[0mx\u001b[0m\u001b[0;34m,\u001b[0m \u001b[0mcon\u001b[0m\u001b[0;34m,\u001b[0m \u001b[0mother\u001b[0m\u001b[0;34m,\u001b[0m \u001b[0;36m0\u001b[0m\u001b[0;34m)\u001b[0m\u001b[0;34m,\u001b[0m \u001b[0mcolor\u001b[0m\u001b[0;34m=\u001b[0m\u001b[0;34m'r'\u001b[0m\u001b[0;34m)\u001b[0m\u001b[0;34m\u001b[0m\u001b[0m\n\u001b[0m\u001b[1;32m     41\u001b[0m             \u001b[0max\u001b[0m\u001b[0;34m.\u001b[0m\u001b[0mplot\u001b[0m\u001b[0;34m(\u001b[0m\u001b[0mx\u001b[0m\u001b[0;34m,\u001b[0m \u001b[0mwald\u001b[0m\u001b[0;34m(\u001b[0m\u001b[0mx\u001b[0m\u001b[0;34m,\u001b[0m \u001b[0mincon\u001b[0m\u001b[0;34m,\u001b[0m \u001b[0mother\u001b[0m\u001b[0;34m,\u001b[0m \u001b[0;36m0\u001b[0m\u001b[0;34m)\u001b[0m\u001b[0;34m,\u001b[0m \u001b[0mcolor\u001b[0m\u001b[0;34m=\u001b[0m\u001b[0;34m'b'\u001b[0m\u001b[0;34m)\u001b[0m\u001b[0;34m\u001b[0m\u001b[0m\n\u001b[1;32m     42\u001b[0m         \u001b[0;32melse\u001b[0m\u001b[0;34m:\u001b[0m\u001b[0;34m\u001b[0m\u001b[0m\n",
      "\u001b[0;31mNameError\u001b[0m: global name 'wald' is not defined"
     ]
    },
    {
     "data": {
      "image/png": "[encoded data removed]",
      "text/plain": [
       "<matplotlib.figure.Figure at 0x11d87ccd0>"
      ]
     },
     "metadata": {},
     "output_type": "display_data"
    }
   ],
   "source": [
    "plot_group_es(samples, summary)"
   ]
  },
  {
   "cell_type": "markdown",
   "metadata": {},
   "source": [
    "# Model Comparisons\n",
    "\n",
    "TBD. This is important and should be done to verify model choice. Other models to compare to:\n",
    "- flat equivalent\n",
    "- allow variation of all parameters across trial type and modality (and all subsets)\n",
    "- potentially other RT models\n",
    "\n",
    "Would need to compare Gelman wAIC/LOOCV across them to justify/modify chosen model structure."
   ]
  },
  {
   "cell_type": "code",
   "execution_count": 1,
   "metadata": {
    "ExecuteTime": {
     "end_time": "2018-05-02T15:44:45.938488Z",
     "start_time": "2018-05-02T15:44:45.323492Z"
    }
   },
   "outputs": [],
   "source": [
    "%load_ext rpy2.ipython "
   ]
  },
  {
   "cell_type": "code",
   "execution_count": 5,
   "metadata": {
    "ExecuteTime": {
     "end_time": "2018-05-03T00:33:25.240952Z",
     "start_time": "2018-05-03T00:33:25.212777Z"
    }
   },
   "outputs": [
    {
     "name": "stderr",
     "output_type": "stream",
     "text": [
      "ERROR:root:Cell magic `%%R` not found.\n"
     ]
    }
   ],
   "source": [
    "%%R\n",
    "library(\"loo\")"
   ]
  },
  {
   "cell_type": "code",
   "execution_count": null,
   "metadata": {},
   "outputs": [],
   "source": []
  }
 ],
 "metadata": {
  "kernelspec": {
   "display_name": "Python 2",
   "language": "python",
   "name": "python2"
  },
  "language_info": {
   "codemirror_mode": {
    "name": "ipython",
    "version": 2
   },
   "file_extension": ".py",
   "mimetype": "text/x-python",
   "name": "python",
   "nbconvert_exporter": "python",
   "pygments_lexer": "ipython2",
   "version": "2.7.14"
  },
  "toc": {
   "colors": {
    "hover_highlight": "#DAA520",
    "navigate_num": "#000000",
    "navigate_text": "#333333",
    "running_highlight": "#FF0000",
    "selected_highlight": "#FFD700",
    "sidebar_border": "#EEEEEE",
    "wrapper_background": "#FFFFFF"
   },
   "moveMenuLeft": true,
   "nav_menu": {
    "height": "120px",
    "width": "252px"
   },
   "navigate_menu": true,
   "number_sections": true,
   "sideBar": true,
   "threshold": 4,
   "toc_cell": false,
   "toc_section_display": "block",
   "toc_window_display": true,
   "widenNotebook": false
  }
 },
 "nbformat": 4,
 "nbformat_minor": 2
}
